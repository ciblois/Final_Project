{
 "metadata": {
  "language_info": {
   "codemirror_mode": {
    "name": "ipython",
    "version": 3
   },
   "file_extension": ".py",
   "mimetype": "text/x-python",
   "name": "python",
   "nbconvert_exporter": "python",
   "pygments_lexer": "ipython3",
   "version": "3.8.3-final"
  },
  "orig_nbformat": 2,
  "kernelspec": {
   "name": "python3",
   "display_name": "Python 3"
  }
 },
 "nbformat": 4,
 "nbformat_minor": 2,
 "cells": [
  {
   "cell_type": "code",
   "execution_count": 1,
   "metadata": {},
   "outputs": [],
   "source": [
    "import pandas as pd\n",
    "import numpy as np\n",
    "import seaborn as sns\n",
    "import matplotlib.pyplot as plt\n",
    "import re"
   ]
  },
  {
   "source": [
    "# Climate Change Features"
   ],
   "cell_type": "markdown",
   "metadata": {}
  },
  {
   "cell_type": "code",
   "execution_count": 71,
   "metadata": {},
   "outputs": [],
   "source": [
    "cda = pd.read_csv('C:\\cygwin\\home\\Cinthya\\Ironhack_bootcamp\\Final_Project\\data\\CDA_ind_na.csv')\n",
    "cha = pd.read_csv('C:\\cygwin\\home\\Cinthya\\Ironhack_bootcamp\\Final_Project\\data\\CHA_ind_na.csv')\n",
    "fga = pd.read_csv('C:\\cygwin\\home\\Cinthya\\Ironhack_bootcamp\\Final_Project\\data\\FGA_ind_na.csv')\n",
    "nda = pd.read_csv(\"C:\\cygwin\\home\\Cinthya\\Ironhack_bootcamp\\Final_Project\\data\\F_NDA_ind_na.csv\")\n",
    "bca = pd.read_csv('C:\\cygwin\\home\\Cinthya\\Ironhack_bootcamp\\Final_Project\\data\\BCA_ind_na.csv')"
   ]
  },
  {
   "cell_type": "code",
   "execution_count": 72,
   "metadata": {},
   "outputs": [
    {
     "output_type": "execute_result",
     "data": {
      "text/plain": [
       "(220, 29)"
      ]
     },
     "metadata": {},
     "execution_count": 72
    }
   ],
   "source": [
    "cda.shape"
   ]
  },
  {
   "source": [
    "# `CDA` column"
   ],
   "cell_type": "markdown",
   "metadata": {}
  },
  {
   "cell_type": "code",
   "execution_count": 4,
   "metadata": {},
   "outputs": [],
   "source": [
    "cda.drop(columns=['code','iso'],inplace=True)\n",
    "cda_corrected = pd.melt(cda,id_vars =['country'])"
   ]
  },
  {
   "cell_type": "code",
   "execution_count": 5,
   "metadata": {},
   "outputs": [],
   "source": [
    "cda_corrected['variable'] = cda_corrected['variable'].apply(lambda x: re.sub(r'\\bCDA.ind.','',x))\n",
    "cda_corrected.rename(columns = {'variable':'year','value':'CDA'}, inplace = True)"
   ]
  },
  {
   "cell_type": "code",
   "execution_count": 6,
   "metadata": {},
   "outputs": [
    {
     "output_type": "execute_result",
     "data": {
      "text/plain": [
       "country      0\n",
       "year         0\n",
       "CDA        780\n",
       "dtype: int64"
      ]
     },
     "metadata": {},
     "execution_count": 6
    }
   ],
   "source": [
    "cda_corrected.isna().sum()"
   ]
  },
  {
   "cell_type": "code",
   "execution_count": 7,
   "metadata": {},
   "outputs": [
    {
     "output_type": "execute_result",
     "data": {
      "text/plain": [
       "(5720, 3)"
      ]
     },
     "metadata": {},
     "execution_count": 7
    }
   ],
   "source": [
    "cda_corrected.shape"
   ]
  },
  {
   "source": [
    "# `CHA` column"
   ],
   "cell_type": "markdown",
   "metadata": {}
  },
  {
   "cell_type": "code",
   "execution_count": 8,
   "metadata": {},
   "outputs": [
    {
     "output_type": "execute_result",
     "data": {
      "text/plain": [
       "(220, 29)"
      ]
     },
     "metadata": {},
     "execution_count": 8
    }
   ],
   "source": [
    "cha.shape"
   ]
  },
  {
   "cell_type": "code",
   "execution_count": 9,
   "metadata": {},
   "outputs": [],
   "source": [
    "cha.drop(columns=['code','iso'],inplace=True)\n",
    "cha_corrected = pd.melt(cha,id_vars =['country'])"
   ]
  },
  {
   "cell_type": "code",
   "execution_count": 10,
   "metadata": {},
   "outputs": [],
   "source": [
    "cha_corrected['variable'] = cha_corrected['variable'].apply(lambda x: re.sub(r'\\bCHA.ind.','',x))\n",
    "cha_corrected.rename(columns = {'variable':'year','value':'CHA'}, inplace = True)"
   ]
  },
  {
   "cell_type": "code",
   "execution_count": 11,
   "metadata": {},
   "outputs": [
    {
     "output_type": "execute_result",
     "data": {
      "text/plain": [
       "country      0\n",
       "year         0\n",
       "CHA        780\n",
       "dtype: int64"
      ]
     },
     "metadata": {},
     "execution_count": 11
    }
   ],
   "source": [
    "cha_corrected.isna().sum()"
   ]
  },
  {
   "cell_type": "code",
   "execution_count": 12,
   "metadata": {},
   "outputs": [
    {
     "output_type": "execute_result",
     "data": {
      "text/plain": [
       "(5720, 3)"
      ]
     },
     "metadata": {},
     "execution_count": 12
    }
   ],
   "source": [
    "cha_corrected.shape"
   ]
  },
  {
   "source": [
    "# `FGA` column"
   ],
   "cell_type": "markdown",
   "metadata": {}
  },
  {
   "cell_type": "code",
   "execution_count": 13,
   "metadata": {},
   "outputs": [
    {
     "output_type": "execute_result",
     "data": {
      "text/plain": [
       "(220, 29)"
      ]
     },
     "metadata": {},
     "execution_count": 13
    }
   ],
   "source": [
    "fga.shape"
   ]
  },
  {
   "cell_type": "code",
   "execution_count": 14,
   "metadata": {},
   "outputs": [],
   "source": [
    "fga.drop(columns=['code','iso'],inplace=True)\n",
    "fga_corrected = pd.melt(fga,id_vars =['country'])"
   ]
  },
  {
   "cell_type": "code",
   "execution_count": 15,
   "metadata": {},
   "outputs": [],
   "source": [
    "fga_corrected['variable'] = fga_corrected['variable'].apply(lambda x: re.sub(r'\\bFGA.ind.','',x))\n",
    "fga_corrected.rename(columns = {'variable':'year','value':'FGA'}, inplace = True)"
   ]
  },
  {
   "cell_type": "code",
   "execution_count": 16,
   "metadata": {},
   "outputs": [
    {
     "output_type": "execute_result",
     "data": {
      "text/plain": [
       "country       0\n",
       "year          0\n",
       "FGA        2600\n",
       "dtype: int64"
      ]
     },
     "metadata": {},
     "execution_count": 16
    }
   ],
   "source": [
    "fga_corrected.isna().sum()"
   ]
  },
  {
   "cell_type": "code",
   "execution_count": 17,
   "metadata": {},
   "outputs": [
    {
     "output_type": "execute_result",
     "data": {
      "text/plain": [
       "(5720, 3)"
      ]
     },
     "metadata": {},
     "execution_count": 17
    }
   ],
   "source": [
    "fga_corrected.shape"
   ]
  },
  {
   "source": [
    "# `NDA` column"
   ],
   "cell_type": "markdown",
   "metadata": {}
  },
  {
   "cell_type": "code",
   "execution_count": 74,
   "metadata": {},
   "outputs": [
    {
     "output_type": "execute_result",
     "data": {
      "text/plain": [
       "(220, 29)"
      ]
     },
     "metadata": {},
     "execution_count": 74
    }
   ],
   "source": [
    "nda.shape"
   ]
  },
  {
   "cell_type": "code",
   "execution_count": 75,
   "metadata": {},
   "outputs": [],
   "source": [
    "nda.drop(columns=['code','iso'],inplace=True)\n",
    "nda_corrected = pd.melt(nda,id_vars =['country'])"
   ]
  },
  {
   "cell_type": "code",
   "execution_count": 76,
   "metadata": {},
   "outputs": [],
   "source": [
    "nda_corrected['variable'] = nda_corrected['variable'].apply(lambda x: re.sub(r'\\bNDA.ind.','',x))\n",
    "nda_corrected.rename(columns = {'variable':'year','value':'NDA'}, inplace = True)"
   ]
  },
  {
   "cell_type": "code",
   "execution_count": 77,
   "metadata": {},
   "outputs": [
    {
     "output_type": "execute_result",
     "data": {
      "text/plain": [
       "country      0\n",
       "year         0\n",
       "NDA        780\n",
       "dtype: int64"
      ]
     },
     "metadata": {},
     "execution_count": 77
    }
   ],
   "source": [
    "nda_corrected.isna().sum()"
   ]
  },
  {
   "cell_type": "code",
   "execution_count": 78,
   "metadata": {},
   "outputs": [
    {
     "output_type": "execute_result",
     "data": {
      "text/plain": [
       "(5720, 3)"
      ]
     },
     "metadata": {},
     "execution_count": 78
    }
   ],
   "source": [
    "nda_corrected.shape"
   ]
  },
  {
   "source": [
    "# `BCA` column"
   ],
   "cell_type": "markdown",
   "metadata": {}
  },
  {
   "cell_type": "code",
   "execution_count": 18,
   "metadata": {},
   "outputs": [
    {
     "output_type": "execute_result",
     "data": {
      "text/plain": [
       "(220, 29)"
      ]
     },
     "metadata": {},
     "execution_count": 18
    }
   ],
   "source": [
    "bca.shape"
   ]
  },
  {
   "cell_type": "code",
   "execution_count": 19,
   "metadata": {},
   "outputs": [],
   "source": [
    "bca.drop(columns=['code','iso'],inplace=True)\n",
    "bca_corrected = pd.melt(bca,id_vars =['country'])"
   ]
  },
  {
   "cell_type": "code",
   "execution_count": 20,
   "metadata": {},
   "outputs": [],
   "source": [
    "bca_corrected['variable'] = bca_corrected['variable'].apply(lambda x: re.sub(r'\\bBCA.ind.','',x))\n",
    "bca_corrected.rename(columns = {'variable':'year','value':'BCA'}, inplace = True)"
   ]
  },
  {
   "cell_type": "code",
   "execution_count": 21,
   "metadata": {},
   "outputs": [
    {
     "output_type": "execute_result",
     "data": {
      "text/plain": [
       "country      0\n",
       "year         0\n",
       "BCA        754\n",
       "dtype: int64"
      ]
     },
     "metadata": {},
     "execution_count": 21
    }
   ],
   "source": [
    "bca_corrected.isna().sum()"
   ]
  },
  {
   "cell_type": "code",
   "execution_count": 22,
   "metadata": {},
   "outputs": [
    {
     "output_type": "execute_result",
     "data": {
      "text/plain": [
       "(5720, 3)"
      ]
     },
     "metadata": {},
     "execution_count": 22
    }
   ],
   "source": [
    "bca_corrected.shape"
   ]
  },
  {
   "cell_type": "code",
   "execution_count": 23,
   "metadata": {},
   "outputs": [
    {
     "output_type": "execute_result",
     "data": {
      "text/plain": [
       "                        country  year         BCA\n",
       "0                   Afghanistan  1995   25.484596\n",
       "1                       Albania  1995  100.000000\n",
       "2                       Algeria  1995   70.996796\n",
       "3                       Andorra  1995         NaN\n",
       "4                        Angola  1995   43.865361\n",
       "...                         ...   ...         ...\n",
       "5715  Wallis and Futuna Islands  2020         NaN\n",
       "5716             Western Sahara  2020         NaN\n",
       "5717                      Yemen  2020  100.000000\n",
       "5718                     Zambia  2020   33.143065\n",
       "5719                   Zimbabwe  2020   30.692755\n",
       "\n",
       "[5720 rows x 3 columns]"
      ],
      "text/html": "<div>\n<style scoped>\n    .dataframe tbody tr th:only-of-type {\n        vertical-align: middle;\n    }\n\n    .dataframe tbody tr th {\n        vertical-align: top;\n    }\n\n    .dataframe thead th {\n        text-align: right;\n    }\n</style>\n<table border=\"1\" class=\"dataframe\">\n  <thead>\n    <tr style=\"text-align: right;\">\n      <th></th>\n      <th>country</th>\n      <th>year</th>\n      <th>BCA</th>\n    </tr>\n  </thead>\n  <tbody>\n    <tr>\n      <th>0</th>\n      <td>Afghanistan</td>\n      <td>1995</td>\n      <td>25.484596</td>\n    </tr>\n    <tr>\n      <th>1</th>\n      <td>Albania</td>\n      <td>1995</td>\n      <td>100.000000</td>\n    </tr>\n    <tr>\n      <th>2</th>\n      <td>Algeria</td>\n      <td>1995</td>\n      <td>70.996796</td>\n    </tr>\n    <tr>\n      <th>3</th>\n      <td>Andorra</td>\n      <td>1995</td>\n      <td>NaN</td>\n    </tr>\n    <tr>\n      <th>4</th>\n      <td>Angola</td>\n      <td>1995</td>\n      <td>43.865361</td>\n    </tr>\n    <tr>\n      <th>...</th>\n      <td>...</td>\n      <td>...</td>\n      <td>...</td>\n    </tr>\n    <tr>\n      <th>5715</th>\n      <td>Wallis and Futuna Islands</td>\n      <td>2020</td>\n      <td>NaN</td>\n    </tr>\n    <tr>\n      <th>5716</th>\n      <td>Western Sahara</td>\n      <td>2020</td>\n      <td>NaN</td>\n    </tr>\n    <tr>\n      <th>5717</th>\n      <td>Yemen</td>\n      <td>2020</td>\n      <td>100.000000</td>\n    </tr>\n    <tr>\n      <th>5718</th>\n      <td>Zambia</td>\n      <td>2020</td>\n      <td>33.143065</td>\n    </tr>\n    <tr>\n      <th>5719</th>\n      <td>Zimbabwe</td>\n      <td>2020</td>\n      <td>30.692755</td>\n    </tr>\n  </tbody>\n</table>\n<p>5720 rows × 3 columns</p>\n</div>"
     },
     "metadata": {},
     "execution_count": 23
    }
   ],
   "source": [
    "bca_corrected"
   ]
  },
  {
   "source": [
    "# Join all dataset"
   ],
   "cell_type": "markdown",
   "metadata": {}
  },
  {
   "cell_type": "code",
   "execution_count": 81,
   "metadata": {},
   "outputs": [],
   "source": [
    "data1 = pd.merge(cda_corrected,cha_corrected)"
   ]
  },
  {
   "cell_type": "code",
   "execution_count": 82,
   "metadata": {},
   "outputs": [],
   "source": [
    "data2 = pd.merge(data1,fga_corrected)"
   ]
  },
  {
   "cell_type": "code",
   "execution_count": 83,
   "metadata": {},
   "outputs": [],
   "source": [
    "data3 = pd.merge(data2,nda_corrected)"
   ]
  },
  {
   "cell_type": "code",
   "execution_count": 84,
   "metadata": {},
   "outputs": [],
   "source": [
    "data_final = pd.merge(data3,bca_corrected)"
   ]
  },
  {
   "cell_type": "code",
   "execution_count": 85,
   "metadata": {},
   "outputs": [],
   "source": [
    "countries = list(data_final['country'].unique())"
   ]
  },
  {
   "cell_type": "code",
   "execution_count": 86,
   "metadata": {},
   "outputs": [
    {
     "output_type": "execute_result",
     "data": {
      "text/plain": [
       "220"
      ]
     },
     "metadata": {},
     "execution_count": 86
    }
   ],
   "source": [
    "len(countries)"
   ]
  },
  {
   "source": [
    "# Mising values per country"
   ],
   "cell_type": "markdown",
   "metadata": {}
  },
  {
   "cell_type": "code",
   "execution_count": 88,
   "metadata": {},
   "outputs": [],
   "source": [
    "c2 = [] # CDA\n",
    "c3 = [] # CHA\n",
    "c4 = [] # FGA\n",
    "c5 = [] # NDA\n",
    "c6 = [] # BCA\n",
    "\n",
    "for i in countries:\n",
    "    c2.append(data_final[data_final['country']==str(i)].isna().sum()[2])\n",
    "    c3.append(data_final[data_final['country']==str(i)].isna().sum()[3])\n",
    "    c4.append(data_final[data_final['country']==str(i)].isna().sum()[4])\n",
    "    c5.append(data_final[data_final['country']==str(i)].isna().sum()[5])\n",
    "    c6.append(data_final[data_final['country']==str(i)].isna().sum()[6])"
   ]
  },
  {
   "cell_type": "code",
   "execution_count": 89,
   "metadata": {},
   "outputs": [],
   "source": [
    "df = np.array([c2,c3,c4,c5,c6])\n",
    "data = pd.DataFrame(df)"
   ]
  },
  {
   "cell_type": "code",
   "execution_count": 91,
   "metadata": {},
   "outputs": [],
   "source": [
    "data['variables'] = ['CDA','CHA','FGA','NDA','BCA']\n",
    "data.set_index('variables',inplace=True)"
   ]
  },
  {
   "cell_type": "code",
   "execution_count": 92,
   "metadata": {},
   "outputs": [],
   "source": [
    "data.columns = countries"
   ]
  },
  {
   "cell_type": "code",
   "execution_count": 93,
   "metadata": {},
   "outputs": [],
   "source": [
    "data = data.T.reset_index()"
   ]
  },
  {
   "cell_type": "code",
   "execution_count": 94,
   "metadata": {},
   "outputs": [
    {
     "output_type": "execute_result",
     "data": {
      "text/plain": [
       "(220, 6)"
      ]
     },
     "metadata": {},
     "execution_count": 94
    }
   ],
   "source": [
    "data.shape"
   ]
  },
  {
   "cell_type": "code",
   "execution_count": 96,
   "metadata": {},
   "outputs": [],
   "source": [
    "data['tot'] = data['CDA']+data['CHA']+data['FGA']+data['BCA']"
   ]
  },
  {
   "source": [
    "## 26 years for 4 variables\n",
    "\n",
    "### The countries with more 50% of missing information has to be drop"
   ],
   "cell_type": "markdown",
   "metadata": {}
  },
  {
   "cell_type": "code",
   "execution_count": 98,
   "metadata": {},
   "outputs": [],
   "source": [
    "data['drop'] = data['tot'].apply(lambda x: True if x>=52 else False)"
   ]
  },
  {
   "cell_type": "code",
   "execution_count": 99,
   "metadata": {},
   "outputs": [
    {
     "output_type": "execute_result",
     "data": {
      "text/plain": [
       "       index\n",
       "drop        \n",
       "False    188\n",
       "True      32"
      ],
      "text/html": "<div>\n<style scoped>\n    .dataframe tbody tr th:only-of-type {\n        vertical-align: middle;\n    }\n\n    .dataframe tbody tr th {\n        vertical-align: top;\n    }\n\n    .dataframe thead th {\n        text-align: right;\n    }\n</style>\n<table border=\"1\" class=\"dataframe\">\n  <thead>\n    <tr style=\"text-align: right;\">\n      <th></th>\n      <th>index</th>\n    </tr>\n    <tr>\n      <th>drop</th>\n      <th></th>\n    </tr>\n  </thead>\n  <tbody>\n    <tr>\n      <th>False</th>\n      <td>188</td>\n    </tr>\n    <tr>\n      <th>True</th>\n      <td>32</td>\n    </tr>\n  </tbody>\n</table>\n</div>"
     },
     "metadata": {},
     "execution_count": 99
    }
   ],
   "source": [
    "data.groupby('drop').agg({'index':'count'})"
   ]
  },
  {
   "cell_type": "code",
   "execution_count": 100,
   "metadata": {},
   "outputs": [],
   "source": [
    "drop_data = data[data['drop']==True]\n",
    "drop_ = list(drop_data['index'])"
   ]
  },
  {
   "cell_type": "code",
   "execution_count": 101,
   "metadata": {},
   "outputs": [
    {
     "output_type": "execute_result",
     "data": {
      "text/plain": [
       "32"
      ]
     },
     "metadata": {},
     "execution_count": 101
    }
   ],
   "source": [
    "len(drop_)"
   ]
  },
  {
   "cell_type": "code",
   "execution_count": 102,
   "metadata": {},
   "outputs": [
    {
     "output_type": "execute_result",
     "data": {
      "text/plain": [
       "(188, 6)"
      ]
     },
     "metadata": {},
     "execution_count": 102
    }
   ],
   "source": [
    "data_filtered = data[data['drop']==False]\n",
    "data_filtered.drop(columns=['tot','drop'],inplace=True)\n",
    "data_filtered.shape"
   ]
  },
  {
   "cell_type": "code",
   "execution_count": 103,
   "metadata": {},
   "outputs": [
    {
     "output_type": "execute_result",
     "data": {
      "text/plain": [
       "variables                   index  CDA  CHA  FGA  NDA  BCA\n",
       "0                     Afghanistan    0    0   26    0    0\n",
       "1                         Albania    0    0    0    0    0\n",
       "2                         Algeria    0    0    0    0    0\n",
       "4                          Angola    0    0    0    0    0\n",
       "6             Antigua and Barbuda    0    0    0    0    0\n",
       "7                       Argentina    0    0    0    0    0\n",
       "8                         Armenia    0    0    0    0    0\n",
       "9                           Aruba    0    0   26    0    0\n",
       "10                      Australia    0    0    0    0    0\n",
       "11                        Austria    0    0    0    0    0\n",
       "12                     Azerbaijan    0    0    0    0    0\n",
       "13                        Bahamas    0    0   26    0    0\n",
       "14                        Bahrain    0    0    0    0    0\n",
       "15                     Bangladesh    0    0   26    0    0\n",
       "16                       Barbados    0    0   26    0    0\n",
       "17                        Belarus    0    0    0    0    0\n",
       "18                        Belgium    0    0    0    0    0\n",
       "19                         Belize    0    0   26    0    0\n",
       "20                          Benin    0    0   26    0    0\n",
       "22                         Bhutan    0    0   26    0    0\n",
       "23                        Bolivia    0    0    0    0    0\n",
       "24         Bosnia and Herzegovina    0    0    0    0    0\n",
       "25                       Botswana    0    0   26    0    0\n",
       "26                         Brazil    0    0    0    0    0\n",
       "28              Brunei Darussalam    0    0    0    0    0\n",
       "29                       Bulgaria    0    0    0    0    0\n",
       "30                   Burkina Faso    0    0   26    0    0\n",
       "31                        Burundi    0    0   26    0    0\n",
       "32                     Cabo Verde    0    0   26    0    0\n",
       "33                       Cambodia    0    0   26    0    0"
      ],
      "text/html": "<div>\n<style scoped>\n    .dataframe tbody tr th:only-of-type {\n        vertical-align: middle;\n    }\n\n    .dataframe tbody tr th {\n        vertical-align: top;\n    }\n\n    .dataframe thead th {\n        text-align: right;\n    }\n</style>\n<table border=\"1\" class=\"dataframe\">\n  <thead>\n    <tr style=\"text-align: right;\">\n      <th>variables</th>\n      <th>index</th>\n      <th>CDA</th>\n      <th>CHA</th>\n      <th>FGA</th>\n      <th>NDA</th>\n      <th>BCA</th>\n    </tr>\n  </thead>\n  <tbody>\n    <tr>\n      <th>0</th>\n      <td>Afghanistan</td>\n      <td>0</td>\n      <td>0</td>\n      <td>26</td>\n      <td>0</td>\n      <td>0</td>\n    </tr>\n    <tr>\n      <th>1</th>\n      <td>Albania</td>\n      <td>0</td>\n      <td>0</td>\n      <td>0</td>\n      <td>0</td>\n      <td>0</td>\n    </tr>\n    <tr>\n      <th>2</th>\n      <td>Algeria</td>\n      <td>0</td>\n      <td>0</td>\n      <td>0</td>\n      <td>0</td>\n      <td>0</td>\n    </tr>\n    <tr>\n      <th>4</th>\n      <td>Angola</td>\n      <td>0</td>\n      <td>0</td>\n      <td>0</td>\n      <td>0</td>\n      <td>0</td>\n    </tr>\n    <tr>\n      <th>6</th>\n      <td>Antigua and Barbuda</td>\n      <td>0</td>\n      <td>0</td>\n      <td>0</td>\n      <td>0</td>\n      <td>0</td>\n    </tr>\n    <tr>\n      <th>7</th>\n      <td>Argentina</td>\n      <td>0</td>\n      <td>0</td>\n      <td>0</td>\n      <td>0</td>\n      <td>0</td>\n    </tr>\n    <tr>\n      <th>8</th>\n      <td>Armenia</td>\n      <td>0</td>\n      <td>0</td>\n      <td>0</td>\n      <td>0</td>\n      <td>0</td>\n    </tr>\n    <tr>\n      <th>9</th>\n      <td>Aruba</td>\n      <td>0</td>\n      <td>0</td>\n      <td>26</td>\n      <td>0</td>\n      <td>0</td>\n    </tr>\n    <tr>\n      <th>10</th>\n      <td>Australia</td>\n      <td>0</td>\n      <td>0</td>\n      <td>0</td>\n      <td>0</td>\n      <td>0</td>\n    </tr>\n    <tr>\n      <th>11</th>\n      <td>Austria</td>\n      <td>0</td>\n      <td>0</td>\n      <td>0</td>\n      <td>0</td>\n      <td>0</td>\n    </tr>\n    <tr>\n      <th>12</th>\n      <td>Azerbaijan</td>\n      <td>0</td>\n      <td>0</td>\n      <td>0</td>\n      <td>0</td>\n      <td>0</td>\n    </tr>\n    <tr>\n      <th>13</th>\n      <td>Bahamas</td>\n      <td>0</td>\n      <td>0</td>\n      <td>26</td>\n      <td>0</td>\n      <td>0</td>\n    </tr>\n    <tr>\n      <th>14</th>\n      <td>Bahrain</td>\n      <td>0</td>\n      <td>0</td>\n      <td>0</td>\n      <td>0</td>\n      <td>0</td>\n    </tr>\n    <tr>\n      <th>15</th>\n      <td>Bangladesh</td>\n      <td>0</td>\n      <td>0</td>\n      <td>26</td>\n      <td>0</td>\n      <td>0</td>\n    </tr>\n    <tr>\n      <th>16</th>\n      <td>Barbados</td>\n      <td>0</td>\n      <td>0</td>\n      <td>26</td>\n      <td>0</td>\n      <td>0</td>\n    </tr>\n    <tr>\n      <th>17</th>\n      <td>Belarus</td>\n      <td>0</td>\n      <td>0</td>\n      <td>0</td>\n      <td>0</td>\n      <td>0</td>\n    </tr>\n    <tr>\n      <th>18</th>\n      <td>Belgium</td>\n      <td>0</td>\n      <td>0</td>\n      <td>0</td>\n      <td>0</td>\n      <td>0</td>\n    </tr>\n    <tr>\n      <th>19</th>\n      <td>Belize</td>\n      <td>0</td>\n      <td>0</td>\n      <td>26</td>\n      <td>0</td>\n      <td>0</td>\n    </tr>\n    <tr>\n      <th>20</th>\n      <td>Benin</td>\n      <td>0</td>\n      <td>0</td>\n      <td>26</td>\n      <td>0</td>\n      <td>0</td>\n    </tr>\n    <tr>\n      <th>22</th>\n      <td>Bhutan</td>\n      <td>0</td>\n      <td>0</td>\n      <td>26</td>\n      <td>0</td>\n      <td>0</td>\n    </tr>\n    <tr>\n      <th>23</th>\n      <td>Bolivia</td>\n      <td>0</td>\n      <td>0</td>\n      <td>0</td>\n      <td>0</td>\n      <td>0</td>\n    </tr>\n    <tr>\n      <th>24</th>\n      <td>Bosnia and Herzegovina</td>\n      <td>0</td>\n      <td>0</td>\n      <td>0</td>\n      <td>0</td>\n      <td>0</td>\n    </tr>\n    <tr>\n      <th>25</th>\n      <td>Botswana</td>\n      <td>0</td>\n      <td>0</td>\n      <td>26</td>\n      <td>0</td>\n      <td>0</td>\n    </tr>\n    <tr>\n      <th>26</th>\n      <td>Brazil</td>\n      <td>0</td>\n      <td>0</td>\n      <td>0</td>\n      <td>0</td>\n      <td>0</td>\n    </tr>\n    <tr>\n      <th>28</th>\n      <td>Brunei Darussalam</td>\n      <td>0</td>\n      <td>0</td>\n      <td>0</td>\n      <td>0</td>\n      <td>0</td>\n    </tr>\n    <tr>\n      <th>29</th>\n      <td>Bulgaria</td>\n      <td>0</td>\n      <td>0</td>\n      <td>0</td>\n      <td>0</td>\n      <td>0</td>\n    </tr>\n    <tr>\n      <th>30</th>\n      <td>Burkina Faso</td>\n      <td>0</td>\n      <td>0</td>\n      <td>26</td>\n      <td>0</td>\n      <td>0</td>\n    </tr>\n    <tr>\n      <th>31</th>\n      <td>Burundi</td>\n      <td>0</td>\n      <td>0</td>\n      <td>26</td>\n      <td>0</td>\n      <td>0</td>\n    </tr>\n    <tr>\n      <th>32</th>\n      <td>Cabo Verde</td>\n      <td>0</td>\n      <td>0</td>\n      <td>26</td>\n      <td>0</td>\n      <td>0</td>\n    </tr>\n    <tr>\n      <th>33</th>\n      <td>Cambodia</td>\n      <td>0</td>\n      <td>0</td>\n      <td>26</td>\n      <td>0</td>\n      <td>0</td>\n    </tr>\n  </tbody>\n</table>\n</div>"
     },
     "metadata": {},
     "execution_count": 103
    }
   ],
   "source": [
    "data_filtered.head(30)"
   ]
  },
  {
   "cell_type": "code",
   "execution_count": 42,
   "metadata": {},
   "outputs": [],
   "source": [
    "drop_30 = ['Afghanistan','Aruba','Bahamas','Bangladesh','Barbados','Belize','Benin','Bhutan','Botswana','Burkina Faso','Burundi','Cabo Verde','Cambodia']"
   ]
  },
  {
   "cell_type": "code",
   "execution_count": 104,
   "metadata": {},
   "outputs": [
    {
     "output_type": "execute_result",
     "data": {
      "text/plain": [
       "variables                     index  CDA  CHA  FGA  NDA  BCA\n",
       "34                         Cameroon    0    0    0    0    0\n",
       "35                           Canada    0    0    0    0    0\n",
       "37         Central African Republic    0    0   26    0    0\n",
       "38                             Chad    0    0   26    0    0\n",
       "39                            Chile    0    0    0    0    0\n",
       "40                            China    0    0    0    0    0\n",
       "41                         Colombia    0    0    0    0    0\n",
       "42                          Comoros    0    0    0    0    0\n",
       "44                       Costa Rica    0    0    0    0    0\n",
       "45                    Cote d'Ivoire    0    0   26    0    0\n",
       "46                          Croatia    0    0    0    0    0\n",
       "47                             Cuba    0    0    0    0    0\n",
       "49                           Cyprus    0    0    0    0    0\n",
       "50                   Czech Republic    0    0    0    0    0\n",
       "51                  Dem. Rep. Congo    0    0   26    0    0\n",
       "52                          Denmark    0    0    0    0    0\n",
       "53                         Djibouti    0    0   26    0    0\n",
       "54                         Dominica    0    0   26    0    0\n",
       "55               Dominican Republic    0    0   26    0    0\n",
       "56                          Ecuador    0    0    0    0    0\n",
       "57                            Egypt    0    0    0    0    0\n",
       "58                      El Salvador    0    0    0    0    0\n",
       "59                Equatorial Guinea    0    0   26    0    0\n",
       "60                          Eritrea    0    0   26    0    0\n",
       "61                          Estonia    0    0    0    0    0\n",
       "62                         Eswatini    0    0   26    0    0\n",
       "63                         Ethiopia    0    0    0    0    0\n",
       "66                             Fiji    0    0   26    0    0\n",
       "67                          Finland    0    0    0    0    0\n",
       "68                           France    0    0    0    0    0"
      ],
      "text/html": "<div>\n<style scoped>\n    .dataframe tbody tr th:only-of-type {\n        vertical-align: middle;\n    }\n\n    .dataframe tbody tr th {\n        vertical-align: top;\n    }\n\n    .dataframe thead th {\n        text-align: right;\n    }\n</style>\n<table border=\"1\" class=\"dataframe\">\n  <thead>\n    <tr style=\"text-align: right;\">\n      <th>variables</th>\n      <th>index</th>\n      <th>CDA</th>\n      <th>CHA</th>\n      <th>FGA</th>\n      <th>NDA</th>\n      <th>BCA</th>\n    </tr>\n  </thead>\n  <tbody>\n    <tr>\n      <th>34</th>\n      <td>Cameroon</td>\n      <td>0</td>\n      <td>0</td>\n      <td>0</td>\n      <td>0</td>\n      <td>0</td>\n    </tr>\n    <tr>\n      <th>35</th>\n      <td>Canada</td>\n      <td>0</td>\n      <td>0</td>\n      <td>0</td>\n      <td>0</td>\n      <td>0</td>\n    </tr>\n    <tr>\n      <th>37</th>\n      <td>Central African Republic</td>\n      <td>0</td>\n      <td>0</td>\n      <td>26</td>\n      <td>0</td>\n      <td>0</td>\n    </tr>\n    <tr>\n      <th>38</th>\n      <td>Chad</td>\n      <td>0</td>\n      <td>0</td>\n      <td>26</td>\n      <td>0</td>\n      <td>0</td>\n    </tr>\n    <tr>\n      <th>39</th>\n      <td>Chile</td>\n      <td>0</td>\n      <td>0</td>\n      <td>0</td>\n      <td>0</td>\n      <td>0</td>\n    </tr>\n    <tr>\n      <th>40</th>\n      <td>China</td>\n      <td>0</td>\n      <td>0</td>\n      <td>0</td>\n      <td>0</td>\n      <td>0</td>\n    </tr>\n    <tr>\n      <th>41</th>\n      <td>Colombia</td>\n      <td>0</td>\n      <td>0</td>\n      <td>0</td>\n      <td>0</td>\n      <td>0</td>\n    </tr>\n    <tr>\n      <th>42</th>\n      <td>Comoros</td>\n      <td>0</td>\n      <td>0</td>\n      <td>0</td>\n      <td>0</td>\n      <td>0</td>\n    </tr>\n    <tr>\n      <th>44</th>\n      <td>Costa Rica</td>\n      <td>0</td>\n      <td>0</td>\n      <td>0</td>\n      <td>0</td>\n      <td>0</td>\n    </tr>\n    <tr>\n      <th>45</th>\n      <td>Cote d'Ivoire</td>\n      <td>0</td>\n      <td>0</td>\n      <td>26</td>\n      <td>0</td>\n      <td>0</td>\n    </tr>\n    <tr>\n      <th>46</th>\n      <td>Croatia</td>\n      <td>0</td>\n      <td>0</td>\n      <td>0</td>\n      <td>0</td>\n      <td>0</td>\n    </tr>\n    <tr>\n      <th>47</th>\n      <td>Cuba</td>\n      <td>0</td>\n      <td>0</td>\n      <td>0</td>\n      <td>0</td>\n      <td>0</td>\n    </tr>\n    <tr>\n      <th>49</th>\n      <td>Cyprus</td>\n      <td>0</td>\n      <td>0</td>\n      <td>0</td>\n      <td>0</td>\n      <td>0</td>\n    </tr>\n    <tr>\n      <th>50</th>\n      <td>Czech Republic</td>\n      <td>0</td>\n      <td>0</td>\n      <td>0</td>\n      <td>0</td>\n      <td>0</td>\n    </tr>\n    <tr>\n      <th>51</th>\n      <td>Dem. Rep. Congo</td>\n      <td>0</td>\n      <td>0</td>\n      <td>26</td>\n      <td>0</td>\n      <td>0</td>\n    </tr>\n    <tr>\n      <th>52</th>\n      <td>Denmark</td>\n      <td>0</td>\n      <td>0</td>\n      <td>0</td>\n      <td>0</td>\n      <td>0</td>\n    </tr>\n    <tr>\n      <th>53</th>\n      <td>Djibouti</td>\n      <td>0</td>\n      <td>0</td>\n      <td>26</td>\n      <td>0</td>\n      <td>0</td>\n    </tr>\n    <tr>\n      <th>54</th>\n      <td>Dominica</td>\n      <td>0</td>\n      <td>0</td>\n      <td>26</td>\n      <td>0</td>\n      <td>0</td>\n    </tr>\n    <tr>\n      <th>55</th>\n      <td>Dominican Republic</td>\n      <td>0</td>\n      <td>0</td>\n      <td>26</td>\n      <td>0</td>\n      <td>0</td>\n    </tr>\n    <tr>\n      <th>56</th>\n      <td>Ecuador</td>\n      <td>0</td>\n      <td>0</td>\n      <td>0</td>\n      <td>0</td>\n      <td>0</td>\n    </tr>\n    <tr>\n      <th>57</th>\n      <td>Egypt</td>\n      <td>0</td>\n      <td>0</td>\n      <td>0</td>\n      <td>0</td>\n      <td>0</td>\n    </tr>\n    <tr>\n      <th>58</th>\n      <td>El Salvador</td>\n      <td>0</td>\n      <td>0</td>\n      <td>0</td>\n      <td>0</td>\n      <td>0</td>\n    </tr>\n    <tr>\n      <th>59</th>\n      <td>Equatorial Guinea</td>\n      <td>0</td>\n      <td>0</td>\n      <td>26</td>\n      <td>0</td>\n      <td>0</td>\n    </tr>\n    <tr>\n      <th>60</th>\n      <td>Eritrea</td>\n      <td>0</td>\n      <td>0</td>\n      <td>26</td>\n      <td>0</td>\n      <td>0</td>\n    </tr>\n    <tr>\n      <th>61</th>\n      <td>Estonia</td>\n      <td>0</td>\n      <td>0</td>\n      <td>0</td>\n      <td>0</td>\n      <td>0</td>\n    </tr>\n    <tr>\n      <th>62</th>\n      <td>Eswatini</td>\n      <td>0</td>\n      <td>0</td>\n      <td>26</td>\n      <td>0</td>\n      <td>0</td>\n    </tr>\n    <tr>\n      <th>63</th>\n      <td>Ethiopia</td>\n      <td>0</td>\n      <td>0</td>\n      <td>0</td>\n      <td>0</td>\n      <td>0</td>\n    </tr>\n    <tr>\n      <th>66</th>\n      <td>Fiji</td>\n      <td>0</td>\n      <td>0</td>\n      <td>26</td>\n      <td>0</td>\n      <td>0</td>\n    </tr>\n    <tr>\n      <th>67</th>\n      <td>Finland</td>\n      <td>0</td>\n      <td>0</td>\n      <td>0</td>\n      <td>0</td>\n      <td>0</td>\n    </tr>\n    <tr>\n      <th>68</th>\n      <td>France</td>\n      <td>0</td>\n      <td>0</td>\n      <td>0</td>\n      <td>0</td>\n      <td>0</td>\n    </tr>\n  </tbody>\n</table>\n</div>"
     },
     "metadata": {},
     "execution_count": 104
    }
   ],
   "source": [
    "data_filtered[30:60]"
   ]
  },
  {
   "cell_type": "code",
   "execution_count": 44,
   "metadata": {},
   "outputs": [],
   "source": [
    "drop_60 = ['Central African Republic','Chad',\"Cote d'Ivoire\",'Dem. Rep. Congo','Djibouti','Dominica','Dominican Republic','Equatorial Guinea','Eritrea','Eswatini','Fiji']"
   ]
  },
  {
   "cell_type": "code",
   "execution_count": 105,
   "metadata": {},
   "outputs": [
    {
     "output_type": "execute_result",
     "data": {
      "text/plain": [
       "variables          index  CDA  CHA  FGA  NDA  BCA\n",
       "70                 Gabon    0    0    0    0    0\n",
       "71                Gambia    0    0   26    0    0\n",
       "72               Georgia    0    0    0    0    0\n",
       "73               Germany    0    0    0    0    0\n",
       "74                 Ghana    0    0    0    0    0\n",
       "75                Greece    0    0    0    0    0\n",
       "77               Grenada    0    0    0    0    0\n",
       "78             Guatemala    0    0    0    0    0\n",
       "80                Guinea    0    0   26    0    0\n",
       "81         Guinea-Bissau    0    0   26    0    0\n",
       "82                Guyana    0    0   26    0    0\n",
       "83                 Haiti    0    0   26    0    0\n",
       "85              Honduras    0    0   26    0    0\n",
       "86             Hong Kong    0    0    0    0    0\n",
       "87               Hungary    0    0    0    0    0\n",
       "88               Iceland    0    0    0    0    0\n",
       "89                 India    0    0    0    0    0\n",
       "90             Indonesia    0    0    0    0    0\n",
       "91                  Iran    0    0    0    0    0\n",
       "92                  Iraq    0    0    0    0    0\n",
       "93               Ireland    0    0    0    0    0\n",
       "95                Israel    0    0    0    0    0\n",
       "96                 Italy    0    0    0    0    0\n",
       "97               Jamaica    0    0    0    0    0\n",
       "98                 Japan    0    0    0    0    0\n",
       "100               Jordan    0    0    0    0    0\n",
       "101           Kazakhstan    0    0    0    0    0\n",
       "102                Kenya    0    0    0    0    0\n",
       "103             Kiribati    0    0   26    0    0\n",
       "105               Kuwait    0    0    0    0    0"
      ],
      "text/html": "<div>\n<style scoped>\n    .dataframe tbody tr th:only-of-type {\n        vertical-align: middle;\n    }\n\n    .dataframe tbody tr th {\n        vertical-align: top;\n    }\n\n    .dataframe thead th {\n        text-align: right;\n    }\n</style>\n<table border=\"1\" class=\"dataframe\">\n  <thead>\n    <tr style=\"text-align: right;\">\n      <th>variables</th>\n      <th>index</th>\n      <th>CDA</th>\n      <th>CHA</th>\n      <th>FGA</th>\n      <th>NDA</th>\n      <th>BCA</th>\n    </tr>\n  </thead>\n  <tbody>\n    <tr>\n      <th>70</th>\n      <td>Gabon</td>\n      <td>0</td>\n      <td>0</td>\n      <td>0</td>\n      <td>0</td>\n      <td>0</td>\n    </tr>\n    <tr>\n      <th>71</th>\n      <td>Gambia</td>\n      <td>0</td>\n      <td>0</td>\n      <td>26</td>\n      <td>0</td>\n      <td>0</td>\n    </tr>\n    <tr>\n      <th>72</th>\n      <td>Georgia</td>\n      <td>0</td>\n      <td>0</td>\n      <td>0</td>\n      <td>0</td>\n      <td>0</td>\n    </tr>\n    <tr>\n      <th>73</th>\n      <td>Germany</td>\n      <td>0</td>\n      <td>0</td>\n      <td>0</td>\n      <td>0</td>\n      <td>0</td>\n    </tr>\n    <tr>\n      <th>74</th>\n      <td>Ghana</td>\n      <td>0</td>\n      <td>0</td>\n      <td>0</td>\n      <td>0</td>\n      <td>0</td>\n    </tr>\n    <tr>\n      <th>75</th>\n      <td>Greece</td>\n      <td>0</td>\n      <td>0</td>\n      <td>0</td>\n      <td>0</td>\n      <td>0</td>\n    </tr>\n    <tr>\n      <th>77</th>\n      <td>Grenada</td>\n      <td>0</td>\n      <td>0</td>\n      <td>0</td>\n      <td>0</td>\n      <td>0</td>\n    </tr>\n    <tr>\n      <th>78</th>\n      <td>Guatemala</td>\n      <td>0</td>\n      <td>0</td>\n      <td>0</td>\n      <td>0</td>\n      <td>0</td>\n    </tr>\n    <tr>\n      <th>80</th>\n      <td>Guinea</td>\n      <td>0</td>\n      <td>0</td>\n      <td>26</td>\n      <td>0</td>\n      <td>0</td>\n    </tr>\n    <tr>\n      <th>81</th>\n      <td>Guinea-Bissau</td>\n      <td>0</td>\n      <td>0</td>\n      <td>26</td>\n      <td>0</td>\n      <td>0</td>\n    </tr>\n    <tr>\n      <th>82</th>\n      <td>Guyana</td>\n      <td>0</td>\n      <td>0</td>\n      <td>26</td>\n      <td>0</td>\n      <td>0</td>\n    </tr>\n    <tr>\n      <th>83</th>\n      <td>Haiti</td>\n      <td>0</td>\n      <td>0</td>\n      <td>26</td>\n      <td>0</td>\n      <td>0</td>\n    </tr>\n    <tr>\n      <th>85</th>\n      <td>Honduras</td>\n      <td>0</td>\n      <td>0</td>\n      <td>26</td>\n      <td>0</td>\n      <td>0</td>\n    </tr>\n    <tr>\n      <th>86</th>\n      <td>Hong Kong</td>\n      <td>0</td>\n      <td>0</td>\n      <td>0</td>\n      <td>0</td>\n      <td>0</td>\n    </tr>\n    <tr>\n      <th>87</th>\n      <td>Hungary</td>\n      <td>0</td>\n      <td>0</td>\n      <td>0</td>\n      <td>0</td>\n      <td>0</td>\n    </tr>\n    <tr>\n      <th>88</th>\n      <td>Iceland</td>\n      <td>0</td>\n      <td>0</td>\n      <td>0</td>\n      <td>0</td>\n      <td>0</td>\n    </tr>\n    <tr>\n      <th>89</th>\n      <td>India</td>\n      <td>0</td>\n      <td>0</td>\n      <td>0</td>\n      <td>0</td>\n      <td>0</td>\n    </tr>\n    <tr>\n      <th>90</th>\n      <td>Indonesia</td>\n      <td>0</td>\n      <td>0</td>\n      <td>0</td>\n      <td>0</td>\n      <td>0</td>\n    </tr>\n    <tr>\n      <th>91</th>\n      <td>Iran</td>\n      <td>0</td>\n      <td>0</td>\n      <td>0</td>\n      <td>0</td>\n      <td>0</td>\n    </tr>\n    <tr>\n      <th>92</th>\n      <td>Iraq</td>\n      <td>0</td>\n      <td>0</td>\n      <td>0</td>\n      <td>0</td>\n      <td>0</td>\n    </tr>\n    <tr>\n      <th>93</th>\n      <td>Ireland</td>\n      <td>0</td>\n      <td>0</td>\n      <td>0</td>\n      <td>0</td>\n      <td>0</td>\n    </tr>\n    <tr>\n      <th>95</th>\n      <td>Israel</td>\n      <td>0</td>\n      <td>0</td>\n      <td>0</td>\n      <td>0</td>\n      <td>0</td>\n    </tr>\n    <tr>\n      <th>96</th>\n      <td>Italy</td>\n      <td>0</td>\n      <td>0</td>\n      <td>0</td>\n      <td>0</td>\n      <td>0</td>\n    </tr>\n    <tr>\n      <th>97</th>\n      <td>Jamaica</td>\n      <td>0</td>\n      <td>0</td>\n      <td>0</td>\n      <td>0</td>\n      <td>0</td>\n    </tr>\n    <tr>\n      <th>98</th>\n      <td>Japan</td>\n      <td>0</td>\n      <td>0</td>\n      <td>0</td>\n      <td>0</td>\n      <td>0</td>\n    </tr>\n    <tr>\n      <th>100</th>\n      <td>Jordan</td>\n      <td>0</td>\n      <td>0</td>\n      <td>0</td>\n      <td>0</td>\n      <td>0</td>\n    </tr>\n    <tr>\n      <th>101</th>\n      <td>Kazakhstan</td>\n      <td>0</td>\n      <td>0</td>\n      <td>0</td>\n      <td>0</td>\n      <td>0</td>\n    </tr>\n    <tr>\n      <th>102</th>\n      <td>Kenya</td>\n      <td>0</td>\n      <td>0</td>\n      <td>0</td>\n      <td>0</td>\n      <td>0</td>\n    </tr>\n    <tr>\n      <th>103</th>\n      <td>Kiribati</td>\n      <td>0</td>\n      <td>0</td>\n      <td>26</td>\n      <td>0</td>\n      <td>0</td>\n    </tr>\n    <tr>\n      <th>105</th>\n      <td>Kuwait</td>\n      <td>0</td>\n      <td>0</td>\n      <td>0</td>\n      <td>0</td>\n      <td>0</td>\n    </tr>\n  </tbody>\n</table>\n</div>"
     },
     "metadata": {},
     "execution_count": 105
    }
   ],
   "source": [
    "data_filtered[60:90]"
   ]
  },
  {
   "cell_type": "code",
   "execution_count": 46,
   "metadata": {},
   "outputs": [],
   "source": [
    "drop_90 = ['Gambia','Guinea','Guinea-Bissau','Guyana','Haiti','Honduras','Kiribati']"
   ]
  },
  {
   "cell_type": "code",
   "execution_count": 106,
   "metadata": {},
   "outputs": [
    {
     "output_type": "execute_result",
     "data": {
      "text/plain": [
       "variables             index  CDA  CHA  FGA  NDA  BCA\n",
       "106              Kyrgyzstan    0    0    0    0    0\n",
       "107                    Laos    0    0   26    0    0\n",
       "108                  Latvia    0    0    0    0    0\n",
       "109                 Lebanon    0    0   26    0    0\n",
       "110                 Lesotho    0    0   26    0    0\n",
       "111                 Liberia    0    0    0    0    0\n",
       "112                   Libya    0    0    0    0    0\n",
       "114               Lithuania    0    0    0    0    0\n",
       "115              Luxembourg    0    0    0    0    0\n",
       "116                   Macao    0    0   26    0    0\n",
       "117              Madagascar    0    0    0    0    0\n",
       "118                  Malawi    0    0   26    0    0\n",
       "119                Malaysia    0    0    0    0    0\n",
       "120                Maldives    0    0   26    0    0\n",
       "121                    Mali    0    0   26    0    0\n",
       "122                   Malta    0    0    0    0    0\n",
       "123        Marshall Islands    0    0   26    0    0\n",
       "124              Mauritania    0    0    0    0    0\n",
       "125               Mauritius    0    0    0    0    0\n",
       "126                  Mexico    0    0    0    0    0\n",
       "127              Micronesia    0    0   26    0    0\n",
       "128                 Moldova    0    0    0    0    0\n",
       "130                Mongolia    0    0    0    0    0\n",
       "131              Montenegro    0    0    0    0    0\n",
       "132                 Morocco    0    0   26    0    0\n",
       "133              Mozambique    0    0    0    0    0\n",
       "134                 Myanmar    0    0   26    0    0\n",
       "135                 Namibia    0    0   26    0    0\n",
       "137                   Nepal    0    0   26    0    0\n",
       "138             Netherlands    0    0    0    0    0"
      ],
      "text/html": "<div>\n<style scoped>\n    .dataframe tbody tr th:only-of-type {\n        vertical-align: middle;\n    }\n\n    .dataframe tbody tr th {\n        vertical-align: top;\n    }\n\n    .dataframe thead th {\n        text-align: right;\n    }\n</style>\n<table border=\"1\" class=\"dataframe\">\n  <thead>\n    <tr style=\"text-align: right;\">\n      <th>variables</th>\n      <th>index</th>\n      <th>CDA</th>\n      <th>CHA</th>\n      <th>FGA</th>\n      <th>NDA</th>\n      <th>BCA</th>\n    </tr>\n  </thead>\n  <tbody>\n    <tr>\n      <th>106</th>\n      <td>Kyrgyzstan</td>\n      <td>0</td>\n      <td>0</td>\n      <td>0</td>\n      <td>0</td>\n      <td>0</td>\n    </tr>\n    <tr>\n      <th>107</th>\n      <td>Laos</td>\n      <td>0</td>\n      <td>0</td>\n      <td>26</td>\n      <td>0</td>\n      <td>0</td>\n    </tr>\n    <tr>\n      <th>108</th>\n      <td>Latvia</td>\n      <td>0</td>\n      <td>0</td>\n      <td>0</td>\n      <td>0</td>\n      <td>0</td>\n    </tr>\n    <tr>\n      <th>109</th>\n      <td>Lebanon</td>\n      <td>0</td>\n      <td>0</td>\n      <td>26</td>\n      <td>0</td>\n      <td>0</td>\n    </tr>\n    <tr>\n      <th>110</th>\n      <td>Lesotho</td>\n      <td>0</td>\n      <td>0</td>\n      <td>26</td>\n      <td>0</td>\n      <td>0</td>\n    </tr>\n    <tr>\n      <th>111</th>\n      <td>Liberia</td>\n      <td>0</td>\n      <td>0</td>\n      <td>0</td>\n      <td>0</td>\n      <td>0</td>\n    </tr>\n    <tr>\n      <th>112</th>\n      <td>Libya</td>\n      <td>0</td>\n      <td>0</td>\n      <td>0</td>\n      <td>0</td>\n      <td>0</td>\n    </tr>\n    <tr>\n      <th>114</th>\n      <td>Lithuania</td>\n      <td>0</td>\n      <td>0</td>\n      <td>0</td>\n      <td>0</td>\n      <td>0</td>\n    </tr>\n    <tr>\n      <th>115</th>\n      <td>Luxembourg</td>\n      <td>0</td>\n      <td>0</td>\n      <td>0</td>\n      <td>0</td>\n      <td>0</td>\n    </tr>\n    <tr>\n      <th>116</th>\n      <td>Macao</td>\n      <td>0</td>\n      <td>0</td>\n      <td>26</td>\n      <td>0</td>\n      <td>0</td>\n    </tr>\n    <tr>\n      <th>117</th>\n      <td>Madagascar</td>\n      <td>0</td>\n      <td>0</td>\n      <td>0</td>\n      <td>0</td>\n      <td>0</td>\n    </tr>\n    <tr>\n      <th>118</th>\n      <td>Malawi</td>\n      <td>0</td>\n      <td>0</td>\n      <td>26</td>\n      <td>0</td>\n      <td>0</td>\n    </tr>\n    <tr>\n      <th>119</th>\n      <td>Malaysia</td>\n      <td>0</td>\n      <td>0</td>\n      <td>0</td>\n      <td>0</td>\n      <td>0</td>\n    </tr>\n    <tr>\n      <th>120</th>\n      <td>Maldives</td>\n      <td>0</td>\n      <td>0</td>\n      <td>26</td>\n      <td>0</td>\n      <td>0</td>\n    </tr>\n    <tr>\n      <th>121</th>\n      <td>Mali</td>\n      <td>0</td>\n      <td>0</td>\n      <td>26</td>\n      <td>0</td>\n      <td>0</td>\n    </tr>\n    <tr>\n      <th>122</th>\n      <td>Malta</td>\n      <td>0</td>\n      <td>0</td>\n      <td>0</td>\n      <td>0</td>\n      <td>0</td>\n    </tr>\n    <tr>\n      <th>123</th>\n      <td>Marshall Islands</td>\n      <td>0</td>\n      <td>0</td>\n      <td>26</td>\n      <td>0</td>\n      <td>0</td>\n    </tr>\n    <tr>\n      <th>124</th>\n      <td>Mauritania</td>\n      <td>0</td>\n      <td>0</td>\n      <td>0</td>\n      <td>0</td>\n      <td>0</td>\n    </tr>\n    <tr>\n      <th>125</th>\n      <td>Mauritius</td>\n      <td>0</td>\n      <td>0</td>\n      <td>0</td>\n      <td>0</td>\n      <td>0</td>\n    </tr>\n    <tr>\n      <th>126</th>\n      <td>Mexico</td>\n      <td>0</td>\n      <td>0</td>\n      <td>0</td>\n      <td>0</td>\n      <td>0</td>\n    </tr>\n    <tr>\n      <th>127</th>\n      <td>Micronesia</td>\n      <td>0</td>\n      <td>0</td>\n      <td>26</td>\n      <td>0</td>\n      <td>0</td>\n    </tr>\n    <tr>\n      <th>128</th>\n      <td>Moldova</td>\n      <td>0</td>\n      <td>0</td>\n      <td>0</td>\n      <td>0</td>\n      <td>0</td>\n    </tr>\n    <tr>\n      <th>130</th>\n      <td>Mongolia</td>\n      <td>0</td>\n      <td>0</td>\n      <td>0</td>\n      <td>0</td>\n      <td>0</td>\n    </tr>\n    <tr>\n      <th>131</th>\n      <td>Montenegro</td>\n      <td>0</td>\n      <td>0</td>\n      <td>0</td>\n      <td>0</td>\n      <td>0</td>\n    </tr>\n    <tr>\n      <th>132</th>\n      <td>Morocco</td>\n      <td>0</td>\n      <td>0</td>\n      <td>26</td>\n      <td>0</td>\n      <td>0</td>\n    </tr>\n    <tr>\n      <th>133</th>\n      <td>Mozambique</td>\n      <td>0</td>\n      <td>0</td>\n      <td>0</td>\n      <td>0</td>\n      <td>0</td>\n    </tr>\n    <tr>\n      <th>134</th>\n      <td>Myanmar</td>\n      <td>0</td>\n      <td>0</td>\n      <td>26</td>\n      <td>0</td>\n      <td>0</td>\n    </tr>\n    <tr>\n      <th>135</th>\n      <td>Namibia</td>\n      <td>0</td>\n      <td>0</td>\n      <td>26</td>\n      <td>0</td>\n      <td>0</td>\n    </tr>\n    <tr>\n      <th>137</th>\n      <td>Nepal</td>\n      <td>0</td>\n      <td>0</td>\n      <td>26</td>\n      <td>0</td>\n      <td>0</td>\n    </tr>\n    <tr>\n      <th>138</th>\n      <td>Netherlands</td>\n      <td>0</td>\n      <td>0</td>\n      <td>0</td>\n      <td>0</td>\n      <td>0</td>\n    </tr>\n  </tbody>\n</table>\n</div>"
     },
     "metadata": {},
     "execution_count": 106
    }
   ],
   "source": [
    "data_filtered[90:120]"
   ]
  },
  {
   "cell_type": "code",
   "execution_count": 48,
   "metadata": {},
   "outputs": [],
   "source": [
    "drop_120 = ['Laos','Lebanon','Lesotho','Macao','Malawi','Maldives','Mali','Marshall Islands','Micronesia','Morocco','Myanmar','Namibia','Nepal']"
   ]
  },
  {
   "cell_type": "code",
   "execution_count": 107,
   "metadata": {},
   "outputs": [
    {
     "output_type": "execute_result",
     "data": {
      "text/plain": [
       "variables                             index  CDA  CHA  FGA  NDA  BCA\n",
       "140                             New Zealand    0    0    0    0    0\n",
       "141                               Nicaragua    0    0   26    0    0\n",
       "142                                   Niger    0    0   26    0    0\n",
       "143                                 Nigeria    0    0    0    0    0\n",
       "146                         North Macedonia    0    0    0    0    0\n",
       "147                                  Norway    0    0    0    0    0\n",
       "148                                    Oman    0    0    0    0    0\n",
       "149                                Pakistan    0    0    0    0    0\n",
       "150                                   Palau    0    0   26    0    0\n",
       "151                                  Panama    0    0   26    0    0\n",
       "152                        Papua New Guinea    0    0    0    0    0\n",
       "153                                Paraguay    0    0   26    0    0\n",
       "154                                    Peru    0    0    0    0    0\n",
       "155                             Philippines    0    0    0    0    0\n",
       "156                                  Poland    0    0    0    0    0\n",
       "157                                Portugal    0    0    0    0    0\n",
       "158                                   Qatar    0    0   26    0    0\n",
       "159                       Republic of Congo    0    0    0    0    0\n",
       "160                                 Romania    0    0    0    0    0\n",
       "161                                  Russia    0    0    0    0    0\n",
       "162                                  Rwanda    0    0    0    0    0\n",
       "164                   Saint Kitts and Nevis    0    0    0    0    0\n",
       "165                             Saint Lucia    0    0    0    0    0\n",
       "166        Saint Vincent and the Grenadines    0    0    0    0    0\n",
       "167                                   Samoa    0    0   26    0    0\n",
       "168                              San Marino    0    0    0    0   26\n",
       "169                   Sao Tome and Principe    0    0   26    0    0\n",
       "170                            Saudi Arabia    0    0    0    0    0\n",
       "171                                 Senegal    0    0   26    0    0\n",
       "172                                  Serbia    0    0    0    0    0"
      ],
      "text/html": "<div>\n<style scoped>\n    .dataframe tbody tr th:only-of-type {\n        vertical-align: middle;\n    }\n\n    .dataframe tbody tr th {\n        vertical-align: top;\n    }\n\n    .dataframe thead th {\n        text-align: right;\n    }\n</style>\n<table border=\"1\" class=\"dataframe\">\n  <thead>\n    <tr style=\"text-align: right;\">\n      <th>variables</th>\n      <th>index</th>\n      <th>CDA</th>\n      <th>CHA</th>\n      <th>FGA</th>\n      <th>NDA</th>\n      <th>BCA</th>\n    </tr>\n  </thead>\n  <tbody>\n    <tr>\n      <th>140</th>\n      <td>New Zealand</td>\n      <td>0</td>\n      <td>0</td>\n      <td>0</td>\n      <td>0</td>\n      <td>0</td>\n    </tr>\n    <tr>\n      <th>141</th>\n      <td>Nicaragua</td>\n      <td>0</td>\n      <td>0</td>\n      <td>26</td>\n      <td>0</td>\n      <td>0</td>\n    </tr>\n    <tr>\n      <th>142</th>\n      <td>Niger</td>\n      <td>0</td>\n      <td>0</td>\n      <td>26</td>\n      <td>0</td>\n      <td>0</td>\n    </tr>\n    <tr>\n      <th>143</th>\n      <td>Nigeria</td>\n      <td>0</td>\n      <td>0</td>\n      <td>0</td>\n      <td>0</td>\n      <td>0</td>\n    </tr>\n    <tr>\n      <th>146</th>\n      <td>North Macedonia</td>\n      <td>0</td>\n      <td>0</td>\n      <td>0</td>\n      <td>0</td>\n      <td>0</td>\n    </tr>\n    <tr>\n      <th>147</th>\n      <td>Norway</td>\n      <td>0</td>\n      <td>0</td>\n      <td>0</td>\n      <td>0</td>\n      <td>0</td>\n    </tr>\n    <tr>\n      <th>148</th>\n      <td>Oman</td>\n      <td>0</td>\n      <td>0</td>\n      <td>0</td>\n      <td>0</td>\n      <td>0</td>\n    </tr>\n    <tr>\n      <th>149</th>\n      <td>Pakistan</td>\n      <td>0</td>\n      <td>0</td>\n      <td>0</td>\n      <td>0</td>\n      <td>0</td>\n    </tr>\n    <tr>\n      <th>150</th>\n      <td>Palau</td>\n      <td>0</td>\n      <td>0</td>\n      <td>26</td>\n      <td>0</td>\n      <td>0</td>\n    </tr>\n    <tr>\n      <th>151</th>\n      <td>Panama</td>\n      <td>0</td>\n      <td>0</td>\n      <td>26</td>\n      <td>0</td>\n      <td>0</td>\n    </tr>\n    <tr>\n      <th>152</th>\n      <td>Papua New Guinea</td>\n      <td>0</td>\n      <td>0</td>\n      <td>0</td>\n      <td>0</td>\n      <td>0</td>\n    </tr>\n    <tr>\n      <th>153</th>\n      <td>Paraguay</td>\n      <td>0</td>\n      <td>0</td>\n      <td>26</td>\n      <td>0</td>\n      <td>0</td>\n    </tr>\n    <tr>\n      <th>154</th>\n      <td>Peru</td>\n      <td>0</td>\n      <td>0</td>\n      <td>0</td>\n      <td>0</td>\n      <td>0</td>\n    </tr>\n    <tr>\n      <th>155</th>\n      <td>Philippines</td>\n      <td>0</td>\n      <td>0</td>\n      <td>0</td>\n      <td>0</td>\n      <td>0</td>\n    </tr>\n    <tr>\n      <th>156</th>\n      <td>Poland</td>\n      <td>0</td>\n      <td>0</td>\n      <td>0</td>\n      <td>0</td>\n      <td>0</td>\n    </tr>\n    <tr>\n      <th>157</th>\n      <td>Portugal</td>\n      <td>0</td>\n      <td>0</td>\n      <td>0</td>\n      <td>0</td>\n      <td>0</td>\n    </tr>\n    <tr>\n      <th>158</th>\n      <td>Qatar</td>\n      <td>0</td>\n      <td>0</td>\n      <td>26</td>\n      <td>0</td>\n      <td>0</td>\n    </tr>\n    <tr>\n      <th>159</th>\n      <td>Republic of Congo</td>\n      <td>0</td>\n      <td>0</td>\n      <td>0</td>\n      <td>0</td>\n      <td>0</td>\n    </tr>\n    <tr>\n      <th>160</th>\n      <td>Romania</td>\n      <td>0</td>\n      <td>0</td>\n      <td>0</td>\n      <td>0</td>\n      <td>0</td>\n    </tr>\n    <tr>\n      <th>161</th>\n      <td>Russia</td>\n      <td>0</td>\n      <td>0</td>\n      <td>0</td>\n      <td>0</td>\n      <td>0</td>\n    </tr>\n    <tr>\n      <th>162</th>\n      <td>Rwanda</td>\n      <td>0</td>\n      <td>0</td>\n      <td>0</td>\n      <td>0</td>\n      <td>0</td>\n    </tr>\n    <tr>\n      <th>164</th>\n      <td>Saint Kitts and Nevis</td>\n      <td>0</td>\n      <td>0</td>\n      <td>0</td>\n      <td>0</td>\n      <td>0</td>\n    </tr>\n    <tr>\n      <th>165</th>\n      <td>Saint Lucia</td>\n      <td>0</td>\n      <td>0</td>\n      <td>0</td>\n      <td>0</td>\n      <td>0</td>\n    </tr>\n    <tr>\n      <th>166</th>\n      <td>Saint Vincent and the Grenadines</td>\n      <td>0</td>\n      <td>0</td>\n      <td>0</td>\n      <td>0</td>\n      <td>0</td>\n    </tr>\n    <tr>\n      <th>167</th>\n      <td>Samoa</td>\n      <td>0</td>\n      <td>0</td>\n      <td>26</td>\n      <td>0</td>\n      <td>0</td>\n    </tr>\n    <tr>\n      <th>168</th>\n      <td>San Marino</td>\n      <td>0</td>\n      <td>0</td>\n      <td>0</td>\n      <td>0</td>\n      <td>26</td>\n    </tr>\n    <tr>\n      <th>169</th>\n      <td>Sao Tome and Principe</td>\n      <td>0</td>\n      <td>0</td>\n      <td>26</td>\n      <td>0</td>\n      <td>0</td>\n    </tr>\n    <tr>\n      <th>170</th>\n      <td>Saudi Arabia</td>\n      <td>0</td>\n      <td>0</td>\n      <td>0</td>\n      <td>0</td>\n      <td>0</td>\n    </tr>\n    <tr>\n      <th>171</th>\n      <td>Senegal</td>\n      <td>0</td>\n      <td>0</td>\n      <td>26</td>\n      <td>0</td>\n      <td>0</td>\n    </tr>\n    <tr>\n      <th>172</th>\n      <td>Serbia</td>\n      <td>0</td>\n      <td>0</td>\n      <td>0</td>\n      <td>0</td>\n      <td>0</td>\n    </tr>\n  </tbody>\n</table>\n</div>"
     },
     "metadata": {},
     "execution_count": 107
    }
   ],
   "source": [
    "data_filtered[120:150]"
   ]
  },
  {
   "cell_type": "code",
   "execution_count": 50,
   "metadata": {},
   "outputs": [],
   "source": [
    "drop_150 = ['Nicaragua','Niger','Palau','Panama','Paraguay','Qatar','Samoa','San Marino','Sao Tome and Principe','Senegal']"
   ]
  },
  {
   "cell_type": "code",
   "execution_count": 108,
   "metadata": {},
   "outputs": [
    {
     "output_type": "execute_result",
     "data": {
      "text/plain": [
       "variables                     index  CDA  CHA  FGA  NDA  BCA\n",
       "173                      Seychelles    0    0   26    0    0\n",
       "174                    Sierra Leone    0    0    0    0    0\n",
       "175                       Singapore    0    0    0    0    0\n",
       "177                        Slovakia    0    0    0    0    0\n",
       "178                        Slovenia    0    0    0    0    0\n",
       "179                 Solomon Islands    0    0   26    0    0\n",
       "181                    South Africa    0    0    0    0    0\n",
       "182                     South Korea    0    0    0    0    0\n",
       "184                           Spain    0    0    0    0    0\n",
       "185                       Sri Lanka    0    0   26    0    0\n",
       "187                           Sudan    0    0   26    0    0\n",
       "188                        Suriname    0    0    0    0    0\n",
       "189                          Sweden    0    0    0    0    0\n",
       "190                     Switzerland    0    0    0    0    0\n",
       "192                          Taiwan    0    0    0    0    0\n",
       "193                      Tajikistan    0    0    0    0    0\n",
       "194                        Tanzania    0    0   26    0    0\n",
       "195                        Thailand    0    0    0    0    0\n",
       "196                     Timor-Leste    0    0   26    0    0\n",
       "197                            Togo    0    0   26    0    0\n",
       "198                           Tonga    0    0   26    0    0\n",
       "199             Trinidad and Tobago    0    0   26    0    0\n",
       "200                         Tunisia    0    0   26    0    0\n",
       "201                          Turkey    0    0    0    0    0\n",
       "202                    Turkmenistan    0    0    0    0    0\n",
       "205                          Uganda    0    0   26    0    0\n",
       "206                         Ukraine    0    0    0    0    0\n",
       "207            United Arab Emirates    0    0    0    0    0\n",
       "208                  United Kingdom    0    0    0    0    0\n",
       "209        United States of America    0    0    0    0    0"
      ],
      "text/html": "<div>\n<style scoped>\n    .dataframe tbody tr th:only-of-type {\n        vertical-align: middle;\n    }\n\n    .dataframe tbody tr th {\n        vertical-align: top;\n    }\n\n    .dataframe thead th {\n        text-align: right;\n    }\n</style>\n<table border=\"1\" class=\"dataframe\">\n  <thead>\n    <tr style=\"text-align: right;\">\n      <th>variables</th>\n      <th>index</th>\n      <th>CDA</th>\n      <th>CHA</th>\n      <th>FGA</th>\n      <th>NDA</th>\n      <th>BCA</th>\n    </tr>\n  </thead>\n  <tbody>\n    <tr>\n      <th>173</th>\n      <td>Seychelles</td>\n      <td>0</td>\n      <td>0</td>\n      <td>26</td>\n      <td>0</td>\n      <td>0</td>\n    </tr>\n    <tr>\n      <th>174</th>\n      <td>Sierra Leone</td>\n      <td>0</td>\n      <td>0</td>\n      <td>0</td>\n      <td>0</td>\n      <td>0</td>\n    </tr>\n    <tr>\n      <th>175</th>\n      <td>Singapore</td>\n      <td>0</td>\n      <td>0</td>\n      <td>0</td>\n      <td>0</td>\n      <td>0</td>\n    </tr>\n    <tr>\n      <th>177</th>\n      <td>Slovakia</td>\n      <td>0</td>\n      <td>0</td>\n      <td>0</td>\n      <td>0</td>\n      <td>0</td>\n    </tr>\n    <tr>\n      <th>178</th>\n      <td>Slovenia</td>\n      <td>0</td>\n      <td>0</td>\n      <td>0</td>\n      <td>0</td>\n      <td>0</td>\n    </tr>\n    <tr>\n      <th>179</th>\n      <td>Solomon Islands</td>\n      <td>0</td>\n      <td>0</td>\n      <td>26</td>\n      <td>0</td>\n      <td>0</td>\n    </tr>\n    <tr>\n      <th>181</th>\n      <td>South Africa</td>\n      <td>0</td>\n      <td>0</td>\n      <td>0</td>\n      <td>0</td>\n      <td>0</td>\n    </tr>\n    <tr>\n      <th>182</th>\n      <td>South Korea</td>\n      <td>0</td>\n      <td>0</td>\n      <td>0</td>\n      <td>0</td>\n      <td>0</td>\n    </tr>\n    <tr>\n      <th>184</th>\n      <td>Spain</td>\n      <td>0</td>\n      <td>0</td>\n      <td>0</td>\n      <td>0</td>\n      <td>0</td>\n    </tr>\n    <tr>\n      <th>185</th>\n      <td>Sri Lanka</td>\n      <td>0</td>\n      <td>0</td>\n      <td>26</td>\n      <td>0</td>\n      <td>0</td>\n    </tr>\n    <tr>\n      <th>187</th>\n      <td>Sudan</td>\n      <td>0</td>\n      <td>0</td>\n      <td>26</td>\n      <td>0</td>\n      <td>0</td>\n    </tr>\n    <tr>\n      <th>188</th>\n      <td>Suriname</td>\n      <td>0</td>\n      <td>0</td>\n      <td>0</td>\n      <td>0</td>\n      <td>0</td>\n    </tr>\n    <tr>\n      <th>189</th>\n      <td>Sweden</td>\n      <td>0</td>\n      <td>0</td>\n      <td>0</td>\n      <td>0</td>\n      <td>0</td>\n    </tr>\n    <tr>\n      <th>190</th>\n      <td>Switzerland</td>\n      <td>0</td>\n      <td>0</td>\n      <td>0</td>\n      <td>0</td>\n      <td>0</td>\n    </tr>\n    <tr>\n      <th>192</th>\n      <td>Taiwan</td>\n      <td>0</td>\n      <td>0</td>\n      <td>0</td>\n      <td>0</td>\n      <td>0</td>\n    </tr>\n    <tr>\n      <th>193</th>\n      <td>Tajikistan</td>\n      <td>0</td>\n      <td>0</td>\n      <td>0</td>\n      <td>0</td>\n      <td>0</td>\n    </tr>\n    <tr>\n      <th>194</th>\n      <td>Tanzania</td>\n      <td>0</td>\n      <td>0</td>\n      <td>26</td>\n      <td>0</td>\n      <td>0</td>\n    </tr>\n    <tr>\n      <th>195</th>\n      <td>Thailand</td>\n      <td>0</td>\n      <td>0</td>\n      <td>0</td>\n      <td>0</td>\n      <td>0</td>\n    </tr>\n    <tr>\n      <th>196</th>\n      <td>Timor-Leste</td>\n      <td>0</td>\n      <td>0</td>\n      <td>26</td>\n      <td>0</td>\n      <td>0</td>\n    </tr>\n    <tr>\n      <th>197</th>\n      <td>Togo</td>\n      <td>0</td>\n      <td>0</td>\n      <td>26</td>\n      <td>0</td>\n      <td>0</td>\n    </tr>\n    <tr>\n      <th>198</th>\n      <td>Tonga</td>\n      <td>0</td>\n      <td>0</td>\n      <td>26</td>\n      <td>0</td>\n      <td>0</td>\n    </tr>\n    <tr>\n      <th>199</th>\n      <td>Trinidad and Tobago</td>\n      <td>0</td>\n      <td>0</td>\n      <td>26</td>\n      <td>0</td>\n      <td>0</td>\n    </tr>\n    <tr>\n      <th>200</th>\n      <td>Tunisia</td>\n      <td>0</td>\n      <td>0</td>\n      <td>26</td>\n      <td>0</td>\n      <td>0</td>\n    </tr>\n    <tr>\n      <th>201</th>\n      <td>Turkey</td>\n      <td>0</td>\n      <td>0</td>\n      <td>0</td>\n      <td>0</td>\n      <td>0</td>\n    </tr>\n    <tr>\n      <th>202</th>\n      <td>Turkmenistan</td>\n      <td>0</td>\n      <td>0</td>\n      <td>0</td>\n      <td>0</td>\n      <td>0</td>\n    </tr>\n    <tr>\n      <th>205</th>\n      <td>Uganda</td>\n      <td>0</td>\n      <td>0</td>\n      <td>26</td>\n      <td>0</td>\n      <td>0</td>\n    </tr>\n    <tr>\n      <th>206</th>\n      <td>Ukraine</td>\n      <td>0</td>\n      <td>0</td>\n      <td>0</td>\n      <td>0</td>\n      <td>0</td>\n    </tr>\n    <tr>\n      <th>207</th>\n      <td>United Arab Emirates</td>\n      <td>0</td>\n      <td>0</td>\n      <td>0</td>\n      <td>0</td>\n      <td>0</td>\n    </tr>\n    <tr>\n      <th>208</th>\n      <td>United Kingdom</td>\n      <td>0</td>\n      <td>0</td>\n      <td>0</td>\n      <td>0</td>\n      <td>0</td>\n    </tr>\n    <tr>\n      <th>209</th>\n      <td>United States of America</td>\n      <td>0</td>\n      <td>0</td>\n      <td>0</td>\n      <td>0</td>\n      <td>0</td>\n    </tr>\n  </tbody>\n</table>\n</div>"
     },
     "metadata": {},
     "execution_count": 108
    }
   ],
   "source": [
    "data_filtered[150:180]"
   ]
  },
  {
   "cell_type": "code",
   "execution_count": 52,
   "metadata": {},
   "outputs": [],
   "source": [
    "drop_180 = ['Seychelles','Solomon Islands','Sri Lanka','Sudan','Tanzania','Timor-Leste','Togo','Tonga','Trinidad and Tobago','Tunisia','Uganda']"
   ]
  },
  {
   "cell_type": "code",
   "execution_count": 109,
   "metadata": {},
   "outputs": [
    {
     "output_type": "execute_result",
     "data": {
      "text/plain": [
       "variables       index  CDA  CHA  FGA  NDA  BCA\n",
       "210           Uruguay    0    0    0    0    0\n",
       "211        Uzbekistan    0    0    0    0    0\n",
       "212           Vanuatu    0    0   26    0    0\n",
       "213         Venezuela    0    0    0    0    0\n",
       "214          Viet Nam    0    0   26    0    0\n",
       "217             Yemen    0    0   26    0    0\n",
       "218            Zambia    0    0    0    0    0\n",
       "219          Zimbabwe    0    0   26    0    0"
      ],
      "text/html": "<div>\n<style scoped>\n    .dataframe tbody tr th:only-of-type {\n        vertical-align: middle;\n    }\n\n    .dataframe tbody tr th {\n        vertical-align: top;\n    }\n\n    .dataframe thead th {\n        text-align: right;\n    }\n</style>\n<table border=\"1\" class=\"dataframe\">\n  <thead>\n    <tr style=\"text-align: right;\">\n      <th>variables</th>\n      <th>index</th>\n      <th>CDA</th>\n      <th>CHA</th>\n      <th>FGA</th>\n      <th>NDA</th>\n      <th>BCA</th>\n    </tr>\n  </thead>\n  <tbody>\n    <tr>\n      <th>210</th>\n      <td>Uruguay</td>\n      <td>0</td>\n      <td>0</td>\n      <td>0</td>\n      <td>0</td>\n      <td>0</td>\n    </tr>\n    <tr>\n      <th>211</th>\n      <td>Uzbekistan</td>\n      <td>0</td>\n      <td>0</td>\n      <td>0</td>\n      <td>0</td>\n      <td>0</td>\n    </tr>\n    <tr>\n      <th>212</th>\n      <td>Vanuatu</td>\n      <td>0</td>\n      <td>0</td>\n      <td>26</td>\n      <td>0</td>\n      <td>0</td>\n    </tr>\n    <tr>\n      <th>213</th>\n      <td>Venezuela</td>\n      <td>0</td>\n      <td>0</td>\n      <td>0</td>\n      <td>0</td>\n      <td>0</td>\n    </tr>\n    <tr>\n      <th>214</th>\n      <td>Viet Nam</td>\n      <td>0</td>\n      <td>0</td>\n      <td>26</td>\n      <td>0</td>\n      <td>0</td>\n    </tr>\n    <tr>\n      <th>217</th>\n      <td>Yemen</td>\n      <td>0</td>\n      <td>0</td>\n      <td>26</td>\n      <td>0</td>\n      <td>0</td>\n    </tr>\n    <tr>\n      <th>218</th>\n      <td>Zambia</td>\n      <td>0</td>\n      <td>0</td>\n      <td>0</td>\n      <td>0</td>\n      <td>0</td>\n    </tr>\n    <tr>\n      <th>219</th>\n      <td>Zimbabwe</td>\n      <td>0</td>\n      <td>0</td>\n      <td>26</td>\n      <td>0</td>\n      <td>0</td>\n    </tr>\n  </tbody>\n</table>\n</div>"
     },
     "metadata": {},
     "execution_count": 109
    }
   ],
   "source": [
    "data_filtered[180:]"
   ]
  },
  {
   "cell_type": "code",
   "execution_count": 110,
   "metadata": {},
   "outputs": [],
   "source": [
    "drop_200 = ['Vanuatu','Viet Nam','Yemen','Zimbabwe']"
   ]
  },
  {
   "cell_type": "code",
   "execution_count": 111,
   "metadata": {},
   "outputs": [],
   "source": [
    "final_drop = drop_ + drop_30 + drop_60 + drop_90 + drop_120 + drop_150 + drop_180 + drop_200"
   ]
  },
  {
   "cell_type": "code",
   "execution_count": 112,
   "metadata": {},
   "outputs": [
    {
     "output_type": "execute_result",
     "data": {
      "text/plain": [
       "101"
      ]
     },
     "metadata": {},
     "execution_count": 112
    }
   ],
   "source": [
    "len(final_drop)"
   ]
  },
  {
   "cell_type": "code",
   "execution_count": 113,
   "metadata": {},
   "outputs": [
    {
     "output_type": "execute_result",
     "data": {
      "text/plain": [
       "(5720, 7)"
      ]
     },
     "metadata": {},
     "execution_count": 113
    }
   ],
   "source": [
    "data_final.shape"
   ]
  },
  {
   "cell_type": "code",
   "execution_count": 114,
   "metadata": {},
   "outputs": [],
   "source": [
    "for country in final_drop:\n",
    "    data_final = data_final[data_final.country != str(country)]"
   ]
  },
  {
   "cell_type": "code",
   "execution_count": 115,
   "metadata": {},
   "outputs": [
    {
     "output_type": "execute_result",
     "data": {
      "text/plain": [
       "(3094, 7)"
      ]
     },
     "metadata": {},
     "execution_count": 115
    }
   ],
   "source": [
    "data_final.shape"
   ]
  },
  {
   "cell_type": "code",
   "execution_count": 116,
   "metadata": {},
   "outputs": [
    {
     "output_type": "execute_result",
     "data": {
      "text/plain": [
       "country    0\n",
       "year       0\n",
       "CDA        0\n",
       "CHA        0\n",
       "FGA        0\n",
       "NDA        0\n",
       "BCA        0\n",
       "dtype: int64"
      ]
     },
     "metadata": {},
     "execution_count": 116
    }
   ],
   "source": [
    "data_final.isna().sum()"
   ]
  },
  {
   "cell_type": "code",
   "execution_count": 117,
   "metadata": {},
   "outputs": [
    {
     "output_type": "execute_result",
     "data": {
      "text/plain": [
       "               CDA          CHA          FGA          NDA          BCA\n",
       "count  3094.000000  3094.000000  3094.000000  3094.000000  3094.000000\n",
       "mean     45.760713    69.972617    77.019395    60.496138    59.863459\n",
       "std      20.497251    28.330927    26.156018    28.685344    31.585344\n",
       "min       0.000000     0.000000     0.000000     0.000000     0.000000\n",
       "25%      32.922921    51.522771    70.620648    40.066229    35.641234\n",
       "50%      45.938993    75.715124    87.696875    63.143266    60.073786\n",
       "75%      58.473675   100.000000    92.543430    81.889906    94.171052\n",
       "max     100.000000   100.000000   100.000000   100.000000   100.000000"
      ],
      "text/html": "<div>\n<style scoped>\n    .dataframe tbody tr th:only-of-type {\n        vertical-align: middle;\n    }\n\n    .dataframe tbody tr th {\n        vertical-align: top;\n    }\n\n    .dataframe thead th {\n        text-align: right;\n    }\n</style>\n<table border=\"1\" class=\"dataframe\">\n  <thead>\n    <tr style=\"text-align: right;\">\n      <th></th>\n      <th>CDA</th>\n      <th>CHA</th>\n      <th>FGA</th>\n      <th>NDA</th>\n      <th>BCA</th>\n    </tr>\n  </thead>\n  <tbody>\n    <tr>\n      <th>count</th>\n      <td>3094.000000</td>\n      <td>3094.000000</td>\n      <td>3094.000000</td>\n      <td>3094.000000</td>\n      <td>3094.000000</td>\n    </tr>\n    <tr>\n      <th>mean</th>\n      <td>45.760713</td>\n      <td>69.972617</td>\n      <td>77.019395</td>\n      <td>60.496138</td>\n      <td>59.863459</td>\n    </tr>\n    <tr>\n      <th>std</th>\n      <td>20.497251</td>\n      <td>28.330927</td>\n      <td>26.156018</td>\n      <td>28.685344</td>\n      <td>31.585344</td>\n    </tr>\n    <tr>\n      <th>min</th>\n      <td>0.000000</td>\n      <td>0.000000</td>\n      <td>0.000000</td>\n      <td>0.000000</td>\n      <td>0.000000</td>\n    </tr>\n    <tr>\n      <th>25%</th>\n      <td>32.922921</td>\n      <td>51.522771</td>\n      <td>70.620648</td>\n      <td>40.066229</td>\n      <td>35.641234</td>\n    </tr>\n    <tr>\n      <th>50%</th>\n      <td>45.938993</td>\n      <td>75.715124</td>\n      <td>87.696875</td>\n      <td>63.143266</td>\n      <td>60.073786</td>\n    </tr>\n    <tr>\n      <th>75%</th>\n      <td>58.473675</td>\n      <td>100.000000</td>\n      <td>92.543430</td>\n      <td>81.889906</td>\n      <td>94.171052</td>\n    </tr>\n    <tr>\n      <th>max</th>\n      <td>100.000000</td>\n      <td>100.000000</td>\n      <td>100.000000</td>\n      <td>100.000000</td>\n      <td>100.000000</td>\n    </tr>\n  </tbody>\n</table>\n</div>"
     },
     "metadata": {},
     "execution_count": 117
    }
   ],
   "source": [
    "data_final.describe()"
   ]
  },
  {
   "cell_type": "code",
   "execution_count": 118,
   "metadata": {},
   "outputs": [
    {
     "output_type": "execute_result",
     "data": {
      "text/plain": [
       "                       country  year         CDA         CHA         FGA  \\\n",
       "1                      Albania  1995  100.000000   73.072520    0.000000   \n",
       "2                      Algeria  1995   40.836434   98.636534   96.334651   \n",
       "4                       Angola  1995   12.888007   70.729875    0.000000   \n",
       "6          Antigua and Barbuda  1995   44.483927   80.575637    0.000000   \n",
       "7                    Argentina  1995   40.485271  100.000000  100.000000   \n",
       "...                        ...   ...         ...         ...         ...   \n",
       "5709  United States of America  2020   66.956590   76.716102   94.188345   \n",
       "5710                   Uruguay  2020   48.710428   87.313678   73.872069   \n",
       "5711                Uzbekistan  2020   67.872867   43.951256   78.654405   \n",
       "5713                 Venezuela  2020   57.814027   83.278582   95.878376   \n",
       "5718                    Zambia  2020    0.343282   51.522771   89.569057   \n",
       "\n",
       "             NDA         BCA  \n",
       "1      78.221486  100.000000  \n",
       "2      72.620891   70.996796  \n",
       "4     100.000000   43.865361  \n",
       "6      36.690524   68.683208  \n",
       "7      63.435774   45.942816  \n",
       "...          ...         ...  \n",
       "5709   78.133196  100.000000  \n",
       "5710   73.410235    3.282750  \n",
       "5711   21.178605   97.211440  \n",
       "5713   68.376079   61.272558  \n",
       "5718   50.417738   33.143065  \n",
       "\n",
       "[3094 rows x 7 columns]"
      ],
      "text/html": "<div>\n<style scoped>\n    .dataframe tbody tr th:only-of-type {\n        vertical-align: middle;\n    }\n\n    .dataframe tbody tr th {\n        vertical-align: top;\n    }\n\n    .dataframe thead th {\n        text-align: right;\n    }\n</style>\n<table border=\"1\" class=\"dataframe\">\n  <thead>\n    <tr style=\"text-align: right;\">\n      <th></th>\n      <th>country</th>\n      <th>year</th>\n      <th>CDA</th>\n      <th>CHA</th>\n      <th>FGA</th>\n      <th>NDA</th>\n      <th>BCA</th>\n    </tr>\n  </thead>\n  <tbody>\n    <tr>\n      <th>1</th>\n      <td>Albania</td>\n      <td>1995</td>\n      <td>100.000000</td>\n      <td>73.072520</td>\n      <td>0.000000</td>\n      <td>78.221486</td>\n      <td>100.000000</td>\n    </tr>\n    <tr>\n      <th>2</th>\n      <td>Algeria</td>\n      <td>1995</td>\n      <td>40.836434</td>\n      <td>98.636534</td>\n      <td>96.334651</td>\n      <td>72.620891</td>\n      <td>70.996796</td>\n    </tr>\n    <tr>\n      <th>4</th>\n      <td>Angola</td>\n      <td>1995</td>\n      <td>12.888007</td>\n      <td>70.729875</td>\n      <td>0.000000</td>\n      <td>100.000000</td>\n      <td>43.865361</td>\n    </tr>\n    <tr>\n      <th>6</th>\n      <td>Antigua and Barbuda</td>\n      <td>1995</td>\n      <td>44.483927</td>\n      <td>80.575637</td>\n      <td>0.000000</td>\n      <td>36.690524</td>\n      <td>68.683208</td>\n    </tr>\n    <tr>\n      <th>7</th>\n      <td>Argentina</td>\n      <td>1995</td>\n      <td>40.485271</td>\n      <td>100.000000</td>\n      <td>100.000000</td>\n      <td>63.435774</td>\n      <td>45.942816</td>\n    </tr>\n    <tr>\n      <th>...</th>\n      <td>...</td>\n      <td>...</td>\n      <td>...</td>\n      <td>...</td>\n      <td>...</td>\n      <td>...</td>\n      <td>...</td>\n    </tr>\n    <tr>\n      <th>5709</th>\n      <td>United States of America</td>\n      <td>2020</td>\n      <td>66.956590</td>\n      <td>76.716102</td>\n      <td>94.188345</td>\n      <td>78.133196</td>\n      <td>100.000000</td>\n    </tr>\n    <tr>\n      <th>5710</th>\n      <td>Uruguay</td>\n      <td>2020</td>\n      <td>48.710428</td>\n      <td>87.313678</td>\n      <td>73.872069</td>\n      <td>73.410235</td>\n      <td>3.282750</td>\n    </tr>\n    <tr>\n      <th>5711</th>\n      <td>Uzbekistan</td>\n      <td>2020</td>\n      <td>67.872867</td>\n      <td>43.951256</td>\n      <td>78.654405</td>\n      <td>21.178605</td>\n      <td>97.211440</td>\n    </tr>\n    <tr>\n      <th>5713</th>\n      <td>Venezuela</td>\n      <td>2020</td>\n      <td>57.814027</td>\n      <td>83.278582</td>\n      <td>95.878376</td>\n      <td>68.376079</td>\n      <td>61.272558</td>\n    </tr>\n    <tr>\n      <th>5718</th>\n      <td>Zambia</td>\n      <td>2020</td>\n      <td>0.343282</td>\n      <td>51.522771</td>\n      <td>89.569057</td>\n      <td>50.417738</td>\n      <td>33.143065</td>\n    </tr>\n  </tbody>\n</table>\n<p>3094 rows × 7 columns</p>\n</div>"
     },
     "metadata": {},
     "execution_count": 118
    }
   ],
   "source": [
    "data_final"
   ]
  },
  {
   "source": [
    "# Export to csv and excel"
   ],
   "cell_type": "markdown",
   "metadata": {}
  },
  {
   "cell_type": "code",
   "execution_count": 119,
   "metadata": {},
   "outputs": [],
   "source": [
    "data_final.to_excel('data_2020.xlsx')\n",
    "data_final.to_csv('data_2020.csv')"
   ]
  }
 ]
}