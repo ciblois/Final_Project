{
 "metadata": {
  "language_info": {
   "codemirror_mode": {
    "name": "ipython",
    "version": 3
   },
   "file_extension": ".py",
   "mimetype": "text/x-python",
   "name": "python",
   "nbconvert_exporter": "python",
   "pygments_lexer": "ipython3",
   "version": "3.8.5-final"
  },
  "orig_nbformat": 2,
  "kernelspec": {
   "name": "python38564bit4f57281242da47b0a84bc03a5fa692d9",
   "display_name": "Python 3.8.5 64-bit"
  }
 },
 "nbformat": 4,
 "nbformat_minor": 2,
 "cells": [
  {
   "cell_type": "code",
   "execution_count": 1,
   "metadata": {},
   "outputs": [],
   "source": [
    "import pandas as pd\n",
    "import numpy as np\n",
    "import seaborn as sns\n",
    "import matplotlib.pyplot as plt\n",
    "import re"
   ]
  },
  {
   "source": [
    "# Data Description\n",
    "\n",
    "* Population\n",
    "* GDP\n",
    "* DCT - $CO_{2}$ Emissions – Total - `CDI = CO2 Intensity Current-Year Score`\n",
    "* DPT - $CO_{2}$ emissions/kWh elect. & heat - `CEH = CO2 Emissions per kWh`\n",
    "* DMT - $CH_{4}$ emissions - `CHI = $CH_{4}$ Intensity Current-Year Score`\n",
    "* DNT - $N_{2}O$ emissions - `NOI = $N_{2}O$ Intensity Current-Year Score`\n",
    "* DBT - Black Carbon emissions - `BCI = Black Carbon Current-Year Score`"
   ],
   "cell_type": "markdown",
   "metadata": {}
  },
  {
   "cell_type": "code",
   "execution_count": 11,
   "metadata": {},
   "outputs": [],
   "source": [
    "pop = pd.read_excel('pop_corr.xlsx')\n",
    "gdp = pd.read_excel('gdp_corr.xlsx')\n",
    "dpt = pd.read_excel('dpt_corr.xlsx')\n",
    "dnt = pd.read_excel('dnt_corr.xlsx')\n",
    "dbt = pd.read_excel('dbt_corr.xlsx')\n",
    "dct = pd.read_excel('dct_corr.xlsx')"
   ]
  },
  {
   "source": [
    "# Join all Dataframes"
   ],
   "cell_type": "markdown",
   "metadata": {}
  },
  {
   "cell_type": "code",
   "execution_count": 20,
   "metadata": {},
   "outputs": [
    {
     "output_type": "execute_result",
     "data": {
      "text/plain": [
       "      Unnamed: 0                    country  year  population           GPD\n",
       "0              0                Afghanistan  1997  18381605.0           NaN\n",
       "1              1                    Albania  1997   3148281.0  1.280324e+10\n",
       "2              2                    Algeria  1997  29886839.0  2.827615e+11\n",
       "3              3             American Samoa  1997     54941.0  2.054374e+11\n",
       "4              4                    Andorra  1997     64327.0  1.281133e+11\n",
       "...          ...                        ...   ...         ...           ...\n",
       "4243        4243  Wallis and Futuna Islands  2014  69234709.0  3.577771e+11\n",
       "4244        4244             Western Sahara  2014  47740518.0  2.283210e+11\n",
       "4245        4245                      Yemen  2014  26246327.0  9.886482e+10\n",
       "4246        4246                     Zambia  2014  15620974.0  5.674325e+10\n",
       "4247        4247                   Zimbabwe  2014  15411675.0  2.605736e+10\n",
       "\n",
       "[4248 rows x 5 columns]"
      ],
      "text/html": "<div>\n<style scoped>\n    .dataframe tbody tr th:only-of-type {\n        vertical-align: middle;\n    }\n\n    .dataframe tbody tr th {\n        vertical-align: top;\n    }\n\n    .dataframe thead th {\n        text-align: right;\n    }\n</style>\n<table border=\"1\" class=\"dataframe\">\n  <thead>\n    <tr style=\"text-align: right;\">\n      <th></th>\n      <th>Unnamed: 0</th>\n      <th>country</th>\n      <th>year</th>\n      <th>population</th>\n      <th>GPD</th>\n    </tr>\n  </thead>\n  <tbody>\n    <tr>\n      <th>0</th>\n      <td>0</td>\n      <td>Afghanistan</td>\n      <td>1997</td>\n      <td>18381605.0</td>\n      <td>NaN</td>\n    </tr>\n    <tr>\n      <th>1</th>\n      <td>1</td>\n      <td>Albania</td>\n      <td>1997</td>\n      <td>3148281.0</td>\n      <td>1.280324e+10</td>\n    </tr>\n    <tr>\n      <th>2</th>\n      <td>2</td>\n      <td>Algeria</td>\n      <td>1997</td>\n      <td>29886839.0</td>\n      <td>2.827615e+11</td>\n    </tr>\n    <tr>\n      <th>3</th>\n      <td>3</td>\n      <td>American Samoa</td>\n      <td>1997</td>\n      <td>54941.0</td>\n      <td>2.054374e+11</td>\n    </tr>\n    <tr>\n      <th>4</th>\n      <td>4</td>\n      <td>Andorra</td>\n      <td>1997</td>\n      <td>64327.0</td>\n      <td>1.281133e+11</td>\n    </tr>\n    <tr>\n      <th>...</th>\n      <td>...</td>\n      <td>...</td>\n      <td>...</td>\n      <td>...</td>\n      <td>...</td>\n    </tr>\n    <tr>\n      <th>4243</th>\n      <td>4243</td>\n      <td>Wallis and Futuna Islands</td>\n      <td>2014</td>\n      <td>69234709.0</td>\n      <td>3.577771e+11</td>\n    </tr>\n    <tr>\n      <th>4244</th>\n      <td>4244</td>\n      <td>Western Sahara</td>\n      <td>2014</td>\n      <td>47740518.0</td>\n      <td>2.283210e+11</td>\n    </tr>\n    <tr>\n      <th>4245</th>\n      <td>4245</td>\n      <td>Yemen</td>\n      <td>2014</td>\n      <td>26246327.0</td>\n      <td>9.886482e+10</td>\n    </tr>\n    <tr>\n      <th>4246</th>\n      <td>4246</td>\n      <td>Zambia</td>\n      <td>2014</td>\n      <td>15620974.0</td>\n      <td>5.674325e+10</td>\n    </tr>\n    <tr>\n      <th>4247</th>\n      <td>4247</td>\n      <td>Zimbabwe</td>\n      <td>2014</td>\n      <td>15411675.0</td>\n      <td>2.605736e+10</td>\n    </tr>\n  </tbody>\n</table>\n<p>4248 rows × 5 columns</p>\n</div>"
     },
     "metadata": {},
     "execution_count": 20
    }
   ],
   "source": [
    "join1 = pd.merge(pop,gdp) # pop + gdp\n",
    "join1"
   ]
  },
  {
   "cell_type": "code",
   "execution_count": 21,
   "metadata": {},
   "outputs": [
    {
     "output_type": "execute_result",
     "data": {
      "text/plain": [
       "      Unnamed: 0                    country  year  population           GPD  \\\n",
       "0              0                Afghanistan  1997  18381605.0           NaN   \n",
       "1              1                    Albania  1997   3148281.0  1.280324e+10   \n",
       "2              2                    Algeria  1997  29886839.0  2.827615e+11   \n",
       "3              3             American Samoa  1997     54941.0  2.054374e+11   \n",
       "4              4                    Andorra  1997     64327.0  1.281133e+11   \n",
       "...          ...                        ...   ...         ...           ...   \n",
       "4243        4243  Wallis and Futuna Islands  2014  69234709.0  3.577771e+11   \n",
       "4244        4244             Western Sahara  2014  47740518.0  2.283210e+11   \n",
       "4245        4245                      Yemen  2014  26246327.0  9.886482e+10   \n",
       "4246        4246                     Zambia  2014  15620974.0  5.674325e+10   \n",
       "4247        4247                   Zimbabwe  2014  15411675.0  2.605736e+10   \n",
       "\n",
       "            DCT  \n",
       "0           NaN  \n",
       "1    -22.880046  \n",
       "2    -22.076274  \n",
       "3    -22.113039  \n",
       "4    -22.149804  \n",
       "...         ...  \n",
       "4243 -21.875802  \n",
       "4244 -22.001836  \n",
       "4245 -22.127870  \n",
       "4246 -23.306557  \n",
       "4247 -21.487182  \n",
       "\n",
       "[4248 rows x 6 columns]"
      ],
      "text/html": "<div>\n<style scoped>\n    .dataframe tbody tr th:only-of-type {\n        vertical-align: middle;\n    }\n\n    .dataframe tbody tr th {\n        vertical-align: top;\n    }\n\n    .dataframe thead th {\n        text-align: right;\n    }\n</style>\n<table border=\"1\" class=\"dataframe\">\n  <thead>\n    <tr style=\"text-align: right;\">\n      <th></th>\n      <th>Unnamed: 0</th>\n      <th>country</th>\n      <th>year</th>\n      <th>population</th>\n      <th>GPD</th>\n      <th>DCT</th>\n    </tr>\n  </thead>\n  <tbody>\n    <tr>\n      <th>0</th>\n      <td>0</td>\n      <td>Afghanistan</td>\n      <td>1997</td>\n      <td>18381605.0</td>\n      <td>NaN</td>\n      <td>NaN</td>\n    </tr>\n    <tr>\n      <th>1</th>\n      <td>1</td>\n      <td>Albania</td>\n      <td>1997</td>\n      <td>3148281.0</td>\n      <td>1.280324e+10</td>\n      <td>-22.880046</td>\n    </tr>\n    <tr>\n      <th>2</th>\n      <td>2</td>\n      <td>Algeria</td>\n      <td>1997</td>\n      <td>29886839.0</td>\n      <td>2.827615e+11</td>\n      <td>-22.076274</td>\n    </tr>\n    <tr>\n      <th>3</th>\n      <td>3</td>\n      <td>American Samoa</td>\n      <td>1997</td>\n      <td>54941.0</td>\n      <td>2.054374e+11</td>\n      <td>-22.113039</td>\n    </tr>\n    <tr>\n      <th>4</th>\n      <td>4</td>\n      <td>Andorra</td>\n      <td>1997</td>\n      <td>64327.0</td>\n      <td>1.281133e+11</td>\n      <td>-22.149804</td>\n    </tr>\n    <tr>\n      <th>...</th>\n      <td>...</td>\n      <td>...</td>\n      <td>...</td>\n      <td>...</td>\n      <td>...</td>\n      <td>...</td>\n    </tr>\n    <tr>\n      <th>4243</th>\n      <td>4243</td>\n      <td>Wallis and Futuna Islands</td>\n      <td>2014</td>\n      <td>69234709.0</td>\n      <td>3.577771e+11</td>\n      <td>-21.875802</td>\n    </tr>\n    <tr>\n      <th>4244</th>\n      <td>4244</td>\n      <td>Western Sahara</td>\n      <td>2014</td>\n      <td>47740518.0</td>\n      <td>2.283210e+11</td>\n      <td>-22.001836</td>\n    </tr>\n    <tr>\n      <th>4245</th>\n      <td>4245</td>\n      <td>Yemen</td>\n      <td>2014</td>\n      <td>26246327.0</td>\n      <td>9.886482e+10</td>\n      <td>-22.127870</td>\n    </tr>\n    <tr>\n      <th>4246</th>\n      <td>4246</td>\n      <td>Zambia</td>\n      <td>2014</td>\n      <td>15620974.0</td>\n      <td>5.674325e+10</td>\n      <td>-23.306557</td>\n    </tr>\n    <tr>\n      <th>4247</th>\n      <td>4247</td>\n      <td>Zimbabwe</td>\n      <td>2014</td>\n      <td>15411675.0</td>\n      <td>2.605736e+10</td>\n      <td>-21.487182</td>\n    </tr>\n  </tbody>\n</table>\n<p>4248 rows × 6 columns</p>\n</div>"
     },
     "metadata": {},
     "execution_count": 21
    }
   ],
   "source": [
    "join2 = pd.merge(join1,dct) # pop + gdp + dct\n",
    "join2"
   ]
  },
  {
   "cell_type": "code",
   "execution_count": 9,
   "metadata": {},
   "outputs": [
    {
     "output_type": "execute_result",
     "data": {
      "text/plain": [
       "      Unnamed: 0                    country  year    population           GPD  \\\n",
       "0              0                Afghanistan  1997  1.838160e+07           NaN   \n",
       "1              1                    Albania  1997  3.148281e+06  1.280324e+10   \n",
       "2              2                    Algeria  1997  2.988684e+07  2.827615e+11   \n",
       "3              3             American Samoa  1997  5.494100e+04  2.054374e+11   \n",
       "4              4                    Andorra  1997  6.432700e+04  1.281133e+11   \n",
       "...          ...                        ...   ...           ...           ...   \n",
       "1883        1883  Wallis and Futuna Islands  2004  6.096329e+07  2.049864e+11   \n",
       "1884        1884             Western Sahara  2004  4.049018e+07  1.429934e+11   \n",
       "1885        1885                      Yemen  2004  2.001707e+07  8.100046e+10   \n",
       "1886        1886                     Zambia  2004  1.173175e+07  2.790162e+10   \n",
       "1887        1887                   Zimbabwe  2004  1.277751e+07  2.277281e+10   \n",
       "\n",
       "            DCT  DPT  \n",
       "0           NaN  NaN  \n",
       "1    -22.880046  NaN  \n",
       "2    -22.076274  NaN  \n",
       "3    -22.113039  NaN  \n",
       "4    -22.149804  NaN  \n",
       "...         ...  ...  \n",
       "1883 -21.960884  NaN  \n",
       "1884 -22.077468  NaN  \n",
       "1885 -22.194052  NaN  \n",
       "1886 -23.289188  NaN  \n",
       "1887 -21.564498  NaN  \n",
       "\n",
       "[1888 rows x 7 columns]"
      ],
      "text/html": "<div>\n<style scoped>\n    .dataframe tbody tr th:only-of-type {\n        vertical-align: middle;\n    }\n\n    .dataframe tbody tr th {\n        vertical-align: top;\n    }\n\n    .dataframe thead th {\n        text-align: right;\n    }\n</style>\n<table border=\"1\" class=\"dataframe\">\n  <thead>\n    <tr style=\"text-align: right;\">\n      <th></th>\n      <th>Unnamed: 0</th>\n      <th>country</th>\n      <th>year</th>\n      <th>population</th>\n      <th>GPD</th>\n      <th>DCT</th>\n      <th>DPT</th>\n    </tr>\n  </thead>\n  <tbody>\n    <tr>\n      <th>0</th>\n      <td>0</td>\n      <td>Afghanistan</td>\n      <td>1997</td>\n      <td>1.838160e+07</td>\n      <td>NaN</td>\n      <td>NaN</td>\n      <td>NaN</td>\n    </tr>\n    <tr>\n      <th>1</th>\n      <td>1</td>\n      <td>Albania</td>\n      <td>1997</td>\n      <td>3.148281e+06</td>\n      <td>1.280324e+10</td>\n      <td>-22.880046</td>\n      <td>NaN</td>\n    </tr>\n    <tr>\n      <th>2</th>\n      <td>2</td>\n      <td>Algeria</td>\n      <td>1997</td>\n      <td>2.988684e+07</td>\n      <td>2.827615e+11</td>\n      <td>-22.076274</td>\n      <td>NaN</td>\n    </tr>\n    <tr>\n      <th>3</th>\n      <td>3</td>\n      <td>American Samoa</td>\n      <td>1997</td>\n      <td>5.494100e+04</td>\n      <td>2.054374e+11</td>\n      <td>-22.113039</td>\n      <td>NaN</td>\n    </tr>\n    <tr>\n      <th>4</th>\n      <td>4</td>\n      <td>Andorra</td>\n      <td>1997</td>\n      <td>6.432700e+04</td>\n      <td>1.281133e+11</td>\n      <td>-22.149804</td>\n      <td>NaN</td>\n    </tr>\n    <tr>\n      <th>...</th>\n      <td>...</td>\n      <td>...</td>\n      <td>...</td>\n      <td>...</td>\n      <td>...</td>\n      <td>...</td>\n      <td>...</td>\n    </tr>\n    <tr>\n      <th>1883</th>\n      <td>1883</td>\n      <td>Wallis and Futuna Islands</td>\n      <td>2004</td>\n      <td>6.096329e+07</td>\n      <td>2.049864e+11</td>\n      <td>-21.960884</td>\n      <td>NaN</td>\n    </tr>\n    <tr>\n      <th>1884</th>\n      <td>1884</td>\n      <td>Western Sahara</td>\n      <td>2004</td>\n      <td>4.049018e+07</td>\n      <td>1.429934e+11</td>\n      <td>-22.077468</td>\n      <td>NaN</td>\n    </tr>\n    <tr>\n      <th>1885</th>\n      <td>1885</td>\n      <td>Yemen</td>\n      <td>2004</td>\n      <td>2.001707e+07</td>\n      <td>8.100046e+10</td>\n      <td>-22.194052</td>\n      <td>NaN</td>\n    </tr>\n    <tr>\n      <th>1886</th>\n      <td>1886</td>\n      <td>Zambia</td>\n      <td>2004</td>\n      <td>1.173175e+07</td>\n      <td>2.790162e+10</td>\n      <td>-23.289188</td>\n      <td>NaN</td>\n    </tr>\n    <tr>\n      <th>1887</th>\n      <td>1887</td>\n      <td>Zimbabwe</td>\n      <td>2004</td>\n      <td>1.277751e+07</td>\n      <td>2.277281e+10</td>\n      <td>-21.564498</td>\n      <td>NaN</td>\n    </tr>\n  </tbody>\n</table>\n<p>1888 rows × 7 columns</p>\n</div>"
     },
     "metadata": {},
     "execution_count": 9
    }
   ],
   "source": [
    "#join3 = pd.merge(join2,dpt) # pop + gdp + dct + dpt\n",
    "#join3"
   ]
  },
  {
   "cell_type": "code",
   "execution_count": 22,
   "metadata": {},
   "outputs": [
    {
     "output_type": "execute_result",
     "data": {
      "text/plain": [
       "      Unnamed: 0                    country  year  population           GPD  \\\n",
       "0              0                Afghanistan  1997  18381605.0           NaN   \n",
       "1              1                    Albania  1997   3148281.0  1.280324e+10   \n",
       "2              2                    Algeria  1997  29886839.0  2.827615e+11   \n",
       "3              3             American Samoa  1997     54941.0  2.054374e+11   \n",
       "4              4                    Andorra  1997     64327.0  1.281133e+11   \n",
       "...          ...                        ...   ...         ...           ...   \n",
       "4243        4243  Wallis and Futuna Islands  2014  69234709.0  3.577771e+11   \n",
       "4244        4244             Western Sahara  2014  47740518.0  2.283210e+11   \n",
       "4245        4245                      Yemen  2014  26246327.0  9.886482e+10   \n",
       "4246        4246                     Zambia  2014  15620974.0  5.674325e+10   \n",
       "4247        4247                   Zimbabwe  2014  15411675.0  2.605736e+10   \n",
       "\n",
       "            DCT        DNT  \n",
       "0           NaN        NaN  \n",
       "1    -22.880046 -23.073170  \n",
       "2    -22.076274 -24.922934  \n",
       "3    -22.113039 -23.838001  \n",
       "4    -22.149804 -22.753068  \n",
       "...         ...        ...  \n",
       "4243 -21.875802 -23.782660  \n",
       "4244 -22.001836 -23.849738  \n",
       "4245 -22.127870 -23.916815  \n",
       "4246 -23.306557 -20.959075  \n",
       "4247 -21.487182 -22.196837  \n",
       "\n",
       "[4248 rows x 7 columns]"
      ],
      "text/html": "<div>\n<style scoped>\n    .dataframe tbody tr th:only-of-type {\n        vertical-align: middle;\n    }\n\n    .dataframe tbody tr th {\n        vertical-align: top;\n    }\n\n    .dataframe thead th {\n        text-align: right;\n    }\n</style>\n<table border=\"1\" class=\"dataframe\">\n  <thead>\n    <tr style=\"text-align: right;\">\n      <th></th>\n      <th>Unnamed: 0</th>\n      <th>country</th>\n      <th>year</th>\n      <th>population</th>\n      <th>GPD</th>\n      <th>DCT</th>\n      <th>DNT</th>\n    </tr>\n  </thead>\n  <tbody>\n    <tr>\n      <th>0</th>\n      <td>0</td>\n      <td>Afghanistan</td>\n      <td>1997</td>\n      <td>18381605.0</td>\n      <td>NaN</td>\n      <td>NaN</td>\n      <td>NaN</td>\n    </tr>\n    <tr>\n      <th>1</th>\n      <td>1</td>\n      <td>Albania</td>\n      <td>1997</td>\n      <td>3148281.0</td>\n      <td>1.280324e+10</td>\n      <td>-22.880046</td>\n      <td>-23.073170</td>\n    </tr>\n    <tr>\n      <th>2</th>\n      <td>2</td>\n      <td>Algeria</td>\n      <td>1997</td>\n      <td>29886839.0</td>\n      <td>2.827615e+11</td>\n      <td>-22.076274</td>\n      <td>-24.922934</td>\n    </tr>\n    <tr>\n      <th>3</th>\n      <td>3</td>\n      <td>American Samoa</td>\n      <td>1997</td>\n      <td>54941.0</td>\n      <td>2.054374e+11</td>\n      <td>-22.113039</td>\n      <td>-23.838001</td>\n    </tr>\n    <tr>\n      <th>4</th>\n      <td>4</td>\n      <td>Andorra</td>\n      <td>1997</td>\n      <td>64327.0</td>\n      <td>1.281133e+11</td>\n      <td>-22.149804</td>\n      <td>-22.753068</td>\n    </tr>\n    <tr>\n      <th>...</th>\n      <td>...</td>\n      <td>...</td>\n      <td>...</td>\n      <td>...</td>\n      <td>...</td>\n      <td>...</td>\n      <td>...</td>\n    </tr>\n    <tr>\n      <th>4243</th>\n      <td>4243</td>\n      <td>Wallis and Futuna Islands</td>\n      <td>2014</td>\n      <td>69234709.0</td>\n      <td>3.577771e+11</td>\n      <td>-21.875802</td>\n      <td>-23.782660</td>\n    </tr>\n    <tr>\n      <th>4244</th>\n      <td>4244</td>\n      <td>Western Sahara</td>\n      <td>2014</td>\n      <td>47740518.0</td>\n      <td>2.283210e+11</td>\n      <td>-22.001836</td>\n      <td>-23.849738</td>\n    </tr>\n    <tr>\n      <th>4245</th>\n      <td>4245</td>\n      <td>Yemen</td>\n      <td>2014</td>\n      <td>26246327.0</td>\n      <td>9.886482e+10</td>\n      <td>-22.127870</td>\n      <td>-23.916815</td>\n    </tr>\n    <tr>\n      <th>4246</th>\n      <td>4246</td>\n      <td>Zambia</td>\n      <td>2014</td>\n      <td>15620974.0</td>\n      <td>5.674325e+10</td>\n      <td>-23.306557</td>\n      <td>-20.959075</td>\n    </tr>\n    <tr>\n      <th>4247</th>\n      <td>4247</td>\n      <td>Zimbabwe</td>\n      <td>2014</td>\n      <td>15411675.0</td>\n      <td>2.605736e+10</td>\n      <td>-21.487182</td>\n      <td>-22.196837</td>\n    </tr>\n  </tbody>\n</table>\n<p>4248 rows × 7 columns</p>\n</div>"
     },
     "metadata": {},
     "execution_count": 22
    }
   ],
   "source": [
    "join4 = pd.merge(join2,dnt) # pop + gdp + dct + dpt + dnt\n",
    "join4"
   ]
  },
  {
   "cell_type": "code",
   "execution_count": 23,
   "metadata": {},
   "outputs": [
    {
     "output_type": "execute_result",
     "data": {
      "text/plain": [
       "      Unnamed: 0                    country  year  population           GPD  \\\n",
       "0              0                Afghanistan  1997  18381605.0           NaN   \n",
       "1              1                    Albania  1997   3148281.0  1.280324e+10   \n",
       "2              2                    Algeria  1997  29886839.0  2.827615e+11   \n",
       "3              3             American Samoa  1997     54941.0  2.054374e+11   \n",
       "4              4                    Andorra  1997     64327.0  1.281133e+11   \n",
       "...          ...                        ...   ...         ...           ...   \n",
       "4243        4243  Wallis and Futuna Islands  2014  69234709.0  3.577771e+11   \n",
       "4244        4244             Western Sahara  2014  47740518.0  2.283210e+11   \n",
       "4245        4245                      Yemen  2014  26246327.0  9.886482e+10   \n",
       "4246        4246                     Zambia  2014  15620974.0  5.674325e+10   \n",
       "4247        4247                   Zimbabwe  2014  15411675.0  2.605736e+10   \n",
       "\n",
       "            DCT        DNT        DBT  \n",
       "0           NaN        NaN        NaN  \n",
       "1    -22.880046 -23.073170 -23.672880  \n",
       "2    -22.076274 -24.922934 -25.084849  \n",
       "3    -22.113039 -23.838001 -24.135877  \n",
       "4    -22.149804 -22.753068 -23.186905  \n",
       "...         ...        ...        ...  \n",
       "4243 -21.875802 -23.782660 -21.113418  \n",
       "4244 -22.001836 -23.849738 -21.113418  \n",
       "4245 -22.127870 -23.916815 -21.113418  \n",
       "4246 -23.306557 -20.959075 -21.113418  \n",
       "4247 -21.487182 -22.196837 -21.113418  \n",
       "\n",
       "[4248 rows x 8 columns]"
      ],
      "text/html": "<div>\n<style scoped>\n    .dataframe tbody tr th:only-of-type {\n        vertical-align: middle;\n    }\n\n    .dataframe tbody tr th {\n        vertical-align: top;\n    }\n\n    .dataframe thead th {\n        text-align: right;\n    }\n</style>\n<table border=\"1\" class=\"dataframe\">\n  <thead>\n    <tr style=\"text-align: right;\">\n      <th></th>\n      <th>Unnamed: 0</th>\n      <th>country</th>\n      <th>year</th>\n      <th>population</th>\n      <th>GPD</th>\n      <th>DCT</th>\n      <th>DNT</th>\n      <th>DBT</th>\n    </tr>\n  </thead>\n  <tbody>\n    <tr>\n      <th>0</th>\n      <td>0</td>\n      <td>Afghanistan</td>\n      <td>1997</td>\n      <td>18381605.0</td>\n      <td>NaN</td>\n      <td>NaN</td>\n      <td>NaN</td>\n      <td>NaN</td>\n    </tr>\n    <tr>\n      <th>1</th>\n      <td>1</td>\n      <td>Albania</td>\n      <td>1997</td>\n      <td>3148281.0</td>\n      <td>1.280324e+10</td>\n      <td>-22.880046</td>\n      <td>-23.073170</td>\n      <td>-23.672880</td>\n    </tr>\n    <tr>\n      <th>2</th>\n      <td>2</td>\n      <td>Algeria</td>\n      <td>1997</td>\n      <td>29886839.0</td>\n      <td>2.827615e+11</td>\n      <td>-22.076274</td>\n      <td>-24.922934</td>\n      <td>-25.084849</td>\n    </tr>\n    <tr>\n      <th>3</th>\n      <td>3</td>\n      <td>American Samoa</td>\n      <td>1997</td>\n      <td>54941.0</td>\n      <td>2.054374e+11</td>\n      <td>-22.113039</td>\n      <td>-23.838001</td>\n      <td>-24.135877</td>\n    </tr>\n    <tr>\n      <th>4</th>\n      <td>4</td>\n      <td>Andorra</td>\n      <td>1997</td>\n      <td>64327.0</td>\n      <td>1.281133e+11</td>\n      <td>-22.149804</td>\n      <td>-22.753068</td>\n      <td>-23.186905</td>\n    </tr>\n    <tr>\n      <th>...</th>\n      <td>...</td>\n      <td>...</td>\n      <td>...</td>\n      <td>...</td>\n      <td>...</td>\n      <td>...</td>\n      <td>...</td>\n      <td>...</td>\n    </tr>\n    <tr>\n      <th>4243</th>\n      <td>4243</td>\n      <td>Wallis and Futuna Islands</td>\n      <td>2014</td>\n      <td>69234709.0</td>\n      <td>3.577771e+11</td>\n      <td>-21.875802</td>\n      <td>-23.782660</td>\n      <td>-21.113418</td>\n    </tr>\n    <tr>\n      <th>4244</th>\n      <td>4244</td>\n      <td>Western Sahara</td>\n      <td>2014</td>\n      <td>47740518.0</td>\n      <td>2.283210e+11</td>\n      <td>-22.001836</td>\n      <td>-23.849738</td>\n      <td>-21.113418</td>\n    </tr>\n    <tr>\n      <th>4245</th>\n      <td>4245</td>\n      <td>Yemen</td>\n      <td>2014</td>\n      <td>26246327.0</td>\n      <td>9.886482e+10</td>\n      <td>-22.127870</td>\n      <td>-23.916815</td>\n      <td>-21.113418</td>\n    </tr>\n    <tr>\n      <th>4246</th>\n      <td>4246</td>\n      <td>Zambia</td>\n      <td>2014</td>\n      <td>15620974.0</td>\n      <td>5.674325e+10</td>\n      <td>-23.306557</td>\n      <td>-20.959075</td>\n      <td>-21.113418</td>\n    </tr>\n    <tr>\n      <th>4247</th>\n      <td>4247</td>\n      <td>Zimbabwe</td>\n      <td>2014</td>\n      <td>15411675.0</td>\n      <td>2.605736e+10</td>\n      <td>-21.487182</td>\n      <td>-22.196837</td>\n      <td>-21.113418</td>\n    </tr>\n  </tbody>\n</table>\n<p>4248 rows × 8 columns</p>\n</div>"
     },
     "metadata": {},
     "execution_count": 23
    }
   ],
   "source": [
    "join5 = pd.merge(join4,dbt) # pop + gdp + dct + dpt + dnt + dbt\n",
    "join5"
   ]
  },
  {
   "cell_type": "code",
   "execution_count": 24,
   "metadata": {},
   "outputs": [
    {
     "output_type": "execute_result",
     "data": {
      "text/plain": [
       "          country  year  population           GPD        DCT        DNT  \\\n",
       "0     Afghanistan  1997  18381605.0           NaN        NaN        NaN   \n",
       "1         Albania  1997   3148281.0  1.280324e+10 -22.880046 -23.073170   \n",
       "2         Algeria  1997  29886839.0  2.827615e+11 -22.076274 -24.922934   \n",
       "3  American Samoa  1997     54941.0  2.054374e+11 -22.113039 -23.838001   \n",
       "4         Andorra  1997     64327.0  1.281133e+11 -22.149804 -22.753068   \n",
       "\n",
       "         DBT  \n",
       "0        NaN  \n",
       "1 -23.672880  \n",
       "2 -25.084849  \n",
       "3 -24.135877  \n",
       "4 -23.186905  "
      ],
      "text/html": "<div>\n<style scoped>\n    .dataframe tbody tr th:only-of-type {\n        vertical-align: middle;\n    }\n\n    .dataframe tbody tr th {\n        vertical-align: top;\n    }\n\n    .dataframe thead th {\n        text-align: right;\n    }\n</style>\n<table border=\"1\" class=\"dataframe\">\n  <thead>\n    <tr style=\"text-align: right;\">\n      <th></th>\n      <th>country</th>\n      <th>year</th>\n      <th>population</th>\n      <th>GPD</th>\n      <th>DCT</th>\n      <th>DNT</th>\n      <th>DBT</th>\n    </tr>\n  </thead>\n  <tbody>\n    <tr>\n      <th>0</th>\n      <td>Afghanistan</td>\n      <td>1997</td>\n      <td>18381605.0</td>\n      <td>NaN</td>\n      <td>NaN</td>\n      <td>NaN</td>\n      <td>NaN</td>\n    </tr>\n    <tr>\n      <th>1</th>\n      <td>Albania</td>\n      <td>1997</td>\n      <td>3148281.0</td>\n      <td>1.280324e+10</td>\n      <td>-22.880046</td>\n      <td>-23.073170</td>\n      <td>-23.672880</td>\n    </tr>\n    <tr>\n      <th>2</th>\n      <td>Algeria</td>\n      <td>1997</td>\n      <td>29886839.0</td>\n      <td>2.827615e+11</td>\n      <td>-22.076274</td>\n      <td>-24.922934</td>\n      <td>-25.084849</td>\n    </tr>\n    <tr>\n      <th>3</th>\n      <td>American Samoa</td>\n      <td>1997</td>\n      <td>54941.0</td>\n      <td>2.054374e+11</td>\n      <td>-22.113039</td>\n      <td>-23.838001</td>\n      <td>-24.135877</td>\n    </tr>\n    <tr>\n      <th>4</th>\n      <td>Andorra</td>\n      <td>1997</td>\n      <td>64327.0</td>\n      <td>1.281133e+11</td>\n      <td>-22.149804</td>\n      <td>-22.753068</td>\n      <td>-23.186905</td>\n    </tr>\n  </tbody>\n</table>\n</div>"
     },
     "metadata": {},
     "execution_count": 24
    }
   ],
   "source": [
    "final_data = join5.drop(columns=['Unnamed: 0'],axis=1)\n",
    "final_data.head()"
   ]
  },
  {
   "cell_type": "code",
   "execution_count": 25,
   "metadata": {},
   "outputs": [
    {
     "output_type": "execute_result",
     "data": {
      "text/plain": [
       "(4248, 7)"
      ]
     },
     "metadata": {},
     "execution_count": 25
    }
   ],
   "source": [
    "final_data.shape"
   ]
  },
  {
   "source": [
    "# Export to csv and excel"
   ],
   "cell_type": "markdown",
   "metadata": {}
  },
  {
   "cell_type": "code",
   "execution_count": 26,
   "metadata": {},
   "outputs": [],
   "source": [
    "final_data.to_csv('data_clean.csv')\n",
    "final_data.to_excel('data_clean.xlsx') # for Tableau"
   ]
  },
  {
   "source": [
    "# SQL"
   ],
   "cell_type": "markdown",
   "metadata": {}
  },
  {
   "cell_type": "code",
   "execution_count": null,
   "metadata": {},
   "outputs": [],
   "source": []
  }
 ]
}