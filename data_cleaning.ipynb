{
 "metadata": {
  "language_info": {
   "codemirror_mode": {
    "name": "ipython",
    "version": 3
   },
   "file_extension": ".py",
   "mimetype": "text/x-python",
   "name": "python",
   "nbconvert_exporter": "python",
   "pygments_lexer": "ipython3",
   "version": "3.8.5-final"
  },
  "orig_nbformat": 2,
  "kernelspec": {
   "name": "python38564bit4f57281242da47b0a84bc03a5fa692d9",
   "display_name": "Python 3.8.5 64-bit"
  }
 },
 "nbformat": 4,
 "nbformat_minor": 2,
 "cells": [
  {
   "cell_type": "code",
   "execution_count": 860,
   "metadata": {},
   "outputs": [],
   "source": [
    "import pandas as pd\n",
    "import numpy as np\n",
    "import seaborn as sns\n",
    "import matplotlib.pyplot as plt\n",
    "import re"
   ]
  },
  {
   "source": [
    "# Data Description\n",
    "\n",
    "* Population\n",
    "* GDP\n",
    "* DCT - $CO_{2}$ Emissions – Total - `CDI = CO2 Intensity Current-Year Score`\n",
    "* DPT - $CO_{2}$ emissions/kWh elect. & heat - `CEH = CO2 Emissions per kWh`\n",
    "* DMT - $CH_{4}$ emissions - `CHI = $CH_{4}$ Intensity Current-Year Score`\n",
    "* DNT - $N_{2}O$ emissions - `NOI = $N_{2}O$ Intensity Current-Year Score`\n",
    "* DBT - Black Carbon emissions - `BCI = Black Carbon Current-Year Score`"
   ],
   "cell_type": "markdown",
   "metadata": {}
  },
  {
   "cell_type": "code",
   "execution_count": 861,
   "metadata": {},
   "outputs": [],
   "source": [
    "pop = pd.read_csv('pop_corr.csv')\n",
    "gdp = pd.read_csv('gdp_corr.csv')\n",
    "dpt = pd.read_csv('dpt_corr.csv')\n",
    "dnt = pd.read_csv('dnt_corr.csv')\n",
    "dbt = pd.read_csv('dbt_corr.csv')\n",
    "dct = pd.read_csv('dct_corr.csv')\n",
    "dmt = pd.read_csv('dmt_corr.csv')"
   ]
  },
  {
   "cell_type": "code",
   "execution_count": 862,
   "metadata": {},
   "outputs": [],
   "source": [
    "countries = list(pop['country'].unique())"
   ]
  },
  {
   "cell_type": "code",
   "execution_count": 863,
   "metadata": {},
   "outputs": [],
   "source": [
    "pop.drop(columns=['Unnamed: 0'],inplace=True)\n",
    "gdp.drop(columns=['Unnamed: 0'],inplace=True)\n",
    "dpt.drop(columns=['Unnamed: 0'],inplace=True)\n",
    "dnt.drop(columns=['Unnamed: 0'],inplace=True)\n",
    "dbt.drop(columns=['Unnamed: 0'],inplace=True)\n",
    "dct.drop(columns=['Unnamed: 0'],inplace=True)\n",
    "dmt.drop(columns=['Unnamed: 0'],inplace=True)"
   ]
  },
  {
   "cell_type": "code",
   "execution_count": 864,
   "metadata": {},
   "outputs": [
    {
     "output_type": "stream",
     "name": "stdout",
     "text": [
      "Population has 361 missing values\nGDP has 804 missing values\nDPT has 937 missing values\nDNT has 900 missing values\nDBT has 689 missing values\nDCT has 906 missing values\nDMT has 900 missing values\n"
     ]
    }
   ],
   "source": [
    "print('Population has {0} missing values'.format(pop.isna().sum()[2]))\n",
    "print('GDP has {0} missing values'.format(gdp.isna().sum()[2]))\n",
    "print('DPT has {0} missing values'.format(dpt.isna().sum()[2]))\n",
    "print('DNT has {0} missing values'.format(dnt.isna().sum()[2]))\n",
    "print('DBT has {0} missing values'.format(dbt.isna().sum()[2]))\n",
    "print('DCT has {0} missing values'.format(dct.isna().sum()[2]))\n",
    "print('DMT has {0} missing values'.format(dmt.isna().sum()[2]))"
   ]
  },
  {
   "source": [
    "# Fisrt we need to separate the data per country\n",
    "\n",
    "## Then we have to handle with the missing values\n",
    "\n",
    "## For some variables we have to use time series to fill the year block (1997-2014)\n",
    "\n",
    "### We have 18 years history. So the length of each country should be 18."
   ],
   "cell_type": "markdown",
   "metadata": {}
  },
  {
   "cell_type": "code",
   "execution_count": 865,
   "metadata": {},
   "outputs": [],
   "source": [
    "def col_country(df):\n",
    "    lst = []\n",
    "    for country in countries:\n",
    "        test = df[df['country']==str(country)]\n",
    "        lst.append(test)\n",
    "    return lst"
   ]
  },
  {
   "cell_type": "code",
   "execution_count": 866,
   "metadata": {},
   "outputs": [],
   "source": [
    "pop_count = col_country(pop)\n",
    "gdp_count = col_country(gdp)\n",
    "dpt_count = col_country(dpt)\n",
    "dnt_count = col_country(dnt)\n",
    "dbt_count = col_country(dbt)\n",
    "dct_count = col_country(dct)\n",
    "dmt_count = col_country(dmt)"
   ]
  },
  {
   "cell_type": "code",
   "execution_count": 867,
   "metadata": {},
   "outputs": [],
   "source": [
    "var_list = [pop_count,gdp_count,dpt_count,dnt_count,dbt_count,dct_count,dmt_count]\n",
    "variables = ['pop','GDP','dpt','dnt','dbt','dct','dmt']"
   ]
  },
  {
   "cell_type": "code",
   "execution_count": 868,
   "metadata": {},
   "outputs": [],
   "source": [
    "all_data = [] # it's has to be 236 elements \n",
    "for i in range(len(countries)):\n",
    "    df1 = pd.merge(var_list[0][i],var_list[1][i],how='outer')\n",
    "    df2 = pd.merge(df1,var_list[2][i],how='outer')\n",
    "    df3 = pd.merge(df2,var_list[3][i],how='outer')\n",
    "    df4 = pd.merge(df3,var_list[5][i],how='outer')\n",
    "    df5 = pd.merge(df4,var_list[6][i],how='outer')\n",
    "    df6 = pd.merge(df5,var_list[4][i],how='outer')\n",
    "    all_data.append(df6)"
   ]
  },
  {
   "cell_type": "code",
   "execution_count": 869,
   "metadata": {},
   "outputs": [
    {
     "output_type": "execute_result",
     "data": {
      "text/plain": [
       "236"
      ]
     },
     "metadata": {},
     "execution_count": 869
    }
   ],
   "source": [
    "len(all_data) # it has to be 236"
   ]
  },
  {
   "cell_type": "code",
   "execution_count": 870,
   "metadata": {},
   "outputs": [],
   "source": [
    "c1 = [] # country\n",
    "c2 = [] # population\n",
    "c3 = [] # GDP\n",
    "c4 = [] # DPT\n",
    "c5 = [] # DNT\n",
    "c6 = [] # DCT\n",
    "c7 = [] # DMT\n",
    "c8 = [] # DBT\n",
    "\n",
    "for i in range(len(countries)):\n",
    "    c1.append(countries[i])\n",
    "    c2.append(all_data[i].isna().sum()[2])\n",
    "    c3.append(all_data[i].isna().sum()[3])\n",
    "    c4.append(all_data[i].isna().sum()[4])\n",
    "    c5.append(all_data[i].isna().sum()[5])\n",
    "    c6.append(all_data[i].isna().sum()[6])\n",
    "    c7.append(all_data[i].isna().sum()[7])\n",
    "    c8.append(all_data[i].isna().sum()[8])"
   ]
  },
  {
   "cell_type": "code",
   "execution_count": 871,
   "metadata": {},
   "outputs": [],
   "source": [
    "df = np.array([c2,c3,c4,c5,c6,c7,c8])\n",
    "data = pd.DataFrame(df)"
   ]
  },
  {
   "cell_type": "code",
   "execution_count": 872,
   "metadata": {},
   "outputs": [],
   "source": [
    "data['variables'] = ['pop','GDP','dpt','dnt','dct','dmt','dbt']\n",
    "data.set_index('variables',inplace=True)"
   ]
  },
  {
   "cell_type": "code",
   "execution_count": 873,
   "metadata": {},
   "outputs": [],
   "source": [
    "data.columns = c1"
   ]
  },
  {
   "cell_type": "code",
   "execution_count": 874,
   "metadata": {},
   "outputs": [],
   "source": [
    "data = data.T.reset_index()"
   ]
  },
  {
   "cell_type": "code",
   "execution_count": 875,
   "metadata": {},
   "outputs": [
    {
     "output_type": "execute_result",
     "data": {
      "text/plain": [
       "(236, 8)"
      ]
     },
     "metadata": {},
     "execution_count": 875
    }
   ],
   "source": [
    "data.shape"
   ]
  },
  {
   "cell_type": "code",
   "execution_count": 876,
   "metadata": {},
   "outputs": [
    {
     "output_type": "execute_result",
     "data": {
      "text/plain": [
       "variables           index  pop  GDP  dpt  dnt  dct  dmt  dbt\n",
       "0             Afghanistan    0    5   18    5    5    5    9\n",
       "1                 Albania    0    0    8    0    0    0    4\n",
       "2                 Algeria    0    0    8    0    0    0    4\n",
       "3          American Samoa    0   18   18   18   18   18   18\n",
       "4                 Andorra    0   18   18   18   18   18   18"
      ],
      "text/html": "<div>\n<style scoped>\n    .dataframe tbody tr th:only-of-type {\n        vertical-align: middle;\n    }\n\n    .dataframe tbody tr th {\n        vertical-align: top;\n    }\n\n    .dataframe thead th {\n        text-align: right;\n    }\n</style>\n<table border=\"1\" class=\"dataframe\">\n  <thead>\n    <tr style=\"text-align: right;\">\n      <th>variables</th>\n      <th>index</th>\n      <th>pop</th>\n      <th>GDP</th>\n      <th>dpt</th>\n      <th>dnt</th>\n      <th>dct</th>\n      <th>dmt</th>\n      <th>dbt</th>\n    </tr>\n  </thead>\n  <tbody>\n    <tr>\n      <th>0</th>\n      <td>Afghanistan</td>\n      <td>0</td>\n      <td>5</td>\n      <td>18</td>\n      <td>5</td>\n      <td>5</td>\n      <td>5</td>\n      <td>9</td>\n    </tr>\n    <tr>\n      <th>1</th>\n      <td>Albania</td>\n      <td>0</td>\n      <td>0</td>\n      <td>8</td>\n      <td>0</td>\n      <td>0</td>\n      <td>0</td>\n      <td>4</td>\n    </tr>\n    <tr>\n      <th>2</th>\n      <td>Algeria</td>\n      <td>0</td>\n      <td>0</td>\n      <td>8</td>\n      <td>0</td>\n      <td>0</td>\n      <td>0</td>\n      <td>4</td>\n    </tr>\n    <tr>\n      <th>3</th>\n      <td>American Samoa</td>\n      <td>0</td>\n      <td>18</td>\n      <td>18</td>\n      <td>18</td>\n      <td>18</td>\n      <td>18</td>\n      <td>18</td>\n    </tr>\n    <tr>\n      <th>4</th>\n      <td>Andorra</td>\n      <td>0</td>\n      <td>18</td>\n      <td>18</td>\n      <td>18</td>\n      <td>18</td>\n      <td>18</td>\n      <td>18</td>\n    </tr>\n  </tbody>\n</table>\n</div>"
     },
     "metadata": {},
     "execution_count": 876
    }
   ],
   "source": [
    "data.head()"
   ]
  },
  {
   "source": [
    "# Handle the missing data per country\n",
    "\n",
    "## `all_data` is a list with 236 elements, each one is a country dataframe\n",
    "\n",
    "## `data` is a dataframe with the amount of missing values for each country for all features"
   ],
   "cell_type": "markdown",
   "metadata": {}
  },
  {
   "cell_type": "code",
   "execution_count": 877,
   "metadata": {},
   "outputs": [
    {
     "output_type": "execute_result",
     "data": {
      "text/plain": [
       "variables                index  pop  GDP  dpt  dnt  dct  dmt  dbt\n",
       "0                  Afghanistan    0    5   18    5    5    5    9\n",
       "1                      Albania    0    0    8    0    0    0    4\n",
       "2                      Algeria    0    0    8    0    0    0    4\n",
       "3               American Samoa    0   18   18   18   18   18   18\n",
       "4                      Andorra    0   18   18   18   18   18   18\n",
       "5                       Angola    0    0    8    0    0    0    4\n",
       "6                     Anguilla   18   18   18   18   18   18   18\n",
       "7          Antigua and Barbuda    0    0   18    0    0    0    4\n",
       "8                    Argentina    0    0    8    0    0    0    4\n",
       "9                      Armenia    0    0    8    0    0    0    4"
      ],
      "text/html": "<div>\n<style scoped>\n    .dataframe tbody tr th:only-of-type {\n        vertical-align: middle;\n    }\n\n    .dataframe tbody tr th {\n        vertical-align: top;\n    }\n\n    .dataframe thead th {\n        text-align: right;\n    }\n</style>\n<table border=\"1\" class=\"dataframe\">\n  <thead>\n    <tr style=\"text-align: right;\">\n      <th>variables</th>\n      <th>index</th>\n      <th>pop</th>\n      <th>GDP</th>\n      <th>dpt</th>\n      <th>dnt</th>\n      <th>dct</th>\n      <th>dmt</th>\n      <th>dbt</th>\n    </tr>\n  </thead>\n  <tbody>\n    <tr>\n      <th>0</th>\n      <td>Afghanistan</td>\n      <td>0</td>\n      <td>5</td>\n      <td>18</td>\n      <td>5</td>\n      <td>5</td>\n      <td>5</td>\n      <td>9</td>\n    </tr>\n    <tr>\n      <th>1</th>\n      <td>Albania</td>\n      <td>0</td>\n      <td>0</td>\n      <td>8</td>\n      <td>0</td>\n      <td>0</td>\n      <td>0</td>\n      <td>4</td>\n    </tr>\n    <tr>\n      <th>2</th>\n      <td>Algeria</td>\n      <td>0</td>\n      <td>0</td>\n      <td>8</td>\n      <td>0</td>\n      <td>0</td>\n      <td>0</td>\n      <td>4</td>\n    </tr>\n    <tr>\n      <th>3</th>\n      <td>American Samoa</td>\n      <td>0</td>\n      <td>18</td>\n      <td>18</td>\n      <td>18</td>\n      <td>18</td>\n      <td>18</td>\n      <td>18</td>\n    </tr>\n    <tr>\n      <th>4</th>\n      <td>Andorra</td>\n      <td>0</td>\n      <td>18</td>\n      <td>18</td>\n      <td>18</td>\n      <td>18</td>\n      <td>18</td>\n      <td>18</td>\n    </tr>\n    <tr>\n      <th>5</th>\n      <td>Angola</td>\n      <td>0</td>\n      <td>0</td>\n      <td>8</td>\n      <td>0</td>\n      <td>0</td>\n      <td>0</td>\n      <td>4</td>\n    </tr>\n    <tr>\n      <th>6</th>\n      <td>Anguilla</td>\n      <td>18</td>\n      <td>18</td>\n      <td>18</td>\n      <td>18</td>\n      <td>18</td>\n      <td>18</td>\n      <td>18</td>\n    </tr>\n    <tr>\n      <th>7</th>\n      <td>Antigua and Barbuda</td>\n      <td>0</td>\n      <td>0</td>\n      <td>18</td>\n      <td>0</td>\n      <td>0</td>\n      <td>0</td>\n      <td>4</td>\n    </tr>\n    <tr>\n      <th>8</th>\n      <td>Argentina</td>\n      <td>0</td>\n      <td>0</td>\n      <td>8</td>\n      <td>0</td>\n      <td>0</td>\n      <td>0</td>\n      <td>4</td>\n    </tr>\n    <tr>\n      <th>9</th>\n      <td>Armenia</td>\n      <td>0</td>\n      <td>0</td>\n      <td>8</td>\n      <td>0</td>\n      <td>0</td>\n      <td>0</td>\n      <td>4</td>\n    </tr>\n  </tbody>\n</table>\n</div>"
     },
     "metadata": {},
     "execution_count": 877
    }
   ],
   "source": [
    "data.head(10)"
   ]
  },
  {
   "source": [
    "### The sum of all possibles NaN values is 126"
   ],
   "cell_type": "markdown",
   "metadata": {}
  },
  {
   "cell_type": "code",
   "execution_count": 878,
   "metadata": {},
   "outputs": [],
   "source": [
    "data['tot'] = data['pop']+data['GDP']+data['dpt']+data['dnt']+data['dct']+data['dmt']+data['dbt']"
   ]
  },
  {
   "source": [
    "### If a country has more than 63 (50%) of missing values, we are going to drop this country"
   ],
   "cell_type": "markdown",
   "metadata": {}
  },
  {
   "cell_type": "code",
   "execution_count": 879,
   "metadata": {},
   "outputs": [],
   "source": [
    "data['drop'] = data['tot'].apply(lambda x: True if x>=63 else False) # 50% == 63"
   ]
  },
  {
   "cell_type": "code",
   "execution_count": 880,
   "metadata": {},
   "outputs": [
    {
     "output_type": "execute_result",
     "data": {
      "text/plain": [
       "       index\n",
       "drop        \n",
       "False    187\n",
       "True      49"
      ],
      "text/html": "<div>\n<style scoped>\n    .dataframe tbody tr th:only-of-type {\n        vertical-align: middle;\n    }\n\n    .dataframe tbody tr th {\n        vertical-align: top;\n    }\n\n    .dataframe thead th {\n        text-align: right;\n    }\n</style>\n<table border=\"1\" class=\"dataframe\">\n  <thead>\n    <tr style=\"text-align: right;\">\n      <th></th>\n      <th>index</th>\n    </tr>\n    <tr>\n      <th>drop</th>\n      <th></th>\n    </tr>\n  </thead>\n  <tbody>\n    <tr>\n      <th>False</th>\n      <td>187</td>\n    </tr>\n    <tr>\n      <th>True</th>\n      <td>49</td>\n    </tr>\n  </tbody>\n</table>\n</div>"
     },
     "metadata": {},
     "execution_count": 880
    }
   ],
   "source": [
    "data.groupby('drop').agg({'index':'count'})"
   ]
  },
  {
   "cell_type": "code",
   "execution_count": 881,
   "metadata": {},
   "outputs": [],
   "source": [
    "# make a list with the country that we have to drop in all_data\n",
    "drop_data = data[data['drop']==True]\n",
    "drop_ = list(drop_data['index'])"
   ]
  },
  {
   "cell_type": "code",
   "execution_count": 882,
   "metadata": {},
   "outputs": [
    {
     "output_type": "execute_result",
     "data": {
      "text/plain": [
       "49"
      ]
     },
     "metadata": {},
     "execution_count": 882
    }
   ],
   "source": [
    "len(drop_)"
   ]
  },
  {
   "cell_type": "code",
   "execution_count": 883,
   "metadata": {},
   "outputs": [],
   "source": [
    "data_filtered = data[data['drop']==False]\n",
    "data_filtered.drop(columns=['tot','drop'],inplace=True)"
   ]
  },
  {
   "cell_type": "code",
   "execution_count": 884,
   "metadata": {},
   "outputs": [
    {
     "output_type": "execute_result",
     "data": {
      "text/plain": [
       "187"
      ]
     },
     "metadata": {},
     "execution_count": 884
    }
   ],
   "source": [
    "len(data_filtered)"
   ]
  },
  {
   "cell_type": "code",
   "execution_count": 885,
   "metadata": {},
   "outputs": [
    {
     "output_type": "execute_result",
     "data": {
      "text/plain": [
       "variables                   index  pop  GDP  dpt  dnt  dct  dmt  dbt\n",
       "0                     Afghanistan    0    5   18    5    5    5    9\n",
       "1                         Albania    0    0    8    0    0    0    4\n",
       "2                         Algeria    0    0    8    0    0    0    4\n",
       "5                          Angola    0    0    8    0    0    0    4\n",
       "7             Antigua and Barbuda    0    0   18    0    0    0    4\n",
       "8                       Argentina    0    0    8    0    0    0    4\n",
       "9                         Armenia    0    0    8    0    0    0    4\n",
       "11                      Australia    0    0    8    0    0    0    4\n",
       "12                        Austria    0    0    8    0    0    0    4\n",
       "13                     Azerbaijan    0    0    8    0    0    0    4\n",
       "14                        Bahamas    0    0   18    0    0    0    4\n",
       "15                        Bahrain    0    0    8    0    0    0    4\n",
       "16                     Bangladesh    0    0    8    0    0    0    4\n",
       "17                       Barbados    0    0   18    0    0    0    4\n",
       "18                        Belarus    0    0    8    0    0    0    4\n",
       "19                        Belgium    0    0    8    0    0    0    4\n",
       "20                         Belize    0    0   18    0    0    0    4\n",
       "21                          Benin    0    0    8    0    0    0    4\n",
       "23                         Bhutan    0    0   18    0    0    0    4\n",
       "24                        Bolivia    0    0    8    0    0    0    4\n",
       "25         Bosnia and Herzegovina    0    0    8    0    0    0    4\n",
       "26                       Botswana    0    0    8    0    0    0    4\n",
       "27                         Brazil    0    0    8    0    0    0    4\n",
       "29              Brunei Darussalam    0    0    8    0    0    0    4\n",
       "30                       Bulgaria    0    0    8    0    0    0    4\n",
       "31                   Burkina Faso    0    0   18    0    0    0    4\n",
       "32                        Burundi    0    0   18    0    0    0    4\n",
       "33                       Cambodia    0    0    8    0    0    0    4\n",
       "34                       Cameroon    0    0    8    0    0    0    4\n",
       "35                         Canada    0    0    8    0    0    0    4"
      ],
      "text/html": "<div>\n<style scoped>\n    .dataframe tbody tr th:only-of-type {\n        vertical-align: middle;\n    }\n\n    .dataframe tbody tr th {\n        vertical-align: top;\n    }\n\n    .dataframe thead th {\n        text-align: right;\n    }\n</style>\n<table border=\"1\" class=\"dataframe\">\n  <thead>\n    <tr style=\"text-align: right;\">\n      <th>variables</th>\n      <th>index</th>\n      <th>pop</th>\n      <th>GDP</th>\n      <th>dpt</th>\n      <th>dnt</th>\n      <th>dct</th>\n      <th>dmt</th>\n      <th>dbt</th>\n    </tr>\n  </thead>\n  <tbody>\n    <tr>\n      <th>0</th>\n      <td>Afghanistan</td>\n      <td>0</td>\n      <td>5</td>\n      <td>18</td>\n      <td>5</td>\n      <td>5</td>\n      <td>5</td>\n      <td>9</td>\n    </tr>\n    <tr>\n      <th>1</th>\n      <td>Albania</td>\n      <td>0</td>\n      <td>0</td>\n      <td>8</td>\n      <td>0</td>\n      <td>0</td>\n      <td>0</td>\n      <td>4</td>\n    </tr>\n    <tr>\n      <th>2</th>\n      <td>Algeria</td>\n      <td>0</td>\n      <td>0</td>\n      <td>8</td>\n      <td>0</td>\n      <td>0</td>\n      <td>0</td>\n      <td>4</td>\n    </tr>\n    <tr>\n      <th>5</th>\n      <td>Angola</td>\n      <td>0</td>\n      <td>0</td>\n      <td>8</td>\n      <td>0</td>\n      <td>0</td>\n      <td>0</td>\n      <td>4</td>\n    </tr>\n    <tr>\n      <th>7</th>\n      <td>Antigua and Barbuda</td>\n      <td>0</td>\n      <td>0</td>\n      <td>18</td>\n      <td>0</td>\n      <td>0</td>\n      <td>0</td>\n      <td>4</td>\n    </tr>\n    <tr>\n      <th>8</th>\n      <td>Argentina</td>\n      <td>0</td>\n      <td>0</td>\n      <td>8</td>\n      <td>0</td>\n      <td>0</td>\n      <td>0</td>\n      <td>4</td>\n    </tr>\n    <tr>\n      <th>9</th>\n      <td>Armenia</td>\n      <td>0</td>\n      <td>0</td>\n      <td>8</td>\n      <td>0</td>\n      <td>0</td>\n      <td>0</td>\n      <td>4</td>\n    </tr>\n    <tr>\n      <th>11</th>\n      <td>Australia</td>\n      <td>0</td>\n      <td>0</td>\n      <td>8</td>\n      <td>0</td>\n      <td>0</td>\n      <td>0</td>\n      <td>4</td>\n    </tr>\n    <tr>\n      <th>12</th>\n      <td>Austria</td>\n      <td>0</td>\n      <td>0</td>\n      <td>8</td>\n      <td>0</td>\n      <td>0</td>\n      <td>0</td>\n      <td>4</td>\n    </tr>\n    <tr>\n      <th>13</th>\n      <td>Azerbaijan</td>\n      <td>0</td>\n      <td>0</td>\n      <td>8</td>\n      <td>0</td>\n      <td>0</td>\n      <td>0</td>\n      <td>4</td>\n    </tr>\n    <tr>\n      <th>14</th>\n      <td>Bahamas</td>\n      <td>0</td>\n      <td>0</td>\n      <td>18</td>\n      <td>0</td>\n      <td>0</td>\n      <td>0</td>\n      <td>4</td>\n    </tr>\n    <tr>\n      <th>15</th>\n      <td>Bahrain</td>\n      <td>0</td>\n      <td>0</td>\n      <td>8</td>\n      <td>0</td>\n      <td>0</td>\n      <td>0</td>\n      <td>4</td>\n    </tr>\n    <tr>\n      <th>16</th>\n      <td>Bangladesh</td>\n      <td>0</td>\n      <td>0</td>\n      <td>8</td>\n      <td>0</td>\n      <td>0</td>\n      <td>0</td>\n      <td>4</td>\n    </tr>\n    <tr>\n      <th>17</th>\n      <td>Barbados</td>\n      <td>0</td>\n      <td>0</td>\n      <td>18</td>\n      <td>0</td>\n      <td>0</td>\n      <td>0</td>\n      <td>4</td>\n    </tr>\n    <tr>\n      <th>18</th>\n      <td>Belarus</td>\n      <td>0</td>\n      <td>0</td>\n      <td>8</td>\n      <td>0</td>\n      <td>0</td>\n      <td>0</td>\n      <td>4</td>\n    </tr>\n    <tr>\n      <th>19</th>\n      <td>Belgium</td>\n      <td>0</td>\n      <td>0</td>\n      <td>8</td>\n      <td>0</td>\n      <td>0</td>\n      <td>0</td>\n      <td>4</td>\n    </tr>\n    <tr>\n      <th>20</th>\n      <td>Belize</td>\n      <td>0</td>\n      <td>0</td>\n      <td>18</td>\n      <td>0</td>\n      <td>0</td>\n      <td>0</td>\n      <td>4</td>\n    </tr>\n    <tr>\n      <th>21</th>\n      <td>Benin</td>\n      <td>0</td>\n      <td>0</td>\n      <td>8</td>\n      <td>0</td>\n      <td>0</td>\n      <td>0</td>\n      <td>4</td>\n    </tr>\n    <tr>\n      <th>23</th>\n      <td>Bhutan</td>\n      <td>0</td>\n      <td>0</td>\n      <td>18</td>\n      <td>0</td>\n      <td>0</td>\n      <td>0</td>\n      <td>4</td>\n    </tr>\n    <tr>\n      <th>24</th>\n      <td>Bolivia</td>\n      <td>0</td>\n      <td>0</td>\n      <td>8</td>\n      <td>0</td>\n      <td>0</td>\n      <td>0</td>\n      <td>4</td>\n    </tr>\n    <tr>\n      <th>25</th>\n      <td>Bosnia and Herzegovina</td>\n      <td>0</td>\n      <td>0</td>\n      <td>8</td>\n      <td>0</td>\n      <td>0</td>\n      <td>0</td>\n      <td>4</td>\n    </tr>\n    <tr>\n      <th>26</th>\n      <td>Botswana</td>\n      <td>0</td>\n      <td>0</td>\n      <td>8</td>\n      <td>0</td>\n      <td>0</td>\n      <td>0</td>\n      <td>4</td>\n    </tr>\n    <tr>\n      <th>27</th>\n      <td>Brazil</td>\n      <td>0</td>\n      <td>0</td>\n      <td>8</td>\n      <td>0</td>\n      <td>0</td>\n      <td>0</td>\n      <td>4</td>\n    </tr>\n    <tr>\n      <th>29</th>\n      <td>Brunei Darussalam</td>\n      <td>0</td>\n      <td>0</td>\n      <td>8</td>\n      <td>0</td>\n      <td>0</td>\n      <td>0</td>\n      <td>4</td>\n    </tr>\n    <tr>\n      <th>30</th>\n      <td>Bulgaria</td>\n      <td>0</td>\n      <td>0</td>\n      <td>8</td>\n      <td>0</td>\n      <td>0</td>\n      <td>0</td>\n      <td>4</td>\n    </tr>\n    <tr>\n      <th>31</th>\n      <td>Burkina Faso</td>\n      <td>0</td>\n      <td>0</td>\n      <td>18</td>\n      <td>0</td>\n      <td>0</td>\n      <td>0</td>\n      <td>4</td>\n    </tr>\n    <tr>\n      <th>32</th>\n      <td>Burundi</td>\n      <td>0</td>\n      <td>0</td>\n      <td>18</td>\n      <td>0</td>\n      <td>0</td>\n      <td>0</td>\n      <td>4</td>\n    </tr>\n    <tr>\n      <th>33</th>\n      <td>Cambodia</td>\n      <td>0</td>\n      <td>0</td>\n      <td>8</td>\n      <td>0</td>\n      <td>0</td>\n      <td>0</td>\n      <td>4</td>\n    </tr>\n    <tr>\n      <th>34</th>\n      <td>Cameroon</td>\n      <td>0</td>\n      <td>0</td>\n      <td>8</td>\n      <td>0</td>\n      <td>0</td>\n      <td>0</td>\n      <td>4</td>\n    </tr>\n    <tr>\n      <th>35</th>\n      <td>Canada</td>\n      <td>0</td>\n      <td>0</td>\n      <td>8</td>\n      <td>0</td>\n      <td>0</td>\n      <td>0</td>\n      <td>4</td>\n    </tr>\n  </tbody>\n</table>\n</div>"
     },
     "metadata": {},
     "execution_count": 885
    }
   ],
   "source": [
    "data_filtered.head(30)"
   ]
  },
  {
   "cell_type": "code",
   "execution_count": 886,
   "metadata": {},
   "outputs": [],
   "source": [
    "drop_30 = ['Afghanistan','Antigua and Barbuda','Bahamas','Barbados','Belize','Bhutan','Burkina Faso','Burundi']"
   ]
  },
  {
   "cell_type": "code",
   "execution_count": 887,
   "metadata": {},
   "outputs": [
    {
     "output_type": "execute_result",
     "data": {
      "text/plain": [
       "variables                     index  pop  GDP  dpt  dnt  dct  dmt  dbt\n",
       "36                       Cape Verde    0    0   18    0    0    0    4\n",
       "38         Central African Republic    0    0   18    0    0    0    4\n",
       "39                             Chad    0    0   18    0    0    0    4\n",
       "40                            Chile    0    0    8    0    0    0    4\n",
       "41                            China    0    0    8    0    0    0    4\n",
       "42                         Colombia    0    0    8    0    0    0    4\n",
       "43                          Comoros    0    0   18    0    0    0    4\n",
       "45                       Costa Rica    0    0    8    0    0    0    4\n",
       "46                    Cote d'Ivoire    0    0    8    0    0    0    4\n",
       "47                          Croatia    0    0    8    0    0    0    4\n",
       "48                             Cuba    0    0    8    0    0    0    4\n",
       "50                           Cyprus    0    0    8    0    0    0    4\n",
       "51                   Czech Republic    0    0    8    0    0    0    4\n",
       "52                  Dem. Rep. Congo    0    0    8    0    0    0    4\n",
       "53                          Denmark    0    0    8    0    0    0    4\n",
       "54                         Djibouti    0    0   18    0    0    0    4\n",
       "55                         Dominica    0    0   18    0    0    0    4\n",
       "56               Dominican Republic    0    0    8    0    0    0    4\n",
       "57                          Ecuador    0    0    8    0    0    0    4\n",
       "58                            Egypt    0    0    8    0    0    0    4\n",
       "59                      El Salvador    0    0    8    0    0    0    4\n",
       "60                Equatorial Guinea    0    0   18    0    0    0    4\n",
       "61                          Eritrea    0    0    8    0    0    0    4\n",
       "62                          Estonia    0    0    8    0    0    0    4\n",
       "63                         Ethiopia    0    0    8    0    0    0    4\n",
       "66                             Fiji    0    0   18    0    0    0    4\n",
       "67                          Finland    0    0    8    0    0    0    4\n",
       "68                           France    0    0    8    0    0    0    4\n",
       "71                            Gabon    0    0    8    0    0    0    4\n",
       "72                           Gambia    0    0   18    0    0    0    4"
      ],
      "text/html": "<div>\n<style scoped>\n    .dataframe tbody tr th:only-of-type {\n        vertical-align: middle;\n    }\n\n    .dataframe tbody tr th {\n        vertical-align: top;\n    }\n\n    .dataframe thead th {\n        text-align: right;\n    }\n</style>\n<table border=\"1\" class=\"dataframe\">\n  <thead>\n    <tr style=\"text-align: right;\">\n      <th>variables</th>\n      <th>index</th>\n      <th>pop</th>\n      <th>GDP</th>\n      <th>dpt</th>\n      <th>dnt</th>\n      <th>dct</th>\n      <th>dmt</th>\n      <th>dbt</th>\n    </tr>\n  </thead>\n  <tbody>\n    <tr>\n      <th>36</th>\n      <td>Cape Verde</td>\n      <td>0</td>\n      <td>0</td>\n      <td>18</td>\n      <td>0</td>\n      <td>0</td>\n      <td>0</td>\n      <td>4</td>\n    </tr>\n    <tr>\n      <th>38</th>\n      <td>Central African Republic</td>\n      <td>0</td>\n      <td>0</td>\n      <td>18</td>\n      <td>0</td>\n      <td>0</td>\n      <td>0</td>\n      <td>4</td>\n    </tr>\n    <tr>\n      <th>39</th>\n      <td>Chad</td>\n      <td>0</td>\n      <td>0</td>\n      <td>18</td>\n      <td>0</td>\n      <td>0</td>\n      <td>0</td>\n      <td>4</td>\n    </tr>\n    <tr>\n      <th>40</th>\n      <td>Chile</td>\n      <td>0</td>\n      <td>0</td>\n      <td>8</td>\n      <td>0</td>\n      <td>0</td>\n      <td>0</td>\n      <td>4</td>\n    </tr>\n    <tr>\n      <th>41</th>\n      <td>China</td>\n      <td>0</td>\n      <td>0</td>\n      <td>8</td>\n      <td>0</td>\n      <td>0</td>\n      <td>0</td>\n      <td>4</td>\n    </tr>\n    <tr>\n      <th>42</th>\n      <td>Colombia</td>\n      <td>0</td>\n      <td>0</td>\n      <td>8</td>\n      <td>0</td>\n      <td>0</td>\n      <td>0</td>\n      <td>4</td>\n    </tr>\n    <tr>\n      <th>43</th>\n      <td>Comoros</td>\n      <td>0</td>\n      <td>0</td>\n      <td>18</td>\n      <td>0</td>\n      <td>0</td>\n      <td>0</td>\n      <td>4</td>\n    </tr>\n    <tr>\n      <th>45</th>\n      <td>Costa Rica</td>\n      <td>0</td>\n      <td>0</td>\n      <td>8</td>\n      <td>0</td>\n      <td>0</td>\n      <td>0</td>\n      <td>4</td>\n    </tr>\n    <tr>\n      <th>46</th>\n      <td>Cote d'Ivoire</td>\n      <td>0</td>\n      <td>0</td>\n      <td>8</td>\n      <td>0</td>\n      <td>0</td>\n      <td>0</td>\n      <td>4</td>\n    </tr>\n    <tr>\n      <th>47</th>\n      <td>Croatia</td>\n      <td>0</td>\n      <td>0</td>\n      <td>8</td>\n      <td>0</td>\n      <td>0</td>\n      <td>0</td>\n      <td>4</td>\n    </tr>\n    <tr>\n      <th>48</th>\n      <td>Cuba</td>\n      <td>0</td>\n      <td>0</td>\n      <td>8</td>\n      <td>0</td>\n      <td>0</td>\n      <td>0</td>\n      <td>4</td>\n    </tr>\n    <tr>\n      <th>50</th>\n      <td>Cyprus</td>\n      <td>0</td>\n      <td>0</td>\n      <td>8</td>\n      <td>0</td>\n      <td>0</td>\n      <td>0</td>\n      <td>4</td>\n    </tr>\n    <tr>\n      <th>51</th>\n      <td>Czech Republic</td>\n      <td>0</td>\n      <td>0</td>\n      <td>8</td>\n      <td>0</td>\n      <td>0</td>\n      <td>0</td>\n      <td>4</td>\n    </tr>\n    <tr>\n      <th>52</th>\n      <td>Dem. Rep. Congo</td>\n      <td>0</td>\n      <td>0</td>\n      <td>8</td>\n      <td>0</td>\n      <td>0</td>\n      <td>0</td>\n      <td>4</td>\n    </tr>\n    <tr>\n      <th>53</th>\n      <td>Denmark</td>\n      <td>0</td>\n      <td>0</td>\n      <td>8</td>\n      <td>0</td>\n      <td>0</td>\n      <td>0</td>\n      <td>4</td>\n    </tr>\n    <tr>\n      <th>54</th>\n      <td>Djibouti</td>\n      <td>0</td>\n      <td>0</td>\n      <td>18</td>\n      <td>0</td>\n      <td>0</td>\n      <td>0</td>\n      <td>4</td>\n    </tr>\n    <tr>\n      <th>55</th>\n      <td>Dominica</td>\n      <td>0</td>\n      <td>0</td>\n      <td>18</td>\n      <td>0</td>\n      <td>0</td>\n      <td>0</td>\n      <td>4</td>\n    </tr>\n    <tr>\n      <th>56</th>\n      <td>Dominican Republic</td>\n      <td>0</td>\n      <td>0</td>\n      <td>8</td>\n      <td>0</td>\n      <td>0</td>\n      <td>0</td>\n      <td>4</td>\n    </tr>\n    <tr>\n      <th>57</th>\n      <td>Ecuador</td>\n      <td>0</td>\n      <td>0</td>\n      <td>8</td>\n      <td>0</td>\n      <td>0</td>\n      <td>0</td>\n      <td>4</td>\n    </tr>\n    <tr>\n      <th>58</th>\n      <td>Egypt</td>\n      <td>0</td>\n      <td>0</td>\n      <td>8</td>\n      <td>0</td>\n      <td>0</td>\n      <td>0</td>\n      <td>4</td>\n    </tr>\n    <tr>\n      <th>59</th>\n      <td>El Salvador</td>\n      <td>0</td>\n      <td>0</td>\n      <td>8</td>\n      <td>0</td>\n      <td>0</td>\n      <td>0</td>\n      <td>4</td>\n    </tr>\n    <tr>\n      <th>60</th>\n      <td>Equatorial Guinea</td>\n      <td>0</td>\n      <td>0</td>\n      <td>18</td>\n      <td>0</td>\n      <td>0</td>\n      <td>0</td>\n      <td>4</td>\n    </tr>\n    <tr>\n      <th>61</th>\n      <td>Eritrea</td>\n      <td>0</td>\n      <td>0</td>\n      <td>8</td>\n      <td>0</td>\n      <td>0</td>\n      <td>0</td>\n      <td>4</td>\n    </tr>\n    <tr>\n      <th>62</th>\n      <td>Estonia</td>\n      <td>0</td>\n      <td>0</td>\n      <td>8</td>\n      <td>0</td>\n      <td>0</td>\n      <td>0</td>\n      <td>4</td>\n    </tr>\n    <tr>\n      <th>63</th>\n      <td>Ethiopia</td>\n      <td>0</td>\n      <td>0</td>\n      <td>8</td>\n      <td>0</td>\n      <td>0</td>\n      <td>0</td>\n      <td>4</td>\n    </tr>\n    <tr>\n      <th>66</th>\n      <td>Fiji</td>\n      <td>0</td>\n      <td>0</td>\n      <td>18</td>\n      <td>0</td>\n      <td>0</td>\n      <td>0</td>\n      <td>4</td>\n    </tr>\n    <tr>\n      <th>67</th>\n      <td>Finland</td>\n      <td>0</td>\n      <td>0</td>\n      <td>8</td>\n      <td>0</td>\n      <td>0</td>\n      <td>0</td>\n      <td>4</td>\n    </tr>\n    <tr>\n      <th>68</th>\n      <td>France</td>\n      <td>0</td>\n      <td>0</td>\n      <td>8</td>\n      <td>0</td>\n      <td>0</td>\n      <td>0</td>\n      <td>4</td>\n    </tr>\n    <tr>\n      <th>71</th>\n      <td>Gabon</td>\n      <td>0</td>\n      <td>0</td>\n      <td>8</td>\n      <td>0</td>\n      <td>0</td>\n      <td>0</td>\n      <td>4</td>\n    </tr>\n    <tr>\n      <th>72</th>\n      <td>Gambia</td>\n      <td>0</td>\n      <td>0</td>\n      <td>18</td>\n      <td>0</td>\n      <td>0</td>\n      <td>0</td>\n      <td>4</td>\n    </tr>\n  </tbody>\n</table>\n</div>"
     },
     "metadata": {},
     "execution_count": 887
    }
   ],
   "source": [
    "data_filtered[30:60]"
   ]
  },
  {
   "cell_type": "code",
   "execution_count": 888,
   "metadata": {},
   "outputs": [],
   "source": [
    "drop_60 = ['Cape Verde','Central African Republic','Chad','Comoros','Djibouti','Dominica','Equatorial Guinea','Fiji','Gambia']"
   ]
  },
  {
   "cell_type": "code",
   "execution_count": 889,
   "metadata": {},
   "outputs": [
    {
     "output_type": "execute_result",
     "data": {
      "text/plain": [
       "variables          index  pop  GDP  dpt  dnt  dct  dmt  dbt\n",
       "73               Georgia    0    0    8    0    0    0    4\n",
       "74               Germany    0    0    8    0    0    0    4\n",
       "75                 Ghana    0    0    8    0    0    0    4\n",
       "77                Greece    0    0    8    0    0    0    4\n",
       "79               Grenada    0    0   18    0    0    0    4\n",
       "82             Guatemala    0    0    8    0    0    0    4\n",
       "83                Guinea    0    0   18    0    0    0    4\n",
       "84         Guinea-Bissau    0    0   18    0    0    0    4\n",
       "85                Guyana    0    0   18    0    0    0    4\n",
       "86                 Haiti    0    0    8    0    0    0    4\n",
       "88              Honduras    0    0    8    0    0    0    4\n",
       "90               Hungary    0    0    8    0    0    0    4\n",
       "91               Iceland    0    0    8    0    0    0    4\n",
       "92                 India    0    0    8    0    0    0    4\n",
       "93             Indonesia    0    0    8    0    0    0    4\n",
       "94                  Iran    0    0    8    0    0    0    4\n",
       "95                  Iraq    0    0    8    0    0    0    4\n",
       "96               Ireland    0    0    8    0    0    0    4\n",
       "98                Israel    0    0    8    0    0    0    4\n",
       "99                 Italy    0    0    8    0    0    0    4\n",
       "100              Jamaica    0    0    8    0    0    0    4\n",
       "101                Japan    0    0    8    0    0    0    4\n",
       "102               Jordan    0    0    8    0    0    0    4\n",
       "103           Kazakhstan    0    0    8    0    0    0    4\n",
       "104                Kenya    0    0    8    0    0    0    4\n",
       "105             Kiribati    0    0   18    0    0    0    4\n",
       "107               Kuwait    0    0    8    0    0    0    4\n",
       "108           Kyrgyzstan    0    0    8    0    0    0    4\n",
       "109                 Laos    0    0   18    0    0    0    4\n",
       "110               Latvia    0    0    8    0    0    0    4"
      ],
      "text/html": "<div>\n<style scoped>\n    .dataframe tbody tr th:only-of-type {\n        vertical-align: middle;\n    }\n\n    .dataframe tbody tr th {\n        vertical-align: top;\n    }\n\n    .dataframe thead th {\n        text-align: right;\n    }\n</style>\n<table border=\"1\" class=\"dataframe\">\n  <thead>\n    <tr style=\"text-align: right;\">\n      <th>variables</th>\n      <th>index</th>\n      <th>pop</th>\n      <th>GDP</th>\n      <th>dpt</th>\n      <th>dnt</th>\n      <th>dct</th>\n      <th>dmt</th>\n      <th>dbt</th>\n    </tr>\n  </thead>\n  <tbody>\n    <tr>\n      <th>73</th>\n      <td>Georgia</td>\n      <td>0</td>\n      <td>0</td>\n      <td>8</td>\n      <td>0</td>\n      <td>0</td>\n      <td>0</td>\n      <td>4</td>\n    </tr>\n    <tr>\n      <th>74</th>\n      <td>Germany</td>\n      <td>0</td>\n      <td>0</td>\n      <td>8</td>\n      <td>0</td>\n      <td>0</td>\n      <td>0</td>\n      <td>4</td>\n    </tr>\n    <tr>\n      <th>75</th>\n      <td>Ghana</td>\n      <td>0</td>\n      <td>0</td>\n      <td>8</td>\n      <td>0</td>\n      <td>0</td>\n      <td>0</td>\n      <td>4</td>\n    </tr>\n    <tr>\n      <th>77</th>\n      <td>Greece</td>\n      <td>0</td>\n      <td>0</td>\n      <td>8</td>\n      <td>0</td>\n      <td>0</td>\n      <td>0</td>\n      <td>4</td>\n    </tr>\n    <tr>\n      <th>79</th>\n      <td>Grenada</td>\n      <td>0</td>\n      <td>0</td>\n      <td>18</td>\n      <td>0</td>\n      <td>0</td>\n      <td>0</td>\n      <td>4</td>\n    </tr>\n    <tr>\n      <th>82</th>\n      <td>Guatemala</td>\n      <td>0</td>\n      <td>0</td>\n      <td>8</td>\n      <td>0</td>\n      <td>0</td>\n      <td>0</td>\n      <td>4</td>\n    </tr>\n    <tr>\n      <th>83</th>\n      <td>Guinea</td>\n      <td>0</td>\n      <td>0</td>\n      <td>18</td>\n      <td>0</td>\n      <td>0</td>\n      <td>0</td>\n      <td>4</td>\n    </tr>\n    <tr>\n      <th>84</th>\n      <td>Guinea-Bissau</td>\n      <td>0</td>\n      <td>0</td>\n      <td>18</td>\n      <td>0</td>\n      <td>0</td>\n      <td>0</td>\n      <td>4</td>\n    </tr>\n    <tr>\n      <th>85</th>\n      <td>Guyana</td>\n      <td>0</td>\n      <td>0</td>\n      <td>18</td>\n      <td>0</td>\n      <td>0</td>\n      <td>0</td>\n      <td>4</td>\n    </tr>\n    <tr>\n      <th>86</th>\n      <td>Haiti</td>\n      <td>0</td>\n      <td>0</td>\n      <td>8</td>\n      <td>0</td>\n      <td>0</td>\n      <td>0</td>\n      <td>4</td>\n    </tr>\n    <tr>\n      <th>88</th>\n      <td>Honduras</td>\n      <td>0</td>\n      <td>0</td>\n      <td>8</td>\n      <td>0</td>\n      <td>0</td>\n      <td>0</td>\n      <td>4</td>\n    </tr>\n    <tr>\n      <th>90</th>\n      <td>Hungary</td>\n      <td>0</td>\n      <td>0</td>\n      <td>8</td>\n      <td>0</td>\n      <td>0</td>\n      <td>0</td>\n      <td>4</td>\n    </tr>\n    <tr>\n      <th>91</th>\n      <td>Iceland</td>\n      <td>0</td>\n      <td>0</td>\n      <td>8</td>\n      <td>0</td>\n      <td>0</td>\n      <td>0</td>\n      <td>4</td>\n    </tr>\n    <tr>\n      <th>92</th>\n      <td>India</td>\n      <td>0</td>\n      <td>0</td>\n      <td>8</td>\n      <td>0</td>\n      <td>0</td>\n      <td>0</td>\n      <td>4</td>\n    </tr>\n    <tr>\n      <th>93</th>\n      <td>Indonesia</td>\n      <td>0</td>\n      <td>0</td>\n      <td>8</td>\n      <td>0</td>\n      <td>0</td>\n      <td>0</td>\n      <td>4</td>\n    </tr>\n    <tr>\n      <th>94</th>\n      <td>Iran</td>\n      <td>0</td>\n      <td>0</td>\n      <td>8</td>\n      <td>0</td>\n      <td>0</td>\n      <td>0</td>\n      <td>4</td>\n    </tr>\n    <tr>\n      <th>95</th>\n      <td>Iraq</td>\n      <td>0</td>\n      <td>0</td>\n      <td>8</td>\n      <td>0</td>\n      <td>0</td>\n      <td>0</td>\n      <td>4</td>\n    </tr>\n    <tr>\n      <th>96</th>\n      <td>Ireland</td>\n      <td>0</td>\n      <td>0</td>\n      <td>8</td>\n      <td>0</td>\n      <td>0</td>\n      <td>0</td>\n      <td>4</td>\n    </tr>\n    <tr>\n      <th>98</th>\n      <td>Israel</td>\n      <td>0</td>\n      <td>0</td>\n      <td>8</td>\n      <td>0</td>\n      <td>0</td>\n      <td>0</td>\n      <td>4</td>\n    </tr>\n    <tr>\n      <th>99</th>\n      <td>Italy</td>\n      <td>0</td>\n      <td>0</td>\n      <td>8</td>\n      <td>0</td>\n      <td>0</td>\n      <td>0</td>\n      <td>4</td>\n    </tr>\n    <tr>\n      <th>100</th>\n      <td>Jamaica</td>\n      <td>0</td>\n      <td>0</td>\n      <td>8</td>\n      <td>0</td>\n      <td>0</td>\n      <td>0</td>\n      <td>4</td>\n    </tr>\n    <tr>\n      <th>101</th>\n      <td>Japan</td>\n      <td>0</td>\n      <td>0</td>\n      <td>8</td>\n      <td>0</td>\n      <td>0</td>\n      <td>0</td>\n      <td>4</td>\n    </tr>\n    <tr>\n      <th>102</th>\n      <td>Jordan</td>\n      <td>0</td>\n      <td>0</td>\n      <td>8</td>\n      <td>0</td>\n      <td>0</td>\n      <td>0</td>\n      <td>4</td>\n    </tr>\n    <tr>\n      <th>103</th>\n      <td>Kazakhstan</td>\n      <td>0</td>\n      <td>0</td>\n      <td>8</td>\n      <td>0</td>\n      <td>0</td>\n      <td>0</td>\n      <td>4</td>\n    </tr>\n    <tr>\n      <th>104</th>\n      <td>Kenya</td>\n      <td>0</td>\n      <td>0</td>\n      <td>8</td>\n      <td>0</td>\n      <td>0</td>\n      <td>0</td>\n      <td>4</td>\n    </tr>\n    <tr>\n      <th>105</th>\n      <td>Kiribati</td>\n      <td>0</td>\n      <td>0</td>\n      <td>18</td>\n      <td>0</td>\n      <td>0</td>\n      <td>0</td>\n      <td>4</td>\n    </tr>\n    <tr>\n      <th>107</th>\n      <td>Kuwait</td>\n      <td>0</td>\n      <td>0</td>\n      <td>8</td>\n      <td>0</td>\n      <td>0</td>\n      <td>0</td>\n      <td>4</td>\n    </tr>\n    <tr>\n      <th>108</th>\n      <td>Kyrgyzstan</td>\n      <td>0</td>\n      <td>0</td>\n      <td>8</td>\n      <td>0</td>\n      <td>0</td>\n      <td>0</td>\n      <td>4</td>\n    </tr>\n    <tr>\n      <th>109</th>\n      <td>Laos</td>\n      <td>0</td>\n      <td>0</td>\n      <td>18</td>\n      <td>0</td>\n      <td>0</td>\n      <td>0</td>\n      <td>4</td>\n    </tr>\n    <tr>\n      <th>110</th>\n      <td>Latvia</td>\n      <td>0</td>\n      <td>0</td>\n      <td>8</td>\n      <td>0</td>\n      <td>0</td>\n      <td>0</td>\n      <td>4</td>\n    </tr>\n  </tbody>\n</table>\n</div>"
     },
     "metadata": {},
     "execution_count": 889
    }
   ],
   "source": [
    "data_filtered[60:90]"
   ]
  },
  {
   "cell_type": "code",
   "execution_count": 890,
   "metadata": {},
   "outputs": [],
   "source": [
    "drop_90 = ['Grenada','Guinea','Guinea-Bissau','Guyana','Kiribati','Laos']"
   ]
  },
  {
   "cell_type": "code",
   "execution_count": 891,
   "metadata": {},
   "outputs": [
    {
     "output_type": "execute_result",
     "data": {
      "text/plain": [
       "variables             index  pop  GDP  dpt  dnt  dct  dmt  dbt\n",
       "111                 Lebanon    0    0    8    0    0    0    4\n",
       "112                 Lesotho    0    0   18    0    0    0    4\n",
       "113                 Liberia    0    0   18    0    0    0    4\n",
       "114                   Libya    0    0    8    0    0    0    4\n",
       "116               Lithuania    0    0    8    0    0    0    4\n",
       "117              Luxembourg    0    0    8    0    0    0    4\n",
       "119               Macedonia    0    0    8    0    0    0    4\n",
       "120              Madagascar    0    0   18    0    0    0    4\n",
       "121                  Malawi    0    0   18    0    0    0    4\n",
       "122                Malaysia    0    0    8    0    0    0    4\n",
       "123                Maldives    0    0   18    4    4    4    8\n",
       "124                    Mali    0    0   18    0    0    0    4\n",
       "125                   Malta    0    0    8    0    0    0    4\n",
       "126        Marshall Islands    0    0   18    0    0    0   18\n",
       "128              Mauritania    0    0   18    0    0    0    4\n",
       "129               Mauritius    0    0    8    0    0    0    4\n",
       "131                  Mexico    0    0    8    0    0    0    4\n",
       "132              Micronesia    0    0   18    0    0    0    4\n",
       "133                 Moldova    0    0    8    0    0    0    4\n",
       "135                Mongolia    0    0    8    0    0    0    4\n",
       "136              Montenegro    0    0    8    0    8    0    4\n",
       "138                 Morocco    0    0    8    0    0    0    4\n",
       "139              Mozambique    0    0    8    0    0    0    4\n",
       "140                 Myanmar    0    0    8    0    0    0    4\n",
       "141                 Namibia    0    0    8    0    0    0    4\n",
       "143                   Nepal    0    0    8    0    0    0    4\n",
       "144             Netherlands    0    0    8    0    0    0    4\n",
       "147             New Zealand    0    0    8    0    0    0    4\n",
       "148               Nicaragua    0    0    8    0    0    0    4\n",
       "149                   Niger    0    0    8    0    0    0    4"
      ],
      "text/html": "<div>\n<style scoped>\n    .dataframe tbody tr th:only-of-type {\n        vertical-align: middle;\n    }\n\n    .dataframe tbody tr th {\n        vertical-align: top;\n    }\n\n    .dataframe thead th {\n        text-align: right;\n    }\n</style>\n<table border=\"1\" class=\"dataframe\">\n  <thead>\n    <tr style=\"text-align: right;\">\n      <th>variables</th>\n      <th>index</th>\n      <th>pop</th>\n      <th>GDP</th>\n      <th>dpt</th>\n      <th>dnt</th>\n      <th>dct</th>\n      <th>dmt</th>\n      <th>dbt</th>\n    </tr>\n  </thead>\n  <tbody>\n    <tr>\n      <th>111</th>\n      <td>Lebanon</td>\n      <td>0</td>\n      <td>0</td>\n      <td>8</td>\n      <td>0</td>\n      <td>0</td>\n      <td>0</td>\n      <td>4</td>\n    </tr>\n    <tr>\n      <th>112</th>\n      <td>Lesotho</td>\n      <td>0</td>\n      <td>0</td>\n      <td>18</td>\n      <td>0</td>\n      <td>0</td>\n      <td>0</td>\n      <td>4</td>\n    </tr>\n    <tr>\n      <th>113</th>\n      <td>Liberia</td>\n      <td>0</td>\n      <td>0</td>\n      <td>18</td>\n      <td>0</td>\n      <td>0</td>\n      <td>0</td>\n      <td>4</td>\n    </tr>\n    <tr>\n      <th>114</th>\n      <td>Libya</td>\n      <td>0</td>\n      <td>0</td>\n      <td>8</td>\n      <td>0</td>\n      <td>0</td>\n      <td>0</td>\n      <td>4</td>\n    </tr>\n    <tr>\n      <th>116</th>\n      <td>Lithuania</td>\n      <td>0</td>\n      <td>0</td>\n      <td>8</td>\n      <td>0</td>\n      <td>0</td>\n      <td>0</td>\n      <td>4</td>\n    </tr>\n    <tr>\n      <th>117</th>\n      <td>Luxembourg</td>\n      <td>0</td>\n      <td>0</td>\n      <td>8</td>\n      <td>0</td>\n      <td>0</td>\n      <td>0</td>\n      <td>4</td>\n    </tr>\n    <tr>\n      <th>119</th>\n      <td>Macedonia</td>\n      <td>0</td>\n      <td>0</td>\n      <td>8</td>\n      <td>0</td>\n      <td>0</td>\n      <td>0</td>\n      <td>4</td>\n    </tr>\n    <tr>\n      <th>120</th>\n      <td>Madagascar</td>\n      <td>0</td>\n      <td>0</td>\n      <td>18</td>\n      <td>0</td>\n      <td>0</td>\n      <td>0</td>\n      <td>4</td>\n    </tr>\n    <tr>\n      <th>121</th>\n      <td>Malawi</td>\n      <td>0</td>\n      <td>0</td>\n      <td>18</td>\n      <td>0</td>\n      <td>0</td>\n      <td>0</td>\n      <td>4</td>\n    </tr>\n    <tr>\n      <th>122</th>\n      <td>Malaysia</td>\n      <td>0</td>\n      <td>0</td>\n      <td>8</td>\n      <td>0</td>\n      <td>0</td>\n      <td>0</td>\n      <td>4</td>\n    </tr>\n    <tr>\n      <th>123</th>\n      <td>Maldives</td>\n      <td>0</td>\n      <td>0</td>\n      <td>18</td>\n      <td>4</td>\n      <td>4</td>\n      <td>4</td>\n      <td>8</td>\n    </tr>\n    <tr>\n      <th>124</th>\n      <td>Mali</td>\n      <td>0</td>\n      <td>0</td>\n      <td>18</td>\n      <td>0</td>\n      <td>0</td>\n      <td>0</td>\n      <td>4</td>\n    </tr>\n    <tr>\n      <th>125</th>\n      <td>Malta</td>\n      <td>0</td>\n      <td>0</td>\n      <td>8</td>\n      <td>0</td>\n      <td>0</td>\n      <td>0</td>\n      <td>4</td>\n    </tr>\n    <tr>\n      <th>126</th>\n      <td>Marshall Islands</td>\n      <td>0</td>\n      <td>0</td>\n      <td>18</td>\n      <td>0</td>\n      <td>0</td>\n      <td>0</td>\n      <td>18</td>\n    </tr>\n    <tr>\n      <th>128</th>\n      <td>Mauritania</td>\n      <td>0</td>\n      <td>0</td>\n      <td>18</td>\n      <td>0</td>\n      <td>0</td>\n      <td>0</td>\n      <td>4</td>\n    </tr>\n    <tr>\n      <th>129</th>\n      <td>Mauritius</td>\n      <td>0</td>\n      <td>0</td>\n      <td>8</td>\n      <td>0</td>\n      <td>0</td>\n      <td>0</td>\n      <td>4</td>\n    </tr>\n    <tr>\n      <th>131</th>\n      <td>Mexico</td>\n      <td>0</td>\n      <td>0</td>\n      <td>8</td>\n      <td>0</td>\n      <td>0</td>\n      <td>0</td>\n      <td>4</td>\n    </tr>\n    <tr>\n      <th>132</th>\n      <td>Micronesia</td>\n      <td>0</td>\n      <td>0</td>\n      <td>18</td>\n      <td>0</td>\n      <td>0</td>\n      <td>0</td>\n      <td>4</td>\n    </tr>\n    <tr>\n      <th>133</th>\n      <td>Moldova</td>\n      <td>0</td>\n      <td>0</td>\n      <td>8</td>\n      <td>0</td>\n      <td>0</td>\n      <td>0</td>\n      <td>4</td>\n    </tr>\n    <tr>\n      <th>135</th>\n      <td>Mongolia</td>\n      <td>0</td>\n      <td>0</td>\n      <td>8</td>\n      <td>0</td>\n      <td>0</td>\n      <td>0</td>\n      <td>4</td>\n    </tr>\n    <tr>\n      <th>136</th>\n      <td>Montenegro</td>\n      <td>0</td>\n      <td>0</td>\n      <td>8</td>\n      <td>0</td>\n      <td>8</td>\n      <td>0</td>\n      <td>4</td>\n    </tr>\n    <tr>\n      <th>138</th>\n      <td>Morocco</td>\n      <td>0</td>\n      <td>0</td>\n      <td>8</td>\n      <td>0</td>\n      <td>0</td>\n      <td>0</td>\n      <td>4</td>\n    </tr>\n    <tr>\n      <th>139</th>\n      <td>Mozambique</td>\n      <td>0</td>\n      <td>0</td>\n      <td>8</td>\n      <td>0</td>\n      <td>0</td>\n      <td>0</td>\n      <td>4</td>\n    </tr>\n    <tr>\n      <th>140</th>\n      <td>Myanmar</td>\n      <td>0</td>\n      <td>0</td>\n      <td>8</td>\n      <td>0</td>\n      <td>0</td>\n      <td>0</td>\n      <td>4</td>\n    </tr>\n    <tr>\n      <th>141</th>\n      <td>Namibia</td>\n      <td>0</td>\n      <td>0</td>\n      <td>8</td>\n      <td>0</td>\n      <td>0</td>\n      <td>0</td>\n      <td>4</td>\n    </tr>\n    <tr>\n      <th>143</th>\n      <td>Nepal</td>\n      <td>0</td>\n      <td>0</td>\n      <td>8</td>\n      <td>0</td>\n      <td>0</td>\n      <td>0</td>\n      <td>4</td>\n    </tr>\n    <tr>\n      <th>144</th>\n      <td>Netherlands</td>\n      <td>0</td>\n      <td>0</td>\n      <td>8</td>\n      <td>0</td>\n      <td>0</td>\n      <td>0</td>\n      <td>4</td>\n    </tr>\n    <tr>\n      <th>147</th>\n      <td>New Zealand</td>\n      <td>0</td>\n      <td>0</td>\n      <td>8</td>\n      <td>0</td>\n      <td>0</td>\n      <td>0</td>\n      <td>4</td>\n    </tr>\n    <tr>\n      <th>148</th>\n      <td>Nicaragua</td>\n      <td>0</td>\n      <td>0</td>\n      <td>8</td>\n      <td>0</td>\n      <td>0</td>\n      <td>0</td>\n      <td>4</td>\n    </tr>\n    <tr>\n      <th>149</th>\n      <td>Niger</td>\n      <td>0</td>\n      <td>0</td>\n      <td>8</td>\n      <td>0</td>\n      <td>0</td>\n      <td>0</td>\n      <td>4</td>\n    </tr>\n  </tbody>\n</table>\n</div>"
     },
     "metadata": {},
     "execution_count": 891
    }
   ],
   "source": [
    "data_filtered[90:120]"
   ]
  },
  {
   "cell_type": "code",
   "execution_count": 892,
   "metadata": {},
   "outputs": [],
   "source": [
    "drop_120 = ['Lesotho','Liberia','Madagascar','Malawi','Maldives','Mali','Marshall Islands','Mauritania','Micronesia']"
   ]
  },
  {
   "cell_type": "code",
   "execution_count": 893,
   "metadata": {},
   "outputs": [
    {
     "output_type": "execute_result",
     "data": {
      "text/plain": [
       "variables                             index  pop  GDP  dpt  dnt  dct  dmt  dbt\n",
       "150                                 Nigeria    0    0    8    0    0    0    4\n",
       "155                                  Norway    0    0    8    0    0    0    4\n",
       "156                                    Oman    0    0    8    0    0    0    4\n",
       "157                                Pakistan    0    0    8    0    0    0    4\n",
       "158                                   Palau    0    0   18    0    0    0   18\n",
       "159                                  Panama    0    0    8    0    0    0    4\n",
       "160                        Papua New Guinea    0    0   18    0    0    0    4\n",
       "161                                Paraguay    0    0    8    0    0    0    4\n",
       "162                                    Peru    0    0    8    0    0    0    4\n",
       "163                             Philippines    0    0    8    0    0    0    4\n",
       "165                                  Poland    0    0    8    0    0    0    4\n",
       "166                                Portugal    0    0    8    0    0    0    4\n",
       "168                                   Qatar    0    0    8    3    3    3    7\n",
       "169                       Republic of Congo    0    0    8    0    0    0    4\n",
       "171                                 Romania    0    0    8    0    0    0    4\n",
       "172                                  Russia    0    0    8    0    0    0    4\n",
       "173                                  Rwanda    0    0   18    0    0    0    4\n",
       "175                   Saint Kitts and Nevis    0    0   18    0    0    0    4\n",
       "176                             Saint Lucia    0    0   18    0    0    0    4\n",
       "178        Saint Vincent and the Grenadines    0    0   18    0    0    0    4\n",
       "179                                   Samoa    0    0   18    0    0    0    4\n",
       "181                   Sao Tome and Principe    0    0   18    3    3    3    7\n",
       "182                            Saudi Arabia    0    0    8    0    0    0    4\n",
       "183                                 Senegal    0    0    8    0    0    0    4\n",
       "184                                  Serbia    0    0    8    0    0    0    4\n",
       "185                              Seychelles    0    0   18    0    0    0    4\n",
       "186                            Sierra Leone    0    0   18    0    0    0    4\n",
       "187                               Singapore    0    0    8    0    0    0    4\n",
       "189                                Slovakia    0    0    8    0    0    0    4\n",
       "190                                Slovenia    0    0    8    0    0    0    4"
      ],
      "text/html": "<div>\n<style scoped>\n    .dataframe tbody tr th:only-of-type {\n        vertical-align: middle;\n    }\n\n    .dataframe tbody tr th {\n        vertical-align: top;\n    }\n\n    .dataframe thead th {\n        text-align: right;\n    }\n</style>\n<table border=\"1\" class=\"dataframe\">\n  <thead>\n    <tr style=\"text-align: right;\">\n      <th>variables</th>\n      <th>index</th>\n      <th>pop</th>\n      <th>GDP</th>\n      <th>dpt</th>\n      <th>dnt</th>\n      <th>dct</th>\n      <th>dmt</th>\n      <th>dbt</th>\n    </tr>\n  </thead>\n  <tbody>\n    <tr>\n      <th>150</th>\n      <td>Nigeria</td>\n      <td>0</td>\n      <td>0</td>\n      <td>8</td>\n      <td>0</td>\n      <td>0</td>\n      <td>0</td>\n      <td>4</td>\n    </tr>\n    <tr>\n      <th>155</th>\n      <td>Norway</td>\n      <td>0</td>\n      <td>0</td>\n      <td>8</td>\n      <td>0</td>\n      <td>0</td>\n      <td>0</td>\n      <td>4</td>\n    </tr>\n    <tr>\n      <th>156</th>\n      <td>Oman</td>\n      <td>0</td>\n      <td>0</td>\n      <td>8</td>\n      <td>0</td>\n      <td>0</td>\n      <td>0</td>\n      <td>4</td>\n    </tr>\n    <tr>\n      <th>157</th>\n      <td>Pakistan</td>\n      <td>0</td>\n      <td>0</td>\n      <td>8</td>\n      <td>0</td>\n      <td>0</td>\n      <td>0</td>\n      <td>4</td>\n    </tr>\n    <tr>\n      <th>158</th>\n      <td>Palau</td>\n      <td>0</td>\n      <td>0</td>\n      <td>18</td>\n      <td>0</td>\n      <td>0</td>\n      <td>0</td>\n      <td>18</td>\n    </tr>\n    <tr>\n      <th>159</th>\n      <td>Panama</td>\n      <td>0</td>\n      <td>0</td>\n      <td>8</td>\n      <td>0</td>\n      <td>0</td>\n      <td>0</td>\n      <td>4</td>\n    </tr>\n    <tr>\n      <th>160</th>\n      <td>Papua New Guinea</td>\n      <td>0</td>\n      <td>0</td>\n      <td>18</td>\n      <td>0</td>\n      <td>0</td>\n      <td>0</td>\n      <td>4</td>\n    </tr>\n    <tr>\n      <th>161</th>\n      <td>Paraguay</td>\n      <td>0</td>\n      <td>0</td>\n      <td>8</td>\n      <td>0</td>\n      <td>0</td>\n      <td>0</td>\n      <td>4</td>\n    </tr>\n    <tr>\n      <th>162</th>\n      <td>Peru</td>\n      <td>0</td>\n      <td>0</td>\n      <td>8</td>\n      <td>0</td>\n      <td>0</td>\n      <td>0</td>\n      <td>4</td>\n    </tr>\n    <tr>\n      <th>163</th>\n      <td>Philippines</td>\n      <td>0</td>\n      <td>0</td>\n      <td>8</td>\n      <td>0</td>\n      <td>0</td>\n      <td>0</td>\n      <td>4</td>\n    </tr>\n    <tr>\n      <th>165</th>\n      <td>Poland</td>\n      <td>0</td>\n      <td>0</td>\n      <td>8</td>\n      <td>0</td>\n      <td>0</td>\n      <td>0</td>\n      <td>4</td>\n    </tr>\n    <tr>\n      <th>166</th>\n      <td>Portugal</td>\n      <td>0</td>\n      <td>0</td>\n      <td>8</td>\n      <td>0</td>\n      <td>0</td>\n      <td>0</td>\n      <td>4</td>\n    </tr>\n    <tr>\n      <th>168</th>\n      <td>Qatar</td>\n      <td>0</td>\n      <td>0</td>\n      <td>8</td>\n      <td>3</td>\n      <td>3</td>\n      <td>3</td>\n      <td>7</td>\n    </tr>\n    <tr>\n      <th>169</th>\n      <td>Republic of Congo</td>\n      <td>0</td>\n      <td>0</td>\n      <td>8</td>\n      <td>0</td>\n      <td>0</td>\n      <td>0</td>\n      <td>4</td>\n    </tr>\n    <tr>\n      <th>171</th>\n      <td>Romania</td>\n      <td>0</td>\n      <td>0</td>\n      <td>8</td>\n      <td>0</td>\n      <td>0</td>\n      <td>0</td>\n      <td>4</td>\n    </tr>\n    <tr>\n      <th>172</th>\n      <td>Russia</td>\n      <td>0</td>\n      <td>0</td>\n      <td>8</td>\n      <td>0</td>\n      <td>0</td>\n      <td>0</td>\n      <td>4</td>\n    </tr>\n    <tr>\n      <th>173</th>\n      <td>Rwanda</td>\n      <td>0</td>\n      <td>0</td>\n      <td>18</td>\n      <td>0</td>\n      <td>0</td>\n      <td>0</td>\n      <td>4</td>\n    </tr>\n    <tr>\n      <th>175</th>\n      <td>Saint Kitts and Nevis</td>\n      <td>0</td>\n      <td>0</td>\n      <td>18</td>\n      <td>0</td>\n      <td>0</td>\n      <td>0</td>\n      <td>4</td>\n    </tr>\n    <tr>\n      <th>176</th>\n      <td>Saint Lucia</td>\n      <td>0</td>\n      <td>0</td>\n      <td>18</td>\n      <td>0</td>\n      <td>0</td>\n      <td>0</td>\n      <td>4</td>\n    </tr>\n    <tr>\n      <th>178</th>\n      <td>Saint Vincent and the Grenadines</td>\n      <td>0</td>\n      <td>0</td>\n      <td>18</td>\n      <td>0</td>\n      <td>0</td>\n      <td>0</td>\n      <td>4</td>\n    </tr>\n    <tr>\n      <th>179</th>\n      <td>Samoa</td>\n      <td>0</td>\n      <td>0</td>\n      <td>18</td>\n      <td>0</td>\n      <td>0</td>\n      <td>0</td>\n      <td>4</td>\n    </tr>\n    <tr>\n      <th>181</th>\n      <td>Sao Tome and Principe</td>\n      <td>0</td>\n      <td>0</td>\n      <td>18</td>\n      <td>3</td>\n      <td>3</td>\n      <td>3</td>\n      <td>7</td>\n    </tr>\n    <tr>\n      <th>182</th>\n      <td>Saudi Arabia</td>\n      <td>0</td>\n      <td>0</td>\n      <td>8</td>\n      <td>0</td>\n      <td>0</td>\n      <td>0</td>\n      <td>4</td>\n    </tr>\n    <tr>\n      <th>183</th>\n      <td>Senegal</td>\n      <td>0</td>\n      <td>0</td>\n      <td>8</td>\n      <td>0</td>\n      <td>0</td>\n      <td>0</td>\n      <td>4</td>\n    </tr>\n    <tr>\n      <th>184</th>\n      <td>Serbia</td>\n      <td>0</td>\n      <td>0</td>\n      <td>8</td>\n      <td>0</td>\n      <td>0</td>\n      <td>0</td>\n      <td>4</td>\n    </tr>\n    <tr>\n      <th>185</th>\n      <td>Seychelles</td>\n      <td>0</td>\n      <td>0</td>\n      <td>18</td>\n      <td>0</td>\n      <td>0</td>\n      <td>0</td>\n      <td>4</td>\n    </tr>\n    <tr>\n      <th>186</th>\n      <td>Sierra Leone</td>\n      <td>0</td>\n      <td>0</td>\n      <td>18</td>\n      <td>0</td>\n      <td>0</td>\n      <td>0</td>\n      <td>4</td>\n    </tr>\n    <tr>\n      <th>187</th>\n      <td>Singapore</td>\n      <td>0</td>\n      <td>0</td>\n      <td>8</td>\n      <td>0</td>\n      <td>0</td>\n      <td>0</td>\n      <td>4</td>\n    </tr>\n    <tr>\n      <th>189</th>\n      <td>Slovakia</td>\n      <td>0</td>\n      <td>0</td>\n      <td>8</td>\n      <td>0</td>\n      <td>0</td>\n      <td>0</td>\n      <td>4</td>\n    </tr>\n    <tr>\n      <th>190</th>\n      <td>Slovenia</td>\n      <td>0</td>\n      <td>0</td>\n      <td>8</td>\n      <td>0</td>\n      <td>0</td>\n      <td>0</td>\n      <td>4</td>\n    </tr>\n  </tbody>\n</table>\n</div>"
     },
     "metadata": {},
     "execution_count": 893
    }
   ],
   "source": [
    "data_filtered[120:150]"
   ]
  },
  {
   "cell_type": "code",
   "execution_count": 894,
   "metadata": {},
   "outputs": [],
   "source": [
    "drop_150 = ['Palau','Papua New Guinea','Rwanda','Saint Kitts and Nevis','Saint Lucia','Saint Vincent and the Grenadines','Samoa','Sao Tome and Principe','Seychelles','Sierra Leone']"
   ]
  },
  {
   "cell_type": "code",
   "execution_count": 895,
   "metadata": {},
   "outputs": [
    {
     "output_type": "execute_result",
     "data": {
      "text/plain": [
       "variables                     index  pop  GDP  dpt  dnt  dct  dmt  dbt\n",
       "191                 Solomon Islands    0    0   18    0    0    0    4\n",
       "192                         Somalia    0   18   18    0    0    0    4\n",
       "193                    South Africa    0    0    8    0    0    0    4\n",
       "194                     South Korea    0    0    8    0    0    0    4\n",
       "196                           Spain    0    0    8    0    0    0    4\n",
       "197                       Sri Lanka    0    0    8    0    0    0    4\n",
       "199                           Sudan    0    0    8    0    0    0    4\n",
       "200                        Suriname    0    0    8    0    0    0    4\n",
       "202                       Swaziland    0    0   18    0    0    0    4\n",
       "203                          Sweden    0    0    8    0    0    0    4\n",
       "204                     Switzerland    0    0    8    0    0    0    4\n",
       "205                           Syria    0   18    8    0    0    0    4\n",
       "206                          Taiwan    0    0    8    1    1    1    4\n",
       "207                      Tajikistan    0    0    8    0    0    0    4\n",
       "208                        Tanzania    0    0    8    0    0    0    4\n",
       "209                        Thailand    0    0    8    0    0    0    4\n",
       "210                     Timor-Leste    0    2   18   10    8   10    6\n",
       "211                            Togo    0    0    8    0    0    0    4\n",
       "213                           Tonga    0    0   18    0    0    0    4\n",
       "214             Trinidad and Tobago    0    0    8    0    0    0    4\n",
       "215                         Tunisia    0    0    8    0    0    0    4\n",
       "216                          Turkey    0    0    8    0    0    0    4\n",
       "217                    Turkmenistan    0    0    8    0    0    0    4\n",
       "219                          Tuvalu    0    0   18    0    0    0   18\n",
       "220                          Uganda    0    0   18    0    0    0    4\n",
       "221                         Ukraine    0    0    8    0    0    0    4\n",
       "222            United Arab Emirates    0    0    8    0    0    0    4\n",
       "223                  United Kingdom    0    0    8    0    0    0    4\n",
       "224        United States of America    0    0    8    0    0    0    4\n",
       "226                         Uruguay    0    0    8    0    0    0    4\n",
       "227                      Uzbekistan    0    0    8    0    0    0    4\n",
       "228                         Vanuatu    0    0   18    0    0    0    4\n",
       "229                       Venezuela    0    0    8    0    0    0    4\n",
       "230                        Viet Nam    0    0    8    0    0    0    4\n",
       "233                           Yemen    0    0    8    0    0    0    4\n",
       "234                          Zambia    0    0    8    0    0    0    4\n",
       "235                        Zimbabwe    0    0    8    0    0    0    4"
      ],
      "text/html": "<div>\n<style scoped>\n    .dataframe tbody tr th:only-of-type {\n        vertical-align: middle;\n    }\n\n    .dataframe tbody tr th {\n        vertical-align: top;\n    }\n\n    .dataframe thead th {\n        text-align: right;\n    }\n</style>\n<table border=\"1\" class=\"dataframe\">\n  <thead>\n    <tr style=\"text-align: right;\">\n      <th>variables</th>\n      <th>index</th>\n      <th>pop</th>\n      <th>GDP</th>\n      <th>dpt</th>\n      <th>dnt</th>\n      <th>dct</th>\n      <th>dmt</th>\n      <th>dbt</th>\n    </tr>\n  </thead>\n  <tbody>\n    <tr>\n      <th>191</th>\n      <td>Solomon Islands</td>\n      <td>0</td>\n      <td>0</td>\n      <td>18</td>\n      <td>0</td>\n      <td>0</td>\n      <td>0</td>\n      <td>4</td>\n    </tr>\n    <tr>\n      <th>192</th>\n      <td>Somalia</td>\n      <td>0</td>\n      <td>18</td>\n      <td>18</td>\n      <td>0</td>\n      <td>0</td>\n      <td>0</td>\n      <td>4</td>\n    </tr>\n    <tr>\n      <th>193</th>\n      <td>South Africa</td>\n      <td>0</td>\n      <td>0</td>\n      <td>8</td>\n      <td>0</td>\n      <td>0</td>\n      <td>0</td>\n      <td>4</td>\n    </tr>\n    <tr>\n      <th>194</th>\n      <td>South Korea</td>\n      <td>0</td>\n      <td>0</td>\n      <td>8</td>\n      <td>0</td>\n      <td>0</td>\n      <td>0</td>\n      <td>4</td>\n    </tr>\n    <tr>\n      <th>196</th>\n      <td>Spain</td>\n      <td>0</td>\n      <td>0</td>\n      <td>8</td>\n      <td>0</td>\n      <td>0</td>\n      <td>0</td>\n      <td>4</td>\n    </tr>\n    <tr>\n      <th>197</th>\n      <td>Sri Lanka</td>\n      <td>0</td>\n      <td>0</td>\n      <td>8</td>\n      <td>0</td>\n      <td>0</td>\n      <td>0</td>\n      <td>4</td>\n    </tr>\n    <tr>\n      <th>199</th>\n      <td>Sudan</td>\n      <td>0</td>\n      <td>0</td>\n      <td>8</td>\n      <td>0</td>\n      <td>0</td>\n      <td>0</td>\n      <td>4</td>\n    </tr>\n    <tr>\n      <th>200</th>\n      <td>Suriname</td>\n      <td>0</td>\n      <td>0</td>\n      <td>8</td>\n      <td>0</td>\n      <td>0</td>\n      <td>0</td>\n      <td>4</td>\n    </tr>\n    <tr>\n      <th>202</th>\n      <td>Swaziland</td>\n      <td>0</td>\n      <td>0</td>\n      <td>18</td>\n      <td>0</td>\n      <td>0</td>\n      <td>0</td>\n      <td>4</td>\n    </tr>\n    <tr>\n      <th>203</th>\n      <td>Sweden</td>\n      <td>0</td>\n      <td>0</td>\n      <td>8</td>\n      <td>0</td>\n      <td>0</td>\n      <td>0</td>\n      <td>4</td>\n    </tr>\n    <tr>\n      <th>204</th>\n      <td>Switzerland</td>\n      <td>0</td>\n      <td>0</td>\n      <td>8</td>\n      <td>0</td>\n      <td>0</td>\n      <td>0</td>\n      <td>4</td>\n    </tr>\n    <tr>\n      <th>205</th>\n      <td>Syria</td>\n      <td>0</td>\n      <td>18</td>\n      <td>8</td>\n      <td>0</td>\n      <td>0</td>\n      <td>0</td>\n      <td>4</td>\n    </tr>\n    <tr>\n      <th>206</th>\n      <td>Taiwan</td>\n      <td>0</td>\n      <td>0</td>\n      <td>8</td>\n      <td>1</td>\n      <td>1</td>\n      <td>1</td>\n      <td>4</td>\n    </tr>\n    <tr>\n      <th>207</th>\n      <td>Tajikistan</td>\n      <td>0</td>\n      <td>0</td>\n      <td>8</td>\n      <td>0</td>\n      <td>0</td>\n      <td>0</td>\n      <td>4</td>\n    </tr>\n    <tr>\n      <th>208</th>\n      <td>Tanzania</td>\n      <td>0</td>\n      <td>0</td>\n      <td>8</td>\n      <td>0</td>\n      <td>0</td>\n      <td>0</td>\n      <td>4</td>\n    </tr>\n    <tr>\n      <th>209</th>\n      <td>Thailand</td>\n      <td>0</td>\n      <td>0</td>\n      <td>8</td>\n      <td>0</td>\n      <td>0</td>\n      <td>0</td>\n      <td>4</td>\n    </tr>\n    <tr>\n      <th>210</th>\n      <td>Timor-Leste</td>\n      <td>0</td>\n      <td>2</td>\n      <td>18</td>\n      <td>10</td>\n      <td>8</td>\n      <td>10</td>\n      <td>6</td>\n    </tr>\n    <tr>\n      <th>211</th>\n      <td>Togo</td>\n      <td>0</td>\n      <td>0</td>\n      <td>8</td>\n      <td>0</td>\n      <td>0</td>\n      <td>0</td>\n      <td>4</td>\n    </tr>\n    <tr>\n      <th>213</th>\n      <td>Tonga</td>\n      <td>0</td>\n      <td>0</td>\n      <td>18</td>\n      <td>0</td>\n      <td>0</td>\n      <td>0</td>\n      <td>4</td>\n    </tr>\n    <tr>\n      <th>214</th>\n      <td>Trinidad and Tobago</td>\n      <td>0</td>\n      <td>0</td>\n      <td>8</td>\n      <td>0</td>\n      <td>0</td>\n      <td>0</td>\n      <td>4</td>\n    </tr>\n    <tr>\n      <th>215</th>\n      <td>Tunisia</td>\n      <td>0</td>\n      <td>0</td>\n      <td>8</td>\n      <td>0</td>\n      <td>0</td>\n      <td>0</td>\n      <td>4</td>\n    </tr>\n    <tr>\n      <th>216</th>\n      <td>Turkey</td>\n      <td>0</td>\n      <td>0</td>\n      <td>8</td>\n      <td>0</td>\n      <td>0</td>\n      <td>0</td>\n      <td>4</td>\n    </tr>\n    <tr>\n      <th>217</th>\n      <td>Turkmenistan</td>\n      <td>0</td>\n      <td>0</td>\n      <td>8</td>\n      <td>0</td>\n      <td>0</td>\n      <td>0</td>\n      <td>4</td>\n    </tr>\n    <tr>\n      <th>219</th>\n      <td>Tuvalu</td>\n      <td>0</td>\n      <td>0</td>\n      <td>18</td>\n      <td>0</td>\n      <td>0</td>\n      <td>0</td>\n      <td>18</td>\n    </tr>\n    <tr>\n      <th>220</th>\n      <td>Uganda</td>\n      <td>0</td>\n      <td>0</td>\n      <td>18</td>\n      <td>0</td>\n      <td>0</td>\n      <td>0</td>\n      <td>4</td>\n    </tr>\n    <tr>\n      <th>221</th>\n      <td>Ukraine</td>\n      <td>0</td>\n      <td>0</td>\n      <td>8</td>\n      <td>0</td>\n      <td>0</td>\n      <td>0</td>\n      <td>4</td>\n    </tr>\n    <tr>\n      <th>222</th>\n      <td>United Arab Emirates</td>\n      <td>0</td>\n      <td>0</td>\n      <td>8</td>\n      <td>0</td>\n      <td>0</td>\n      <td>0</td>\n      <td>4</td>\n    </tr>\n    <tr>\n      <th>223</th>\n      <td>United Kingdom</td>\n      <td>0</td>\n      <td>0</td>\n      <td>8</td>\n      <td>0</td>\n      <td>0</td>\n      <td>0</td>\n      <td>4</td>\n    </tr>\n    <tr>\n      <th>224</th>\n      <td>United States of America</td>\n      <td>0</td>\n      <td>0</td>\n      <td>8</td>\n      <td>0</td>\n      <td>0</td>\n      <td>0</td>\n      <td>4</td>\n    </tr>\n    <tr>\n      <th>226</th>\n      <td>Uruguay</td>\n      <td>0</td>\n      <td>0</td>\n      <td>8</td>\n      <td>0</td>\n      <td>0</td>\n      <td>0</td>\n      <td>4</td>\n    </tr>\n    <tr>\n      <th>227</th>\n      <td>Uzbekistan</td>\n      <td>0</td>\n      <td>0</td>\n      <td>8</td>\n      <td>0</td>\n      <td>0</td>\n      <td>0</td>\n      <td>4</td>\n    </tr>\n    <tr>\n      <th>228</th>\n      <td>Vanuatu</td>\n      <td>0</td>\n      <td>0</td>\n      <td>18</td>\n      <td>0</td>\n      <td>0</td>\n      <td>0</td>\n      <td>4</td>\n    </tr>\n    <tr>\n      <th>229</th>\n      <td>Venezuela</td>\n      <td>0</td>\n      <td>0</td>\n      <td>8</td>\n      <td>0</td>\n      <td>0</td>\n      <td>0</td>\n      <td>4</td>\n    </tr>\n    <tr>\n      <th>230</th>\n      <td>Viet Nam</td>\n      <td>0</td>\n      <td>0</td>\n      <td>8</td>\n      <td>0</td>\n      <td>0</td>\n      <td>0</td>\n      <td>4</td>\n    </tr>\n    <tr>\n      <th>233</th>\n      <td>Yemen</td>\n      <td>0</td>\n      <td>0</td>\n      <td>8</td>\n      <td>0</td>\n      <td>0</td>\n      <td>0</td>\n      <td>4</td>\n    </tr>\n    <tr>\n      <th>234</th>\n      <td>Zambia</td>\n      <td>0</td>\n      <td>0</td>\n      <td>8</td>\n      <td>0</td>\n      <td>0</td>\n      <td>0</td>\n      <td>4</td>\n    </tr>\n    <tr>\n      <th>235</th>\n      <td>Zimbabwe</td>\n      <td>0</td>\n      <td>0</td>\n      <td>8</td>\n      <td>0</td>\n      <td>0</td>\n      <td>0</td>\n      <td>4</td>\n    </tr>\n  </tbody>\n</table>\n</div>"
     },
     "metadata": {},
     "execution_count": 895
    }
   ],
   "source": [
    "data_filtered[150:]"
   ]
  },
  {
   "cell_type": "code",
   "execution_count": 896,
   "metadata": {},
   "outputs": [],
   "source": [
    "drop_187 = ['Solomon Islands','Somalia','Swaziland','Syria','Timor-Leste','Tonga','Tuvalu','Uganda','Vanuatu']"
   ]
  },
  {
   "source": [
    "### Join all countries in list to drop"
   ],
   "cell_type": "markdown",
   "metadata": {}
  },
  {
   "cell_type": "code",
   "execution_count": 897,
   "metadata": {},
   "outputs": [],
   "source": [
    "final_drop = drop_ + drop_30 + drop_60 + drop_90 + drop_120 + drop_150 + drop_187"
   ]
  },
  {
   "cell_type": "code",
   "execution_count": 898,
   "metadata": {},
   "outputs": [
    {
     "output_type": "execute_result",
     "data": {
      "text/plain": [
       "100"
      ]
     },
     "metadata": {},
     "execution_count": 898
    }
   ],
   "source": [
    "len(final_drop)"
   ]
  },
  {
   "cell_type": "code",
   "execution_count": 899,
   "metadata": {},
   "outputs": [],
   "source": [
    "li=[]\n",
    "for country in final_drop:\n",
    "    ind = countries.index(str(country))\n",
    "    li.append(ind)\n",
    "\n",
    "#ind_to_remove=list(set(li))"
   ]
  },
  {
   "cell_type": "code",
   "execution_count": 900,
   "metadata": {},
   "outputs": [],
   "source": [
    "final = []\n",
    "for ind in range(len(all_data)):\n",
    "    if ind not in li:\n",
    "        final.append(all_data[ind])"
   ]
  },
  {
   "cell_type": "code",
   "execution_count": 901,
   "metadata": {},
   "outputs": [
    {
     "output_type": "execute_result",
     "data": {
      "text/plain": [
       "136"
      ]
     },
     "metadata": {},
     "execution_count": 901
    }
   ],
   "source": [
    "len(final)"
   ]
  },
  {
   "source": [
    "## We have information about 136 countries"
   ],
   "cell_type": "markdown",
   "metadata": {}
  },
  {
   "cell_type": "code",
   "execution_count": 902,
   "metadata": {},
   "outputs": [],
   "source": [
    "def list_to_df(lst):\n",
    "    df = lst[0]\n",
    "    for item in range(1,len(lst)):\n",
    "        df = df.append(lst[item])\n",
    "    return df"
   ]
  },
  {
   "cell_type": "code",
   "execution_count": 903,
   "metadata": {},
   "outputs": [],
   "source": [
    "data_complete = list_to_df(final)"
   ]
  },
  {
   "cell_type": "code",
   "execution_count": 904,
   "metadata": {},
   "outputs": [
    {
     "output_type": "execute_result",
     "data": {
      "text/plain": [
       "country          0\n",
       "year             0\n",
       "population       0\n",
       "GPD              0\n",
       "DPT           1088\n",
       "DNT              4\n",
       "DCT             12\n",
       "DMT              4\n",
       "DBT            547\n",
       "dtype: int64"
      ]
     },
     "metadata": {},
     "execution_count": 904
    }
   ],
   "source": [
    "data_complete.isna().sum()"
   ]
  },
  {
   "source": [
    "# `DBT` Column\n",
    "\n",
    "# Generate data for 2011-2014\n",
    "\n",
    "## We expect 552 NaN in * DBT * but we have 555, so that means we have 3 NaN n the years we collected information"
   ],
   "cell_type": "markdown",
   "metadata": {}
  },
  {
   "cell_type": "code",
   "execution_count": 905,
   "metadata": {},
   "outputs": [],
   "source": [
    "from statsmodels.tsa.ar_model import AR\n",
    "import datetime"
   ]
  },
  {
   "cell_type": "code",
   "execution_count": 906,
   "metadata": {
    "tags": [
     "outputPrepend"
    ]
   },
   "outputs": [
    {
     "output_type": "stream",
     "name": "stderr",
     "text": [
      "l be ignored when e.g. forecasting.\n",
      "  warnings.warn('An unsupported index was provided and will be'\n",
      "C:\\Python38\\lib\\site-packages\\statsmodels\\tsa\\base\\tsa_model.py:376: ValueWarning: No supported index is available. Prediction results will be given with an integer index beginning at `start`.\n",
      "  warnings.warn('No supported index is available.'\n",
      "C:\\Python38\\lib\\site-packages\\statsmodels\\tsa\\base\\tsa_model.py:578: ValueWarning: An unsupported index was provided and will be ignored when e.g. forecasting.\n",
      "  warnings.warn('An unsupported index was provided and will be'\n",
      "C:\\Python38\\lib\\site-packages\\statsmodels\\tsa\\base\\tsa_model.py:376: ValueWarning: No supported index is available. Prediction results will be given with an integer index beginning at `start`.\n",
      "  warnings.warn('No supported index is available.'\n",
      "C:\\Python38\\lib\\site-packages\\statsmodels\\tsa\\base\\tsa_model.py:578: ValueWarning: An unsupported index was provided and will be ignored when e.g. forecasting.\n",
      "  warnings.warn('An unsupported index was provided and will be'\n",
      "C:\\Python38\\lib\\site-packages\\statsmodels\\tsa\\base\\tsa_model.py:376: ValueWarning: No supported index is available. Prediction results will be given with an integer index beginning at `start`.\n",
      "  warnings.warn('No supported index is available.'\n",
      "C:\\Python38\\lib\\site-packages\\statsmodels\\tsa\\base\\tsa_model.py:578: ValueWarning: An unsupported index was provided and will be ignored when e.g. forecasting.\n",
      "  warnings.warn('An unsupported index was provided and will be'\n",
      "C:\\Python38\\lib\\site-packages\\statsmodels\\tsa\\base\\tsa_model.py:376: ValueWarning: No supported index is available. Prediction results will be given with an integer index beginning at `start`.\n",
      "  warnings.warn('No supported index is available.'\n",
      "C:\\Python38\\lib\\site-packages\\statsmodels\\tsa\\base\\tsa_model.py:578: ValueWarning: An unsupported index was provided and will be ignored when e.g. forecasting.\n",
      "  warnings.warn('An unsupported index was provided and will be'\n",
      "C:\\Python38\\lib\\site-packages\\statsmodels\\tsa\\base\\tsa_model.py:376: ValueWarning: No supported index is available. Prediction results will be given with an integer index beginning at `start`.\n",
      "  warnings.warn('No supported index is available.'\n",
      "C:\\Python38\\lib\\site-packages\\statsmodels\\tsa\\base\\tsa_model.py:578: ValueWarning: An unsupported index was provided and will be ignored when e.g. forecasting.\n",
      "  warnings.warn('An unsupported index was provided and will be'\n",
      "C:\\Python38\\lib\\site-packages\\statsmodels\\tsa\\base\\tsa_model.py:376: ValueWarning: No supported index is available. Prediction results will be given with an integer index beginning at `start`.\n",
      "  warnings.warn('No supported index is available.'\n",
      "C:\\Python38\\lib\\site-packages\\statsmodels\\tsa\\base\\tsa_model.py:578: ValueWarning: An unsupported index was provided and will be ignored when e.g. forecasting.\n",
      "  warnings.warn('An unsupported index was provided and will be'\n",
      "C:\\Python38\\lib\\site-packages\\statsmodels\\tsa\\base\\tsa_model.py:376: ValueWarning: No supported index is available. Prediction results will be given with an integer index beginning at `start`.\n",
      "  warnings.warn('No supported index is available.'\n",
      "C:\\Python38\\lib\\site-packages\\statsmodels\\tsa\\base\\tsa_model.py:578: ValueWarning: An unsupported index was provided and will be ignored when e.g. forecasting.\n",
      "  warnings.warn('An unsupported index was provided and will be'\n",
      "C:\\Python38\\lib\\site-packages\\statsmodels\\tsa\\base\\tsa_model.py:376: ValueWarning: No supported index is available. Prediction results will be given with an integer index beginning at `start`.\n",
      "  warnings.warn('No supported index is available.'\n",
      "C:\\Python38\\lib\\site-packages\\statsmodels\\tsa\\base\\tsa_model.py:578: ValueWarning: An unsupported index was provided and will be ignored when e.g. forecasting.\n",
      "  warnings.warn('An unsupported index was provided and will be'\n",
      "C:\\Python38\\lib\\site-packages\\statsmodels\\tsa\\base\\tsa_model.py:376: ValueWarning: No supported index is available. Prediction results will be given with an integer index beginning at `start`.\n",
      "  warnings.warn('No supported index is available.'\n",
      "C:\\Python38\\lib\\site-packages\\statsmodels\\tsa\\base\\tsa_model.py:578: ValueWarning: An unsupported index was provided and will be ignored when e.g. forecasting.\n",
      "  warnings.warn('An unsupported index was provided and will be'\n",
      "C:\\Python38\\lib\\site-packages\\statsmodels\\tsa\\base\\tsa_model.py:376: ValueWarning: No supported index is available. Prediction results will be given with an integer index beginning at `start`.\n",
      "  warnings.warn('No supported index is available.'\n",
      "C:\\Python38\\lib\\site-packages\\statsmodels\\tsa\\base\\tsa_model.py:578: ValueWarning: An unsupported index was provided and will be ignored when e.g. forecasting.\n",
      "  warnings.warn('An unsupported index was provided and will be'\n",
      "C:\\Python38\\lib\\site-packages\\statsmodels\\tsa\\base\\tsa_model.py:376: ValueWarning: No supported index is available. Prediction results will be given with an integer index beginning at `start`.\n",
      "  warnings.warn('No supported index is available.'\n",
      "C:\\Python38\\lib\\site-packages\\statsmodels\\tsa\\base\\tsa_model.py:578: ValueWarning: An unsupported index was provided and will be ignored when e.g. forecasting.\n",
      "  warnings.warn('An unsupported index was provided and will be'\n",
      "C:\\Python38\\lib\\site-packages\\statsmodels\\tsa\\base\\tsa_model.py:376: ValueWarning: No supported index is available. Prediction results will be given with an integer index beginning at `start`.\n",
      "  warnings.warn('No supported index is available.'\n",
      "C:\\Python38\\lib\\site-packages\\statsmodels\\tsa\\base\\tsa_model.py:578: ValueWarning: An unsupported index was provided and will be ignored when e.g. forecasting.\n",
      "  warnings.warn('An unsupported index was provided and will be'\n",
      "C:\\Python38\\lib\\site-packages\\statsmodels\\tsa\\base\\tsa_model.py:376: ValueWarning: No supported index is available. Prediction results will be given with an integer index beginning at `start`.\n",
      "  warnings.warn('No supported index is available.'\n",
      "C:\\Python38\\lib\\site-packages\\statsmodels\\tsa\\base\\tsa_model.py:578: ValueWarning: An unsupported index was provided and will be ignored when e.g. forecasting.\n",
      "  warnings.warn('An unsupported index was provided and will be'\n",
      "C:\\Python38\\lib\\site-packages\\statsmodels\\tsa\\base\\tsa_model.py:376: ValueWarning: No supported index is available. Prediction results will be given with an integer index beginning at `start`.\n",
      "  warnings.warn('No supported index is available.'\n",
      "C:\\Python38\\lib\\site-packages\\statsmodels\\tsa\\base\\tsa_model.py:578: ValueWarning: An unsupported index was provided and will be ignored when e.g. forecasting.\n",
      "  warnings.warn('An unsupported index was provided and will be'\n",
      "C:\\Python38\\lib\\site-packages\\statsmodels\\tsa\\base\\tsa_model.py:376: ValueWarning: No supported index is available. Prediction results will be given with an integer index beginning at `start`.\n",
      "  warnings.warn('No supported index is available.'\n",
      "C:\\Python38\\lib\\site-packages\\statsmodels\\tsa\\base\\tsa_model.py:578: ValueWarning: An unsupported index was provided and will be ignored when e.g. forecasting.\n",
      "  warnings.warn('An unsupported index was provided and will be'\n",
      "C:\\Python38\\lib\\site-packages\\statsmodels\\tsa\\base\\tsa_model.py:376: ValueWarning: No supported index is available. Prediction results will be given with an integer index beginning at `start`.\n",
      "  warnings.warn('No supported index is available.'\n",
      "C:\\Python38\\lib\\site-packages\\statsmodels\\tsa\\base\\tsa_model.py:578: ValueWarning: An unsupported index was provided and will be ignored when e.g. forecasting.\n",
      "  warnings.warn('An unsupported index was provided and will be'\n",
      "C:\\Python38\\lib\\site-packages\\statsmodels\\tsa\\base\\tsa_model.py:376: ValueWarning: No supported index is available. Prediction results will be given with an integer index beginning at `start`.\n",
      "  warnings.warn('No supported index is available.'\n",
      "C:\\Python38\\lib\\site-packages\\statsmodels\\tsa\\base\\tsa_model.py:578: ValueWarning: An unsupported index was provided and will be ignored when e.g. forecasting.\n",
      "  warnings.warn('An unsupported index was provided and will be'\n",
      "C:\\Python38\\lib\\site-packages\\statsmodels\\tsa\\base\\tsa_model.py:376: ValueWarning: No supported index is available. Prediction results will be given with an integer index beginning at `start`.\n",
      "  warnings.warn('No supported index is available.'\n",
      "C:\\Python38\\lib\\site-packages\\statsmodels\\tsa\\base\\tsa_model.py:578: ValueWarning: An unsupported index was provided and will be ignored when e.g. forecasting.\n",
      "  warnings.warn('An unsupported index was provided and will be'\n",
      "C:\\Python38\\lib\\site-packages\\statsmodels\\tsa\\base\\tsa_model.py:376: ValueWarning: No supported index is available. Prediction results will be given with an integer index beginning at `start`.\n",
      "  warnings.warn('No supported index is available.'\n",
      "C:\\Python38\\lib\\site-packages\\statsmodels\\tsa\\base\\tsa_model.py:578: ValueWarning: An unsupported index was provided and will be ignored when e.g. forecasting.\n",
      "  warnings.warn('An unsupported index was provided and will be'\n",
      "C:\\Python38\\lib\\site-packages\\statsmodels\\tsa\\base\\tsa_model.py:376: ValueWarning: No supported index is available. Prediction results will be given with an integer index beginning at `start`.\n",
      "  warnings.warn('No supported index is available.'\n",
      "C:\\Python38\\lib\\site-packages\\statsmodels\\tsa\\base\\tsa_model.py:578: ValueWarning: An unsupported index was provided and will be ignored when e.g. forecasting.\n",
      "  warnings.warn('An unsupported index was provided and will be'\n",
      "C:\\Python38\\lib\\site-packages\\statsmodels\\tsa\\base\\tsa_model.py:376: ValueWarning: No supported index is available. Prediction results will be given with an integer index beginning at `start`.\n",
      "  warnings.warn('No supported index is available.'\n",
      "C:\\Python38\\lib\\site-packages\\statsmodels\\tsa\\base\\tsa_model.py:578: ValueWarning: An unsupported index was provided and will be ignored when e.g. forecasting.\n",
      "  warnings.warn('An unsupported index was provided and will be'\n",
      "C:\\Python38\\lib\\site-packages\\statsmodels\\tsa\\base\\tsa_model.py:376: ValueWarning: No supported index is available. Prediction results will be given with an integer index beginning at `start`.\n",
      "  warnings.warn('No supported index is available.'\n",
      "C:\\Python38\\lib\\site-packages\\statsmodels\\tsa\\base\\tsa_model.py:578: ValueWarning: An unsupported index was provided and will be ignored when e.g. forecasting.\n",
      "  warnings.warn('An unsupported index was provided and will be'\n",
      "C:\\Python38\\lib\\site-packages\\statsmodels\\tsa\\base\\tsa_model.py:376: ValueWarning: No supported index is available. Prediction results will be given with an integer index beginning at `start`.\n",
      "  warnings.warn('No supported index is available.'\n",
      "C:\\Python38\\lib\\site-packages\\statsmodels\\tsa\\base\\tsa_model.py:578: ValueWarning: An unsupported index was provided and will be ignored when e.g. forecasting.\n",
      "  warnings.warn('An unsupported index was provided and will be'\n",
      "C:\\Python38\\lib\\site-packages\\statsmodels\\tsa\\base\\tsa_model.py:376: ValueWarning: No supported index is available. Prediction results will be given with an integer index beginning at `start`.\n",
      "  warnings.warn('No supported index is available.'\n",
      "C:\\Python38\\lib\\site-packages\\statsmodels\\tsa\\base\\tsa_model.py:578: ValueWarning: An unsupported index was provided and will be ignored when e.g. forecasting.\n",
      "  warnings.warn('An unsupported index was provided and will be'\n",
      "C:\\Python38\\lib\\site-packages\\statsmodels\\tsa\\base\\tsa_model.py:376: ValueWarning: No supported index is available. Prediction results will be given with an integer index beginning at `start`.\n",
      "  warnings.warn('No supported index is available.'\n",
      "C:\\Python38\\lib\\site-packages\\statsmodels\\tsa\\base\\tsa_model.py:578: ValueWarning: An unsupported index was provided and will be ignored when e.g. forecasting.\n",
      "  warnings.warn('An unsupported index was provided and will be'\n",
      "C:\\Python38\\lib\\site-packages\\statsmodels\\tsa\\base\\tsa_model.py:376: ValueWarning: No supported index is available. Prediction results will be given with an integer index beginning at `start`.\n",
      "  warnings.warn('No supported index is available.'\n",
      "C:\\Python38\\lib\\site-packages\\statsmodels\\tsa\\base\\tsa_model.py:578: ValueWarning: An unsupported index was provided and will be ignored when e.g. forecasting.\n",
      "  warnings.warn('An unsupported index was provided and will be'\n",
      "C:\\Python38\\lib\\site-packages\\statsmodels\\tsa\\base\\tsa_model.py:376: ValueWarning: No supported index is available. Prediction results will be given with an integer index beginning at `start`.\n",
      "  warnings.warn('No supported index is available.'\n",
      "C:\\Python38\\lib\\site-packages\\statsmodels\\tsa\\base\\tsa_model.py:578: ValueWarning: An unsupported index was provided and will be ignored when e.g. forecasting.\n",
      "  warnings.warn('An unsupported index was provided and will be'\n",
      "C:\\Python38\\lib\\site-packages\\statsmodels\\tsa\\base\\tsa_model.py:376: ValueWarning: No supported index is available. Prediction results will be given with an integer index beginning at `start`.\n",
      "  warnings.warn('No supported index is available.'\n",
      "C:\\Python38\\lib\\site-packages\\statsmodels\\tsa\\base\\tsa_model.py:578: ValueWarning: An unsupported index was provided and will be ignored when e.g. forecasting.\n",
      "  warnings.warn('An unsupported index was provided and will be'\n",
      "C:\\Python38\\lib\\site-packages\\statsmodels\\tsa\\base\\tsa_model.py:376: ValueWarning: No supported index is available. Prediction results will be given with an integer index beginning at `start`.\n",
      "  warnings.warn('No supported index is available.'\n",
      "C:\\Python38\\lib\\site-packages\\statsmodels\\tsa\\base\\tsa_model.py:578: ValueWarning: An unsupported index was provided and will be ignored when e.g. forecasting.\n",
      "  warnings.warn('An unsupported index was provided and will be'\n",
      "C:\\Python38\\lib\\site-packages\\statsmodels\\tsa\\base\\tsa_model.py:376: ValueWarning: No supported index is available. Prediction results will be given with an integer index beginning at `start`.\n",
      "  warnings.warn('No supported index is available.'\n",
      "C:\\Python38\\lib\\site-packages\\statsmodels\\tsa\\base\\tsa_model.py:578: ValueWarning: An unsupported index was provided and will be ignored when e.g. forecasting.\n",
      "  warnings.warn('An unsupported index was provided and will be'\n",
      "C:\\Python38\\lib\\site-packages\\statsmodels\\tsa\\base\\tsa_model.py:376: ValueWarning: No supported index is available. Prediction results will be given with an integer index beginning at `start`.\n",
      "  warnings.warn('No supported index is available.'\n",
      "C:\\Python38\\lib\\site-packages\\statsmodels\\tsa\\base\\tsa_model.py:578: ValueWarning: An unsupported index was provided and will be ignored when e.g. forecasting.\n",
      "  warnings.warn('An unsupported index was provided and will be'\n",
      "C:\\Python38\\lib\\site-packages\\statsmodels\\tsa\\base\\tsa_model.py:376: ValueWarning: No supported index is available. Prediction results will be given with an integer index beginning at `start`.\n",
      "  warnings.warn('No supported index is available.'\n",
      "C:\\Python38\\lib\\site-packages\\statsmodels\\tsa\\base\\tsa_model.py:578: ValueWarning: An unsupported index was provided and will be ignored when e.g. forecasting.\n",
      "  warnings.warn('An unsupported index was provided and will be'\n",
      "C:\\Python38\\lib\\site-packages\\statsmodels\\tsa\\base\\tsa_model.py:376: ValueWarning: No supported index is available. Prediction results will be given with an integer index beginning at `start`.\n",
      "  warnings.warn('No supported index is available.'\n",
      "C:\\Python38\\lib\\site-packages\\statsmodels\\tsa\\base\\tsa_model.py:578: ValueWarning: An unsupported index was provided and will be ignored when e.g. forecasting.\n",
      "  warnings.warn('An unsupported index was provided and will be'\n",
      "C:\\Python38\\lib\\site-packages\\statsmodels\\tsa\\base\\tsa_model.py:376: ValueWarning: No supported index is available. Prediction results will be given with an integer index beginning at `start`.\n",
      "  warnings.warn('No supported index is available.'\n",
      "C:\\Python38\\lib\\site-packages\\statsmodels\\tsa\\base\\tsa_model.py:578: ValueWarning: An unsupported index was provided and will be ignored when e.g. forecasting.\n",
      "  warnings.warn('An unsupported index was provided and will be'\n",
      "C:\\Python38\\lib\\site-packages\\statsmodels\\tsa\\base\\tsa_model.py:376: ValueWarning: No supported index is available. Prediction results will be given with an integer index beginning at `start`.\n",
      "  warnings.warn('No supported index is available.'\n",
      "C:\\Python38\\lib\\site-packages\\statsmodels\\tsa\\base\\tsa_model.py:578: ValueWarning: An unsupported index was provided and will be ignored when e.g. forecasting.\n",
      "  warnings.warn('An unsupported index was provided and will be'\n",
      "C:\\Python38\\lib\\site-packages\\statsmodels\\tsa\\base\\tsa_model.py:376: ValueWarning: No supported index is available. Prediction results will be given with an integer index beginning at `start`.\n",
      "  warnings.warn('No supported index is available.'\n",
      "C:\\Python38\\lib\\site-packages\\statsmodels\\tsa\\base\\tsa_model.py:578: ValueWarning: An unsupported index was provided and will be ignored when e.g. forecasting.\n",
      "  warnings.warn('An unsupported index was provided and will be'\n",
      "C:\\Python38\\lib\\site-packages\\statsmodels\\tsa\\base\\tsa_model.py:376: ValueWarning: No supported index is available. Prediction results will be given with an integer index beginning at `start`.\n",
      "  warnings.warn('No supported index is available.'\n",
      "C:\\Python38\\lib\\site-packages\\statsmodels\\tsa\\base\\tsa_model.py:578: ValueWarning: An unsupported index was provided and will be ignored when e.g. forecasting.\n",
      "  warnings.warn('An unsupported index was provided and will be'\n",
      "C:\\Python38\\lib\\site-packages\\statsmodels\\tsa\\base\\tsa_model.py:376: ValueWarning: No supported index is available. Prediction results will be given with an integer index beginning at `start`.\n",
      "  warnings.warn('No supported index is available.'\n",
      "C:\\Python38\\lib\\site-packages\\statsmodels\\tsa\\base\\tsa_model.py:578: ValueWarning: An unsupported index was provided and will be ignored when e.g. forecasting.\n",
      "  warnings.warn('An unsupported index was provided and will be'\n",
      "C:\\Python38\\lib\\site-packages\\statsmodels\\tsa\\base\\tsa_model.py:376: ValueWarning: No supported index is available. Prediction results will be given with an integer index beginning at `start`.\n",
      "  warnings.warn('No supported index is available.'\n",
      "C:\\Python38\\lib\\site-packages\\statsmodels\\tsa\\base\\tsa_model.py:578: ValueWarning: An unsupported index was provided and will be ignored when e.g. forecasting.\n",
      "  warnings.warn('An unsupported index was provided and will be'\n",
      "C:\\Python38\\lib\\site-packages\\statsmodels\\tsa\\base\\tsa_model.py:376: ValueWarning: No supported index is available. Prediction results will be given with an integer index beginning at `start`.\n",
      "  warnings.warn('No supported index is available.'\n",
      "C:\\Python38\\lib\\site-packages\\statsmodels\\tsa\\base\\tsa_model.py:578: ValueWarning: An unsupported index was provided and will be ignored when e.g. forecasting.\n",
      "  warnings.warn('An unsupported index was provided and will be'\n",
      "C:\\Python38\\lib\\site-packages\\statsmodels\\tsa\\base\\tsa_model.py:376: ValueWarning: No supported index is available. Prediction results will be given with an integer index beginning at `start`.\n",
      "  warnings.warn('No supported index is available.'\n",
      "C:\\Python38\\lib\\site-packages\\statsmodels\\tsa\\base\\tsa_model.py:578: ValueWarning: An unsupported index was provided and will be ignored when e.g. forecasting.\n",
      "  warnings.warn('An unsupported index was provided and will be'\n",
      "C:\\Python38\\lib\\site-packages\\statsmodels\\tsa\\base\\tsa_model.py:376: ValueWarning: No supported index is available. Prediction results will be given with an integer index beginning at `start`.\n",
      "  warnings.warn('No supported index is available.'\n",
      "C:\\Python38\\lib\\site-packages\\statsmodels\\tsa\\base\\tsa_model.py:578: ValueWarning: An unsupported index was provided and will be ignored when e.g. forecasting.\n",
      "  warnings.warn('An unsupported index was provided and will be'\n",
      "C:\\Python38\\lib\\site-packages\\statsmodels\\tsa\\base\\tsa_model.py:376: ValueWarning: No supported index is available. Prediction results will be given with an integer index beginning at `start`.\n",
      "  warnings.warn('No supported index is available.'\n"
     ]
    }
   ],
   "source": [
    "for country in range(0,len(final)):\n",
    "    if final[country].isna().sum()[-1] == 4:\n",
    "        df = final[country]\n",
    "        df.index = pd.to_datetime(df['year'],format='%Y').dt.year\n",
    "        features = df['DBT']\n",
    "        ff = features[:-4]\n",
    "        model = AR(ff)\n",
    "        model_fit = model.fit(maxlag=3)\n",
    "        d_f = model_fit.predict(start=len(ff), end=len(ff)+3, dynamic=False)\n",
    "        d_f_final = ff.to_list() + d_f.to_list()\n",
    "        df['DBT'] = d_f_final\n",
    "    elif final[country].isna().sum()[-1] ==0:\n",
    "        continue\n",
    "    else:\n",
    "        df = final[country]\n",
    "        features = df['DBT'].fillna(df['DBT'].mean())\n",
    "        ff = features[:-4]\n",
    "        model = AR(ff)\n",
    "        model_fit = model.fit(maxlag=3)\n",
    "        d_f = model_fit.predict(start=len(ff), end=len(ff)+3, dynamic=False)\n",
    "        d_f_final = ff.to_list() + d_f.to_list()\n",
    "        df['DBT'] = d_f_final"
   ]
  },
  {
   "source": [
    "# `DPT` Column\n",
    "\n",
    "# Generate data for 1997-2004\n",
    "\n",
    "### The time series here has to be inverted"
   ],
   "cell_type": "markdown",
   "metadata": {}
  },
  {
   "cell_type": "code",
   "execution_count": 907,
   "metadata": {},
   "outputs": [
    {
     "output_type": "execute_result",
     "data": {
      "text/plain": [
       "135"
      ]
     },
     "metadata": {},
     "execution_count": 907
    }
   ],
   "source": [
    "final.pop(0)\n",
    "len(final)"
   ]
  },
  {
   "source": [
    "### I decide to remove `Albania` because the values for DPT was to different from the pdf and has 3 or 4 zeros"
   ],
   "cell_type": "markdown",
   "metadata": {}
  },
  {
   "cell_type": "code",
   "execution_count": 908,
   "metadata": {},
   "outputs": [
    {
     "output_type": "execute_result",
     "data": {
      "text/plain": [
       "country          0\n",
       "year             0\n",
       "population       0\n",
       "GPD              0\n",
       "DPT           1080\n",
       "DNT              4\n",
       "DCT             12\n",
       "DMT              4\n",
       "DBT              0\n",
       "dtype: int64"
      ]
     },
     "metadata": {},
     "execution_count": 908
    }
   ],
   "source": [
    "data_complete = list_to_df(final)\n",
    "data_complete.isna().sum()"
   ]
  },
  {
   "cell_type": "code",
   "execution_count": 917,
   "metadata": {},
   "outputs": [
    {
     "output_type": "execute_result",
     "data": {
      "text/plain": [
       "              year    population           GPD          DPT          DNT  \\\n",
       "count  2430.000000  2.430000e+03  2.430000e+03  1350.000000  2426.000000   \n",
       "mean   2005.500000  4.657536e+07  5.749026e+11   444.998245   -23.872471   \n",
       "std       5.189195  1.523057e+08  1.645009e+12   281.960631     1.314099   \n",
       "min    1997.000000  2.711280e+05  4.594740e+09     0.000000   -27.593931   \n",
       "25%    2001.000000  4.384600e+06  3.258659e+10   247.733325   -24.715302   \n",
       "50%    2005.500000  1.042038e+07  1.106673e+11   436.640900   -23.970881   \n",
       "75%    2010.000000  3.374609e+07  3.945377e+11   645.052000   -23.039876   \n",
       "max    2014.000000  1.364270e+09  1.740624e+13  3297.680000   -20.072658   \n",
       "\n",
       "               DCT          DMT          DBT  \n",
       "count  2418.000000  2426.000000  2430.000000  \n",
       "mean    -22.122728   -22.941655   -23.809777  \n",
       "std       0.614153     1.225970     1.343224  \n",
       "min     -24.129480   -26.279139   -28.478197  \n",
       "25%     -22.516180   -23.847078   -24.803556  \n",
       "50%     -22.141306   -22.985642   -23.980115  \n",
       "75%     -21.769983   -22.025259   -22.971090  \n",
       "max     -20.026602   -19.371484   -20.284348  "
      ],
      "text/html": "<div>\n<style scoped>\n    .dataframe tbody tr th:only-of-type {\n        vertical-align: middle;\n    }\n\n    .dataframe tbody tr th {\n        vertical-align: top;\n    }\n\n    .dataframe thead th {\n        text-align: right;\n    }\n</style>\n<table border=\"1\" class=\"dataframe\">\n  <thead>\n    <tr style=\"text-align: right;\">\n      <th></th>\n      <th>year</th>\n      <th>population</th>\n      <th>GPD</th>\n      <th>DPT</th>\n      <th>DNT</th>\n      <th>DCT</th>\n      <th>DMT</th>\n      <th>DBT</th>\n    </tr>\n  </thead>\n  <tbody>\n    <tr>\n      <th>count</th>\n      <td>2430.000000</td>\n      <td>2.430000e+03</td>\n      <td>2.430000e+03</td>\n      <td>1350.000000</td>\n      <td>2426.000000</td>\n      <td>2418.000000</td>\n      <td>2426.000000</td>\n      <td>2430.000000</td>\n    </tr>\n    <tr>\n      <th>mean</th>\n      <td>2005.500000</td>\n      <td>4.657536e+07</td>\n      <td>5.749026e+11</td>\n      <td>444.998245</td>\n      <td>-23.872471</td>\n      <td>-22.122728</td>\n      <td>-22.941655</td>\n      <td>-23.809777</td>\n    </tr>\n    <tr>\n      <th>std</th>\n      <td>5.189195</td>\n      <td>1.523057e+08</td>\n      <td>1.645009e+12</td>\n      <td>281.960631</td>\n      <td>1.314099</td>\n      <td>0.614153</td>\n      <td>1.225970</td>\n      <td>1.343224</td>\n    </tr>\n    <tr>\n      <th>min</th>\n      <td>1997.000000</td>\n      <td>2.711280e+05</td>\n      <td>4.594740e+09</td>\n      <td>0.000000</td>\n      <td>-27.593931</td>\n      <td>-24.129480</td>\n      <td>-26.279139</td>\n      <td>-28.478197</td>\n    </tr>\n    <tr>\n      <th>25%</th>\n      <td>2001.000000</td>\n      <td>4.384600e+06</td>\n      <td>3.258659e+10</td>\n      <td>247.733325</td>\n      <td>-24.715302</td>\n      <td>-22.516180</td>\n      <td>-23.847078</td>\n      <td>-24.803556</td>\n    </tr>\n    <tr>\n      <th>50%</th>\n      <td>2005.500000</td>\n      <td>1.042038e+07</td>\n      <td>1.106673e+11</td>\n      <td>436.640900</td>\n      <td>-23.970881</td>\n      <td>-22.141306</td>\n      <td>-22.985642</td>\n      <td>-23.980115</td>\n    </tr>\n    <tr>\n      <th>75%</th>\n      <td>2010.000000</td>\n      <td>3.374609e+07</td>\n      <td>3.945377e+11</td>\n      <td>645.052000</td>\n      <td>-23.039876</td>\n      <td>-21.769983</td>\n      <td>-22.025259</td>\n      <td>-22.971090</td>\n    </tr>\n    <tr>\n      <th>max</th>\n      <td>2014.000000</td>\n      <td>1.364270e+09</td>\n      <td>1.740624e+13</td>\n      <td>3297.680000</td>\n      <td>-20.072658</td>\n      <td>-20.026602</td>\n      <td>-19.371484</td>\n      <td>-20.284348</td>\n    </tr>\n  </tbody>\n</table>\n</div>"
     },
     "metadata": {},
     "execution_count": 917
    }
   ],
   "source": [
    "data_complete.describe()"
   ]
  },
  {
   "source": [
    "### We expect 1080 NaN in * DPT *"
   ],
   "cell_type": "markdown",
   "metadata": {}
  },
  {
   "cell_type": "code",
   "execution_count": 918,
   "metadata": {
    "tags": []
   },
   "outputs": [],
   "source": [
    "for country in range(0,len(final)):\n",
    "    if final[country].isna().sum()[4] == 8:\n",
    "        test = final[country]\n",
    "        #test['DPT'] = (test['DPT'].fillna(test['DPT'].mean())).to_list()\n",
    "        dpt_arr = test['DPT'].to_list()\n",
    "        year_arr = test['year'].to_list()\n",
    "        dpt_inv = []\n",
    "        for i in reversed(dpt_arr):\n",
    "             dpt_inv.append(i)\n",
    "        time = year_arr[8:]\n",
    "        y = dpt_inv[:10]\n",
    "        df = pd.DataFrame(y,time,columns=['DPT']).reset_index()\n",
    "        df.index = pd.to_datetime(df['index'],format='%Y').dt.year\n",
    "        features = df['DPT']\n",
    "        model = AR(features)\n",
    "        model_fit = model.fit(maxlag=2)\n",
    "        d_f = model_fit.predict(start=len(features), end=len(features)+7, dynamic=False)\n",
    "        d_f_final = features.to_list() + d_f.to_list()\n",
    "        df_final_inv = []\n",
    "        for i in reversed(d_f_final):\n",
    "            df_final_inv.append(i)\n",
    "        final[country]['DPT'] = df_final_inv\n",
    "    else:\n",
    "        continue"
   ]
  },
  {
   "cell_type": "code",
   "execution_count": 930,
   "metadata": {},
   "outputs": [
    {
     "output_type": "execute_result",
     "data": {
      "text/plain": [
       "      country  year  population           GPD    DPT        DNT        DCT  \\\n",
       "1997  Iceland  1997    271128.0  8.264269e+09    NaN -24.166223 -22.064499   \n",
       "1998  Iceland  1998    274047.0  8.806997e+09    NaN -24.190907 -22.129341   \n",
       "1999  Iceland  1999    277381.0  9.159613e+09    NaN -24.194679 -22.188565   \n",
       "2000  Iceland  2000    281205.0  9.588330e+09    NaN -24.253962 -22.180341   \n",
       "2001  Iceland  2001    284968.0  9.955922e+09    NaN -24.384069 -22.250266   \n",
       "2002  Iceland  2002    287523.0  9.987254e+09    NaN -24.339867 -22.217964   \n",
       "2003  Iceland  2003    289521.0  1.023096e+10    NaN -24.378090 -22.244905   \n",
       "2004  Iceland  2004    292074.0  1.105964e+10    NaN -24.468052 -22.284443   \n",
       "2005  Iceland  2005    296734.0  1.180112e+10  0.449 -24.521709 -22.360313   \n",
       "2006  Iceland  2006    303782.0  1.239126e+10  0.411 -24.497584 -22.390270   \n",
       "2007  Iceland  2007    311566.0  1.354985e+10  1.000 -24.554470 -22.458508   \n",
       "2008  Iceland  2008    317414.0  1.375572e+10  0.454 -24.532933 -22.560994   \n",
       "2009  Iceland  2009    318499.0  1.280053e+10  0.218 -24.634571 -22.507463   \n",
       "2010  Iceland  2010    318041.0  1.234485e+10  0.208 -24.596218 -22.533597   \n",
       "2011  Iceland  2011    319014.0  1.259016e+10  0.136 -24.592241 -22.593691   \n",
       "2012  Iceland  2012    320716.0  1.274345e+10  0.132 -24.594282 -22.647707   \n",
       "2013  Iceland  2013    323764.0  1.330540e+10  0.129 -24.678066 -22.603400   \n",
       "2014  Iceland  2014    327386.0  1.356174e+10  0.129 -24.618655 -22.617568   \n",
       "\n",
       "            DMT        DBT  \n",
       "1997 -23.631706 -24.624482  \n",
       "1998 -23.685497 -24.756989  \n",
       "1999 -23.726203 -24.843174  \n",
       "2000 -23.790400 -24.817740  \n",
       "2001 -23.834725 -24.822879  \n",
       "2002 -23.855607 -24.822645  \n",
       "2003 -23.885805 -24.945771  \n",
       "2004 -23.975307 -25.051288  \n",
       "2005 -24.033027 -25.227709  \n",
       "2006 -24.041945 -25.060110  \n",
       "2007 -24.130641 -25.082920  \n",
       "2008 -24.129410 -25.174443  \n",
       "2009 -24.040950 -25.256084  \n",
       "2010 -23.995936 -25.232009  \n",
       "2011 -24.018021 -25.244611  \n",
       "2012 -24.038193 -25.284029  \n",
       "2013 -24.102025 -25.304570  \n",
       "2014 -24.083014 -25.317219  "
      ],
      "text/html": "<div>\n<style scoped>\n    .dataframe tbody tr th:only-of-type {\n        vertical-align: middle;\n    }\n\n    .dataframe tbody tr th {\n        vertical-align: top;\n    }\n\n    .dataframe thead th {\n        text-align: right;\n    }\n</style>\n<table border=\"1\" class=\"dataframe\">\n  <thead>\n    <tr style=\"text-align: right;\">\n      <th></th>\n      <th>country</th>\n      <th>year</th>\n      <th>population</th>\n      <th>GPD</th>\n      <th>DPT</th>\n      <th>DNT</th>\n      <th>DCT</th>\n      <th>DMT</th>\n      <th>DBT</th>\n    </tr>\n  </thead>\n  <tbody>\n    <tr>\n      <th>1997</th>\n      <td>Iceland</td>\n      <td>1997</td>\n      <td>271128.0</td>\n      <td>8.264269e+09</td>\n      <td>NaN</td>\n      <td>-24.166223</td>\n      <td>-22.064499</td>\n      <td>-23.631706</td>\n      <td>-24.624482</td>\n    </tr>\n    <tr>\n      <th>1998</th>\n      <td>Iceland</td>\n      <td>1998</td>\n      <td>274047.0</td>\n      <td>8.806997e+09</td>\n      <td>NaN</td>\n      <td>-24.190907</td>\n      <td>-22.129341</td>\n      <td>-23.685497</td>\n      <td>-24.756989</td>\n    </tr>\n    <tr>\n      <th>1999</th>\n      <td>Iceland</td>\n      <td>1999</td>\n      <td>277381.0</td>\n      <td>9.159613e+09</td>\n      <td>NaN</td>\n      <td>-24.194679</td>\n      <td>-22.188565</td>\n      <td>-23.726203</td>\n      <td>-24.843174</td>\n    </tr>\n    <tr>\n      <th>2000</th>\n      <td>Iceland</td>\n      <td>2000</td>\n      <td>281205.0</td>\n      <td>9.588330e+09</td>\n      <td>NaN</td>\n      <td>-24.253962</td>\n      <td>-22.180341</td>\n      <td>-23.790400</td>\n      <td>-24.817740</td>\n    </tr>\n    <tr>\n      <th>2001</th>\n      <td>Iceland</td>\n      <td>2001</td>\n      <td>284968.0</td>\n      <td>9.955922e+09</td>\n      <td>NaN</td>\n      <td>-24.384069</td>\n      <td>-22.250266</td>\n      <td>-23.834725</td>\n      <td>-24.822879</td>\n    </tr>\n    <tr>\n      <th>2002</th>\n      <td>Iceland</td>\n      <td>2002</td>\n      <td>287523.0</td>\n      <td>9.987254e+09</td>\n      <td>NaN</td>\n      <td>-24.339867</td>\n      <td>-22.217964</td>\n      <td>-23.855607</td>\n      <td>-24.822645</td>\n    </tr>\n    <tr>\n      <th>2003</th>\n      <td>Iceland</td>\n      <td>2003</td>\n      <td>289521.0</td>\n      <td>1.023096e+10</td>\n      <td>NaN</td>\n      <td>-24.378090</td>\n      <td>-22.244905</td>\n      <td>-23.885805</td>\n      <td>-24.945771</td>\n    </tr>\n    <tr>\n      <th>2004</th>\n      <td>Iceland</td>\n      <td>2004</td>\n      <td>292074.0</td>\n      <td>1.105964e+10</td>\n      <td>NaN</td>\n      <td>-24.468052</td>\n      <td>-22.284443</td>\n      <td>-23.975307</td>\n      <td>-25.051288</td>\n    </tr>\n    <tr>\n      <th>2005</th>\n      <td>Iceland</td>\n      <td>2005</td>\n      <td>296734.0</td>\n      <td>1.180112e+10</td>\n      <td>0.449</td>\n      <td>-24.521709</td>\n      <td>-22.360313</td>\n      <td>-24.033027</td>\n      <td>-25.227709</td>\n    </tr>\n    <tr>\n      <th>2006</th>\n      <td>Iceland</td>\n      <td>2006</td>\n      <td>303782.0</td>\n      <td>1.239126e+10</td>\n      <td>0.411</td>\n      <td>-24.497584</td>\n      <td>-22.390270</td>\n      <td>-24.041945</td>\n      <td>-25.060110</td>\n    </tr>\n    <tr>\n      <th>2007</th>\n      <td>Iceland</td>\n      <td>2007</td>\n      <td>311566.0</td>\n      <td>1.354985e+10</td>\n      <td>1.000</td>\n      <td>-24.554470</td>\n      <td>-22.458508</td>\n      <td>-24.130641</td>\n      <td>-25.082920</td>\n    </tr>\n    <tr>\n      <th>2008</th>\n      <td>Iceland</td>\n      <td>2008</td>\n      <td>317414.0</td>\n      <td>1.375572e+10</td>\n      <td>0.454</td>\n      <td>-24.532933</td>\n      <td>-22.560994</td>\n      <td>-24.129410</td>\n      <td>-25.174443</td>\n    </tr>\n    <tr>\n      <th>2009</th>\n      <td>Iceland</td>\n      <td>2009</td>\n      <td>318499.0</td>\n      <td>1.280053e+10</td>\n      <td>0.218</td>\n      <td>-24.634571</td>\n      <td>-22.507463</td>\n      <td>-24.040950</td>\n      <td>-25.256084</td>\n    </tr>\n    <tr>\n      <th>2010</th>\n      <td>Iceland</td>\n      <td>2010</td>\n      <td>318041.0</td>\n      <td>1.234485e+10</td>\n      <td>0.208</td>\n      <td>-24.596218</td>\n      <td>-22.533597</td>\n      <td>-23.995936</td>\n      <td>-25.232009</td>\n    </tr>\n    <tr>\n      <th>2011</th>\n      <td>Iceland</td>\n      <td>2011</td>\n      <td>319014.0</td>\n      <td>1.259016e+10</td>\n      <td>0.136</td>\n      <td>-24.592241</td>\n      <td>-22.593691</td>\n      <td>-24.018021</td>\n      <td>-25.244611</td>\n    </tr>\n    <tr>\n      <th>2012</th>\n      <td>Iceland</td>\n      <td>2012</td>\n      <td>320716.0</td>\n      <td>1.274345e+10</td>\n      <td>0.132</td>\n      <td>-24.594282</td>\n      <td>-22.647707</td>\n      <td>-24.038193</td>\n      <td>-25.284029</td>\n    </tr>\n    <tr>\n      <th>2013</th>\n      <td>Iceland</td>\n      <td>2013</td>\n      <td>323764.0</td>\n      <td>1.330540e+10</td>\n      <td>0.129</td>\n      <td>-24.678066</td>\n      <td>-22.603400</td>\n      <td>-24.102025</td>\n      <td>-25.304570</td>\n    </tr>\n    <tr>\n      <th>2014</th>\n      <td>Iceland</td>\n      <td>2014</td>\n      <td>327386.0</td>\n      <td>1.356174e+10</td>\n      <td>0.129</td>\n      <td>-24.618655</td>\n      <td>-22.617568</td>\n      <td>-24.083014</td>\n      <td>-25.317219</td>\n    </tr>\n  </tbody>\n</table>\n</div>"
     },
     "metadata": {},
     "execution_count": 930
    }
   ],
   "source": [
    "data_complete[data_complete['country']=='Iceland']"
   ]
  },
  {
   "cell_type": "code",
   "execution_count": 928,
   "metadata": {},
   "outputs": [
    {
     "output_type": "execute_result",
     "data": {
      "text/plain": [
       "      country  year  population           GPD          DPT        DNT  \\\n",
       "year                                                                    \n",
       "1997  Iceland  1997    271128.0  8.264269e+09  1888.792999 -24.166223   \n",
       "1998  Iceland  1998    274047.0  8.806997e+09  -224.786605 -24.190907   \n",
       "1999  Iceland  1999    277381.0  9.159613e+09  -230.063485 -24.194679   \n",
       "2000  Iceland  2000    281205.0  9.588330e+09   134.741130 -24.253962   \n",
       "2001  Iceland  2001    284968.0  9.955922e+09    38.634965 -24.384069   \n",
       "2002  Iceland  2002    287523.0  9.987254e+09   -18.644028 -24.339867   \n",
       "2003  Iceland  2003    289521.0  1.023096e+10     5.670480 -24.378090   \n",
       "2004  Iceland  2004    292074.0  1.105964e+10     7.464946 -24.468052   \n",
       "2005  Iceland  2005    296734.0  1.180112e+10     0.449000 -24.521709   \n",
       "2006  Iceland  2006    303782.0  1.239126e+10     0.411000 -24.497584   \n",
       "2007  Iceland  2007    311566.0  1.354985e+10     1.000000 -24.554470   \n",
       "2008  Iceland  2008    317414.0  1.375572e+10     0.454000 -24.532933   \n",
       "2009  Iceland  2009    318499.0  1.280053e+10     0.218000 -24.634571   \n",
       "2010  Iceland  2010    318041.0  1.234485e+10     0.208000 -24.596218   \n",
       "2011  Iceland  2011    319014.0  1.259016e+10     0.136000 -24.592241   \n",
       "2012  Iceland  2012    320716.0  1.274345e+10     0.132000 -24.594282   \n",
       "2013  Iceland  2013    323764.0  1.330540e+10     0.129000 -24.678066   \n",
       "2014  Iceland  2014    327386.0  1.356174e+10     0.129000 -24.618655   \n",
       "\n",
       "            DCT        DMT        DBT  \n",
       "year                                   \n",
       "1997 -22.064499 -23.631706 -24.624482  \n",
       "1998 -22.129341 -23.685497 -24.756989  \n",
       "1999 -22.188565 -23.726203 -24.843174  \n",
       "2000 -22.180341 -23.790400 -24.817740  \n",
       "2001 -22.250266 -23.834725 -24.822879  \n",
       "2002 -22.217964 -23.855607 -24.822645  \n",
       "2003 -22.244905 -23.885805 -24.945771  \n",
       "2004 -22.284443 -23.975307 -25.051288  \n",
       "2005 -22.360313 -24.033027 -25.227709  \n",
       "2006 -22.390270 -24.041945 -25.060110  \n",
       "2007 -22.458508 -24.130641 -25.082920  \n",
       "2008 -22.560994 -24.129410 -25.174443  \n",
       "2009 -22.507463 -24.040950 -25.256084  \n",
       "2010 -22.533597 -23.995936 -25.232009  \n",
       "2011 -22.593691 -24.018021 -25.244611  \n",
       "2012 -22.647707 -24.038193 -25.284029  \n",
       "2013 -22.603400 -24.102025 -25.304570  \n",
       "2014 -22.617568 -24.083014 -25.317219  "
      ],
      "text/html": "<div>\n<style scoped>\n    .dataframe tbody tr th:only-of-type {\n        vertical-align: middle;\n    }\n\n    .dataframe tbody tr th {\n        vertical-align: top;\n    }\n\n    .dataframe thead th {\n        text-align: right;\n    }\n</style>\n<table border=\"1\" class=\"dataframe\">\n  <thead>\n    <tr style=\"text-align: right;\">\n      <th></th>\n      <th>country</th>\n      <th>year</th>\n      <th>population</th>\n      <th>GPD</th>\n      <th>DPT</th>\n      <th>DNT</th>\n      <th>DCT</th>\n      <th>DMT</th>\n      <th>DBT</th>\n    </tr>\n    <tr>\n      <th>year</th>\n      <th></th>\n      <th></th>\n      <th></th>\n      <th></th>\n      <th></th>\n      <th></th>\n      <th></th>\n      <th></th>\n      <th></th>\n    </tr>\n  </thead>\n  <tbody>\n    <tr>\n      <th>1997</th>\n      <td>Iceland</td>\n      <td>1997</td>\n      <td>271128.0</td>\n      <td>8.264269e+09</td>\n      <td>1888.792999</td>\n      <td>-24.166223</td>\n      <td>-22.064499</td>\n      <td>-23.631706</td>\n      <td>-24.624482</td>\n    </tr>\n    <tr>\n      <th>1998</th>\n      <td>Iceland</td>\n      <td>1998</td>\n      <td>274047.0</td>\n      <td>8.806997e+09</td>\n      <td>-224.786605</td>\n      <td>-24.190907</td>\n      <td>-22.129341</td>\n      <td>-23.685497</td>\n      <td>-24.756989</td>\n    </tr>\n    <tr>\n      <th>1999</th>\n      <td>Iceland</td>\n      <td>1999</td>\n      <td>277381.0</td>\n      <td>9.159613e+09</td>\n      <td>-230.063485</td>\n      <td>-24.194679</td>\n      <td>-22.188565</td>\n      <td>-23.726203</td>\n      <td>-24.843174</td>\n    </tr>\n    <tr>\n      <th>2000</th>\n      <td>Iceland</td>\n      <td>2000</td>\n      <td>281205.0</td>\n      <td>9.588330e+09</td>\n      <td>134.741130</td>\n      <td>-24.253962</td>\n      <td>-22.180341</td>\n      <td>-23.790400</td>\n      <td>-24.817740</td>\n    </tr>\n    <tr>\n      <th>2001</th>\n      <td>Iceland</td>\n      <td>2001</td>\n      <td>284968.0</td>\n      <td>9.955922e+09</td>\n      <td>38.634965</td>\n      <td>-24.384069</td>\n      <td>-22.250266</td>\n      <td>-23.834725</td>\n      <td>-24.822879</td>\n    </tr>\n    <tr>\n      <th>2002</th>\n      <td>Iceland</td>\n      <td>2002</td>\n      <td>287523.0</td>\n      <td>9.987254e+09</td>\n      <td>-18.644028</td>\n      <td>-24.339867</td>\n      <td>-22.217964</td>\n      <td>-23.855607</td>\n      <td>-24.822645</td>\n    </tr>\n    <tr>\n      <th>2003</th>\n      <td>Iceland</td>\n      <td>2003</td>\n      <td>289521.0</td>\n      <td>1.023096e+10</td>\n      <td>5.670480</td>\n      <td>-24.378090</td>\n      <td>-22.244905</td>\n      <td>-23.885805</td>\n      <td>-24.945771</td>\n    </tr>\n    <tr>\n      <th>2004</th>\n      <td>Iceland</td>\n      <td>2004</td>\n      <td>292074.0</td>\n      <td>1.105964e+10</td>\n      <td>7.464946</td>\n      <td>-24.468052</td>\n      <td>-22.284443</td>\n      <td>-23.975307</td>\n      <td>-25.051288</td>\n    </tr>\n    <tr>\n      <th>2005</th>\n      <td>Iceland</td>\n      <td>2005</td>\n      <td>296734.0</td>\n      <td>1.180112e+10</td>\n      <td>0.449000</td>\n      <td>-24.521709</td>\n      <td>-22.360313</td>\n      <td>-24.033027</td>\n      <td>-25.227709</td>\n    </tr>\n    <tr>\n      <th>2006</th>\n      <td>Iceland</td>\n      <td>2006</td>\n      <td>303782.0</td>\n      <td>1.239126e+10</td>\n      <td>0.411000</td>\n      <td>-24.497584</td>\n      <td>-22.390270</td>\n      <td>-24.041945</td>\n      <td>-25.060110</td>\n    </tr>\n    <tr>\n      <th>2007</th>\n      <td>Iceland</td>\n      <td>2007</td>\n      <td>311566.0</td>\n      <td>1.354985e+10</td>\n      <td>1.000000</td>\n      <td>-24.554470</td>\n      <td>-22.458508</td>\n      <td>-24.130641</td>\n      <td>-25.082920</td>\n    </tr>\n    <tr>\n      <th>2008</th>\n      <td>Iceland</td>\n      <td>2008</td>\n      <td>317414.0</td>\n      <td>1.375572e+10</td>\n      <td>0.454000</td>\n      <td>-24.532933</td>\n      <td>-22.560994</td>\n      <td>-24.129410</td>\n      <td>-25.174443</td>\n    </tr>\n    <tr>\n      <th>2009</th>\n      <td>Iceland</td>\n      <td>2009</td>\n      <td>318499.0</td>\n      <td>1.280053e+10</td>\n      <td>0.218000</td>\n      <td>-24.634571</td>\n      <td>-22.507463</td>\n      <td>-24.040950</td>\n      <td>-25.256084</td>\n    </tr>\n    <tr>\n      <th>2010</th>\n      <td>Iceland</td>\n      <td>2010</td>\n      <td>318041.0</td>\n      <td>1.234485e+10</td>\n      <td>0.208000</td>\n      <td>-24.596218</td>\n      <td>-22.533597</td>\n      <td>-23.995936</td>\n      <td>-25.232009</td>\n    </tr>\n    <tr>\n      <th>2011</th>\n      <td>Iceland</td>\n      <td>2011</td>\n      <td>319014.0</td>\n      <td>1.259016e+10</td>\n      <td>0.136000</td>\n      <td>-24.592241</td>\n      <td>-22.593691</td>\n      <td>-24.018021</td>\n      <td>-25.244611</td>\n    </tr>\n    <tr>\n      <th>2012</th>\n      <td>Iceland</td>\n      <td>2012</td>\n      <td>320716.0</td>\n      <td>1.274345e+10</td>\n      <td>0.132000</td>\n      <td>-24.594282</td>\n      <td>-22.647707</td>\n      <td>-24.038193</td>\n      <td>-25.284029</td>\n    </tr>\n    <tr>\n      <th>2013</th>\n      <td>Iceland</td>\n      <td>2013</td>\n      <td>323764.0</td>\n      <td>1.330540e+10</td>\n      <td>0.129000</td>\n      <td>-24.678066</td>\n      <td>-22.603400</td>\n      <td>-24.102025</td>\n      <td>-25.304570</td>\n    </tr>\n    <tr>\n      <th>2014</th>\n      <td>Iceland</td>\n      <td>2014</td>\n      <td>327386.0</td>\n      <td>1.356174e+10</td>\n      <td>0.129000</td>\n      <td>-24.618655</td>\n      <td>-22.617568</td>\n      <td>-24.083014</td>\n      <td>-25.317219</td>\n    </tr>\n  </tbody>\n</table>\n</div>"
     },
     "metadata": {},
     "execution_count": 928
    }
   ],
   "source": [
    "final[50]"
   ]
  },
  {
   "cell_type": "code",
   "execution_count": 919,
   "metadata": {},
   "outputs": [
    {
     "output_type": "execute_result",
     "data": {
      "text/plain": [
       "country       0\n",
       "year          0\n",
       "population    0\n",
       "GPD           0\n",
       "DPT           0\n",
       "DNT           0\n",
       "DCT           0\n",
       "DMT           0\n",
       "DBT           0\n",
       "dtype: int64"
      ]
     },
     "metadata": {},
     "execution_count": 919
    }
   ],
   "source": [
    "dpt_complete = list_to_df(final)\n",
    "dpt_complete.isna().sum()"
   ]
  },
  {
   "cell_type": "code",
   "execution_count": 920,
   "metadata": {},
   "outputs": [],
   "source": [
    "for country in range(0,len(final)):\n",
    "    if final[country].isna().sum()[-1] == 4:\n",
    "        df = pd.DataFrame(final[country])\n",
    "        df.index = pd.to_datetime(df['year'],format='%Y').dt.year\n",
    "        features = df['DBT']\n",
    "        ff = features[8:]\n",
    "        model = AR(ff)\n",
    "        model_fit = model.fit(maxlag=3)\n",
    "        d_f = model_fit.predict(start=len(ff), end=len(ff)+3, dynamic=False)\n",
    "        d_f_final = ff.to_list() + d_f.to_list()\n",
    "        df['DBT'] = d_f_final\n",
    "    elif final[country].isna().sum()[-1] ==0:\n",
    "        continue\n",
    "    else:\n",
    "        df = pd.DataFrame(final[country])\n",
    "        features = df['DBT'].fillna(df['DBT'].mean())\n",
    "        ff = features[:-4]\n",
    "        model = AR(ff)\n",
    "        model_fit = model.fit(maxlag=5)\n",
    "        d_f = model_fit.predict(start=len(ff), end=len(ff)+3, dynamic=False)\n",
    "        d_f_final = ff.to_list() + d_f.to_list()\n",
    "        df['DBT'] = d_f_final"
   ]
  },
  {
   "source": [
    "# Others columns"
   ],
   "cell_type": "markdown",
   "metadata": {}
  },
  {
   "cell_type": "code",
   "execution_count": 921,
   "metadata": {},
   "outputs": [],
   "source": [
    "for country in range(0,len(final)):\n",
    "    df = pd.DataFrame(final[country])\n",
    "    if final[country].isna().sum()[-2] == 0:\n",
    "        continue\n",
    "    else:\n",
    "        df['DMT'].fillna(df['DMT'].mean(),inplace=True)"
   ]
  },
  {
   "cell_type": "code",
   "execution_count": 922,
   "metadata": {},
   "outputs": [],
   "source": [
    "for country in range(0,len(final)):\n",
    "    df = pd.DataFrame(final[country])\n",
    "    if final[country].isna().sum()[-3] == 0:\n",
    "        continue\n",
    "    else:\n",
    "        df['DCT'].fillna(df['DCT'].mean(),inplace=True)"
   ]
  },
  {
   "cell_type": "code",
   "execution_count": 923,
   "metadata": {},
   "outputs": [],
   "source": [
    "for country in range(0,len(final)):\n",
    "    df = pd.DataFrame(final[country])\n",
    "    if final[country].isna().sum()[-4] == 0:\n",
    "        continue\n",
    "    else:\n",
    "        df['DNT'].fillna(df['DNT'].mean(),inplace=True)"
   ]
  },
  {
   "source": [
    "# Join all Dataframes"
   ],
   "cell_type": "markdown",
   "metadata": {}
  },
  {
   "cell_type": "code",
   "execution_count": 924,
   "metadata": {},
   "outputs": [
    {
     "output_type": "execute_result",
     "data": {
      "text/plain": [
       "country       0\n",
       "year          0\n",
       "population    0\n",
       "GPD           0\n",
       "DPT           0\n",
       "DNT           0\n",
       "DCT           0\n",
       "DMT           0\n",
       "DBT           0\n",
       "dtype: int64"
      ]
     },
     "metadata": {},
     "execution_count": 924
    }
   ],
   "source": [
    "data_clean = list_to_df(final)\n",
    "data_clean.isna().sum()"
   ]
  },
  {
   "cell_type": "code",
   "execution_count": 925,
   "metadata": {},
   "outputs": [
    {
     "output_type": "execute_result",
     "data": {
      "text/plain": [
       "(2430, 9)"
      ]
     },
     "metadata": {},
     "execution_count": 925
    }
   ],
   "source": [
    "data_clean.shape"
   ]
  },
  {
   "cell_type": "code",
   "execution_count": 931,
   "metadata": {},
   "outputs": [],
   "source": [
    "data_clean.drop(columns=['DPT'],inplace=True)"
   ]
  },
  {
   "cell_type": "code",
   "execution_count": 932,
   "metadata": {},
   "outputs": [
    {
     "output_type": "execute_result",
     "data": {
      "text/plain": [
       "              year    population           GPD          DNT          DCT  \\\n",
       "count  2430.000000  2.430000e+03  2.430000e+03  2430.000000  2430.000000   \n",
       "mean   2005.500000  4.657536e+07  5.749026e+11   -23.875993   -22.121880   \n",
       "std       5.189195  1.523057e+08  1.645009e+12     1.315913     0.612852   \n",
       "min    1997.000000  2.711280e+05  4.594740e+09   -27.593931   -24.129480   \n",
       "25%    2001.000000  4.384600e+06  3.258659e+10   -24.721263   -22.512780   \n",
       "50%    2005.500000  1.042038e+07  1.106673e+11   -23.974644   -22.139406   \n",
       "75%    2010.000000  3.374609e+07  3.945377e+11   -23.041925   -21.772908   \n",
       "max    2014.000000  1.364270e+09  1.740624e+13   -20.072658   -20.026602   \n",
       "\n",
       "               DMT          DBT  \n",
       "count  2430.000000  2430.000000  \n",
       "mean    -22.944242   -23.809777  \n",
       "std       1.226631     1.343224  \n",
       "min     -26.279139   -28.478197  \n",
       "25%     -23.850064   -24.803556  \n",
       "50%     -22.988277   -23.980115  \n",
       "75%     -22.031655   -22.971090  \n",
       "max     -19.371484   -20.284348  "
      ],
      "text/html": "<div>\n<style scoped>\n    .dataframe tbody tr th:only-of-type {\n        vertical-align: middle;\n    }\n\n    .dataframe tbody tr th {\n        vertical-align: top;\n    }\n\n    .dataframe thead th {\n        text-align: right;\n    }\n</style>\n<table border=\"1\" class=\"dataframe\">\n  <thead>\n    <tr style=\"text-align: right;\">\n      <th></th>\n      <th>year</th>\n      <th>population</th>\n      <th>GPD</th>\n      <th>DNT</th>\n      <th>DCT</th>\n      <th>DMT</th>\n      <th>DBT</th>\n    </tr>\n  </thead>\n  <tbody>\n    <tr>\n      <th>count</th>\n      <td>2430.000000</td>\n      <td>2.430000e+03</td>\n      <td>2.430000e+03</td>\n      <td>2430.000000</td>\n      <td>2430.000000</td>\n      <td>2430.000000</td>\n      <td>2430.000000</td>\n    </tr>\n    <tr>\n      <th>mean</th>\n      <td>2005.500000</td>\n      <td>4.657536e+07</td>\n      <td>5.749026e+11</td>\n      <td>-23.875993</td>\n      <td>-22.121880</td>\n      <td>-22.944242</td>\n      <td>-23.809777</td>\n    </tr>\n    <tr>\n      <th>std</th>\n      <td>5.189195</td>\n      <td>1.523057e+08</td>\n      <td>1.645009e+12</td>\n      <td>1.315913</td>\n      <td>0.612852</td>\n      <td>1.226631</td>\n      <td>1.343224</td>\n    </tr>\n    <tr>\n      <th>min</th>\n      <td>1997.000000</td>\n      <td>2.711280e+05</td>\n      <td>4.594740e+09</td>\n      <td>-27.593931</td>\n      <td>-24.129480</td>\n      <td>-26.279139</td>\n      <td>-28.478197</td>\n    </tr>\n    <tr>\n      <th>25%</th>\n      <td>2001.000000</td>\n      <td>4.384600e+06</td>\n      <td>3.258659e+10</td>\n      <td>-24.721263</td>\n      <td>-22.512780</td>\n      <td>-23.850064</td>\n      <td>-24.803556</td>\n    </tr>\n    <tr>\n      <th>50%</th>\n      <td>2005.500000</td>\n      <td>1.042038e+07</td>\n      <td>1.106673e+11</td>\n      <td>-23.974644</td>\n      <td>-22.139406</td>\n      <td>-22.988277</td>\n      <td>-23.980115</td>\n    </tr>\n    <tr>\n      <th>75%</th>\n      <td>2010.000000</td>\n      <td>3.374609e+07</td>\n      <td>3.945377e+11</td>\n      <td>-23.041925</td>\n      <td>-21.772908</td>\n      <td>-22.031655</td>\n      <td>-22.971090</td>\n    </tr>\n    <tr>\n      <th>max</th>\n      <td>2014.000000</td>\n      <td>1.364270e+09</td>\n      <td>1.740624e+13</td>\n      <td>-20.072658</td>\n      <td>-20.026602</td>\n      <td>-19.371484</td>\n      <td>-20.284348</td>\n    </tr>\n  </tbody>\n</table>\n</div>"
     },
     "metadata": {},
     "execution_count": 932
    }
   ],
   "source": [
    "data_clean.describe()"
   ]
  },
  {
   "source": [
    "# Export to csv and excel"
   ],
   "cell_type": "markdown",
   "metadata": {}
  },
  {
   "cell_type": "code",
   "execution_count": 934,
   "metadata": {},
   "outputs": [],
   "source": [
    "data_clean.to_excel('data_clean.xlsx')\n",
    "data_clean.to_csv('data_clean.csv')"
   ]
  }
 ]
}