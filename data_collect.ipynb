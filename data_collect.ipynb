{
 "metadata": {
  "language_info": {
   "codemirror_mode": {
    "name": "ipython",
    "version": 3
   },
   "file_extension": ".py",
   "mimetype": "text/x-python",
   "name": "python",
   "nbconvert_exporter": "python",
   "pygments_lexer": "ipython3",
   "version": "3.8.5-final"
  },
  "orig_nbformat": 2,
  "kernelspec": {
   "name": "python38564bit4f57281242da47b0a84bc03a5fa692d9",
   "display_name": "Python 3.8.5 64-bit"
  }
 },
 "nbformat": 4,
 "nbformat_minor": 2,
 "cells": [
  {
   "cell_type": "code",
   "execution_count": 1,
   "metadata": {},
   "outputs": [],
   "source": [
    "import pandas as pd\n",
    "import numpy as np\n",
    "import seaborn as sns\n",
    "import matplotlib.pyplot as plt"
   ]
  },
  {
   "cell_type": "code",
   "execution_count": 5,
   "metadata": {},
   "outputs": [],
   "source": [
    "pop = pd.read_excel('2018-epi-raw-data-time-series.xlsx',sheet_name='POP')"
   ]
  },
  {
   "cell_type": "code",
   "execution_count": 6,
   "metadata": {},
   "outputs": [
    {
     "output_type": "execute_result",
     "data": {
      "text/plain": [
       "   code  iso         country    POP.1997    POP.1998    POP.1999    POP.2000  \\\n",
       "0     4  AFG     Afghanistan  18381605.0  18863999.0  19403676.0  20093756.0   \n",
       "1     8  ALB         Albania   3148281.0   3128530.0   3108778.0   3089027.0   \n",
       "2    12  DZA         Algeria  29886839.0  30335732.0  30765613.0  31183660.0   \n",
       "3    16  ASM  American Samoa     54941.0     55901.0     56770.0     57521.0   \n",
       "4    20  AND         Andorra     64327.0     64142.0     64370.0     65390.0   \n",
       "\n",
       "     POP.2001    POP.2002    POP.2003  ...    POP.2007    POP.2008  \\\n",
       "0  20966463.0  21979923.0  23064851.0  ...  26616792.0  27294031.0   \n",
       "1   3060173.0   3051010.0   3039616.0  ...   2970017.0   2947314.0   \n",
       "2  31592153.0  31995046.0  32403514.0  ...  34300076.0  34860715.0   \n",
       "3     58175.0     58731.0     59117.0  ...     57903.0     57030.0   \n",
       "4     67341.0     70049.0     73182.0  ...     82683.0     83861.0   \n",
       "\n",
       "     POP.2009    POP.2010    POP.2011    POP.2012    POP.2013    POP.2014  \\\n",
       "0  28004331.0  28803167.0  29708599.0  30696958.0  31731688.0  32758020.0   \n",
       "1   2927519.0   2913021.0   2905195.0   2900401.0   2895092.0   2889104.0   \n",
       "2  35465760.0  36117637.0  36819558.0  37565847.0  38338562.0  39113313.0   \n",
       "3     56227.0     55637.0     55320.0     55230.0     55307.0     55437.0   \n",
       "4     84462.0     84449.0     83751.0     82431.0     80788.0     79223.0   \n",
       "\n",
       "     POP.2015    POP.2016  \n",
       "0  33736494.0  34656032.0  \n",
       "1   2880703.0   2876101.0  \n",
       "2  39871528.0  40606052.0  \n",
       "3     55537.0     55599.0  \n",
       "4     78014.0     77281.0  \n",
       "\n",
       "[5 rows x 23 columns]"
      ],
      "text/html": "<div>\n<style scoped>\n    .dataframe tbody tr th:only-of-type {\n        vertical-align: middle;\n    }\n\n    .dataframe tbody tr th {\n        vertical-align: top;\n    }\n\n    .dataframe thead th {\n        text-align: right;\n    }\n</style>\n<table border=\"1\" class=\"dataframe\">\n  <thead>\n    <tr style=\"text-align: right;\">\n      <th></th>\n      <th>code</th>\n      <th>iso</th>\n      <th>country</th>\n      <th>POP.1997</th>\n      <th>POP.1998</th>\n      <th>POP.1999</th>\n      <th>POP.2000</th>\n      <th>POP.2001</th>\n      <th>POP.2002</th>\n      <th>POP.2003</th>\n      <th>...</th>\n      <th>POP.2007</th>\n      <th>POP.2008</th>\n      <th>POP.2009</th>\n      <th>POP.2010</th>\n      <th>POP.2011</th>\n      <th>POP.2012</th>\n      <th>POP.2013</th>\n      <th>POP.2014</th>\n      <th>POP.2015</th>\n      <th>POP.2016</th>\n    </tr>\n  </thead>\n  <tbody>\n    <tr>\n      <th>0</th>\n      <td>4</td>\n      <td>AFG</td>\n      <td>Afghanistan</td>\n      <td>18381605.0</td>\n      <td>18863999.0</td>\n      <td>19403676.0</td>\n      <td>20093756.0</td>\n      <td>20966463.0</td>\n      <td>21979923.0</td>\n      <td>23064851.0</td>\n      <td>...</td>\n      <td>26616792.0</td>\n      <td>27294031.0</td>\n      <td>28004331.0</td>\n      <td>28803167.0</td>\n      <td>29708599.0</td>\n      <td>30696958.0</td>\n      <td>31731688.0</td>\n      <td>32758020.0</td>\n      <td>33736494.0</td>\n      <td>34656032.0</td>\n    </tr>\n    <tr>\n      <th>1</th>\n      <td>8</td>\n      <td>ALB</td>\n      <td>Albania</td>\n      <td>3148281.0</td>\n      <td>3128530.0</td>\n      <td>3108778.0</td>\n      <td>3089027.0</td>\n      <td>3060173.0</td>\n      <td>3051010.0</td>\n      <td>3039616.0</td>\n      <td>...</td>\n      <td>2970017.0</td>\n      <td>2947314.0</td>\n      <td>2927519.0</td>\n      <td>2913021.0</td>\n      <td>2905195.0</td>\n      <td>2900401.0</td>\n      <td>2895092.0</td>\n      <td>2889104.0</td>\n      <td>2880703.0</td>\n      <td>2876101.0</td>\n    </tr>\n    <tr>\n      <th>2</th>\n      <td>12</td>\n      <td>DZA</td>\n      <td>Algeria</td>\n      <td>29886839.0</td>\n      <td>30335732.0</td>\n      <td>30765613.0</td>\n      <td>31183660.0</td>\n      <td>31592153.0</td>\n      <td>31995046.0</td>\n      <td>32403514.0</td>\n      <td>...</td>\n      <td>34300076.0</td>\n      <td>34860715.0</td>\n      <td>35465760.0</td>\n      <td>36117637.0</td>\n      <td>36819558.0</td>\n      <td>37565847.0</td>\n      <td>38338562.0</td>\n      <td>39113313.0</td>\n      <td>39871528.0</td>\n      <td>40606052.0</td>\n    </tr>\n    <tr>\n      <th>3</th>\n      <td>16</td>\n      <td>ASM</td>\n      <td>American Samoa</td>\n      <td>54941.0</td>\n      <td>55901.0</td>\n      <td>56770.0</td>\n      <td>57521.0</td>\n      <td>58175.0</td>\n      <td>58731.0</td>\n      <td>59117.0</td>\n      <td>...</td>\n      <td>57903.0</td>\n      <td>57030.0</td>\n      <td>56227.0</td>\n      <td>55637.0</td>\n      <td>55320.0</td>\n      <td>55230.0</td>\n      <td>55307.0</td>\n      <td>55437.0</td>\n      <td>55537.0</td>\n      <td>55599.0</td>\n    </tr>\n    <tr>\n      <th>4</th>\n      <td>20</td>\n      <td>AND</td>\n      <td>Andorra</td>\n      <td>64327.0</td>\n      <td>64142.0</td>\n      <td>64370.0</td>\n      <td>65390.0</td>\n      <td>67341.0</td>\n      <td>70049.0</td>\n      <td>73182.0</td>\n      <td>...</td>\n      <td>82683.0</td>\n      <td>83861.0</td>\n      <td>84462.0</td>\n      <td>84449.0</td>\n      <td>83751.0</td>\n      <td>82431.0</td>\n      <td>80788.0</td>\n      <td>79223.0</td>\n      <td>78014.0</td>\n      <td>77281.0</td>\n    </tr>\n  </tbody>\n</table>\n<p>5 rows × 23 columns</p>\n</div>"
     },
     "metadata": {},
     "execution_count": 6
    }
   ],
   "source": [
    "pop.head()"
   ]
  },
  {
   "cell_type": "code",
   "execution_count": 7,
   "metadata": {},
   "outputs": [
    {
     "output_type": "execute_result",
     "data": {
      "text/plain": [
       "(236, 23)"
      ]
     },
     "metadata": {},
     "execution_count": 7
    }
   ],
   "source": [
    "pop.shape"
   ]
  },
  {
   "cell_type": "code",
   "execution_count": 9,
   "metadata": {},
   "outputs": [
    {
     "output_type": "execute_result",
     "data": {
      "text/plain": [
       "code          int64\n",
       "iso          object\n",
       "country      object\n",
       "POP.1997    float64\n",
       "POP.1998    float64\n",
       "POP.1999    float64\n",
       "POP.2000    float64\n",
       "POP.2001    float64\n",
       "POP.2002    float64\n",
       "POP.2003    float64\n",
       "POP.2004    float64\n",
       "POP.2005    float64\n",
       "POP.2006    float64\n",
       "POP.2007    float64\n",
       "POP.2008    float64\n",
       "POP.2009    float64\n",
       "POP.2010    float64\n",
       "POP.2011    float64\n",
       "POP.2012    float64\n",
       "POP.2013    float64\n",
       "POP.2014    float64\n",
       "POP.2015    float64\n",
       "POP.2016    float64\n",
       "dtype: object"
      ]
     },
     "metadata": {},
     "execution_count": 9
    }
   ],
   "source": [
    "pop.dtypes"
   ]
  },
  {
   "cell_type": "code",
   "execution_count": 10,
   "metadata": {},
   "outputs": [],
   "source": [
    "gdp = pd.read_excel('2018-epi-raw-data-time-series.xlsx',sheet_name='GDP')"
   ]
  },
  {
   "cell_type": "code",
   "execution_count": 11,
   "metadata": {},
   "outputs": [
    {
     "output_type": "execute_result",
     "data": {
      "text/plain": [
       "   code  iso         country      GDP.1997      GDP.1998      GDP.1999  \\\n",
       "0     4  AFG     Afghanistan           NaN           NaN           NaN   \n",
       "1     8  ALB         Albania  1.280324e+10  1.395666e+10  1.584097e+10   \n",
       "2    12  DZA         Algeria  2.827615e+11  2.971824e+11  3.066922e+11   \n",
       "3    16  ASM  American Samoa           NaN           NaN           NaN   \n",
       "4    20  AND         Andorra           NaN           NaN           NaN   \n",
       "\n",
       "       GDP.2000      GDP.2001      GDP.2002      GDP.2003  ...      GDP.2007  \\\n",
       "0           NaN           NaN  2.337863e+10  2.535276e+10  ...  3.419659e+10   \n",
       "1  1.689703e+10  1.823871e+10  1.901046e+10  2.010803e+10  ...  2.509046e+10   \n",
       "2  3.184068e+11  3.279858e+11  3.463836e+11  3.713297e+11  ...  4.311615e+11   \n",
       "3           NaN           NaN           NaN           NaN  ...           NaN   \n",
       "4           NaN           NaN           NaN           NaN  ...           NaN   \n",
       "\n",
       "       GDP.2008      GDP.2009      GDP.2010      GDP.2011      GDP.2012  \\\n",
       "0  3.543156e+10  4.287950e+10  4.649566e+10  4.933825e+10  5.646010e+10   \n",
       "1  2.697977e+10  2.788359e+10  2.891807e+10  2.965548e+10  3.007659e+10   \n",
       "2  4.413375e+11  4.485412e+11  4.648418e+11  4.782844e+11  4.944254e+11   \n",
       "3           NaN           NaN           NaN           NaN           NaN   \n",
       "4           NaN           NaN           NaN           NaN           NaN   \n",
       "\n",
       "       GDP.2013      GDP.2014      GDP.2015  GDP.2016  \n",
       "0  5.756623e+10  5.832180e+10  5.881212e+10       NaN  \n",
       "1  3.041044e+10  3.095783e+10  3.182465e+10       NaN  \n",
       "2  5.081093e+11  5.273622e+11  5.472093e+11       NaN  \n",
       "3           NaN           NaN           NaN       NaN  \n",
       "4           NaN           NaN           NaN       NaN  \n",
       "\n",
       "[5 rows x 23 columns]"
      ],
      "text/html": "<div>\n<style scoped>\n    .dataframe tbody tr th:only-of-type {\n        vertical-align: middle;\n    }\n\n    .dataframe tbody tr th {\n        vertical-align: top;\n    }\n\n    .dataframe thead th {\n        text-align: right;\n    }\n</style>\n<table border=\"1\" class=\"dataframe\">\n  <thead>\n    <tr style=\"text-align: right;\">\n      <th></th>\n      <th>code</th>\n      <th>iso</th>\n      <th>country</th>\n      <th>GDP.1997</th>\n      <th>GDP.1998</th>\n      <th>GDP.1999</th>\n      <th>GDP.2000</th>\n      <th>GDP.2001</th>\n      <th>GDP.2002</th>\n      <th>GDP.2003</th>\n      <th>...</th>\n      <th>GDP.2007</th>\n      <th>GDP.2008</th>\n      <th>GDP.2009</th>\n      <th>GDP.2010</th>\n      <th>GDP.2011</th>\n      <th>GDP.2012</th>\n      <th>GDP.2013</th>\n      <th>GDP.2014</th>\n      <th>GDP.2015</th>\n      <th>GDP.2016</th>\n    </tr>\n  </thead>\n  <tbody>\n    <tr>\n      <th>0</th>\n      <td>4</td>\n      <td>AFG</td>\n      <td>Afghanistan</td>\n      <td>NaN</td>\n      <td>NaN</td>\n      <td>NaN</td>\n      <td>NaN</td>\n      <td>NaN</td>\n      <td>2.337863e+10</td>\n      <td>2.535276e+10</td>\n      <td>...</td>\n      <td>3.419659e+10</td>\n      <td>3.543156e+10</td>\n      <td>4.287950e+10</td>\n      <td>4.649566e+10</td>\n      <td>4.933825e+10</td>\n      <td>5.646010e+10</td>\n      <td>5.756623e+10</td>\n      <td>5.832180e+10</td>\n      <td>5.881212e+10</td>\n      <td>NaN</td>\n    </tr>\n    <tr>\n      <th>1</th>\n      <td>8</td>\n      <td>ALB</td>\n      <td>Albania</td>\n      <td>1.280324e+10</td>\n      <td>1.395666e+10</td>\n      <td>1.584097e+10</td>\n      <td>1.689703e+10</td>\n      <td>1.823871e+10</td>\n      <td>1.901046e+10</td>\n      <td>2.010803e+10</td>\n      <td>...</td>\n      <td>2.509046e+10</td>\n      <td>2.697977e+10</td>\n      <td>2.788359e+10</td>\n      <td>2.891807e+10</td>\n      <td>2.965548e+10</td>\n      <td>3.007659e+10</td>\n      <td>3.041044e+10</td>\n      <td>3.095783e+10</td>\n      <td>3.182465e+10</td>\n      <td>NaN</td>\n    </tr>\n    <tr>\n      <th>2</th>\n      <td>12</td>\n      <td>DZA</td>\n      <td>Algeria</td>\n      <td>2.827615e+11</td>\n      <td>2.971824e+11</td>\n      <td>3.066922e+11</td>\n      <td>3.184068e+11</td>\n      <td>3.279858e+11</td>\n      <td>3.463836e+11</td>\n      <td>3.713297e+11</td>\n      <td>...</td>\n      <td>4.311615e+11</td>\n      <td>4.413375e+11</td>\n      <td>4.485412e+11</td>\n      <td>4.648418e+11</td>\n      <td>4.782844e+11</td>\n      <td>4.944254e+11</td>\n      <td>5.081093e+11</td>\n      <td>5.273622e+11</td>\n      <td>5.472093e+11</td>\n      <td>NaN</td>\n    </tr>\n    <tr>\n      <th>3</th>\n      <td>16</td>\n      <td>ASM</td>\n      <td>American Samoa</td>\n      <td>NaN</td>\n      <td>NaN</td>\n      <td>NaN</td>\n      <td>NaN</td>\n      <td>NaN</td>\n      <td>NaN</td>\n      <td>NaN</td>\n      <td>...</td>\n      <td>NaN</td>\n      <td>NaN</td>\n      <td>NaN</td>\n      <td>NaN</td>\n      <td>NaN</td>\n      <td>NaN</td>\n      <td>NaN</td>\n      <td>NaN</td>\n      <td>NaN</td>\n      <td>NaN</td>\n    </tr>\n    <tr>\n      <th>4</th>\n      <td>20</td>\n      <td>AND</td>\n      <td>Andorra</td>\n      <td>NaN</td>\n      <td>NaN</td>\n      <td>NaN</td>\n      <td>NaN</td>\n      <td>NaN</td>\n      <td>NaN</td>\n      <td>NaN</td>\n      <td>...</td>\n      <td>NaN</td>\n      <td>NaN</td>\n      <td>NaN</td>\n      <td>NaN</td>\n      <td>NaN</td>\n      <td>NaN</td>\n      <td>NaN</td>\n      <td>NaN</td>\n      <td>NaN</td>\n      <td>NaN</td>\n    </tr>\n  </tbody>\n</table>\n<p>5 rows × 23 columns</p>\n</div>"
     },
     "metadata": {},
     "execution_count": 11
    }
   ],
   "source": [
    "gdp.head()"
   ]
  },
  {
   "cell_type": "code",
   "execution_count": null,
   "metadata": {},
   "outputs": [],
   "source": []
  }
 ]
}