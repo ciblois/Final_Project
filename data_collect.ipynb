{
 "metadata": {
  "language_info": {
   "codemirror_mode": {
    "name": "ipython",
    "version": 3
   },
   "file_extension": ".py",
   "mimetype": "text/x-python",
   "name": "python",
   "nbconvert_exporter": "python",
   "pygments_lexer": "ipython3",
   "version": "3.8.5-final"
  },
  "orig_nbformat": 2,
  "kernelspec": {
   "name": "python38564bit4f57281242da47b0a84bc03a5fa692d9",
   "display_name": "Python 3.8.5 64-bit"
  }
 },
 "nbformat": 4,
 "nbformat_minor": 2,
 "cells": [
  {
   "cell_type": "code",
   "execution_count": 1,
   "metadata": {},
   "outputs": [],
   "source": [
    "import pandas as pd\n",
    "import numpy as np\n",
    "import seaborn as sns\n",
    "import matplotlib.pyplot as plt\n",
    "import re"
   ]
  },
  {
   "source": [
    "# First, let's read all sheet that we need to our project"
   ],
   "cell_type": "markdown",
   "metadata": {}
  },
  {
   "source": [
    "## Population & GDP"
   ],
   "cell_type": "markdown",
   "metadata": {}
  },
  {
   "cell_type": "code",
   "execution_count": 46,
   "metadata": {},
   "outputs": [],
   "source": [
    "pop = pd.read_excel('2018-epi-raw-data-time-series.xlsx',sheet_name='POP')"
   ]
  },
  {
   "cell_type": "code",
   "execution_count": 47,
   "metadata": {},
   "outputs": [],
   "source": [
    "gdp = pd.read_excel('2018-epi-raw-data-time-series.xlsx',sheet_name='GDP')"
   ]
  },
  {
   "source": [
    "## DCT - $CO_{2}$ Emissions – Total"
   ],
   "cell_type": "markdown",
   "metadata": {}
  },
  {
   "source": [
    "### CDI = CO2 Intensity Current-Year Score\n"
   ],
   "cell_type": "markdown",
   "metadata": {}
  },
  {
   "cell_type": "code",
   "execution_count": 48,
   "metadata": {},
   "outputs": [],
   "source": [
    "dct_cdi = pd.read_excel('2018-epi-raw-data-time-series.xlsx',sheet_name='CDI')"
   ]
  },
  {
   "source": [
    "### DCI = CO2 Intensity Trend Score"
   ],
   "cell_type": "markdown",
   "metadata": {}
  },
  {
   "cell_type": "code",
   "execution_count": 50,
   "metadata": {},
   "outputs": [],
   "source": [
    "dct_dci = pd.read_excel('2018-epi-raw-data-time-series.xlsx',sheet_name='DCI')"
   ]
  },
  {
   "source": [
    "### TPI = CO2 Power Intensity Trend Score"
   ],
   "cell_type": "markdown",
   "metadata": {}
  },
  {
   "cell_type": "code",
   "execution_count": 51,
   "metadata": {},
   "outputs": [],
   "source": [
    "dct_tpi = pd.read_excel('2018-epi-raw-data-time-series.xlsx',sheet_name='TPI')"
   ]
  },
  {
   "source": [
    "## DPT - $CO_{2}$ emissions / kWh elect. & heat\n",
    "\n",
    "### CEH = CO2 Emissions per kWh"
   ],
   "cell_type": "markdown",
   "metadata": {}
  },
  {
   "cell_type": "code",
   "execution_count": 52,
   "metadata": {},
   "outputs": [],
   "source": [
    "dpt_ceh = pd.read_excel('2018-epi-raw-data-time-series.xlsx',sheet_name='CEH')"
   ]
  },
  {
   "source": [
    "## DMT - $CH_{4}$ emissions"
   ],
   "cell_type": "markdown",
   "metadata": {}
  },
  {
   "source": [
    "### CHI = $CH_{4}$ Intensity Current-Year Score"
   ],
   "cell_type": "markdown",
   "metadata": {}
  },
  {
   "cell_type": "code",
   "execution_count": 53,
   "metadata": {},
   "outputs": [],
   "source": [
    "dmt_chi = pd.read_excel('2018-epi-raw-data-time-series.xlsx',sheet_name='CHI')"
   ]
  },
  {
   "source": [
    "### DMI - $CH_{4}$ Intensity Trend Score"
   ],
   "cell_type": "markdown",
   "metadata": {}
  },
  {
   "cell_type": "code",
   "execution_count": 54,
   "metadata": {},
   "outputs": [],
   "source": [
    "dmt_dmi = pd.read_excel('2018-epi-raw-data-time-series.xlsx',sheet_name='DMI')"
   ]
  },
  {
   "source": [
    "## DNT - $N_{2}O$ emissions"
   ],
   "cell_type": "markdown",
   "metadata": {}
  },
  {
   "source": [
    "### NOI = $N_{2}O$ Intensity Current-Year Score"
   ],
   "cell_type": "markdown",
   "metadata": {}
  },
  {
   "cell_type": "code",
   "execution_count": 55,
   "metadata": {},
   "outputs": [],
   "source": [
    "dnt_noi = pd.read_excel('2018-epi-raw-data-time-series.xlsx',sheet_name='NOI')"
   ]
  },
  {
   "source": [
    "### DNI = $N_{2}O$ Intensity Trend Score"
   ],
   "cell_type": "markdown",
   "metadata": {}
  },
  {
   "cell_type": "code",
   "execution_count": 56,
   "metadata": {},
   "outputs": [],
   "source": [
    "dnt_dni = pd.read_excel('2018-epi-raw-data-time-series.xlsx',sheet_name='DNI')"
   ]
  },
  {
   "source": [
    "## DBT - Black Carbon emissions"
   ],
   "cell_type": "markdown",
   "metadata": {}
  },
  {
   "source": [
    "### BCI = Black Carbon Current-Year Score"
   ],
   "cell_type": "markdown",
   "metadata": {}
  },
  {
   "cell_type": "code",
   "execution_count": 2,
   "metadata": {},
   "outputs": [],
   "source": [
    "dbt_bci = pd.read_excel('2018-epi-raw-data-time-series.xlsx',sheet_name='BCI')"
   ]
  },
  {
   "source": [
    "### DBI = Black Carbon Intensity Trend Score"
   ],
   "cell_type": "markdown",
   "metadata": {}
  },
  {
   "cell_type": "code",
   "execution_count": 3,
   "metadata": {},
   "outputs": [],
   "source": [
    "dbt_dbi = pd.read_excel('2018-epi-raw-data-time-series.xlsx',sheet_name='DBI')"
   ]
  },
  {
   "source": [
    "# Conclusions"
   ],
   "cell_type": "markdown",
   "metadata": {}
  },
  {
   "cell_type": "code",
   "execution_count": 59,
   "metadata": {},
   "outputs": [
    {
     "output_type": "stream",
     "name": "stdout",
     "text": [
      "Population has 23 columns and 236 rows\nGDP has 23 columns and 236 rows\n\n\nPopulation and GDP both has 23 columns and 236 rows. \nBoth dataset has 3 identical columns: [\"code\", \"iso\", \"country\"].\nThe number of rows are the Countries and the columns are the years (1997-2016).\n"
     ]
    }
   ],
   "source": [
    "print('Population has {0} columns and {1} rows'.format(pop.shape[1],pop.shape[0]))\n",
    "print('GDP has {0} columns and {1} rows'.format(gdp.shape[1],gdp.shape[0]))\n",
    "print('\\n\\nPopulation and GDP both has {0} columns and {1} rows. \\nBoth dataset has 3 identical columns: [\"code\", \"iso\", \"country\"].\\nThe number of rows are the Countries and the columns are the years (1997-2016).'.format(pop.shape[1],pop.shape[0]))"
   ]
  },
  {
   "source": [
    "### Separating data"
   ],
   "cell_type": "markdown",
   "metadata": {}
  },
  {
   "cell_type": "code",
   "execution_count": 60,
   "metadata": {},
   "outputs": [],
   "source": [
    "pop.drop(columns=['code','iso'],inplace=True)\n",
    "gdp.drop(columns=['code','iso'],inplace=True)"
   ]
  },
  {
   "cell_type": "code",
   "execution_count": 61,
   "metadata": {},
   "outputs": [],
   "source": [
    "pop_corrected = pd.melt(pop,id_vars =['country'])\n",
    "gdp_corrected = pd.melt(gdp,id_vars =['country'])"
   ]
  },
  {
   "cell_type": "code",
   "execution_count": 62,
   "metadata": {},
   "outputs": [],
   "source": [
    "pop_corrected['variable'] = pop_corrected['variable'].apply(lambda x: re.sub(r'\\bPOP.','',x))\n",
    "pop_corrected.rename(columns = {'variable':'year','value':'population'}, inplace = True)"
   ]
  },
  {
   "cell_type": "code",
   "execution_count": 63,
   "metadata": {},
   "outputs": [],
   "source": [
    "gdp_corrected['variable'] = gdp_corrected['variable'].apply(lambda x: re.sub(r'\\bGDP.','',x))\n",
    "gdp_corrected.rename(columns = {'variable':'year','value':'GPD'}, inplace = True)"
   ]
  },
  {
   "cell_type": "code",
   "execution_count": 64,
   "metadata": {},
   "outputs": [],
   "source": [
    "pop_corrected = pop_corrected[pop_corrected['year']!='2015']\n",
    "pop_corrected = pop_corrected[pop_corrected['year']!='2016']\n",
    "gdp_corrected = gdp_corrected[gdp_corrected['year']!='2015']\n",
    "gdp_corrected = gdp_corrected[gdp_corrected['year']!='2016']"
   ]
  },
  {
   "cell_type": "code",
   "execution_count": 65,
   "metadata": {},
   "outputs": [],
   "source": [
    "# export to .csv\n",
    "pop_corrected.to_csv('pop_corr.csv')\n",
    "gdp_corrected.to_csv('gdp_corr.csv')"
   ]
  },
  {
   "source": [
    "## DCT\n",
    "\n",
    "![img](./images/dct.png)"
   ],
   "cell_type": "markdown",
   "metadata": {}
  },
  {
   "cell_type": "code",
   "execution_count": 66,
   "metadata": {},
   "outputs": [
    {
     "output_type": "stream",
     "name": "stdout",
     "text": [
      "CDI has 21 columns and 236 rows\nDCI has 5 columns and 236 rows\nTPI has 4 columns and 236 rows\n\n\nAll dataset has 3 identical columns: [\"code\", \"iso\", \"country\"].\nThe number of rows are the Countries and the columns are the years (CDI: 1997-2014).\n"
     ]
    }
   ],
   "source": [
    "print('CDI has {0} columns and {1} rows'.format(dct_cdi.shape[1],dct_cdi.shape[0]))\n",
    "print('DCI has {0} columns and {1} rows'.format(dct_dci.shape[1],dct_dci.shape[0]))\n",
    "print('TPI has {0} columns and {1} rows'.format(dct_tpi.shape[1],dct_tpi.shape[0]))\n",
    "print('\\n\\nAll dataset has 3 identical columns: [\"code\", \"iso\", \"country\"].\\nThe number of rows are the Countries and the columns are the years (CDI: 1997-2014).')"
   ]
  },
  {
   "source": [
    "### I think it's best just use the CDI information"
   ],
   "cell_type": "markdown",
   "metadata": {}
  },
  {
   "cell_type": "code",
   "execution_count": 67,
   "metadata": {},
   "outputs": [],
   "source": [
    "df = dct_cdi"
   ]
  },
  {
   "cell_type": "code",
   "execution_count": 68,
   "metadata": {},
   "outputs": [],
   "source": [
    "df.drop(columns=['code','iso'],inplace=True)"
   ]
  },
  {
   "cell_type": "code",
   "execution_count": 69,
   "metadata": {},
   "outputs": [],
   "source": [
    "df_corrected = pd.melt(df,id_vars =['country'])\n",
    "df_corrected['variable'] = df_corrected['variable'].apply(lambda x: re.sub(r'\\bCDI.','',x))\n",
    "df_corrected.rename(columns = {'variable':'year','value':'DCT'}, inplace = True)"
   ]
  },
  {
   "cell_type": "code",
   "execution_count": 71,
   "metadata": {},
   "outputs": [],
   "source": [
    "df_corrected.to_csv('dct_corr.csv')"
   ]
  },
  {
   "source": [
    "## DPT\n",
    "\n",
    "![img](./images/dpt.png)"
   ],
   "cell_type": "markdown",
   "metadata": {}
  },
  {
   "cell_type": "code",
   "execution_count": 263,
   "metadata": {},
   "outputs": [
    {
     "output_type": "stream",
     "name": "stdout",
     "text": [
      "CEH has 13 columns and 236 rows\n\n\nAll dataset has 3 identical columns: [\"code\", \"iso\", \"country\"].\nThe number of rows are the Countries and the columns are the years (2005-2014).\n"
     ]
    }
   ],
   "source": [
    "print('CEH has {0} columns and {1} rows'.format(dpt_ceh.shape[1],dpt_ceh.shape[0]))\n",
    "print('\\n\\nAll dataset has 3 identical columns: [\"code\", \"iso\", \"country\"].\\nThe number of rows are the Countries and the columns are the years (2005-2014).')"
   ]
  },
  {
   "cell_type": "code",
   "execution_count": 74,
   "metadata": {},
   "outputs": [],
   "source": [
    "df = dpt_ceh"
   ]
  },
  {
   "cell_type": "code",
   "execution_count": 75,
   "metadata": {},
   "outputs": [],
   "source": [
    "df.drop(columns=['code','iso'],inplace=True)"
   ]
  },
  {
   "cell_type": "code",
   "execution_count": 76,
   "metadata": {},
   "outputs": [],
   "source": [
    "df_corrected = pd.melt(df,id_vars =['country'])\n",
    "df_corrected['variable'] = df_corrected['variable'].apply(lambda x: re.sub(r'\\bCEH.','',x))\n",
    "df_corrected.rename(columns = {'variable':'year','value':'DPT'}, inplace = True)"
   ]
  },
  {
   "cell_type": "code",
   "execution_count": 77,
   "metadata": {},
   "outputs": [],
   "source": [
    "df_corrected.to_csv('dpt_corr.csv')"
   ]
  },
  {
   "source": [
    "## DMT\n",
    "\n",
    "![img](./images/dmt.png)"
   ],
   "cell_type": "markdown",
   "metadata": {}
  },
  {
   "cell_type": "code",
   "execution_count": 264,
   "metadata": {},
   "outputs": [
    {
     "output_type": "stream",
     "name": "stdout",
     "text": [
      "CHI has 21 columns and 236 rows\nDMI has 5 columns and 236 rows\n\n\nAll dataset has 3 identical columns: [\"code\", \"iso\", \"country\"].\nThe number of rows are the Countries and the columns are the years (CHI: 1997-2014).\n"
     ]
    }
   ],
   "source": [
    "print('CHI has {0} columns and {1} rows'.format(dmt_chi.shape[1],dmt_chi.shape[0]))\n",
    "print('DMI has {0} columns and {1} rows'.format(dmt_dmi.shape[1],dmt_dmi.shape[0]))\n",
    "print('\\n\\nAll dataset has 3 identical columns: [\"code\", \"iso\", \"country\"].\\nThe number of rows are the Countries and the columns are the years (CHI: 1997-2014).')"
   ]
  },
  {
   "source": [
    "### Discard DMI dataset"
   ],
   "cell_type": "markdown",
   "metadata": {}
  },
  {
   "cell_type": "code",
   "execution_count": 79,
   "metadata": {},
   "outputs": [],
   "source": [
    "df = dmt_chi"
   ]
  },
  {
   "cell_type": "code",
   "execution_count": 80,
   "metadata": {},
   "outputs": [],
   "source": [
    "df.drop(columns=['code','iso'],inplace=True)"
   ]
  },
  {
   "cell_type": "code",
   "execution_count": 81,
   "metadata": {},
   "outputs": [],
   "source": [
    "df_corrected = pd.melt(df,id_vars =['country'])\n",
    "df_corrected['variable'] = df_corrected['variable'].apply(lambda x: re.sub(r'\\bCHI.','',x))\n",
    "df_corrected.rename(columns = {'variable':'year','value':'DMT'}, inplace = True)"
   ]
  },
  {
   "cell_type": "code",
   "execution_count": 82,
   "metadata": {},
   "outputs": [],
   "source": [
    "df_corrected.to_csv('dmt_corr.csv')"
   ]
  },
  {
   "source": [
    "## DNT\n",
    "\n",
    "![img](./images/dnt.png)"
   ],
   "cell_type": "markdown",
   "metadata": {}
  },
  {
   "cell_type": "code",
   "execution_count": 265,
   "metadata": {},
   "outputs": [
    {
     "output_type": "stream",
     "name": "stdout",
     "text": [
      "NOI has 21 columns and 236 rows\nDNI has 5 columns and 236 rows\n\n\nAll dataset has 3 identical columns: [\"code\", \"iso\", \"country\"].\nThe number of rows are the Countries and the columns are the years (NOI: 1997-2014).\n"
     ]
    }
   ],
   "source": [
    "print('NOI has {0} columns and {1} rows'.format(dnt_noi.shape[1],dnt_noi.shape[0]))\n",
    "print('DNI has {0} columns and {1} rows'.format(dnt_dni.shape[1],dnt_dni.shape[0]))\n",
    "print('\\n\\nAll dataset has 3 identical columns: [\"code\", \"iso\", \"country\"].\\nThe number of rows are the Countries and the columns are the years (NOI: 1997-2014).')"
   ]
  },
  {
   "source": [
    "### Discrad DNI"
   ],
   "cell_type": "markdown",
   "metadata": {}
  },
  {
   "cell_type": "code",
   "execution_count": 87,
   "metadata": {},
   "outputs": [],
   "source": [
    "dnt = dnt_noi"
   ]
  },
  {
   "cell_type": "code",
   "execution_count": 88,
   "metadata": {},
   "outputs": [],
   "source": [
    "dnt.drop(columns=['code','iso'],inplace=True)"
   ]
  },
  {
   "cell_type": "code",
   "execution_count": 89,
   "metadata": {},
   "outputs": [],
   "source": [
    "dnt_corrected = pd.melt(dnt,id_vars =['country'])\n",
    "dnt_corrected['variable'] = dnt_corrected['variable'].apply(lambda x: re.sub(r'\\bNOI.','',x))\n",
    "dnt_corrected.rename(columns = {'variable':'year','value':'DNT'}, inplace = True)"
   ]
  },
  {
   "cell_type": "code",
   "execution_count": 90,
   "metadata": {},
   "outputs": [],
   "source": [
    "dnt_corrected.to_csv('dnt_corr.csv')"
   ]
  },
  {
   "source": [
    "## DBT\n",
    "\n",
    "![img](./images/dbt.png)"
   ],
   "cell_type": "markdown",
   "metadata": {}
  },
  {
   "cell_type": "code",
   "execution_count": 4,
   "metadata": {},
   "outputs": [
    {
     "output_type": "stream",
     "name": "stdout",
     "text": [
      "BCI has 17 columns and 236 rows\nDBI has 5 columns and 236 rows\n\n\nAll dataset has 3 identical columns: [\"code\", \"iso\", \"country\"].\nThe number of rows are the Countries and the columns are the years (BCI: 1997-2010).\n"
     ]
    }
   ],
   "source": [
    "print('BCI has {0} columns and {1} rows'.format(dbt_bci.shape[1],dbt_bci.shape[0]))\n",
    "print('DBI has {0} columns and {1} rows'.format(dbt_dbi.shape[1],dbt_dbi.shape[0]))\n",
    "print('\\n\\nAll dataset has 3 identical columns: [\"code\", \"iso\", \"country\"].\\nThe number of rows are the Countries and the columns are the years (BCI: 1997-2010).')"
   ]
  },
  {
   "source": [
    "### Discard DBI"
   ],
   "cell_type": "markdown",
   "metadata": {}
  },
  {
   "cell_type": "code",
   "execution_count": 5,
   "metadata": {},
   "outputs": [],
   "source": [
    "dbt = dbt_bci"
   ]
  },
  {
   "cell_type": "code",
   "execution_count": 6,
   "metadata": {},
   "outputs": [],
   "source": [
    "dbt.drop(columns=['code','iso'],inplace=True)"
   ]
  },
  {
   "cell_type": "code",
   "execution_count": 7,
   "metadata": {},
   "outputs": [],
   "source": [
    "dbt_corrected = pd.melt(dbt,id_vars =['country'])\n",
    "dbt_corrected['variable'] = dbt_corrected['variable'].apply(lambda x: re.sub(r'\\bBCI.','',x))\n",
    "dbt_corrected.rename(columns = {'variable':'year','value':'DBT'}, inplace = True)"
   ]
  },
  {
   "cell_type": "code",
   "execution_count": 8,
   "metadata": {},
   "outputs": [],
   "source": [
    "dbt_corrected.to_csv('dbt_corr.csv')"
   ]
  },
  {
   "cell_type": "code",
   "execution_count": null,
   "metadata": {},
   "outputs": [],
   "source": []
  }
 ]
}