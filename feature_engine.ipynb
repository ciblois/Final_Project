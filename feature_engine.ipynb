{
 "metadata": {
  "language_info": {
   "codemirror_mode": {
    "name": "ipython",
    "version": 3
   },
   "file_extension": ".py",
   "mimetype": "text/x-python",
   "name": "python",
   "nbconvert_exporter": "python",
   "pygments_lexer": "ipython3",
   "version": "3.8.5-final"
  },
  "orig_nbformat": 2,
  "kernelspec": {
   "name": "python38564bit4f57281242da47b0a84bc03a5fa692d9",
   "display_name": "Python 3.8.5 64-bit"
  }
 },
 "nbformat": 4,
 "nbformat_minor": 2,
 "cells": [
  {
   "cell_type": "code",
   "execution_count": 1,
   "metadata": {},
   "outputs": [],
   "source": [
    "import pandas as pd\n",
    "import numpy as np\n",
    "import seaborn as sns\n",
    "import matplotlib.pyplot as plt\n",
    "import re"
   ]
  },
  {
   "source": [
    "# Data Description\n",
    "\n",
    "* Population\n",
    "* GDP\n",
    "* DCT - $CO_{2}$ Emissions – Total - `CDI = CO2 Intensity Current-Year Score`\n",
    "* DPT - $CO_{2}$ emissions/kWh elect. & heat - `CEH = CO2 Emissions per kWh`\n",
    "* DMT - $CH_{4}$ emissions - `CHI = $CH_{4}$ Intensity Current-Year Score`\n",
    "* DNT - $N_{2}O$ emissions - `NOI = $N_{2}O$ Intensity Current-Year Score`\n",
    "* DBT - Black Carbon emissions - `BCI = Black Carbon Current-Year Score`"
   ],
   "cell_type": "markdown",
   "metadata": {}
  },
  {
   "cell_type": "code",
   "execution_count": 2,
   "metadata": {},
   "outputs": [],
   "source": [
    "climate = pd.read_csv('data_2020.csv')"
   ]
  },
  {
   "cell_type": "code",
   "execution_count": 3,
   "metadata": {},
   "outputs": [],
   "source": [
    "climate.drop(columns=['Unnamed: 0'],inplace=True)"
   ]
  },
  {
   "cell_type": "code",
   "execution_count": 4,
   "metadata": {},
   "outputs": [
    {
     "output_type": "execute_result",
     "data": {
      "text/plain": [
       "(3094, 7)"
      ]
     },
     "metadata": {},
     "execution_count": 4
    }
   ],
   "source": [
    "climate.shape"
   ]
  },
  {
   "cell_type": "code",
   "execution_count": 5,
   "metadata": {},
   "outputs": [
    {
     "output_type": "execute_result",
     "data": {
      "text/plain": [
       "               country  year         CDA         CHA         FGA         NDA  \\\n",
       "0              Albania  1995  100.000000   73.072520    0.000000   78.221486   \n",
       "1              Algeria  1995   40.836434   98.636534   96.334651   72.620891   \n",
       "2               Angola  1995   12.888007   70.729875    0.000000  100.000000   \n",
       "3  Antigua and Barbuda  1995   44.483927   80.575637    0.000000   36.690524   \n",
       "4            Argentina  1995   40.485271  100.000000  100.000000   63.435774   \n",
       "5              Armenia  1995   72.726561   89.833401    0.000000   97.707838   \n",
       "6            Australia  1995   42.566037   99.666890  100.000000   76.458848   \n",
       "7              Austria  1995   50.903881  100.000000   92.800663   93.225015   \n",
       "8           Azerbaijan  1995   60.416530   86.983408  100.000000   74.176342   \n",
       "9              Bahrain  1995   25.727473   33.991729  100.000000   43.459231   \n",
       "\n",
       "          BCA  \n",
       "0  100.000000  \n",
       "1   70.996796  \n",
       "2   43.865361  \n",
       "3   68.683208  \n",
       "4   45.942816  \n",
       "5  100.000000  \n",
       "6   82.549405  \n",
       "7  100.000000  \n",
       "8   88.589201  \n",
       "9   42.950239  "
      ],
      "text/html": "<div>\n<style scoped>\n    .dataframe tbody tr th:only-of-type {\n        vertical-align: middle;\n    }\n\n    .dataframe tbody tr th {\n        vertical-align: top;\n    }\n\n    .dataframe thead th {\n        text-align: right;\n    }\n</style>\n<table border=\"1\" class=\"dataframe\">\n  <thead>\n    <tr style=\"text-align: right;\">\n      <th></th>\n      <th>country</th>\n      <th>year</th>\n      <th>CDA</th>\n      <th>CHA</th>\n      <th>FGA</th>\n      <th>NDA</th>\n      <th>BCA</th>\n    </tr>\n  </thead>\n  <tbody>\n    <tr>\n      <th>0</th>\n      <td>Albania</td>\n      <td>1995</td>\n      <td>100.000000</td>\n      <td>73.072520</td>\n      <td>0.000000</td>\n      <td>78.221486</td>\n      <td>100.000000</td>\n    </tr>\n    <tr>\n      <th>1</th>\n      <td>Algeria</td>\n      <td>1995</td>\n      <td>40.836434</td>\n      <td>98.636534</td>\n      <td>96.334651</td>\n      <td>72.620891</td>\n      <td>70.996796</td>\n    </tr>\n    <tr>\n      <th>2</th>\n      <td>Angola</td>\n      <td>1995</td>\n      <td>12.888007</td>\n      <td>70.729875</td>\n      <td>0.000000</td>\n      <td>100.000000</td>\n      <td>43.865361</td>\n    </tr>\n    <tr>\n      <th>3</th>\n      <td>Antigua and Barbuda</td>\n      <td>1995</td>\n      <td>44.483927</td>\n      <td>80.575637</td>\n      <td>0.000000</td>\n      <td>36.690524</td>\n      <td>68.683208</td>\n    </tr>\n    <tr>\n      <th>4</th>\n      <td>Argentina</td>\n      <td>1995</td>\n      <td>40.485271</td>\n      <td>100.000000</td>\n      <td>100.000000</td>\n      <td>63.435774</td>\n      <td>45.942816</td>\n    </tr>\n    <tr>\n      <th>5</th>\n      <td>Armenia</td>\n      <td>1995</td>\n      <td>72.726561</td>\n      <td>89.833401</td>\n      <td>0.000000</td>\n      <td>97.707838</td>\n      <td>100.000000</td>\n    </tr>\n    <tr>\n      <th>6</th>\n      <td>Australia</td>\n      <td>1995</td>\n      <td>42.566037</td>\n      <td>99.666890</td>\n      <td>100.000000</td>\n      <td>76.458848</td>\n      <td>82.549405</td>\n    </tr>\n    <tr>\n      <th>7</th>\n      <td>Austria</td>\n      <td>1995</td>\n      <td>50.903881</td>\n      <td>100.000000</td>\n      <td>92.800663</td>\n      <td>93.225015</td>\n      <td>100.000000</td>\n    </tr>\n    <tr>\n      <th>8</th>\n      <td>Azerbaijan</td>\n      <td>1995</td>\n      <td>60.416530</td>\n      <td>86.983408</td>\n      <td>100.000000</td>\n      <td>74.176342</td>\n      <td>88.589201</td>\n    </tr>\n    <tr>\n      <th>9</th>\n      <td>Bahrain</td>\n      <td>1995</td>\n      <td>25.727473</td>\n      <td>33.991729</td>\n      <td>100.000000</td>\n      <td>43.459231</td>\n      <td>42.950239</td>\n    </tr>\n  </tbody>\n</table>\n</div>"
     },
     "metadata": {},
     "execution_count": 5
    }
   ],
   "source": [
    "climate.head(10)"
   ]
  },
  {
   "source": [
    "# `Time Series` for 2021-2027 per country"
   ],
   "cell_type": "markdown",
   "metadata": {}
  },
  {
   "cell_type": "code",
   "execution_count": 6,
   "metadata": {},
   "outputs": [],
   "source": [
    "from statsmodels.tsa.ar_model import AR\n",
    "import datetime"
   ]
  },
  {
   "cell_type": "code",
   "execution_count": 7,
   "metadata": {},
   "outputs": [
    {
     "output_type": "execute_result",
     "data": {
      "text/plain": [
       "119"
      ]
     },
     "metadata": {},
     "execution_count": 7
    }
   ],
   "source": [
    "countries = list(climate['country'].unique())\n",
    "len(countries)"
   ]
  },
  {
   "cell_type": "code",
   "execution_count": 8,
   "metadata": {},
   "outputs": [
    {
     "output_type": "execute_result",
     "data": {
      "text/plain": [
       "country    0\n",
       "year       0\n",
       "CDA        0\n",
       "CHA        0\n",
       "FGA        0\n",
       "NDA        0\n",
       "BCA        0\n",
       "dtype: int64"
      ]
     },
     "metadata": {},
     "execution_count": 8
    }
   ],
   "source": [
    "climate.isna().sum() # checking missing values"
   ]
  },
  {
   "cell_type": "code",
   "execution_count": 9,
   "metadata": {},
   "outputs": [],
   "source": [
    "cda = []\n",
    "cha = []\n",
    "fga = []\n",
    "nda = []\n",
    "bca = []"
   ]
  },
  {
   "cell_type": "code",
   "execution_count": 10,
   "metadata": {},
   "outputs": [],
   "source": [
    "# CDA time series\n",
    "\n",
    "for country in countries:\n",
    "    df = climate[climate['country']==str(country)].reset_index()\n",
    "    #df.index = pd.to_datetime(df['year'],format='%Y')#.dt.year\n",
    "    features1 = df['CDA']\n",
    "    model1 = AR(features1)\n",
    "    model1_fit = model1.fit(maxlag=3)\n",
    "    d_f1 = model1_fit.predict(start=len(features1), end=len(features1)+6, dynamic=False)\n",
    "    cda += d_f1.to_list()\n",
    "    #print('Country {0} completed'.format(country))"
   ]
  },
  {
   "cell_type": "code",
   "execution_count": 11,
   "metadata": {},
   "outputs": [],
   "source": [
    "# CHA time series\n",
    "\n",
    "for country in countries:\n",
    "    df = climate[climate['country']==str(country)].reset_index()\n",
    "    #df.index = pd.to_datetime(df['year'],format='%Y')#.dt.year\n",
    "    features = df['CHA']\n",
    "    if len((climate[climate['country']==str(country)]['CHA']).unique()) == 1:\n",
    "        cha_ = features[:7].tolist()\n",
    "        cha+=cha_\n",
    "    else:\n",
    "        model = AR(features)\n",
    "        model_fit = model.fit(maxlag=3)\n",
    "        d_f = model_fit.predict(start=len(features), end=len(features)+6, dynamic=False)\n",
    "        cha+=d_f.to_list()\n",
    "    #print('Country {0} completed'.format(country)) # problems with values repetition"
   ]
  },
  {
   "cell_type": "code",
   "execution_count": 12,
   "metadata": {},
   "outputs": [],
   "source": [
    "# FGA time series\n",
    "\n",
    "for country in countries:\n",
    "    df = climate[climate['country']==str(country)].reset_index()\n",
    "    #df.index = pd.to_datetime(df['year'],format='%Y')#.dt.year\n",
    "    features = df['FGA']\n",
    "    if len((climate[climate['country']==str(country)]['FGA']).unique()) == 1:\n",
    "        fga_ = features[:7].tolist()\n",
    "        fga+=fga_\n",
    "    else:\n",
    "        model = AR(features)\n",
    "        model_fit = model.fit(maxlag=3)\n",
    "        d_f = model_fit.predict(start=len(features), end=len(features)+6, dynamic=False)\n",
    "        fga+=d_f.to_list()\n",
    "    #print('Country {0} completed'.format(country))"
   ]
  },
  {
   "cell_type": "code",
   "execution_count": 13,
   "metadata": {},
   "outputs": [],
   "source": [
    "# NDA time series\n",
    "\n",
    "for country in countries:\n",
    "    df = climate[climate['country']==str(country)].reset_index()\n",
    "    #df.index = pd.to_datetime(df['year'],format='%Y')#.dt.year\n",
    "    features = df['NDA']\n",
    "    model = AR(features)\n",
    "    model_fit = model.fit(maxlag=3)\n",
    "    d_f = model_fit.predict(start=len(features), end=len(features)+6, dynamic=False)\n",
    "    nda+=d_f.to_list()\n",
    "    #print('Country {0} completed'.format(country))"
   ]
  },
  {
   "cell_type": "code",
   "execution_count": 14,
   "metadata": {},
   "outputs": [],
   "source": [
    "# BCA time series\n",
    "\n",
    "for country in countries:\n",
    "    df = climate[climate['country']==str(country)].reset_index()\n",
    "    #df.index = pd.to_datetime(df['year'],format='%Y')#.dt.year\n",
    "    features = df['BCA']\n",
    "    if len((climate[climate['country']==str(country)]['BCA']).unique()) == 1:\n",
    "        bca_ = features[:7].tolist()\n",
    "        bca+=bca_\n",
    "    else:\n",
    "        model = AR(features)\n",
    "        model_fit = model.fit(maxlag=3)\n",
    "        d_f = model_fit.predict(start=len(features), end=len(features)+6, dynamic=False)\n",
    "        bca+=d_f.to_list()\n",
    "    #print('Country {0} completed'.format(country))"
   ]
  },
  {
   "source": [
    "## We have to generate total 833 predictions"
   ],
   "cell_type": "markdown",
   "metadata": {}
  },
  {
   "cell_type": "code",
   "execution_count": 15,
   "metadata": {},
   "outputs": [
    {
     "output_type": "stream",
     "name": "stdout",
     "text": [
      "The CDA columns has 833 predictions\nThe CHA columns has 833 predictions\nThe FGA columns has 833 predictions\nThe NDA columns has 833 predictions\nThe BCA columns has 833 predictions\n"
     ]
    }
   ],
   "source": [
    "print('The CDA columns has {0} predictions'.format(len(cda)))\n",
    "print('The CHA columns has {0} predictions'.format(len(cha)))\n",
    "print('The FGA columns has {0} predictions'.format(len(fga)))\n",
    "print('The NDA columns has {0} predictions'.format(len(nda)))\n",
    "print('The BCA columns has {0} predictions'.format(len(bca)))"
   ]
  },
  {
   "cell_type": "code",
   "execution_count": 16,
   "metadata": {},
   "outputs": [],
   "source": [
    "df_cda = pd.DataFrame({'CDA':cda})\n",
    "df_cha = pd.DataFrame({'CHA':cha})\n",
    "df_fga = pd.DataFrame({'FGA':fga})\n",
    "df_nda = pd.DataFrame({'NDA':nda})\n",
    "df_bca = pd.DataFrame({'BCA':bca})"
   ]
  },
  {
   "cell_type": "code",
   "execution_count": 17,
   "metadata": {},
   "outputs": [
    {
     "output_type": "stream",
     "name": "stdout",
     "text": [
      "The CDA columns has 833 predictions\nThe CHA columns has 833 predictions\nThe FGA columns has 833 predictions\nThe NDA columns has 833 predictions\nThe BCA columns has 833 predictions\n"
     ]
    }
   ],
   "source": [
    "print('The CDA columns has {0} predictions'.format(df_cda.shape[0]))\n",
    "print('The CHA columns has {0} predictions'.format(df_cha.shape[0]))\n",
    "print('The FGA columns has {0} predictions'.format(df_fga.shape[0]))\n",
    "print('The NDA columns has {0} predictions'.format(df_nda.shape[0]))\n",
    "print('The BCA columns has {0} predictions'.format(df_bca.shape[0]))"
   ]
  },
  {
   "cell_type": "code",
   "execution_count": 18,
   "metadata": {},
   "outputs": [
    {
     "output_type": "execute_result",
     "data": {
      "text/plain": [
       "(833, 1)"
      ]
     },
     "metadata": {},
     "execution_count": 18
    }
   ],
   "source": [
    "years = [num for num in range(2021,2028)]\n",
    "year = pd.DataFrame({'year':years*119})\n",
    "year.shape"
   ]
  },
  {
   "cell_type": "code",
   "execution_count": 19,
   "metadata": {},
   "outputs": [],
   "source": [
    "countries_total = []\n",
    "for i in countries:\n",
    "    for j in range(0,7):\n",
    "        countries_total.append(i)"
   ]
  },
  {
   "cell_type": "code",
   "execution_count": 20,
   "metadata": {},
   "outputs": [
    {
     "output_type": "execute_result",
     "data": {
      "text/plain": [
       "833"
      ]
     },
     "metadata": {},
     "execution_count": 20
    }
   ],
   "source": [
    "len(countries_total)"
   ]
  },
  {
   "cell_type": "code",
   "execution_count": 21,
   "metadata": {},
   "outputs": [],
   "source": [
    "data = pd.DataFrame(countries_total,columns=['country'])\n",
    "climate_pred = data.join(year)"
   ]
  },
  {
   "cell_type": "code",
   "execution_count": 22,
   "metadata": {},
   "outputs": [],
   "source": [
    "climate_pred = climate_pred.join(df_cda)\n",
    "climate_pred = climate_pred.join(df_cha)\n",
    "climate_pred = climate_pred.join(df_fga)\n",
    "climate_pred = climate_pred.join(df_nda)\n",
    "climate_pred = climate_pred.join(df_bca)"
   ]
  },
  {
   "cell_type": "code",
   "execution_count": 23,
   "metadata": {},
   "outputs": [
    {
     "output_type": "execute_result",
     "data": {
      "text/plain": [
       "(833, 7)"
      ]
     },
     "metadata": {},
     "execution_count": 23
    }
   ],
   "source": [
    "climate_pred.shape"
   ]
  },
  {
   "cell_type": "code",
   "execution_count": 24,
   "metadata": {},
   "outputs": [
    {
     "output_type": "execute_result",
     "data": {
      "text/plain": [
       "              year         CDA         CHA         FGA         NDA         BCA\n",
       "count   833.000000  833.000000  833.000000  833.000000  833.000000  833.000000\n",
       "mean   2024.000000   46.927990   70.178301   90.192226   59.149739   57.760642\n",
       "std       2.001202   19.318147   24.118012    6.441016   23.532881   28.317474\n",
       "min    2021.000000  -20.283220    0.365263   58.798376  -22.226431   -1.633239\n",
       "25%    2022.000000   35.178317   54.443601   87.930536   45.057044   37.291466\n",
       "50%    2024.000000   48.918575   74.304786   90.787452   61.724836   57.494537\n",
       "75%    2026.000000   59.984871   91.204499   93.946316   76.995678   82.247176\n",
       "max    2027.000000   99.887811  106.433342  101.166693   99.981576  106.087037"
      ],
      "text/html": "<div>\n<style scoped>\n    .dataframe tbody tr th:only-of-type {\n        vertical-align: middle;\n    }\n\n    .dataframe tbody tr th {\n        vertical-align: top;\n    }\n\n    .dataframe thead th {\n        text-align: right;\n    }\n</style>\n<table border=\"1\" class=\"dataframe\">\n  <thead>\n    <tr style=\"text-align: right;\">\n      <th></th>\n      <th>year</th>\n      <th>CDA</th>\n      <th>CHA</th>\n      <th>FGA</th>\n      <th>NDA</th>\n      <th>BCA</th>\n    </tr>\n  </thead>\n  <tbody>\n    <tr>\n      <th>count</th>\n      <td>833.000000</td>\n      <td>833.000000</td>\n      <td>833.000000</td>\n      <td>833.000000</td>\n      <td>833.000000</td>\n      <td>833.000000</td>\n    </tr>\n    <tr>\n      <th>mean</th>\n      <td>2024.000000</td>\n      <td>46.927990</td>\n      <td>70.178301</td>\n      <td>90.192226</td>\n      <td>59.149739</td>\n      <td>57.760642</td>\n    </tr>\n    <tr>\n      <th>std</th>\n      <td>2.001202</td>\n      <td>19.318147</td>\n      <td>24.118012</td>\n      <td>6.441016</td>\n      <td>23.532881</td>\n      <td>28.317474</td>\n    </tr>\n    <tr>\n      <th>min</th>\n      <td>2021.000000</td>\n      <td>-20.283220</td>\n      <td>0.365263</td>\n      <td>58.798376</td>\n      <td>-22.226431</td>\n      <td>-1.633239</td>\n    </tr>\n    <tr>\n      <th>25%</th>\n      <td>2022.000000</td>\n      <td>35.178317</td>\n      <td>54.443601</td>\n      <td>87.930536</td>\n      <td>45.057044</td>\n      <td>37.291466</td>\n    </tr>\n    <tr>\n      <th>50%</th>\n      <td>2024.000000</td>\n      <td>48.918575</td>\n      <td>74.304786</td>\n      <td>90.787452</td>\n      <td>61.724836</td>\n      <td>57.494537</td>\n    </tr>\n    <tr>\n      <th>75%</th>\n      <td>2026.000000</td>\n      <td>59.984871</td>\n      <td>91.204499</td>\n      <td>93.946316</td>\n      <td>76.995678</td>\n      <td>82.247176</td>\n    </tr>\n    <tr>\n      <th>max</th>\n      <td>2027.000000</td>\n      <td>99.887811</td>\n      <td>106.433342</td>\n      <td>101.166693</td>\n      <td>99.981576</td>\n      <td>106.087037</td>\n    </tr>\n  </tbody>\n</table>\n</div>"
     },
     "metadata": {},
     "execution_count": 24
    }
   ],
   "source": [
    "climate_pred.describe()"
   ]
  },
  {
   "cell_type": "code",
   "execution_count": 25,
   "metadata": {},
   "outputs": [],
   "source": [
    "def min_pred(row):\n",
    "    if row <= 0:\n",
    "        return 0\n",
    "    elif row >= 100:\n",
    "        return 100\n",
    "    else:\n",
    "        return row"
   ]
  },
  {
   "cell_type": "code",
   "execution_count": 26,
   "metadata": {},
   "outputs": [],
   "source": [
    "climate_pred['CDA'] = climate_pred['CDA'].apply(lambda x: 0 if x<=0 else x)\n",
    "climate_pred['CHA'] = climate_pred['CHA'].apply(lambda x: 0 if x<=0 else x)\n",
    "climate_pred['FGA'] = climate_pred['FGA'].apply(lambda x: 0 if x<=0 else x)\n",
    "climate_pred['NDA'] = climate_pred['NDA'].apply(lambda x: 0 if x<=0 else x)\n",
    "climate_pred['BCA'] = climate_pred['BCA'].apply(lambda x: 0 if x<=0 else x)"
   ]
  },
  {
   "cell_type": "code",
   "execution_count": 27,
   "metadata": {},
   "outputs": [],
   "source": [
    "climate_pred['CDA'] = climate_pred['CDA'].apply(lambda x: 100 if x>=100 else x)\n",
    "climate_pred['CHA'] = climate_pred['CHA'].apply(lambda x: 100 if x>=100 else x)\n",
    "climate_pred['FGA'] = climate_pred['FGA'].apply(lambda x: 100 if x>=100 else x)\n",
    "climate_pred['NDA'] = climate_pred['NDA'].apply(lambda x: 100 if x>=100 else x)\n",
    "climate_pred['BCA'] = climate_pred['BCA'].apply(lambda x: 100 if x>=100 else x)"
   ]
  },
  {
   "cell_type": "code",
   "execution_count": 28,
   "metadata": {},
   "outputs": [
    {
     "output_type": "execute_result",
     "data": {
      "text/plain": [
       "              year         CDA         CHA         FGA         NDA         BCA\n",
       "count   833.000000  833.000000  833.000000  833.000000  833.000000  833.000000\n",
       "mean   2024.000000   47.085441   70.138578   90.189619   59.287409   57.723775\n",
       "std       2.001202   18.872389   24.065827    6.436861   23.144158   28.198986\n",
       "min    2021.000000    0.000000    0.365263   58.798376    0.000000    0.000000\n",
       "25%    2022.000000   35.178317   54.443601   87.930536   45.057044   37.291466\n",
       "50%    2024.000000   48.918575   74.304786   90.787452   61.724836   57.494537\n",
       "75%    2026.000000   59.984871   91.204499   93.946316   76.995678   82.247176\n",
       "max    2027.000000   99.887811  100.000000  100.000000   99.981576  100.000000"
      ],
      "text/html": "<div>\n<style scoped>\n    .dataframe tbody tr th:only-of-type {\n        vertical-align: middle;\n    }\n\n    .dataframe tbody tr th {\n        vertical-align: top;\n    }\n\n    .dataframe thead th {\n        text-align: right;\n    }\n</style>\n<table border=\"1\" class=\"dataframe\">\n  <thead>\n    <tr style=\"text-align: right;\">\n      <th></th>\n      <th>year</th>\n      <th>CDA</th>\n      <th>CHA</th>\n      <th>FGA</th>\n      <th>NDA</th>\n      <th>BCA</th>\n    </tr>\n  </thead>\n  <tbody>\n    <tr>\n      <th>count</th>\n      <td>833.000000</td>\n      <td>833.000000</td>\n      <td>833.000000</td>\n      <td>833.000000</td>\n      <td>833.000000</td>\n      <td>833.000000</td>\n    </tr>\n    <tr>\n      <th>mean</th>\n      <td>2024.000000</td>\n      <td>47.085441</td>\n      <td>70.138578</td>\n      <td>90.189619</td>\n      <td>59.287409</td>\n      <td>57.723775</td>\n    </tr>\n    <tr>\n      <th>std</th>\n      <td>2.001202</td>\n      <td>18.872389</td>\n      <td>24.065827</td>\n      <td>6.436861</td>\n      <td>23.144158</td>\n      <td>28.198986</td>\n    </tr>\n    <tr>\n      <th>min</th>\n      <td>2021.000000</td>\n      <td>0.000000</td>\n      <td>0.365263</td>\n      <td>58.798376</td>\n      <td>0.000000</td>\n      <td>0.000000</td>\n    </tr>\n    <tr>\n      <th>25%</th>\n      <td>2022.000000</td>\n      <td>35.178317</td>\n      <td>54.443601</td>\n      <td>87.930536</td>\n      <td>45.057044</td>\n      <td>37.291466</td>\n    </tr>\n    <tr>\n      <th>50%</th>\n      <td>2024.000000</td>\n      <td>48.918575</td>\n      <td>74.304786</td>\n      <td>90.787452</td>\n      <td>61.724836</td>\n      <td>57.494537</td>\n    </tr>\n    <tr>\n      <th>75%</th>\n      <td>2026.000000</td>\n      <td>59.984871</td>\n      <td>91.204499</td>\n      <td>93.946316</td>\n      <td>76.995678</td>\n      <td>82.247176</td>\n    </tr>\n    <tr>\n      <th>max</th>\n      <td>2027.000000</td>\n      <td>99.887811</td>\n      <td>100.000000</td>\n      <td>100.000000</td>\n      <td>99.981576</td>\n      <td>100.000000</td>\n    </tr>\n  </tbody>\n</table>\n</div>"
     },
     "metadata": {},
     "execution_count": 28
    }
   ],
   "source": [
    "climate_pred.describe()"
   ]
  },
  {
   "cell_type": "code",
   "execution_count": 29,
   "metadata": {},
   "outputs": [],
   "source": [
    "final_df = []\n",
    "for country in countries:\n",
    "    df1 = climate[climate['country']==str(country)].reset_index()\n",
    "    df2 = climate_pred[climate_pred['country']==str(country)].reset_index()\n",
    "    final = df1.append(df2)\n",
    "    final = final.reset_index()\n",
    "    final.drop(columns=['level_0','index'],inplace=True)\n",
    "    final_df.append(final)"
   ]
  },
  {
   "cell_type": "code",
   "execution_count": 30,
   "metadata": {},
   "outputs": [],
   "source": [
    "def list_to_df(lst):\n",
    "    df = lst[0]\n",
    "    for item in range(1,len(lst)):\n",
    "        df = df.append(lst[item])\n",
    "    return df"
   ]
  },
  {
   "cell_type": "code",
   "execution_count": 31,
   "metadata": {},
   "outputs": [],
   "source": [
    "all_pred_2020 = list_to_df(final_df)"
   ]
  },
  {
   "cell_type": "code",
   "execution_count": 32,
   "metadata": {},
   "outputs": [],
   "source": [
    "all_pred_2020 = all_pred_2020.reset_index()\n",
    "all_pred_2020.drop(columns=['index'],inplace=True)"
   ]
  },
  {
   "cell_type": "code",
   "execution_count": 33,
   "metadata": {},
   "outputs": [
    {
     "output_type": "execute_result",
     "data": {
      "text/plain": [
       "(3927, 7)"
      ]
     },
     "metadata": {},
     "execution_count": 33
    }
   ],
   "source": [
    "all_pred_2020.shape"
   ]
  },
  {
   "cell_type": "code",
   "execution_count": 34,
   "metadata": {},
   "outputs": [
    {
     "output_type": "execute_result",
     "data": {
      "text/plain": [
       "3927"
      ]
     },
     "metadata": {},
     "execution_count": 34
    }
   ],
   "source": [
    "len(countries)*len(all_pred_2020['year'].unique())"
   ]
  },
  {
   "cell_type": "code",
   "execution_count": 37,
   "metadata": {},
   "outputs": [
    {
     "output_type": "execute_result",
     "data": {
      "text/plain": [
       "              year          CDA          CHA          FGA          NDA  \\\n",
       "count  3927.000000  3927.000000  3927.000000  3927.000000  3927.000000   \n",
       "mean   2011.000000    46.041716    70.007821    79.813079    60.239741   \n",
       "std       9.523117    20.168466    27.478758    24.015765    27.604722   \n",
       "min    1995.000000     0.000000     0.000000     0.000000     0.000000   \n",
       "25%    2003.000000    33.327305    52.283540    76.768697    41.306883   \n",
       "50%    2011.000000    46.330144    75.521607    88.870377    62.579480   \n",
       "75%    2019.000000    59.016327    96.252055    93.099878    80.547486   \n",
       "max    2027.000000   100.000000   100.000000   100.000000   100.000000   \n",
       "\n",
       "               BCA  \n",
       "count  3927.000000  \n",
       "mean     59.409586  \n",
       "std      30.906983  \n",
       "min       0.000000  \n",
       "25%      36.240169  \n",
       "50%      59.103345  \n",
       "75%      89.694149  \n",
       "max     100.000000  "
      ],
      "text/html": "<div>\n<style scoped>\n    .dataframe tbody tr th:only-of-type {\n        vertical-align: middle;\n    }\n\n    .dataframe tbody tr th {\n        vertical-align: top;\n    }\n\n    .dataframe thead th {\n        text-align: right;\n    }\n</style>\n<table border=\"1\" class=\"dataframe\">\n  <thead>\n    <tr style=\"text-align: right;\">\n      <th></th>\n      <th>year</th>\n      <th>CDA</th>\n      <th>CHA</th>\n      <th>FGA</th>\n      <th>NDA</th>\n      <th>BCA</th>\n    </tr>\n  </thead>\n  <tbody>\n    <tr>\n      <th>count</th>\n      <td>3927.000000</td>\n      <td>3927.000000</td>\n      <td>3927.000000</td>\n      <td>3927.000000</td>\n      <td>3927.000000</td>\n      <td>3927.000000</td>\n    </tr>\n    <tr>\n      <th>mean</th>\n      <td>2011.000000</td>\n      <td>46.041716</td>\n      <td>70.007821</td>\n      <td>79.813079</td>\n      <td>60.239741</td>\n      <td>59.409586</td>\n    </tr>\n    <tr>\n      <th>std</th>\n      <td>9.523117</td>\n      <td>20.168466</td>\n      <td>27.478758</td>\n      <td>24.015765</td>\n      <td>27.604722</td>\n      <td>30.906983</td>\n    </tr>\n    <tr>\n      <th>min</th>\n      <td>1995.000000</td>\n      <td>0.000000</td>\n      <td>0.000000</td>\n      <td>0.000000</td>\n      <td>0.000000</td>\n      <td>0.000000</td>\n    </tr>\n    <tr>\n      <th>25%</th>\n      <td>2003.000000</td>\n      <td>33.327305</td>\n      <td>52.283540</td>\n      <td>76.768697</td>\n      <td>41.306883</td>\n      <td>36.240169</td>\n    </tr>\n    <tr>\n      <th>50%</th>\n      <td>2011.000000</td>\n      <td>46.330144</td>\n      <td>75.521607</td>\n      <td>88.870377</td>\n      <td>62.579480</td>\n      <td>59.103345</td>\n    </tr>\n    <tr>\n      <th>75%</th>\n      <td>2019.000000</td>\n      <td>59.016327</td>\n      <td>96.252055</td>\n      <td>93.099878</td>\n      <td>80.547486</td>\n      <td>89.694149</td>\n    </tr>\n    <tr>\n      <th>max</th>\n      <td>2027.000000</td>\n      <td>100.000000</td>\n      <td>100.000000</td>\n      <td>100.000000</td>\n      <td>100.000000</td>\n      <td>100.000000</td>\n    </tr>\n  </tbody>\n</table>\n</div>"
     },
     "metadata": {},
     "execution_count": 37
    }
   ],
   "source": [
    "all_pred_2020.describe()"
   ]
  },
  {
   "source": [
    "# Export xlsx and csv"
   ],
   "cell_type": "markdown",
   "metadata": {}
  },
  {
   "cell_type": "code",
   "execution_count": 132,
   "metadata": {},
   "outputs": [],
   "source": [
    "climate_pred.to_csv('climate_pred_2020.csv')\n",
    "climate_pred.to_excel('climate_pred_2020.xlsx')"
   ]
  },
  {
   "cell_type": "code",
   "execution_count": 133,
   "metadata": {},
   "outputs": [],
   "source": [
    "all_pred_2020.to_csv('climate_all_pred_2020.csv')"
   ]
  },
  {
   "source": [
    "# `Survival Analysis` to predict which variable represents the biggest change concern"
   ],
   "cell_type": "markdown",
   "metadata": {}
  },
  {
   "cell_type": "code",
   "execution_count": 26,
   "metadata": {},
   "outputs": [],
   "source": [
    "from lifelines import KaplanMeierFitter\n",
    "from lifelines import CoxPHFitter"
   ]
  },
  {
   "cell_type": "code",
   "execution_count": 27,
   "metadata": {},
   "outputs": [
    {
     "output_type": "execute_result",
     "data": {
      "text/plain": [
       "    index  country  year         CDA         CHA        FGA         NDA  \\\n",
       "0       0  Albania  1995  100.000000   73.072520   0.000000   78.221486   \n",
       "1     119  Albania  1996  100.000000   73.072520   0.000000   78.221486   \n",
       "2     238  Albania  1997  100.000000   73.072520   0.000000   78.221486   \n",
       "3     357  Albania  1998  100.000000   73.072520   0.000000   78.221486   \n",
       "4     476  Albania  1999  100.000000   73.072520   0.000000   78.221486   \n",
       "5     595  Albania  2000   74.923269   76.760669   0.000000   63.022453   \n",
       "6     714  Albania  2001   39.235149   85.603156  18.915822   68.296950   \n",
       "7     833  Albania  2002   18.968655  100.000000  40.199894   71.154023   \n",
       "8     952  Albania  2003    1.230429  100.000000  51.079315   71.641696   \n",
       "9    1071  Albania  2004    0.000000  100.000000  57.123048   60.929528   \n",
       "10   1190  Albania  2005    0.000000  100.000000  59.128368   49.251423   \n",
       "11   1309  Albania  2006    0.000000   99.959781  60.153131   49.981561   \n",
       "12   1428  Albania  2007   17.883514  100.000000  64.772210   60.454158   \n",
       "13   1547  Albania  2008   35.874283  100.000000  68.930938   71.780970   \n",
       "14   1666  Albania  2009   40.793817  100.000000  72.608704   90.713342   \n",
       "15   1785  Albania  2010   46.330144  100.000000  76.187988  100.000000   \n",
       "16   1904  Albania  2011   46.494000  100.000000  79.645391  100.000000   \n",
       "17   2023  Albania  2012   45.298592  100.000000  82.931852  100.000000   \n",
       "18   2142  Albania  2013   41.620819  100.000000  85.549548  100.000000   \n",
       "19   2261  Albania  2014   36.221721  100.000000  87.269920   98.082490   \n",
       "20   2380  Albania  2015   34.895089  100.000000  88.091984   78.695273   \n",
       "21   2499  Albania  2016   37.169587   85.143263  88.896693   66.507309   \n",
       "22   2618  Albania  2017   41.174080   79.154052  89.444386   61.861935   \n",
       "23   2737  Albania  2018   41.174080   79.154052  89.444386   61.861935   \n",
       "24   2856  Albania  2019   41.174080   79.154052  89.444386   61.861935   \n",
       "25   2975  Albania  2020   41.174080   79.154052  89.444386   61.861935   \n",
       "\n",
       "           BCA  \n",
       "0   100.000000  \n",
       "1   100.000000  \n",
       "2   100.000000  \n",
       "3   100.000000  \n",
       "4   100.000000  \n",
       "5    48.045073  \n",
       "6     0.000000  \n",
       "7     0.000000  \n",
       "8     0.000000  \n",
       "9     0.000000  \n",
       "10    0.000000  \n",
       "11    0.000000  \n",
       "12   10.873171  \n",
       "13   56.711345  \n",
       "14   56.352143  \n",
       "15   63.528787  \n",
       "16   69.899276  \n",
       "17   91.843514  \n",
       "18  100.000000  \n",
       "19  100.000000  \n",
       "20  100.000000  \n",
       "21  100.000000  \n",
       "22  100.000000  \n",
       "23  100.000000  \n",
       "24  100.000000  \n",
       "25  100.000000  "
      ],
      "text/html": "<div>\n<style scoped>\n    .dataframe tbody tr th:only-of-type {\n        vertical-align: middle;\n    }\n\n    .dataframe tbody tr th {\n        vertical-align: top;\n    }\n\n    .dataframe thead th {\n        text-align: right;\n    }\n</style>\n<table border=\"1\" class=\"dataframe\">\n  <thead>\n    <tr style=\"text-align: right;\">\n      <th></th>\n      <th>index</th>\n      <th>country</th>\n      <th>year</th>\n      <th>CDA</th>\n      <th>CHA</th>\n      <th>FGA</th>\n      <th>NDA</th>\n      <th>BCA</th>\n    </tr>\n  </thead>\n  <tbody>\n    <tr>\n      <th>0</th>\n      <td>0</td>\n      <td>Albania</td>\n      <td>1995</td>\n      <td>100.000000</td>\n      <td>73.072520</td>\n      <td>0.000000</td>\n      <td>78.221486</td>\n      <td>100.000000</td>\n    </tr>\n    <tr>\n      <th>1</th>\n      <td>119</td>\n      <td>Albania</td>\n      <td>1996</td>\n      <td>100.000000</td>\n      <td>73.072520</td>\n      <td>0.000000</td>\n      <td>78.221486</td>\n      <td>100.000000</td>\n    </tr>\n    <tr>\n      <th>2</th>\n      <td>238</td>\n      <td>Albania</td>\n      <td>1997</td>\n      <td>100.000000</td>\n      <td>73.072520</td>\n      <td>0.000000</td>\n      <td>78.221486</td>\n      <td>100.000000</td>\n    </tr>\n    <tr>\n      <th>3</th>\n      <td>357</td>\n      <td>Albania</td>\n      <td>1998</td>\n      <td>100.000000</td>\n      <td>73.072520</td>\n      <td>0.000000</td>\n      <td>78.221486</td>\n      <td>100.000000</td>\n    </tr>\n    <tr>\n      <th>4</th>\n      <td>476</td>\n      <td>Albania</td>\n      <td>1999</td>\n      <td>100.000000</td>\n      <td>73.072520</td>\n      <td>0.000000</td>\n      <td>78.221486</td>\n      <td>100.000000</td>\n    </tr>\n    <tr>\n      <th>5</th>\n      <td>595</td>\n      <td>Albania</td>\n      <td>2000</td>\n      <td>74.923269</td>\n      <td>76.760669</td>\n      <td>0.000000</td>\n      <td>63.022453</td>\n      <td>48.045073</td>\n    </tr>\n    <tr>\n      <th>6</th>\n      <td>714</td>\n      <td>Albania</td>\n      <td>2001</td>\n      <td>39.235149</td>\n      <td>85.603156</td>\n      <td>18.915822</td>\n      <td>68.296950</td>\n      <td>0.000000</td>\n    </tr>\n    <tr>\n      <th>7</th>\n      <td>833</td>\n      <td>Albania</td>\n      <td>2002</td>\n      <td>18.968655</td>\n      <td>100.000000</td>\n      <td>40.199894</td>\n      <td>71.154023</td>\n      <td>0.000000</td>\n    </tr>\n    <tr>\n      <th>8</th>\n      <td>952</td>\n      <td>Albania</td>\n      <td>2003</td>\n      <td>1.230429</td>\n      <td>100.000000</td>\n      <td>51.079315</td>\n      <td>71.641696</td>\n      <td>0.000000</td>\n    </tr>\n    <tr>\n      <th>9</th>\n      <td>1071</td>\n      <td>Albania</td>\n      <td>2004</td>\n      <td>0.000000</td>\n      <td>100.000000</td>\n      <td>57.123048</td>\n      <td>60.929528</td>\n      <td>0.000000</td>\n    </tr>\n    <tr>\n      <th>10</th>\n      <td>1190</td>\n      <td>Albania</td>\n      <td>2005</td>\n      <td>0.000000</td>\n      <td>100.000000</td>\n      <td>59.128368</td>\n      <td>49.251423</td>\n      <td>0.000000</td>\n    </tr>\n    <tr>\n      <th>11</th>\n      <td>1309</td>\n      <td>Albania</td>\n      <td>2006</td>\n      <td>0.000000</td>\n      <td>99.959781</td>\n      <td>60.153131</td>\n      <td>49.981561</td>\n      <td>0.000000</td>\n    </tr>\n    <tr>\n      <th>12</th>\n      <td>1428</td>\n      <td>Albania</td>\n      <td>2007</td>\n      <td>17.883514</td>\n      <td>100.000000</td>\n      <td>64.772210</td>\n      <td>60.454158</td>\n      <td>10.873171</td>\n    </tr>\n    <tr>\n      <th>13</th>\n      <td>1547</td>\n      <td>Albania</td>\n      <td>2008</td>\n      <td>35.874283</td>\n      <td>100.000000</td>\n      <td>68.930938</td>\n      <td>71.780970</td>\n      <td>56.711345</td>\n    </tr>\n    <tr>\n      <th>14</th>\n      <td>1666</td>\n      <td>Albania</td>\n      <td>2009</td>\n      <td>40.793817</td>\n      <td>100.000000</td>\n      <td>72.608704</td>\n      <td>90.713342</td>\n      <td>56.352143</td>\n    </tr>\n    <tr>\n      <th>15</th>\n      <td>1785</td>\n      <td>Albania</td>\n      <td>2010</td>\n      <td>46.330144</td>\n      <td>100.000000</td>\n      <td>76.187988</td>\n      <td>100.000000</td>\n      <td>63.528787</td>\n    </tr>\n    <tr>\n      <th>16</th>\n      <td>1904</td>\n      <td>Albania</td>\n      <td>2011</td>\n      <td>46.494000</td>\n      <td>100.000000</td>\n      <td>79.645391</td>\n      <td>100.000000</td>\n      <td>69.899276</td>\n    </tr>\n    <tr>\n      <th>17</th>\n      <td>2023</td>\n      <td>Albania</td>\n      <td>2012</td>\n      <td>45.298592</td>\n      <td>100.000000</td>\n      <td>82.931852</td>\n      <td>100.000000</td>\n      <td>91.843514</td>\n    </tr>\n    <tr>\n      <th>18</th>\n      <td>2142</td>\n      <td>Albania</td>\n      <td>2013</td>\n      <td>41.620819</td>\n      <td>100.000000</td>\n      <td>85.549548</td>\n      <td>100.000000</td>\n      <td>100.000000</td>\n    </tr>\n    <tr>\n      <th>19</th>\n      <td>2261</td>\n      <td>Albania</td>\n      <td>2014</td>\n      <td>36.221721</td>\n      <td>100.000000</td>\n      <td>87.269920</td>\n      <td>98.082490</td>\n      <td>100.000000</td>\n    </tr>\n    <tr>\n      <th>20</th>\n      <td>2380</td>\n      <td>Albania</td>\n      <td>2015</td>\n      <td>34.895089</td>\n      <td>100.000000</td>\n      <td>88.091984</td>\n      <td>78.695273</td>\n      <td>100.000000</td>\n    </tr>\n    <tr>\n      <th>21</th>\n      <td>2499</td>\n      <td>Albania</td>\n      <td>2016</td>\n      <td>37.169587</td>\n      <td>85.143263</td>\n      <td>88.896693</td>\n      <td>66.507309</td>\n      <td>100.000000</td>\n    </tr>\n    <tr>\n      <th>22</th>\n      <td>2618</td>\n      <td>Albania</td>\n      <td>2017</td>\n      <td>41.174080</td>\n      <td>79.154052</td>\n      <td>89.444386</td>\n      <td>61.861935</td>\n      <td>100.000000</td>\n    </tr>\n    <tr>\n      <th>23</th>\n      <td>2737</td>\n      <td>Albania</td>\n      <td>2018</td>\n      <td>41.174080</td>\n      <td>79.154052</td>\n      <td>89.444386</td>\n      <td>61.861935</td>\n      <td>100.000000</td>\n    </tr>\n    <tr>\n      <th>24</th>\n      <td>2856</td>\n      <td>Albania</td>\n      <td>2019</td>\n      <td>41.174080</td>\n      <td>79.154052</td>\n      <td>89.444386</td>\n      <td>61.861935</td>\n      <td>100.000000</td>\n    </tr>\n    <tr>\n      <th>25</th>\n      <td>2975</td>\n      <td>Albania</td>\n      <td>2020</td>\n      <td>41.174080</td>\n      <td>79.154052</td>\n      <td>89.444386</td>\n      <td>61.861935</td>\n      <td>100.000000</td>\n    </tr>\n  </tbody>\n</table>\n</div>"
     },
     "metadata": {},
     "execution_count": 27
    }
   ],
   "source": [
    "test = climate[climate['country']==str(countries[0])].reset_index()\n",
    "test.head(26)"
   ]
  },
  {
   "source": [
    "### Have to be a column with 0 and 1 "
   ],
   "cell_type": "markdown",
   "metadata": {}
  },
  {
   "cell_type": "code",
   "execution_count": 28,
   "metadata": {},
   "outputs": [],
   "source": [
    "z = [ row.CDA + row.CHA + row.FGA + row.NDA + row.BCA for index, row in test.iterrows() ]"
   ]
  },
  {
   "cell_type": "code",
   "execution_count": 29,
   "metadata": {},
   "outputs": [],
   "source": [
    "test['sum'] = z\n",
    "test['dead'] = test['sum'].apply(lambda x: 1 if x>=500*0.8 else 0)"
   ]
  },
  {
   "cell_type": "code",
   "execution_count": 30,
   "metadata": {},
   "outputs": [],
   "source": [
    "test.drop(columns=['index','country','sum'],inplace=True)"
   ]
  },
  {
   "cell_type": "code",
   "execution_count": 31,
   "metadata": {},
   "outputs": [
    {
     "output_type": "display_data",
     "data": {
      "text/plain": "<lifelines.CoxPHFitter: fitted with 26 total observations, 22 right-censored observations>\n             duration col = 'year'\n                event col = 'dead'\n      baseline estimation = breslow\n   number of observations = 26\nnumber of events observed = 4\n   partial log-likelihood = -6.23\n         time fit was run = 2020-12-07 17:28:29 UTC\n\n---\n            coef  exp(coef)   se(coef)   coef lower 95%   coef upper 95%  exp(coef) lower 95%  exp(coef) upper 95%\ncovariate                                                                                                         \nCDA         0.03       1.04       0.60            -1.13             1.20                 0.32                 3.32\nCHA         0.02       1.02       0.31            -0.60             0.63                 0.55                 1.88\nFGA        -0.03       0.97       2.21            -4.36             4.30                 0.01                73.74\nNDA         0.00       1.00       0.14            -0.27             0.28                 0.76                 1.33\nBCA        -0.04       0.96       0.73            -1.47             1.38                 0.23                 3.97\n\n              z    p   -log2(p)\ncovariate                      \nCDA        0.06 0.95       0.07\nCHA        0.06 0.96       0.07\nFGA       -0.01 0.99       0.01\nNDA        0.03 0.98       0.03\nBCA       -0.06 0.95       0.07\n---\nConcordance = 1.00\nPartial AIC = 22.46\nlog-likelihood ratio test = 3.57 on 5 df\n-log2(p) of ll-ratio test = 0.71",
      "text/html": "<div>\n<style scoped>\n    .dataframe tbody tr th:only-of-type {\n        vertical-align: middle;\n    }\n\n    .dataframe tbody tr th {\n        vertical-align: top;\n    }\n\n    .dataframe thead th {\n        text-align: right;\n    }\n</style>\n<table border=\"1\" class=\"dataframe\">\n  <tbody>\n    <tr>\n      <th>model</th>\n      <td>lifelines.CoxPHFitter</td>\n    </tr>\n    <tr>\n      <th>duration col</th>\n      <td>'year'</td>\n    </tr>\n    <tr>\n      <th>event col</th>\n      <td>'dead'</td>\n    </tr>\n    <tr>\n      <th>baseline estimation</th>\n      <td>breslow</td>\n    </tr>\n    <tr>\n      <th>number of observations</th>\n      <td>26</td>\n    </tr>\n    <tr>\n      <th>number of events observed</th>\n      <td>4</td>\n    </tr>\n    <tr>\n      <th>partial log-likelihood</th>\n      <td>-6.23</td>\n    </tr>\n    <tr>\n      <th>time fit was run</th>\n      <td>2020-12-07 17:28:29 UTC</td>\n    </tr>\n  </tbody>\n</table>\n</div><table border=\"1\" class=\"dataframe\">\n  <thead>\n    <tr style=\"text-align: right;\">\n      <th style=\"min-width: 12px;\"></th>\n      <th style=\"min-width: 12px;\">coef</th>\n      <th style=\"min-width: 12px;\">exp(coef)</th>\n      <th style=\"min-width: 12px;\">se(coef)</th>\n      <th style=\"min-width: 12px;\">coef lower 95%</th>\n      <th style=\"min-width: 12px;\">coef upper 95%</th>\n      <th style=\"min-width: 12px;\">exp(coef) lower 95%</th>\n      <th style=\"min-width: 12px;\">exp(coef) upper 95%</th>\n      <th style=\"min-width: 12px;\">z</th>\n      <th style=\"min-width: 12px;\">p</th>\n      <th style=\"min-width: 12px;\">-log2(p)</th>\n    </tr>\n  </thead>\n  <tbody>\n    <tr>\n      <th>CDA</th>\n      <td>0.03</td>\n      <td>1.04</td>\n      <td>0.60</td>\n      <td>-1.13</td>\n      <td>1.20</td>\n      <td>0.32</td>\n      <td>3.32</td>\n      <td>0.06</td>\n      <td>0.95</td>\n      <td>0.07</td>\n    </tr>\n    <tr>\n      <th>CHA</th>\n      <td>0.02</td>\n      <td>1.02</td>\n      <td>0.31</td>\n      <td>-0.60</td>\n      <td>0.63</td>\n      <td>0.55</td>\n      <td>1.88</td>\n      <td>0.06</td>\n      <td>0.96</td>\n      <td>0.07</td>\n    </tr>\n    <tr>\n      <th>FGA</th>\n      <td>-0.03</td>\n      <td>0.97</td>\n      <td>2.21</td>\n      <td>-4.36</td>\n      <td>4.30</td>\n      <td>0.01</td>\n      <td>73.74</td>\n      <td>-0.01</td>\n      <td>0.99</td>\n      <td>0.01</td>\n    </tr>\n    <tr>\n      <th>NDA</th>\n      <td>0.00</td>\n      <td>1.00</td>\n      <td>0.14</td>\n      <td>-0.27</td>\n      <td>0.28</td>\n      <td>0.76</td>\n      <td>1.33</td>\n      <td>0.03</td>\n      <td>0.98</td>\n      <td>0.03</td>\n    </tr>\n    <tr>\n      <th>BCA</th>\n      <td>-0.04</td>\n      <td>0.96</td>\n      <td>0.73</td>\n      <td>-1.47</td>\n      <td>1.38</td>\n      <td>0.23</td>\n      <td>3.97</td>\n      <td>-0.06</td>\n      <td>0.95</td>\n      <td>0.07</td>\n    </tr>\n  </tbody>\n</table><br><div>\n<style scoped>\n    .dataframe tbody tr th:only-of-type {\n        vertical-align: middle;\n    }\n\n    .dataframe tbody tr th {\n        vertical-align: top;\n    }\n\n    .dataframe thead th {\n        text-align: right;\n    }\n</style>\n<table border=\"1\" class=\"dataframe\">\n  <tbody>\n    <tr>\n      <th>Concordance</th>\n      <td>1.00</td>\n    </tr>\n    <tr>\n      <th>Partial AIC</th>\n      <td>22.46</td>\n    </tr>\n    <tr>\n      <th>log-likelihood ratio test</th>\n      <td>3.57 on 5 df</td>\n    </tr>\n    <tr>\n      <th>-log2(p) of ll-ratio test</th>\n      <td>0.71</td>\n    </tr>\n  </tbody>\n</table>\n</div>",
      "text/latex": "\\begin{tabular}{lrrrrrrrrrr}\n\\toprule\n{} &  coef &  exp(coef) &  se(coef) &  coef lower 95\\% &  coef upper 95\\% &  exp(coef) lower 95\\% &  exp(coef) upper 95\\% &     z &    p &  -log2(p) \\\\\ncovariate &       &            &           &                 &                 &                      &                      &       &      &           \\\\\n\\midrule\nCDA       &  0.03 &       1.04 &      0.60 &           -1.13 &            1.20 &                 0.32 &                 3.32 &  0.06 & 0.95 &      0.07 \\\\\nCHA       &  0.02 &       1.02 &      0.31 &           -0.60 &            0.63 &                 0.55 &                 1.88 &  0.06 & 0.96 &      0.07 \\\\\nFGA       & -0.03 &       0.97 &      2.21 &           -4.36 &            4.30 &                 0.01 &                73.74 & -0.01 & 0.99 &      0.01 \\\\\nNDA       &  0.00 &       1.00 &      0.14 &           -0.27 &            0.28 &                 0.76 &                 1.33 &  0.03 & 0.98 &      0.03 \\\\\nBCA       & -0.04 &       0.96 &      0.73 &           -1.47 &            1.38 &                 0.23 &                 3.97 & -0.06 & 0.95 &      0.07 \\\\\n\\bottomrule\n\\end{tabular}\n"
     },
     "metadata": {}
    }
   ],
   "source": [
    "cph = CoxPHFitter()\n",
    "cph.fit(test,'year',event_col='dead')\n",
    "cph.print_summary()"
   ]
  },
  {
   "cell_type": "code",
   "execution_count": 32,
   "metadata": {},
   "outputs": [
    {
     "output_type": "display_data",
     "data": {
      "text/plain": "<Figure size 432x288 with 1 Axes>",
      "image/svg+xml": "<?xml version=\"1.0\" encoding=\"utf-8\" standalone=\"no\"?>\r\n<!DOCTYPE svg PUBLIC \"-//W3C//DTD SVG 1.1//EN\"\r\n  \"http://www.w3.org/Graphics/SVG/1.1/DTD/svg11.dtd\">\r\n<!-- Created with matplotlib (https://matplotlib.org/) -->\r\n<svg height=\"262.19625pt\" version=\"1.1\" viewBox=\"0 0 378.046875 262.19625\" width=\"378.046875pt\" xmlns=\"http://www.w3.org/2000/svg\" xmlns:xlink=\"http://www.w3.org/1999/xlink\">\r\n <metadata>\r\n  <rdf:RDF xmlns:cc=\"http://creativecommons.org/ns#\" xmlns:dc=\"http://purl.org/dc/elements/1.1/\" xmlns:rdf=\"http://www.w3.org/1999/02/22-rdf-syntax-ns#\">\r\n   <cc:Work>\r\n    <dc:type rdf:resource=\"http://purl.org/dc/dcmitype/StillImage\"/>\r\n    <dc:date>2020-12-07T17:28:32.504975</dc:date>\r\n    <dc:format>image/svg+xml</dc:format>\r\n    <dc:creator>\r\n     <cc:Agent>\r\n      <dc:title>Matplotlib v3.3.2, https://matplotlib.org/</dc:title>\r\n     </cc:Agent>\r\n    </dc:creator>\r\n   </cc:Work>\r\n  </rdf:RDF>\r\n </metadata>\r\n <defs>\r\n  <style type=\"text/css\">*{stroke-linecap:butt;stroke-linejoin:round;}</style>\r\n </defs>\r\n <g id=\"figure_1\">\r\n  <g id=\"patch_1\">\r\n   <path d=\"M 0 262.19625 \r\nL 378.046875 262.19625 \r\nL 378.046875 0 \r\nL 0 0 \r\nz\r\n\" style=\"fill:none;\"/>\r\n  </g>\r\n  <g id=\"axes_1\">\r\n   <g id=\"patch_2\">\r\n    <path d=\"M 36.046875 224.64 \r\nL 370.846875 224.64 \r\nL 370.846875 7.2 \r\nL 36.046875 7.2 \r\nz\r\n\" style=\"fill:#ffffff;\"/>\r\n   </g>\r\n   <g id=\"matplotlib.axis_1\">\r\n    <g id=\"xtick_1\">\r\n     <g id=\"line2d_1\">\r\n      <defs>\r\n       <path d=\"M 0 0 \r\nL 0 3.5 \r\n\" id=\"ma671e8a14f\" style=\"stroke:#000000;stroke-width:0.8;\"/>\r\n      </defs>\r\n      <g>\r\n       <use style=\"stroke:#000000;stroke-width:0.8;\" x=\"63.827665\" xlink:href=\"#ma671e8a14f\" y=\"224.64\"/>\r\n      </g>\r\n     </g>\r\n     <g id=\"text_1\">\r\n      <!-- −4 -->\r\n      <g transform=\"translate(56.456571 239.238437)scale(0.1 -0.1)\">\r\n       <defs>\r\n        <path d=\"M 10.59375 35.5 \r\nL 73.1875 35.5 \r\nL 73.1875 27.203125 \r\nL 10.59375 27.203125 \r\nz\r\n\" id=\"DejaVuSans-8722\"/>\r\n        <path d=\"M 37.796875 64.3125 \r\nL 12.890625 25.390625 \r\nL 37.796875 25.390625 \r\nz\r\nM 35.203125 72.90625 \r\nL 47.609375 72.90625 \r\nL 47.609375 25.390625 \r\nL 58.015625 25.390625 \r\nL 58.015625 17.1875 \r\nL 47.609375 17.1875 \r\nL 47.609375 0 \r\nL 37.796875 0 \r\nL 37.796875 17.1875 \r\nL 4.890625 17.1875 \r\nL 4.890625 26.703125 \r\nz\r\n\" id=\"DejaVuSans-52\"/>\r\n       </defs>\r\n       <use xlink:href=\"#DejaVuSans-8722\"/>\r\n       <use x=\"83.789062\" xlink:href=\"#DejaVuSans-52\"/>\r\n      </g>\r\n     </g>\r\n    </g>\r\n    <g id=\"xtick_2\">\r\n     <g id=\"line2d_2\">\r\n      <g>\r\n       <use style=\"stroke:#000000;stroke-width:0.8;\" x=\"134.136698\" xlink:href=\"#ma671e8a14f\" y=\"224.64\"/>\r\n      </g>\r\n     </g>\r\n     <g id=\"text_2\">\r\n      <!-- −2 -->\r\n      <g transform=\"translate(126.765604 239.238437)scale(0.1 -0.1)\">\r\n       <defs>\r\n        <path d=\"M 19.1875 8.296875 \r\nL 53.609375 8.296875 \r\nL 53.609375 0 \r\nL 7.328125 0 \r\nL 7.328125 8.296875 \r\nQ 12.9375 14.109375 22.625 23.890625 \r\nQ 32.328125 33.6875 34.8125 36.53125 \r\nQ 39.546875 41.84375 41.421875 45.53125 \r\nQ 43.3125 49.21875 43.3125 52.78125 \r\nQ 43.3125 58.59375 39.234375 62.25 \r\nQ 35.15625 65.921875 28.609375 65.921875 \r\nQ 23.96875 65.921875 18.8125 64.3125 \r\nQ 13.671875 62.703125 7.8125 59.421875 \r\nL 7.8125 69.390625 \r\nQ 13.765625 71.78125 18.9375 73 \r\nQ 24.125 74.21875 28.421875 74.21875 \r\nQ 39.75 74.21875 46.484375 68.546875 \r\nQ 53.21875 62.890625 53.21875 53.421875 \r\nQ 53.21875 48.921875 51.53125 44.890625 \r\nQ 49.859375 40.875 45.40625 35.40625 \r\nQ 44.1875 33.984375 37.640625 27.21875 \r\nQ 31.109375 20.453125 19.1875 8.296875 \r\nz\r\n\" id=\"DejaVuSans-50\"/>\r\n       </defs>\r\n       <use xlink:href=\"#DejaVuSans-8722\"/>\r\n       <use x=\"83.789062\" xlink:href=\"#DejaVuSans-50\"/>\r\n      </g>\r\n     </g>\r\n    </g>\r\n    <g id=\"xtick_3\">\r\n     <g id=\"line2d_3\">\r\n      <g>\r\n       <use style=\"stroke:#000000;stroke-width:0.8;\" x=\"204.445731\" xlink:href=\"#ma671e8a14f\" y=\"224.64\"/>\r\n      </g>\r\n     </g>\r\n     <g id=\"text_3\">\r\n      <!-- 0 -->\r\n      <g transform=\"translate(201.264481 239.238437)scale(0.1 -0.1)\">\r\n       <defs>\r\n        <path d=\"M 31.78125 66.40625 \r\nQ 24.171875 66.40625 20.328125 58.90625 \r\nQ 16.5 51.421875 16.5 36.375 \r\nQ 16.5 21.390625 20.328125 13.890625 \r\nQ 24.171875 6.390625 31.78125 6.390625 \r\nQ 39.453125 6.390625 43.28125 13.890625 \r\nQ 47.125 21.390625 47.125 36.375 \r\nQ 47.125 51.421875 43.28125 58.90625 \r\nQ 39.453125 66.40625 31.78125 66.40625 \r\nz\r\nM 31.78125 74.21875 \r\nQ 44.046875 74.21875 50.515625 64.515625 \r\nQ 56.984375 54.828125 56.984375 36.375 \r\nQ 56.984375 17.96875 50.515625 8.265625 \r\nQ 44.046875 -1.421875 31.78125 -1.421875 \r\nQ 19.53125 -1.421875 13.0625 8.265625 \r\nQ 6.59375 17.96875 6.59375 36.375 \r\nQ 6.59375 54.828125 13.0625 64.515625 \r\nQ 19.53125 74.21875 31.78125 74.21875 \r\nz\r\n\" id=\"DejaVuSans-48\"/>\r\n       </defs>\r\n       <use xlink:href=\"#DejaVuSans-48\"/>\r\n      </g>\r\n     </g>\r\n    </g>\r\n    <g id=\"xtick_4\">\r\n     <g id=\"line2d_4\">\r\n      <g>\r\n       <use style=\"stroke:#000000;stroke-width:0.8;\" x=\"274.754765\" xlink:href=\"#ma671e8a14f\" y=\"224.64\"/>\r\n      </g>\r\n     </g>\r\n     <g id=\"text_4\">\r\n      <!-- 2 -->\r\n      <g transform=\"translate(271.573515 239.238437)scale(0.1 -0.1)\">\r\n       <use xlink:href=\"#DejaVuSans-50\"/>\r\n      </g>\r\n     </g>\r\n    </g>\r\n    <g id=\"xtick_5\">\r\n     <g id=\"line2d_5\">\r\n      <g>\r\n       <use style=\"stroke:#000000;stroke-width:0.8;\" x=\"345.063798\" xlink:href=\"#ma671e8a14f\" y=\"224.64\"/>\r\n      </g>\r\n     </g>\r\n     <g id=\"text_5\">\r\n      <!-- 4 -->\r\n      <g transform=\"translate(341.882548 239.238437)scale(0.1 -0.1)\">\r\n       <use xlink:href=\"#DejaVuSans-52\"/>\r\n      </g>\r\n     </g>\r\n    </g>\r\n    <g id=\"text_6\">\r\n     <!-- log(HR) (95% CI) -->\r\n     <g transform=\"translate(161.528906 252.916562)scale(0.1 -0.1)\">\r\n      <defs>\r\n       <path d=\"M 9.421875 75.984375 \r\nL 18.40625 75.984375 \r\nL 18.40625 0 \r\nL 9.421875 0 \r\nz\r\n\" id=\"DejaVuSans-108\"/>\r\n       <path d=\"M 30.609375 48.390625 \r\nQ 23.390625 48.390625 19.1875 42.75 \r\nQ 14.984375 37.109375 14.984375 27.296875 \r\nQ 14.984375 17.484375 19.15625 11.84375 \r\nQ 23.34375 6.203125 30.609375 6.203125 \r\nQ 37.796875 6.203125 41.984375 11.859375 \r\nQ 46.1875 17.53125 46.1875 27.296875 \r\nQ 46.1875 37.015625 41.984375 42.703125 \r\nQ 37.796875 48.390625 30.609375 48.390625 \r\nz\r\nM 30.609375 56 \r\nQ 42.328125 56 49.015625 48.375 \r\nQ 55.71875 40.765625 55.71875 27.296875 \r\nQ 55.71875 13.875 49.015625 6.21875 \r\nQ 42.328125 -1.421875 30.609375 -1.421875 \r\nQ 18.84375 -1.421875 12.171875 6.21875 \r\nQ 5.515625 13.875 5.515625 27.296875 \r\nQ 5.515625 40.765625 12.171875 48.375 \r\nQ 18.84375 56 30.609375 56 \r\nz\r\n\" id=\"DejaVuSans-111\"/>\r\n       <path d=\"M 45.40625 27.984375 \r\nQ 45.40625 37.75 41.375 43.109375 \r\nQ 37.359375 48.484375 30.078125 48.484375 \r\nQ 22.859375 48.484375 18.828125 43.109375 \r\nQ 14.796875 37.75 14.796875 27.984375 \r\nQ 14.796875 18.265625 18.828125 12.890625 \r\nQ 22.859375 7.515625 30.078125 7.515625 \r\nQ 37.359375 7.515625 41.375 12.890625 \r\nQ 45.40625 18.265625 45.40625 27.984375 \r\nz\r\nM 54.390625 6.78125 \r\nQ 54.390625 -7.171875 48.1875 -13.984375 \r\nQ 42 -20.796875 29.203125 -20.796875 \r\nQ 24.46875 -20.796875 20.265625 -20.09375 \r\nQ 16.0625 -19.390625 12.109375 -17.921875 \r\nL 12.109375 -9.1875 \r\nQ 16.0625 -11.328125 19.921875 -12.34375 \r\nQ 23.78125 -13.375 27.78125 -13.375 \r\nQ 36.625 -13.375 41.015625 -8.765625 \r\nQ 45.40625 -4.15625 45.40625 5.171875 \r\nL 45.40625 9.625 \r\nQ 42.625 4.78125 38.28125 2.390625 \r\nQ 33.9375 0 27.875 0 \r\nQ 17.828125 0 11.671875 7.65625 \r\nQ 5.515625 15.328125 5.515625 27.984375 \r\nQ 5.515625 40.671875 11.671875 48.328125 \r\nQ 17.828125 56 27.875 56 \r\nQ 33.9375 56 38.28125 53.609375 \r\nQ 42.625 51.21875 45.40625 46.390625 \r\nL 45.40625 54.6875 \r\nL 54.390625 54.6875 \r\nz\r\n\" id=\"DejaVuSans-103\"/>\r\n       <path d=\"M 31 75.875 \r\nQ 24.46875 64.65625 21.28125 53.65625 \r\nQ 18.109375 42.671875 18.109375 31.390625 \r\nQ 18.109375 20.125 21.3125 9.0625 \r\nQ 24.515625 -2 31 -13.1875 \r\nL 23.1875 -13.1875 \r\nQ 15.875 -1.703125 12.234375 9.375 \r\nQ 8.59375 20.453125 8.59375 31.390625 \r\nQ 8.59375 42.28125 12.203125 53.3125 \r\nQ 15.828125 64.359375 23.1875 75.875 \r\nz\r\n\" id=\"DejaVuSans-40\"/>\r\n       <path d=\"M 9.8125 72.90625 \r\nL 19.671875 72.90625 \r\nL 19.671875 43.015625 \r\nL 55.515625 43.015625 \r\nL 55.515625 72.90625 \r\nL 65.375 72.90625 \r\nL 65.375 0 \r\nL 55.515625 0 \r\nL 55.515625 34.71875 \r\nL 19.671875 34.71875 \r\nL 19.671875 0 \r\nL 9.8125 0 \r\nz\r\n\" id=\"DejaVuSans-72\"/>\r\n       <path d=\"M 44.390625 34.1875 \r\nQ 47.5625 33.109375 50.5625 29.59375 \r\nQ 53.5625 26.078125 56.59375 19.921875 \r\nL 66.609375 0 \r\nL 56 0 \r\nL 46.6875 18.703125 \r\nQ 43.0625 26.03125 39.671875 28.421875 \r\nQ 36.28125 30.8125 30.421875 30.8125 \r\nL 19.671875 30.8125 \r\nL 19.671875 0 \r\nL 9.8125 0 \r\nL 9.8125 72.90625 \r\nL 32.078125 72.90625 \r\nQ 44.578125 72.90625 50.734375 67.671875 \r\nQ 56.890625 62.453125 56.890625 51.90625 \r\nQ 56.890625 45.015625 53.6875 40.46875 \r\nQ 50.484375 35.9375 44.390625 34.1875 \r\nz\r\nM 19.671875 64.796875 \r\nL 19.671875 38.921875 \r\nL 32.078125 38.921875 \r\nQ 39.203125 38.921875 42.84375 42.21875 \r\nQ 46.484375 45.515625 46.484375 51.90625 \r\nQ 46.484375 58.296875 42.84375 61.546875 \r\nQ 39.203125 64.796875 32.078125 64.796875 \r\nz\r\n\" id=\"DejaVuSans-82\"/>\r\n       <path d=\"M 8.015625 75.875 \r\nL 15.828125 75.875 \r\nQ 23.140625 64.359375 26.78125 53.3125 \r\nQ 30.421875 42.28125 30.421875 31.390625 \r\nQ 30.421875 20.453125 26.78125 9.375 \r\nQ 23.140625 -1.703125 15.828125 -13.1875 \r\nL 8.015625 -13.1875 \r\nQ 14.5 -2 17.703125 9.0625 \r\nQ 20.90625 20.125 20.90625 31.390625 \r\nQ 20.90625 42.671875 17.703125 53.65625 \r\nQ 14.5 64.65625 8.015625 75.875 \r\nz\r\n\" id=\"DejaVuSans-41\"/>\r\n       <path id=\"DejaVuSans-32\"/>\r\n       <path d=\"M 10.984375 1.515625 \r\nL 10.984375 10.5 \r\nQ 14.703125 8.734375 18.5 7.8125 \r\nQ 22.3125 6.890625 25.984375 6.890625 \r\nQ 35.75 6.890625 40.890625 13.453125 \r\nQ 46.046875 20.015625 46.78125 33.40625 \r\nQ 43.953125 29.203125 39.59375 26.953125 \r\nQ 35.25 24.703125 29.984375 24.703125 \r\nQ 19.046875 24.703125 12.671875 31.3125 \r\nQ 6.296875 37.9375 6.296875 49.421875 \r\nQ 6.296875 60.640625 12.9375 67.421875 \r\nQ 19.578125 74.21875 30.609375 74.21875 \r\nQ 43.265625 74.21875 49.921875 64.515625 \r\nQ 56.59375 54.828125 56.59375 36.375 \r\nQ 56.59375 19.140625 48.40625 8.859375 \r\nQ 40.234375 -1.421875 26.421875 -1.421875 \r\nQ 22.703125 -1.421875 18.890625 -0.6875 \r\nQ 15.09375 0.046875 10.984375 1.515625 \r\nz\r\nM 30.609375 32.421875 \r\nQ 37.25 32.421875 41.125 36.953125 \r\nQ 45.015625 41.5 45.015625 49.421875 \r\nQ 45.015625 57.28125 41.125 61.84375 \r\nQ 37.25 66.40625 30.609375 66.40625 \r\nQ 23.96875 66.40625 20.09375 61.84375 \r\nQ 16.21875 57.28125 16.21875 49.421875 \r\nQ 16.21875 41.5 20.09375 36.953125 \r\nQ 23.96875 32.421875 30.609375 32.421875 \r\nz\r\n\" id=\"DejaVuSans-57\"/>\r\n       <path d=\"M 10.796875 72.90625 \r\nL 49.515625 72.90625 \r\nL 49.515625 64.59375 \r\nL 19.828125 64.59375 \r\nL 19.828125 46.734375 \r\nQ 21.96875 47.46875 24.109375 47.828125 \r\nQ 26.265625 48.1875 28.421875 48.1875 \r\nQ 40.625 48.1875 47.75 41.5 \r\nQ 54.890625 34.8125 54.890625 23.390625 \r\nQ 54.890625 11.625 47.5625 5.09375 \r\nQ 40.234375 -1.421875 26.90625 -1.421875 \r\nQ 22.3125 -1.421875 17.546875 -0.640625 \r\nQ 12.796875 0.140625 7.71875 1.703125 \r\nL 7.71875 11.625 \r\nQ 12.109375 9.234375 16.796875 8.0625 \r\nQ 21.484375 6.890625 26.703125 6.890625 \r\nQ 35.15625 6.890625 40.078125 11.328125 \r\nQ 45.015625 15.765625 45.015625 23.390625 \r\nQ 45.015625 31 40.078125 35.4375 \r\nQ 35.15625 39.890625 26.703125 39.890625 \r\nQ 22.75 39.890625 18.8125 39.015625 \r\nQ 14.890625 38.140625 10.796875 36.28125 \r\nz\r\n\" id=\"DejaVuSans-53\"/>\r\n       <path d=\"M 72.703125 32.078125 \r\nQ 68.453125 32.078125 66.03125 28.46875 \r\nQ 63.625 24.859375 63.625 18.40625 \r\nQ 63.625 12.0625 66.03125 8.421875 \r\nQ 68.453125 4.78125 72.703125 4.78125 \r\nQ 76.859375 4.78125 79.265625 8.421875 \r\nQ 81.6875 12.0625 81.6875 18.40625 \r\nQ 81.6875 24.8125 79.265625 28.4375 \r\nQ 76.859375 32.078125 72.703125 32.078125 \r\nz\r\nM 72.703125 38.28125 \r\nQ 80.421875 38.28125 84.953125 32.90625 \r\nQ 89.5 27.546875 89.5 18.40625 \r\nQ 89.5 9.28125 84.9375 3.921875 \r\nQ 80.375 -1.421875 72.703125 -1.421875 \r\nQ 64.890625 -1.421875 60.34375 3.921875 \r\nQ 55.8125 9.28125 55.8125 18.40625 \r\nQ 55.8125 27.59375 60.375 32.9375 \r\nQ 64.9375 38.28125 72.703125 38.28125 \r\nz\r\nM 22.3125 68.015625 \r\nQ 18.109375 68.015625 15.6875 64.375 \r\nQ 13.28125 60.75 13.28125 54.390625 \r\nQ 13.28125 47.953125 15.671875 44.328125 \r\nQ 18.0625 40.71875 22.3125 40.71875 \r\nQ 26.5625 40.71875 28.96875 44.328125 \r\nQ 31.390625 47.953125 31.390625 54.390625 \r\nQ 31.390625 60.6875 28.953125 64.34375 \r\nQ 26.515625 68.015625 22.3125 68.015625 \r\nz\r\nM 66.40625 74.21875 \r\nL 74.21875 74.21875 \r\nL 28.609375 -1.421875 \r\nL 20.796875 -1.421875 \r\nz\r\nM 22.3125 74.21875 \r\nQ 30.03125 74.21875 34.609375 68.875 \r\nQ 39.203125 63.53125 39.203125 54.390625 \r\nQ 39.203125 45.171875 34.640625 39.84375 \r\nQ 30.078125 34.515625 22.3125 34.515625 \r\nQ 14.546875 34.515625 10.03125 39.859375 \r\nQ 5.515625 45.21875 5.515625 54.390625 \r\nQ 5.515625 63.484375 10.046875 68.84375 \r\nQ 14.59375 74.21875 22.3125 74.21875 \r\nz\r\n\" id=\"DejaVuSans-37\"/>\r\n       <path d=\"M 64.40625 67.28125 \r\nL 64.40625 56.890625 \r\nQ 59.421875 61.53125 53.78125 63.8125 \r\nQ 48.140625 66.109375 41.796875 66.109375 \r\nQ 29.296875 66.109375 22.65625 58.46875 \r\nQ 16.015625 50.828125 16.015625 36.375 \r\nQ 16.015625 21.96875 22.65625 14.328125 \r\nQ 29.296875 6.6875 41.796875 6.6875 \r\nQ 48.140625 6.6875 53.78125 8.984375 \r\nQ 59.421875 11.28125 64.40625 15.921875 \r\nL 64.40625 5.609375 \r\nQ 59.234375 2.09375 53.4375 0.328125 \r\nQ 47.65625 -1.421875 41.21875 -1.421875 \r\nQ 24.65625 -1.421875 15.125 8.703125 \r\nQ 5.609375 18.84375 5.609375 36.375 \r\nQ 5.609375 53.953125 15.125 64.078125 \r\nQ 24.65625 74.21875 41.21875 74.21875 \r\nQ 47.75 74.21875 53.53125 72.484375 \r\nQ 59.328125 70.75 64.40625 67.28125 \r\nz\r\n\" id=\"DejaVuSans-67\"/>\r\n       <path d=\"M 9.8125 72.90625 \r\nL 19.671875 72.90625 \r\nL 19.671875 0 \r\nL 9.8125 0 \r\nz\r\n\" id=\"DejaVuSans-73\"/>\r\n      </defs>\r\n      <use xlink:href=\"#DejaVuSans-108\"/>\r\n      <use x=\"27.783203\" xlink:href=\"#DejaVuSans-111\"/>\r\n      <use x=\"88.964844\" xlink:href=\"#DejaVuSans-103\"/>\r\n      <use x=\"152.441406\" xlink:href=\"#DejaVuSans-40\"/>\r\n      <use x=\"191.455078\" xlink:href=\"#DejaVuSans-72\"/>\r\n      <use x=\"266.650391\" xlink:href=\"#DejaVuSans-82\"/>\r\n      <use x=\"336.132812\" xlink:href=\"#DejaVuSans-41\"/>\r\n      <use x=\"375.146484\" xlink:href=\"#DejaVuSans-32\"/>\r\n      <use x=\"406.933594\" xlink:href=\"#DejaVuSans-40\"/>\r\n      <use x=\"445.947266\" xlink:href=\"#DejaVuSans-57\"/>\r\n      <use x=\"509.570312\" xlink:href=\"#DejaVuSans-53\"/>\r\n      <use x=\"573.193359\" xlink:href=\"#DejaVuSans-37\"/>\r\n      <use x=\"668.212891\" xlink:href=\"#DejaVuSans-32\"/>\r\n      <use x=\"700\" xlink:href=\"#DejaVuSans-67\"/>\r\n      <use x=\"769.824219\" xlink:href=\"#DejaVuSans-73\"/>\r\n      <use x=\"799.316406\" xlink:href=\"#DejaVuSans-41\"/>\r\n     </g>\r\n    </g>\r\n   </g>\r\n   <g id=\"matplotlib.axis_2\">\r\n    <g id=\"ytick_1\">\r\n     <g id=\"line2d_6\">\r\n      <defs>\r\n       <path d=\"M 0 0 \r\nL -3.5 0 \r\n\" id=\"m897636af83\" style=\"stroke:#000000;stroke-width:0.8;\"/>\r\n      </defs>\r\n      <g>\r\n       <use style=\"stroke:#000000;stroke-width:0.8;\" x=\"36.046875\" xlink:href=\"#m897636af83\" y=\"214.756364\"/>\r\n      </g>\r\n     </g>\r\n     <g id=\"text_7\">\r\n      <!-- BCA -->\r\n      <g transform=\"translate(8.5375 218.555582)scale(0.1 -0.1)\">\r\n       <defs>\r\n        <path d=\"M 19.671875 34.8125 \r\nL 19.671875 8.109375 \r\nL 35.5 8.109375 \r\nQ 43.453125 8.109375 47.28125 11.40625 \r\nQ 51.125 14.703125 51.125 21.484375 \r\nQ 51.125 28.328125 47.28125 31.5625 \r\nQ 43.453125 34.8125 35.5 34.8125 \r\nz\r\nM 19.671875 64.796875 \r\nL 19.671875 42.828125 \r\nL 34.28125 42.828125 \r\nQ 41.5 42.828125 45.03125 45.53125 \r\nQ 48.578125 48.25 48.578125 53.8125 \r\nQ 48.578125 59.328125 45.03125 62.0625 \r\nQ 41.5 64.796875 34.28125 64.796875 \r\nz\r\nM 9.8125 72.90625 \r\nL 35.015625 72.90625 \r\nQ 46.296875 72.90625 52.390625 68.21875 \r\nQ 58.5 63.53125 58.5 54.890625 \r\nQ 58.5 48.1875 55.375 44.234375 \r\nQ 52.25 40.28125 46.1875 39.3125 \r\nQ 53.46875 37.75 57.5 32.78125 \r\nQ 61.53125 27.828125 61.53125 20.40625 \r\nQ 61.53125 10.640625 54.890625 5.3125 \r\nQ 48.25 0 35.984375 0 \r\nL 9.8125 0 \r\nz\r\n\" id=\"DejaVuSans-66\"/>\r\n        <path d=\"M 34.1875 63.1875 \r\nL 20.796875 26.90625 \r\nL 47.609375 26.90625 \r\nz\r\nM 28.609375 72.90625 \r\nL 39.796875 72.90625 \r\nL 67.578125 0 \r\nL 57.328125 0 \r\nL 50.6875 18.703125 \r\nL 17.828125 18.703125 \r\nL 11.1875 0 \r\nL 0.78125 0 \r\nz\r\n\" id=\"DejaVuSans-65\"/>\r\n       </defs>\r\n       <use xlink:href=\"#DejaVuSans-66\"/>\r\n       <use x=\"66.853516\" xlink:href=\"#DejaVuSans-67\"/>\r\n       <use x=\"136.677734\" xlink:href=\"#DejaVuSans-65\"/>\r\n      </g>\r\n     </g>\r\n    </g>\r\n    <g id=\"ytick_2\">\r\n     <g id=\"line2d_7\">\r\n      <g>\r\n       <use style=\"stroke:#000000;stroke-width:0.8;\" x=\"36.046875\" xlink:href=\"#m897636af83\" y=\"165.338182\"/>\r\n      </g>\r\n     </g>\r\n     <g id=\"text_8\">\r\n      <!-- FGA -->\r\n      <g transform=\"translate(8.70625 169.137401)scale(0.1 -0.1)\">\r\n       <defs>\r\n        <path d=\"M 9.8125 72.90625 \r\nL 51.703125 72.90625 \r\nL 51.703125 64.59375 \r\nL 19.671875 64.59375 \r\nL 19.671875 43.109375 \r\nL 48.578125 43.109375 \r\nL 48.578125 34.8125 \r\nL 19.671875 34.8125 \r\nL 19.671875 0 \r\nL 9.8125 0 \r\nz\r\n\" id=\"DejaVuSans-70\"/>\r\n        <path d=\"M 59.515625 10.40625 \r\nL 59.515625 29.984375 \r\nL 43.40625 29.984375 \r\nL 43.40625 38.09375 \r\nL 69.28125 38.09375 \r\nL 69.28125 6.78125 \r\nQ 63.578125 2.734375 56.6875 0.65625 \r\nQ 49.8125 -1.421875 42 -1.421875 \r\nQ 24.90625 -1.421875 15.25 8.5625 \r\nQ 5.609375 18.5625 5.609375 36.375 \r\nQ 5.609375 54.25 15.25 64.234375 \r\nQ 24.90625 74.21875 42 74.21875 \r\nQ 49.125 74.21875 55.546875 72.453125 \r\nQ 61.96875 70.703125 67.390625 67.28125 \r\nL 67.390625 56.78125 \r\nQ 61.921875 61.421875 55.765625 63.765625 \r\nQ 49.609375 66.109375 42.828125 66.109375 \r\nQ 29.4375 66.109375 22.71875 58.640625 \r\nQ 16.015625 51.171875 16.015625 36.375 \r\nQ 16.015625 21.625 22.71875 14.15625 \r\nQ 29.4375 6.6875 42.828125 6.6875 \r\nQ 48.046875 6.6875 52.140625 7.59375 \r\nQ 56.25 8.5 59.515625 10.40625 \r\nz\r\n\" id=\"DejaVuSans-71\"/>\r\n       </defs>\r\n       <use xlink:href=\"#DejaVuSans-70\"/>\r\n       <use x=\"57.519531\" xlink:href=\"#DejaVuSans-71\"/>\r\n       <use x=\"135.009766\" xlink:href=\"#DejaVuSans-65\"/>\r\n      </g>\r\n     </g>\r\n    </g>\r\n    <g id=\"ytick_3\">\r\n     <g id=\"line2d_8\">\r\n      <g>\r\n       <use style=\"stroke:#000000;stroke-width:0.8;\" x=\"36.046875\" xlink:href=\"#m897636af83\" y=\"115.92\"/>\r\n      </g>\r\n     </g>\r\n     <g id=\"text_9\">\r\n      <!-- NDA -->\r\n      <g transform=\"translate(7.2 119.719219)scale(0.1 -0.1)\">\r\n       <defs>\r\n        <path d=\"M 9.8125 72.90625 \r\nL 23.09375 72.90625 \r\nL 55.421875 11.921875 \r\nL 55.421875 72.90625 \r\nL 64.984375 72.90625 \r\nL 64.984375 0 \r\nL 51.703125 0 \r\nL 19.390625 60.984375 \r\nL 19.390625 0 \r\nL 9.8125 0 \r\nz\r\n\" id=\"DejaVuSans-78\"/>\r\n        <path d=\"M 19.671875 64.796875 \r\nL 19.671875 8.109375 \r\nL 31.59375 8.109375 \r\nQ 46.6875 8.109375 53.6875 14.9375 \r\nQ 60.6875 21.78125 60.6875 36.53125 \r\nQ 60.6875 51.171875 53.6875 57.984375 \r\nQ 46.6875 64.796875 31.59375 64.796875 \r\nz\r\nM 9.8125 72.90625 \r\nL 30.078125 72.90625 \r\nQ 51.265625 72.90625 61.171875 64.09375 \r\nQ 71.09375 55.28125 71.09375 36.53125 \r\nQ 71.09375 17.671875 61.125 8.828125 \r\nQ 51.171875 0 30.078125 0 \r\nL 9.8125 0 \r\nz\r\n\" id=\"DejaVuSans-68\"/>\r\n       </defs>\r\n       <use xlink:href=\"#DejaVuSans-78\"/>\r\n       <use x=\"74.804688\" xlink:href=\"#DejaVuSans-68\"/>\r\n       <use x=\"150.056641\" xlink:href=\"#DejaVuSans-65\"/>\r\n      </g>\r\n     </g>\r\n    </g>\r\n    <g id=\"ytick_4\">\r\n     <g id=\"line2d_9\">\r\n      <g>\r\n       <use style=\"stroke:#000000;stroke-width:0.8;\" x=\"36.046875\" xlink:href=\"#m897636af83\" y=\"66.501818\"/>\r\n      </g>\r\n     </g>\r\n     <g id=\"text_10\">\r\n      <!-- CHA -->\r\n      <g transform=\"translate(7.703125 70.301037)scale(0.1 -0.1)\">\r\n       <use xlink:href=\"#DejaVuSans-67\"/>\r\n       <use x=\"69.824219\" xlink:href=\"#DejaVuSans-72\"/>\r\n       <use x=\"145.019531\" xlink:href=\"#DejaVuSans-65\"/>\r\n      </g>\r\n     </g>\r\n    </g>\r\n    <g id=\"ytick_5\">\r\n     <g id=\"line2d_10\">\r\n      <g>\r\n       <use style=\"stroke:#000000;stroke-width:0.8;\" x=\"36.046875\" xlink:href=\"#m897636af83\" y=\"17.083636\"/>\r\n      </g>\r\n     </g>\r\n     <g id=\"text_11\">\r\n      <!-- CDA -->\r\n      <g transform=\"translate(7.698437 20.882855)scale(0.1 -0.1)\">\r\n       <use xlink:href=\"#DejaVuSans-67\"/>\r\n       <use x=\"69.824219\" xlink:href=\"#DejaVuSans-68\"/>\r\n       <use x=\"145.076172\" xlink:href=\"#DejaVuSans-65\"/>\r\n      </g>\r\n     </g>\r\n    </g>\r\n   </g>\r\n   <g id=\"LineCollection_1\">\r\n    <path clip-path=\"url(#p31893fc25a)\" d=\"M 152.832593 214.756364 \r\nL 252.904762 214.756364 \r\n\" style=\"fill:none;stroke:#000000;stroke-width:1.25;\"/>\r\n    <path clip-path=\"url(#p31893fc25a)\" d=\"M 51.265057 165.338182 \r\nL 355.628693 165.338182 \r\n\" style=\"fill:none;stroke:#000000;stroke-width:1.25;\"/>\r\n    <path clip-path=\"url(#p31893fc25a)\" d=\"M 194.78312 115.92 \r\nL 214.386426 115.92 \r\n\" style=\"fill:none;stroke:#000000;stroke-width:1.25;\"/>\r\n    <path clip-path=\"url(#p31893fc25a)\" d=\"M 183.436213 66.501818 \r\nL 226.679211 66.501818 \r\n\" style=\"fill:none;stroke:#000000;stroke-width:1.25;\"/>\r\n    <path clip-path=\"url(#p31893fc25a)\" d=\"M 164.645164 17.083636 \r\nL 246.672698 17.083636 \r\n\" style=\"fill:none;stroke:#000000;stroke-width:1.25;\"/>\r\n   </g>\r\n   <g id=\"LineCollection_2\">\r\n    <path clip-path=\"url(#p31893fc25a)\" d=\"M 204.445731 263.19625 \r\nL 204.445731 -1 \r\n\" style=\"fill:none;stroke:#000000;stroke-dasharray:3.7,1.6;stroke-dashoffset:0;stroke-opacity:0.65;\"/>\r\n   </g>\r\n   <g id=\"line2d_11\">\r\n    <defs>\r\n     <path d=\"M 0 3 \r\nL 0 -3 \r\n\" id=\"me03c16ad2f\" style=\"stroke:#000000;stroke-width:1.25;\"/>\r\n    </defs>\r\n    <g clip-path=\"url(#p31893fc25a)\">\r\n     <use style=\"stroke:#000000;stroke-width:1.25;\" x=\"152.832593\" xlink:href=\"#me03c16ad2f\" y=\"214.756364\"/>\r\n     <use style=\"stroke:#000000;stroke-width:1.25;\" x=\"51.265057\" xlink:href=\"#me03c16ad2f\" y=\"165.338182\"/>\r\n     <use style=\"stroke:#000000;stroke-width:1.25;\" x=\"194.78312\" xlink:href=\"#me03c16ad2f\" y=\"115.92\"/>\r\n     <use style=\"stroke:#000000;stroke-width:1.25;\" x=\"183.436213\" xlink:href=\"#me03c16ad2f\" y=\"66.501818\"/>\r\n     <use style=\"stroke:#000000;stroke-width:1.25;\" x=\"164.645164\" xlink:href=\"#me03c16ad2f\" y=\"17.083636\"/>\r\n    </g>\r\n   </g>\r\n   <g id=\"line2d_12\">\r\n    <g clip-path=\"url(#p31893fc25a)\">\r\n     <use style=\"stroke:#000000;stroke-width:1.25;\" x=\"252.904762\" xlink:href=\"#me03c16ad2f\" y=\"214.756364\"/>\r\n     <use style=\"stroke:#000000;stroke-width:1.25;\" x=\"355.628693\" xlink:href=\"#me03c16ad2f\" y=\"165.338182\"/>\r\n     <use style=\"stroke:#000000;stroke-width:1.25;\" x=\"214.386426\" xlink:href=\"#me03c16ad2f\" y=\"115.92\"/>\r\n     <use style=\"stroke:#000000;stroke-width:1.25;\" x=\"226.679211\" xlink:href=\"#me03c16ad2f\" y=\"66.501818\"/>\r\n     <use style=\"stroke:#000000;stroke-width:1.25;\" x=\"246.672698\" xlink:href=\"#me03c16ad2f\" y=\"17.083636\"/>\r\n    </g>\r\n   </g>\r\n   <g id=\"line2d_13\">\r\n    <defs>\r\n     <path d=\"M -3 3 \r\nL 3 3 \r\nL 3 -3 \r\nL -3 -3 \r\nz\r\n\" id=\"me77039e040\" style=\"stroke:#000000;stroke-linejoin:miter;stroke-width:1.25;\"/>\r\n    </defs>\r\n    <g clip-path=\"url(#p31893fc25a)\">\r\n     <use style=\"fill:#ffffff;stroke:#000000;stroke-linejoin:miter;stroke-width:1.25;\" x=\"202.868678\" xlink:href=\"#me77039e040\" y=\"214.756364\"/>\r\n     <use style=\"fill:#ffffff;stroke:#000000;stroke-linejoin:miter;stroke-width:1.25;\" x=\"203.446875\" xlink:href=\"#me77039e040\" y=\"165.338182\"/>\r\n     <use style=\"fill:#ffffff;stroke:#000000;stroke-linejoin:miter;stroke-width:1.25;\" x=\"204.584773\" xlink:href=\"#me77039e040\" y=\"115.92\"/>\r\n     <use style=\"fill:#ffffff;stroke:#000000;stroke-linejoin:miter;stroke-width:1.25;\" x=\"205.057712\" xlink:href=\"#me77039e040\" y=\"66.501818\"/>\r\n     <use style=\"fill:#ffffff;stroke:#000000;stroke-linejoin:miter;stroke-width:1.25;\" x=\"205.658931\" xlink:href=\"#me77039e040\" y=\"17.083636\"/>\r\n    </g>\r\n   </g>\r\n   <g id=\"patch_3\">\r\n    <path d=\"M 36.046875 224.64 \r\nL 36.046875 7.2 \r\n\" style=\"fill:none;stroke:#000000;stroke-linecap:square;stroke-linejoin:miter;stroke-width:0.8;\"/>\r\n   </g>\r\n   <g id=\"patch_4\">\r\n    <path d=\"M 370.846875 224.64 \r\nL 370.846875 7.2 \r\n\" style=\"fill:none;stroke:#000000;stroke-linecap:square;stroke-linejoin:miter;stroke-width:0.8;\"/>\r\n   </g>\r\n   <g id=\"patch_5\">\r\n    <path d=\"M 36.046875 224.64 \r\nL 370.846875 224.64 \r\n\" style=\"fill:none;stroke:#000000;stroke-linecap:square;stroke-linejoin:miter;stroke-width:0.8;\"/>\r\n   </g>\r\n   <g id=\"patch_6\">\r\n    <path d=\"M 36.046875 7.2 \r\nL 370.846875 7.2 \r\n\" style=\"fill:none;stroke:#000000;stroke-linecap:square;stroke-linejoin:miter;stroke-width:0.8;\"/>\r\n   </g>\r\n  </g>\r\n </g>\r\n <defs>\r\n  <clipPath id=\"p31893fc25a\">\r\n   <rect height=\"217.44\" width=\"334.8\" x=\"36.046875\" y=\"7.2\"/>\r\n  </clipPath>\r\n </defs>\r\n</svg>\r\n",
      "image/png": "[encoded data removed]"
     },
     "metadata": {
      "needs_background": "light"
     }
    }
   ],
   "source": [
    "cph.plot()\n",
    "plt.savefig('survival_test.png')"
   ]
  },
  {
   "cell_type": "code",
   "execution_count": null,
   "metadata": {},
   "outputs": [],
   "source": []
  }
 ]
}