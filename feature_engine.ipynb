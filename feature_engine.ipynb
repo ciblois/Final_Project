{
 "metadata": {
  "language_info": {
   "codemirror_mode": {
    "name": "ipython",
    "version": 3
   },
   "file_extension": ".py",
   "mimetype": "text/x-python",
   "name": "python",
   "nbconvert_exporter": "python",
   "pygments_lexer": "ipython3",
   "version": "3.8.5-final"
  },
  "orig_nbformat": 2,
  "kernelspec": {
   "name": "python38564bit4f57281242da47b0a84bc03a5fa692d9",
   "display_name": "Python 3.8.5 64-bit"
  }
 },
 "nbformat": 4,
 "nbformat_minor": 2,
 "cells": [
  {
   "cell_type": "code",
   "execution_count": 2,
   "metadata": {},
   "outputs": [],
   "source": [
    "import pandas as pd\n",
    "import numpy as np\n",
    "import seaborn as sns\n",
    "import matplotlib.pyplot as plt\n",
    "import re"
   ]
  },
  {
   "source": [
    "# Data Description\n",
    "\n",
    "* Population\n",
    "* GDP\n",
    "* DCT - $CO_{2}$ Emissions – Total - `CDI = CO2 Intensity Current-Year Score`\n",
    "* DPT - $CO_{2}$ emissions/kWh elect. & heat - `CEH = CO2 Emissions per kWh`\n",
    "* DMT - $CH_{4}$ emissions - `CHI = $CH_{4}$ Intensity Current-Year Score`\n",
    "* DNT - $N_{2}O$ emissions - `NOI = $N_{2}O$ Intensity Current-Year Score`\n",
    "* DBT - Black Carbon emissions - `BCI = Black Carbon Current-Year Score`"
   ],
   "cell_type": "markdown",
   "metadata": {}
  },
  {
   "cell_type": "code",
   "execution_count": 4,
   "metadata": {},
   "outputs": [],
   "source": [
    "data = pd.read_csv('data_clean.csv')"
   ]
  },
  {
   "cell_type": "code",
   "execution_count": 5,
   "metadata": {},
   "outputs": [
    {
     "output_type": "execute_result",
     "data": {
      "text/plain": [
       "(4248, 8)"
      ]
     },
     "metadata": {},
     "execution_count": 5
    }
   ],
   "source": [
    "data.shape"
   ]
  },
  {
   "cell_type": "code",
   "execution_count": 6,
   "metadata": {},
   "outputs": [
    {
     "output_type": "execute_result",
     "data": {
      "text/plain": [
       "Unnamed: 0      int64\n",
       "country        object\n",
       "year            int64\n",
       "population    float64\n",
       "GPD           float64\n",
       "DCT           float64\n",
       "DNT           float64\n",
       "DBT           float64\n",
       "dtype: object"
      ]
     },
     "metadata": {},
     "execution_count": 6
    }
   ],
   "source": [
    "data.dtypes"
   ]
  },
  {
   "source": [
    "# Normalize all numeric columns\n",
    "\n",
    "* Population\n",
    "* GDP\n",
    "* DCT - `-23.355 to -21.180` (best to worst)\n",
    "* DPT - `6.682 to 850.420` (best to worst)\n",
    "* DMT - `-24.802 to -20.717` (best to worst)\n",
    "* DNT - `-26.229 to -21.493` (best to worst)\n",
    "* DBT - `-25.861 to -21.103` (best to worst)"
   ],
   "cell_type": "markdown",
   "metadata": {}
  },
  {
   "cell_type": "code",
   "execution_count": null,
   "metadata": {},
   "outputs": [],
   "source": [
    "# code"
   ]
  },
  {
   "source": [
    "# Build a final score by country and by year"
   ],
   "cell_type": "markdown",
   "metadata": {}
  },
  {
   "cell_type": "code",
   "execution_count": null,
   "metadata": {},
   "outputs": [],
   "source": [
    "# code"
   ]
  }
 ]
}