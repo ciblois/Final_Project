{
 "metadata": {
  "language_info": {
   "codemirror_mode": {
    "name": "ipython",
    "version": 3
   },
   "file_extension": ".py",
   "mimetype": "text/x-python",
   "name": "python",
   "nbconvert_exporter": "python",
   "pygments_lexer": "ipython3",
   "version": "3.8.5-final"
  },
  "orig_nbformat": 2,
  "kernelspec": {
   "name": "python38564bit4f57281242da47b0a84bc03a5fa692d9",
   "display_name": "Python 3.8.5 64-bit"
  }
 },
 "nbformat": 4,
 "nbformat_minor": 2,
 "cells": [
  {
   "cell_type": "code",
   "execution_count": 1,
   "metadata": {},
   "outputs": [],
   "source": [
    "import pandas as pd\n",
    "import numpy as np\n",
    "import seaborn as sns\n",
    "import matplotlib.pyplot as plt\n",
    "import re"
   ]
  },
  {
   "source": [
    "# Data Description\n",
    "\n",
    "* Population\n",
    "* GDP\n",
    "* DCT - $CO_{2}$ Emissions – Total - `CDI = CO2 Intensity Current-Year Score`\n",
    "* DPT - $CO_{2}$ emissions/kWh elect. & heat - `CEH = CO2 Emissions per kWh`\n",
    "* DMT - $CH_{4}$ emissions - `CHI = $CH_{4}$ Intensity Current-Year Score`\n",
    "* DNT - $N_{2}O$ emissions - `NOI = $N_{2}O$ Intensity Current-Year Score`\n",
    "* DBT - Black Carbon emissions - `BCI = Black Carbon Current-Year Score`"
   ],
   "cell_type": "markdown",
   "metadata": {}
  },
  {
   "cell_type": "code",
   "execution_count": 2,
   "metadata": {},
   "outputs": [],
   "source": [
    "climate = pd.read_csv('data_2020.csv')"
   ]
  },
  {
   "cell_type": "code",
   "execution_count": 3,
   "metadata": {},
   "outputs": [],
   "source": [
    "climate.drop(columns=['Unnamed: 0'],inplace=True)"
   ]
  },
  {
   "cell_type": "code",
   "execution_count": 4,
   "metadata": {},
   "outputs": [
    {
     "output_type": "execute_result",
     "data": {
      "text/plain": [
       "(3094, 7)"
      ]
     },
     "metadata": {},
     "execution_count": 4
    }
   ],
   "source": [
    "climate.shape"
   ]
  },
  {
   "cell_type": "code",
   "execution_count": 6,
   "metadata": {},
   "outputs": [
    {
     "output_type": "execute_result",
     "data": {
      "text/plain": [
       "               country  year         CDA         CHA         FGA         NDA  \\\n",
       "0              Albania  1995  100.000000   73.072520    0.000000   78.221486   \n",
       "1              Algeria  1995   40.836434   98.636534   96.334651   72.620891   \n",
       "2               Angola  1995   12.888007   70.729875    0.000000  100.000000   \n",
       "3  Antigua and Barbuda  1995   44.483927   80.575637    0.000000   36.690524   \n",
       "4            Argentina  1995   40.485271  100.000000  100.000000   63.435774   \n",
       "5              Armenia  1995   72.726561   89.833401    0.000000   97.707838   \n",
       "6            Australia  1995   42.566037   99.666890  100.000000   76.458848   \n",
       "7              Austria  1995   50.903881  100.000000   92.800663   93.225015   \n",
       "8           Azerbaijan  1995   60.416530   86.983408  100.000000   74.176342   \n",
       "9              Bahrain  1995   25.727473   33.991729  100.000000   43.459231   \n",
       "\n",
       "          BCA  \n",
       "0  100.000000  \n",
       "1   70.996796  \n",
       "2   43.865361  \n",
       "3   68.683208  \n",
       "4   45.942816  \n",
       "5  100.000000  \n",
       "6   82.549405  \n",
       "7  100.000000  \n",
       "8   88.589201  \n",
       "9   42.950239  "
      ],
      "text/html": "<div>\n<style scoped>\n    .dataframe tbody tr th:only-of-type {\n        vertical-align: middle;\n    }\n\n    .dataframe tbody tr th {\n        vertical-align: top;\n    }\n\n    .dataframe thead th {\n        text-align: right;\n    }\n</style>\n<table border=\"1\" class=\"dataframe\">\n  <thead>\n    <tr style=\"text-align: right;\">\n      <th></th>\n      <th>country</th>\n      <th>year</th>\n      <th>CDA</th>\n      <th>CHA</th>\n      <th>FGA</th>\n      <th>NDA</th>\n      <th>BCA</th>\n    </tr>\n  </thead>\n  <tbody>\n    <tr>\n      <th>0</th>\n      <td>Albania</td>\n      <td>1995</td>\n      <td>100.000000</td>\n      <td>73.072520</td>\n      <td>0.000000</td>\n      <td>78.221486</td>\n      <td>100.000000</td>\n    </tr>\n    <tr>\n      <th>1</th>\n      <td>Algeria</td>\n      <td>1995</td>\n      <td>40.836434</td>\n      <td>98.636534</td>\n      <td>96.334651</td>\n      <td>72.620891</td>\n      <td>70.996796</td>\n    </tr>\n    <tr>\n      <th>2</th>\n      <td>Angola</td>\n      <td>1995</td>\n      <td>12.888007</td>\n      <td>70.729875</td>\n      <td>0.000000</td>\n      <td>100.000000</td>\n      <td>43.865361</td>\n    </tr>\n    <tr>\n      <th>3</th>\n      <td>Antigua and Barbuda</td>\n      <td>1995</td>\n      <td>44.483927</td>\n      <td>80.575637</td>\n      <td>0.000000</td>\n      <td>36.690524</td>\n      <td>68.683208</td>\n    </tr>\n    <tr>\n      <th>4</th>\n      <td>Argentina</td>\n      <td>1995</td>\n      <td>40.485271</td>\n      <td>100.000000</td>\n      <td>100.000000</td>\n      <td>63.435774</td>\n      <td>45.942816</td>\n    </tr>\n    <tr>\n      <th>5</th>\n      <td>Armenia</td>\n      <td>1995</td>\n      <td>72.726561</td>\n      <td>89.833401</td>\n      <td>0.000000</td>\n      <td>97.707838</td>\n      <td>100.000000</td>\n    </tr>\n    <tr>\n      <th>6</th>\n      <td>Australia</td>\n      <td>1995</td>\n      <td>42.566037</td>\n      <td>99.666890</td>\n      <td>100.000000</td>\n      <td>76.458848</td>\n      <td>82.549405</td>\n    </tr>\n    <tr>\n      <th>7</th>\n      <td>Austria</td>\n      <td>1995</td>\n      <td>50.903881</td>\n      <td>100.000000</td>\n      <td>92.800663</td>\n      <td>93.225015</td>\n      <td>100.000000</td>\n    </tr>\n    <tr>\n      <th>8</th>\n      <td>Azerbaijan</td>\n      <td>1995</td>\n      <td>60.416530</td>\n      <td>86.983408</td>\n      <td>100.000000</td>\n      <td>74.176342</td>\n      <td>88.589201</td>\n    </tr>\n    <tr>\n      <th>9</th>\n      <td>Bahrain</td>\n      <td>1995</td>\n      <td>25.727473</td>\n      <td>33.991729</td>\n      <td>100.000000</td>\n      <td>43.459231</td>\n      <td>42.950239</td>\n    </tr>\n  </tbody>\n</table>\n</div>"
     },
     "metadata": {},
     "execution_count": 6
    }
   ],
   "source": [
    "climate.head(10)"
   ]
  },
  {
   "cell_type": "code",
   "execution_count": 5,
   "metadata": {},
   "outputs": [],
   "source": [
    "climate = climate[climate['year']!=2020]\n",
    "climate = climate[climate['year']!=2019]"
   ]
  },
  {
   "cell_type": "code",
   "execution_count": 6,
   "metadata": {},
   "outputs": [
    {
     "output_type": "execute_result",
     "data": {
      "text/plain": [
       "array([1995, 1996, 1997, 1998, 1999, 2000, 2001, 2002, 2003, 2004, 2005,\n",
       "       2006, 2007, 2008, 2009, 2010, 2011, 2012, 2013, 2014, 2015, 2016,\n",
       "       2017, 2018], dtype=int64)"
      ]
     },
     "metadata": {},
     "execution_count": 6
    }
   ],
   "source": [
    "climate['year'].unique()"
   ]
  },
  {
   "source": [
    "# `Time Series` for 2021-2027 per country"
   ],
   "cell_type": "markdown",
   "metadata": {}
  },
  {
   "cell_type": "code",
   "execution_count": 7,
   "metadata": {},
   "outputs": [],
   "source": [
    "from statsmodels.tsa.ar_model import AR\n",
    "from statsmodels.tsa.arima_model import ARIMA\n",
    "import datetime"
   ]
  },
  {
   "cell_type": "code",
   "execution_count": 8,
   "metadata": {},
   "outputs": [
    {
     "output_type": "execute_result",
     "data": {
      "text/plain": [
       "119"
      ]
     },
     "metadata": {},
     "execution_count": 8
    }
   ],
   "source": [
    "countries = list(climate['country'].unique())\n",
    "len(countries)"
   ]
  },
  {
   "cell_type": "code",
   "execution_count": 9,
   "metadata": {},
   "outputs": [
    {
     "output_type": "execute_result",
     "data": {
      "text/plain": [
       "country    0\n",
       "year       0\n",
       "CDA        0\n",
       "CHA        0\n",
       "FGA        0\n",
       "NDA        0\n",
       "BCA        0\n",
       "dtype: int64"
      ]
     },
     "metadata": {},
     "execution_count": 9
    }
   ],
   "source": [
    "climate.isna().sum() # checking missing values"
   ]
  },
  {
   "cell_type": "code",
   "execution_count": 10,
   "metadata": {},
   "outputs": [],
   "source": [
    "cda = []\n",
    "cha = []\n",
    "fga = []\n",
    "nda = []\n",
    "bca = []"
   ]
  },
  {
   "cell_type": "code",
   "execution_count": 11,
   "metadata": {},
   "outputs": [],
   "source": [
    "# CDA time series\n",
    "\n",
    "for country in countries:\n",
    "    df = climate[climate['country']==str(country)].reset_index()\n",
    "    #df.index = pd.to_datetime(df['year'],format='%Y')#.dt.year\n",
    "    features1 = df['CDA']\n",
    "    model1 = AR(features1)\n",
    "    model1_fit = model1.fit(maxlag=3)\n",
    "    d_f1 = model1_fit.predict(start=len(features1), end=len(features1)+8, dynamic=False)\n",
    "    cda += d_f1.to_list()\n",
    "\n",
    "    #print('Country {0} completed'.format(country))"
   ]
  },
  {
   "cell_type": "code",
   "execution_count": 12,
   "metadata": {},
   "outputs": [],
   "source": [
    "# CHA time series\n",
    "\n",
    "for country in countries:\n",
    "    df = climate[climate['country']==str(country)].reset_index()\n",
    "    #df.index = pd.to_datetime(df['year'],format='%Y')#.dt.year\n",
    "    features = df['CHA']\n",
    "    if len((climate[climate['country']==str(country)]['CHA']).unique()) <=3:\n",
    "        cha_ = features[:9].tolist()\n",
    "        cha+=cha_\n",
    "    else:\n",
    "        model = AR(features)\n",
    "        model_fit = model.fit(maxlag=3)\n",
    "        d_f = model_fit.predict(start=len(features), end=len(features)+8, dynamic=False)\n",
    "        cha+=d_f.to_list()\n",
    "    #print('Country {0} completed'.format(country)) # problems with values repetition"
   ]
  },
  {
   "cell_type": "code",
   "execution_count": 13,
   "metadata": {},
   "outputs": [],
   "source": [
    "# FGA time series\n",
    "\n",
    "for country in countries:\n",
    "    df = climate[climate['country']==str(country)].reset_index()\n",
    "    #df.index = pd.to_datetime(df['year'],format='%Y')#.dt.year\n",
    "    features = df['FGA']\n",
    "    if len((climate[climate['country']==str(country)]['FGA']).unique()) <=3:\n",
    "        fga_ = features[:9].tolist()\n",
    "        fga+=fga_\n",
    "    else:\n",
    "        model = AR(features)\n",
    "        model_fit = model.fit(maxlag=3)\n",
    "        d_f = model_fit.predict(start=len(features), end=len(features)+8, dynamic=False)\n",
    "        fga+=d_f.to_list()\n",
    "    #print('Country {0} completed'.format(country))"
   ]
  },
  {
   "cell_type": "code",
   "execution_count": 14,
   "metadata": {},
   "outputs": [],
   "source": [
    "# NDA time series\n",
    "\n",
    "for country in countries:\n",
    "    df = climate[climate['country']==str(country)].reset_index()\n",
    "    #df.index = pd.to_datetime(df['year'],format='%Y')#.dt.year\n",
    "    features = df['NDA']\n",
    "    if len((climate[climate['country']==str(country)]['NDA']).unique()) <=3:\n",
    "        nda_ = features[:9].tolist()\n",
    "        nda+=nda_\n",
    "    else:\n",
    "        model = AR(features)\n",
    "        model_fit = model.fit(maxlag=3)\n",
    "        d_f = model_fit.predict(start=len(features), end=len(features)+8, dynamic=False)\n",
    "        nda+=d_f.to_list()\n",
    "    #print('Country {0} completed'.format(country))"
   ]
  },
  {
   "cell_type": "code",
   "execution_count": 15,
   "metadata": {},
   "outputs": [],
   "source": [
    "# BCA time series\n",
    "\n",
    "for country in countries:\n",
    "    df = climate[climate['country']==str(country)].reset_index()\n",
    "    #df.index = pd.to_datetime(df['year'],format='%Y')#.dt.year\n",
    "    features = df['BCA']\n",
    "    if len((climate[climate['country']==str(country)]['BCA']).unique()) <=3:\n",
    "        bca_ = features[:9].tolist()\n",
    "        bca+=bca_\n",
    "    else:\n",
    "        model = AR(features)\n",
    "        model_fit = model.fit(maxlag=3)\n",
    "        d_f = model_fit.predict(start=len(features), end=len(features)+8, dynamic=False)\n",
    "        bca+=d_f.to_list()\n",
    "    #print('Country {0} completed'.format(country))"
   ]
  },
  {
   "source": [
    "## We have to generate total 1071 predictions"
   ],
   "cell_type": "markdown",
   "metadata": {}
  },
  {
   "cell_type": "code",
   "execution_count": 16,
   "metadata": {},
   "outputs": [
    {
     "output_type": "stream",
     "name": "stdout",
     "text": [
      "The CDA columns has 1071 predictions\nThe CHA columns has 1071 predictions\nThe FGA columns has 1071 predictions\nThe NDA columns has 1071 predictions\nThe BCA columns has 1071 predictions\n"
     ]
    }
   ],
   "source": [
    "print('The CDA columns has {0} predictions'.format(len(cda)))\n",
    "print('The CHA columns has {0} predictions'.format(len(cha)))\n",
    "print('The FGA columns has {0} predictions'.format(len(fga)))\n",
    "print('The NDA columns has {0} predictions'.format(len(nda)))\n",
    "print('The BCA columns has {0} predictions'.format(len(bca)))"
   ]
  },
  {
   "cell_type": "code",
   "execution_count": 17,
   "metadata": {},
   "outputs": [],
   "source": [
    "df_cda = pd.DataFrame({'CDA':cda})\n",
    "df_cha = pd.DataFrame({'CHA':cha})\n",
    "df_fga = pd.DataFrame({'FGA':fga})\n",
    "df_nda = pd.DataFrame({'NDA':nda})\n",
    "df_bca = pd.DataFrame({'BCA':bca})"
   ]
  },
  {
   "cell_type": "code",
   "execution_count": 18,
   "metadata": {},
   "outputs": [
    {
     "output_type": "stream",
     "name": "stdout",
     "text": [
      "The CDA columns has 1071 predictions\nThe CHA columns has 1071 predictions\nThe FGA columns has 1071 predictions\nThe NDA columns has 1071 predictions\nThe BCA columns has 1071 predictions\n"
     ]
    }
   ],
   "source": [
    "print('The CDA columns has {0} predictions'.format(df_cda.shape[0]))\n",
    "print('The CHA columns has {0} predictions'.format(df_cha.shape[0]))\n",
    "print('The FGA columns has {0} predictions'.format(df_fga.shape[0]))\n",
    "print('The NDA columns has {0} predictions'.format(df_nda.shape[0]))\n",
    "print('The BCA columns has {0} predictions'.format(df_bca.shape[0]))"
   ]
  },
  {
   "cell_type": "code",
   "execution_count": 19,
   "metadata": {},
   "outputs": [
    {
     "output_type": "execute_result",
     "data": {
      "text/plain": [
       "(1071, 1)"
      ]
     },
     "metadata": {},
     "execution_count": 19
    }
   ],
   "source": [
    "years = [num for num in range(2019,2028)]\n",
    "year = pd.DataFrame({'year':years*119})\n",
    "year.shape"
   ]
  },
  {
   "cell_type": "code",
   "execution_count": 20,
   "metadata": {},
   "outputs": [],
   "source": [
    "countries_total = []\n",
    "for i in countries:\n",
    "    for j in range(0,9):\n",
    "        countries_total.append(i)"
   ]
  },
  {
   "cell_type": "code",
   "execution_count": 21,
   "metadata": {},
   "outputs": [
    {
     "output_type": "execute_result",
     "data": {
      "text/plain": [
       "1071"
      ]
     },
     "metadata": {},
     "execution_count": 21
    }
   ],
   "source": [
    "len(countries_total)"
   ]
  },
  {
   "cell_type": "code",
   "execution_count": 22,
   "metadata": {},
   "outputs": [],
   "source": [
    "data = pd.DataFrame(countries_total,columns=['country'])\n",
    "climate_pred = data.join(year)"
   ]
  },
  {
   "cell_type": "code",
   "execution_count": 23,
   "metadata": {},
   "outputs": [],
   "source": [
    "climate_pred = climate_pred.join(df_cda)\n",
    "climate_pred = climate_pred.join(df_cha)\n",
    "climate_pred = climate_pred.join(df_fga)\n",
    "climate_pred = climate_pred.join(df_nda)\n",
    "climate_pred = climate_pred.join(df_bca)"
   ]
  },
  {
   "cell_type": "code",
   "execution_count": 24,
   "metadata": {},
   "outputs": [
    {
     "output_type": "execute_result",
     "data": {
      "text/plain": [
       "(1071, 7)"
      ]
     },
     "metadata": {},
     "execution_count": 24
    }
   ],
   "source": [
    "climate_pred.shape"
   ]
  },
  {
   "cell_type": "code",
   "execution_count": 25,
   "metadata": {},
   "outputs": [
    {
     "output_type": "execute_result",
     "data": {
      "text/plain": [
       "              year          CDA          CHA          FGA          NDA  \\\n",
       "count  2856.000000  2856.000000  2856.000000  2856.000000  2856.000000   \n",
       "mean   2006.500000    45.612832    69.813558    75.881315    60.529332   \n",
       "std       6.923399    20.547769    28.557937    26.864981    28.985214   \n",
       "min    1995.000000     0.000000     0.000000     0.000000     0.000000   \n",
       "25%    2000.750000    32.712642    51.514287    68.328556    39.979301   \n",
       "50%    2006.500000    45.657211    75.672376    87.055491    63.171014   \n",
       "75%    2012.250000    58.373207   100.000000    92.399902    82.429205   \n",
       "max    2018.000000   100.000000   100.000000   100.000000   100.000000   \n",
       "\n",
       "               BCA  \n",
       "count  2856.000000  \n",
       "mean     59.847407  \n",
       "std      31.603002  \n",
       "min       0.000000  \n",
       "25%      35.903772  \n",
       "50%      60.031367  \n",
       "75%      94.238995  \n",
       "max     100.000000  "
      ],
      "text/html": "<div>\n<style scoped>\n    .dataframe tbody tr th:only-of-type {\n        vertical-align: middle;\n    }\n\n    .dataframe tbody tr th {\n        vertical-align: top;\n    }\n\n    .dataframe thead th {\n        text-align: right;\n    }\n</style>\n<table border=\"1\" class=\"dataframe\">\n  <thead>\n    <tr style=\"text-align: right;\">\n      <th></th>\n      <th>year</th>\n      <th>CDA</th>\n      <th>CHA</th>\n      <th>FGA</th>\n      <th>NDA</th>\n      <th>BCA</th>\n    </tr>\n  </thead>\n  <tbody>\n    <tr>\n      <th>count</th>\n      <td>2856.000000</td>\n      <td>2856.000000</td>\n      <td>2856.000000</td>\n      <td>2856.000000</td>\n      <td>2856.000000</td>\n      <td>2856.000000</td>\n    </tr>\n    <tr>\n      <th>mean</th>\n      <td>2006.500000</td>\n      <td>45.612832</td>\n      <td>69.813558</td>\n      <td>75.881315</td>\n      <td>60.529332</td>\n      <td>59.847407</td>\n    </tr>\n    <tr>\n      <th>std</th>\n      <td>6.923399</td>\n      <td>20.547769</td>\n      <td>28.557937</td>\n      <td>26.864981</td>\n      <td>28.985214</td>\n      <td>31.603002</td>\n    </tr>\n    <tr>\n      <th>min</th>\n      <td>1995.000000</td>\n      <td>0.000000</td>\n      <td>0.000000</td>\n      <td>0.000000</td>\n      <td>0.000000</td>\n      <td>0.000000</td>\n    </tr>\n    <tr>\n      <th>25%</th>\n      <td>2000.750000</td>\n      <td>32.712642</td>\n      <td>51.514287</td>\n      <td>68.328556</td>\n      <td>39.979301</td>\n      <td>35.903772</td>\n    </tr>\n    <tr>\n      <th>50%</th>\n      <td>2006.500000</td>\n      <td>45.657211</td>\n      <td>75.672376</td>\n      <td>87.055491</td>\n      <td>63.171014</td>\n      <td>60.031367</td>\n    </tr>\n    <tr>\n      <th>75%</th>\n      <td>2012.250000</td>\n      <td>58.373207</td>\n      <td>100.000000</td>\n      <td>92.399902</td>\n      <td>82.429205</td>\n      <td>94.238995</td>\n    </tr>\n    <tr>\n      <th>max</th>\n      <td>2018.000000</td>\n      <td>100.000000</td>\n      <td>100.000000</td>\n      <td>100.000000</td>\n      <td>100.000000</td>\n      <td>100.000000</td>\n    </tr>\n  </tbody>\n</table>\n</div>"
     },
     "metadata": {},
     "execution_count": 25
    }
   ],
   "source": [
    "climate.describe()"
   ]
  },
  {
   "cell_type": "code",
   "execution_count": 26,
   "metadata": {},
   "outputs": [
    {
     "output_type": "execute_result",
     "data": {
      "text/plain": [
       "              year          CDA          CHA          FGA          NDA  \\\n",
       "count  1071.000000  1071.000000  1071.000000  1071.000000  1071.000000   \n",
       "mean   2023.000000    45.725665    69.564284    89.543604    57.516227   \n",
       "std       2.583195    25.695135    25.134798     7.964706    27.170484   \n",
       "min    2019.000000  -286.130726     0.462149    46.899592  -131.953531   \n",
       "25%    2021.000000    34.900554    52.789285    87.327318    42.719765   \n",
       "50%    2023.000000    47.844046    72.765109    90.702536    61.198179   \n",
       "75%    2025.000000    59.931267    91.311357    94.227968    76.651957   \n",
       "max    2027.000000    99.830786   130.559686   105.090360   142.115631   \n",
       "\n",
       "               BCA  \n",
       "count  1071.000000  \n",
       "mean     56.748969  \n",
       "std      28.029411  \n",
       "min      -2.408672  \n",
       "25%      36.919752  \n",
       "50%      55.075630  \n",
       "75%      79.333657  \n",
       "max     109.121687  "
      ],
      "text/html": "<div>\n<style scoped>\n    .dataframe tbody tr th:only-of-type {\n        vertical-align: middle;\n    }\n\n    .dataframe tbody tr th {\n        vertical-align: top;\n    }\n\n    .dataframe thead th {\n        text-align: right;\n    }\n</style>\n<table border=\"1\" class=\"dataframe\">\n  <thead>\n    <tr style=\"text-align: right;\">\n      <th></th>\n      <th>year</th>\n      <th>CDA</th>\n      <th>CHA</th>\n      <th>FGA</th>\n      <th>NDA</th>\n      <th>BCA</th>\n    </tr>\n  </thead>\n  <tbody>\n    <tr>\n      <th>count</th>\n      <td>1071.000000</td>\n      <td>1071.000000</td>\n      <td>1071.000000</td>\n      <td>1071.000000</td>\n      <td>1071.000000</td>\n      <td>1071.000000</td>\n    </tr>\n    <tr>\n      <th>mean</th>\n      <td>2023.000000</td>\n      <td>45.725665</td>\n      <td>69.564284</td>\n      <td>89.543604</td>\n      <td>57.516227</td>\n      <td>56.748969</td>\n    </tr>\n    <tr>\n      <th>std</th>\n      <td>2.583195</td>\n      <td>25.695135</td>\n      <td>25.134798</td>\n      <td>7.964706</td>\n      <td>27.170484</td>\n      <td>28.029411</td>\n    </tr>\n    <tr>\n      <th>min</th>\n      <td>2019.000000</td>\n      <td>-286.130726</td>\n      <td>0.462149</td>\n      <td>46.899592</td>\n      <td>-131.953531</td>\n      <td>-2.408672</td>\n    </tr>\n    <tr>\n      <th>25%</th>\n      <td>2021.000000</td>\n      <td>34.900554</td>\n      <td>52.789285</td>\n      <td>87.327318</td>\n      <td>42.719765</td>\n      <td>36.919752</td>\n    </tr>\n    <tr>\n      <th>50%</th>\n      <td>2023.000000</td>\n      <td>47.844046</td>\n      <td>72.765109</td>\n      <td>90.702536</td>\n      <td>61.198179</td>\n      <td>55.075630</td>\n    </tr>\n    <tr>\n      <th>75%</th>\n      <td>2025.000000</td>\n      <td>59.931267</td>\n      <td>91.311357</td>\n      <td>94.227968</td>\n      <td>76.651957</td>\n      <td>79.333657</td>\n    </tr>\n    <tr>\n      <th>max</th>\n      <td>2027.000000</td>\n      <td>99.830786</td>\n      <td>130.559686</td>\n      <td>105.090360</td>\n      <td>142.115631</td>\n      <td>109.121687</td>\n    </tr>\n  </tbody>\n</table>\n</div>"
     },
     "metadata": {},
     "execution_count": 26
    }
   ],
   "source": [
    "climate_pred.describe()"
   ]
  },
  {
   "cell_type": "code",
   "execution_count": 27,
   "metadata": {},
   "outputs": [],
   "source": [
    "climate_pred['CDA'] = climate_pred['CDA'].apply(lambda x: 0 if x<=0 else x)\n",
    "climate_pred['CHA'] = climate_pred['CHA'].apply(lambda x: 0 if x<=0 else x)\n",
    "climate_pred['FGA'] = climate_pred['FGA'].apply(lambda x: 0 if x<=0 else x)\n",
    "climate_pred['NDA'] = climate_pred['NDA'].apply(lambda x: 0 if x<=0 else x)\n",
    "climate_pred['BCA'] = climate_pred['BCA'].apply(lambda x: 0 if x<=0 else x)\n",
    "\n",
    "climate_pred['CDA'] = climate_pred['CDA'].apply(lambda x: 100 if x>=100 else x)\n",
    "climate_pred['CHA'] = climate_pred['CHA'].apply(lambda x: 100 if x>=100 else x)\n",
    "climate_pred['FGA'] = climate_pred['FGA'].apply(lambda x: 100 if x>=100 else x)\n",
    "climate_pred['NDA'] = climate_pred['NDA'].apply(lambda x: 100 if x>=100 else x)\n",
    "climate_pred['BCA'] = climate_pred['BCA'].apply(lambda x: 100 if x>=100 else x)"
   ]
  },
  {
   "cell_type": "code",
   "execution_count": 28,
   "metadata": {},
   "outputs": [
    {
     "output_type": "execute_result",
     "data": {
      "text/plain": [
       "              year          CDA          CHA          FGA          NDA  \\\n",
       "count  1071.000000  1071.000000  1071.000000  1071.000000  1071.000000   \n",
       "mean   2023.000000    46.888759    69.353128    89.515581    58.131653   \n",
       "std       2.583195    19.190392    24.799256     7.921643    24.373976   \n",
       "min    2019.000000     0.000000     0.462149    46.899592     0.000000   \n",
       "25%    2021.000000    34.900554    52.789285    87.327318    42.719765   \n",
       "50%    2023.000000    47.844046    72.765109    90.702536    61.198179   \n",
       "75%    2025.000000    59.931267    91.311357    94.227968    76.651957   \n",
       "max    2027.000000    99.830786   100.000000   100.000000   100.000000   \n",
       "\n",
       "               BCA  \n",
       "count  1071.000000  \n",
       "mean     56.696860  \n",
       "std      27.845778  \n",
       "min       0.000000  \n",
       "25%      36.919752  \n",
       "50%      55.075630  \n",
       "75%      79.333657  \n",
       "max     100.000000  "
      ],
      "text/html": "<div>\n<style scoped>\n    .dataframe tbody tr th:only-of-type {\n        vertical-align: middle;\n    }\n\n    .dataframe tbody tr th {\n        vertical-align: top;\n    }\n\n    .dataframe thead th {\n        text-align: right;\n    }\n</style>\n<table border=\"1\" class=\"dataframe\">\n  <thead>\n    <tr style=\"text-align: right;\">\n      <th></th>\n      <th>year</th>\n      <th>CDA</th>\n      <th>CHA</th>\n      <th>FGA</th>\n      <th>NDA</th>\n      <th>BCA</th>\n    </tr>\n  </thead>\n  <tbody>\n    <tr>\n      <th>count</th>\n      <td>1071.000000</td>\n      <td>1071.000000</td>\n      <td>1071.000000</td>\n      <td>1071.000000</td>\n      <td>1071.000000</td>\n      <td>1071.000000</td>\n    </tr>\n    <tr>\n      <th>mean</th>\n      <td>2023.000000</td>\n      <td>46.888759</td>\n      <td>69.353128</td>\n      <td>89.515581</td>\n      <td>58.131653</td>\n      <td>56.696860</td>\n    </tr>\n    <tr>\n      <th>std</th>\n      <td>2.583195</td>\n      <td>19.190392</td>\n      <td>24.799256</td>\n      <td>7.921643</td>\n      <td>24.373976</td>\n      <td>27.845778</td>\n    </tr>\n    <tr>\n      <th>min</th>\n      <td>2019.000000</td>\n      <td>0.000000</td>\n      <td>0.462149</td>\n      <td>46.899592</td>\n      <td>0.000000</td>\n      <td>0.000000</td>\n    </tr>\n    <tr>\n      <th>25%</th>\n      <td>2021.000000</td>\n      <td>34.900554</td>\n      <td>52.789285</td>\n      <td>87.327318</td>\n      <td>42.719765</td>\n      <td>36.919752</td>\n    </tr>\n    <tr>\n      <th>50%</th>\n      <td>2023.000000</td>\n      <td>47.844046</td>\n      <td>72.765109</td>\n      <td>90.702536</td>\n      <td>61.198179</td>\n      <td>55.075630</td>\n    </tr>\n    <tr>\n      <th>75%</th>\n      <td>2025.000000</td>\n      <td>59.931267</td>\n      <td>91.311357</td>\n      <td>94.227968</td>\n      <td>76.651957</td>\n      <td>79.333657</td>\n    </tr>\n    <tr>\n      <th>max</th>\n      <td>2027.000000</td>\n      <td>99.830786</td>\n      <td>100.000000</td>\n      <td>100.000000</td>\n      <td>100.000000</td>\n      <td>100.000000</td>\n    </tr>\n  </tbody>\n</table>\n</div>"
     },
     "metadata": {},
     "execution_count": 28
    }
   ],
   "source": [
    "climate_pred.describe()"
   ]
  },
  {
   "cell_type": "code",
   "execution_count": 29,
   "metadata": {},
   "outputs": [],
   "source": [
    "final_df = []\n",
    "for country in countries:\n",
    "    df1 = climate[climate['country']==str(country)].reset_index()\n",
    "    df2 = climate_pred[climate_pred['country']==str(country)].reset_index()\n",
    "    final = df1.append(df2)\n",
    "    final = final.reset_index()\n",
    "    final.drop(columns=['level_0','index'],inplace=True)\n",
    "    final_df.append(final)"
   ]
  },
  {
   "cell_type": "code",
   "execution_count": 30,
   "metadata": {},
   "outputs": [],
   "source": [
    "def list_to_df(lst):\n",
    "    df = lst[0]\n",
    "    for item in range(1,len(lst)):\n",
    "        df = df.append(lst[item])\n",
    "    return df"
   ]
  },
  {
   "cell_type": "code",
   "execution_count": 31,
   "metadata": {},
   "outputs": [],
   "source": [
    "all_pred_2018 = list_to_df(final_df)"
   ]
  },
  {
   "cell_type": "code",
   "execution_count": 32,
   "metadata": {},
   "outputs": [],
   "source": [
    "all_pred_2018 = all_pred_2018.reset_index()\n",
    "all_pred_2018.drop(columns=['index'],inplace=True)"
   ]
  },
  {
   "cell_type": "code",
   "execution_count": 33,
   "metadata": {},
   "outputs": [
    {
     "output_type": "execute_result",
     "data": {
      "text/plain": [
       "(3927, 7)"
      ]
     },
     "metadata": {},
     "execution_count": 33
    }
   ],
   "source": [
    "all_pred_2018.shape"
   ]
  },
  {
   "cell_type": "code",
   "execution_count": 35,
   "metadata": {},
   "outputs": [
    {
     "output_type": "execute_result",
     "data": {
      "text/plain": [
       "    country  year         CDA         CHA        FGA         NDA         BCA\n",
       "0   Albania  1995  100.000000   73.072520   0.000000   78.221486  100.000000\n",
       "1   Albania  1996  100.000000   73.072520   0.000000   78.221486  100.000000\n",
       "2   Albania  1997  100.000000   73.072520   0.000000   78.221486  100.000000\n",
       "3   Albania  1998  100.000000   73.072520   0.000000   78.221486  100.000000\n",
       "4   Albania  1999  100.000000   73.072520   0.000000   78.221486  100.000000\n",
       "5   Albania  2000   74.923269   76.760669   0.000000   63.022453   48.045073\n",
       "6   Albania  2001   39.235149   85.603156  18.915822   68.296950    0.000000\n",
       "7   Albania  2002   18.968655  100.000000  40.199894   71.154023    0.000000\n",
       "8   Albania  2003    1.230429  100.000000  51.079315   71.641696    0.000000\n",
       "9   Albania  2004    0.000000  100.000000  57.123048   60.929528    0.000000\n",
       "10  Albania  2005    0.000000  100.000000  59.128368   49.251423    0.000000\n",
       "11  Albania  2006    0.000000   99.959781  60.153131   49.981561    0.000000\n",
       "12  Albania  2007   17.883514  100.000000  64.772210   60.454158   10.873171\n",
       "13  Albania  2008   35.874283  100.000000  68.930938   71.780970   56.711345\n",
       "14  Albania  2009   40.793817  100.000000  72.608704   90.713342   56.352143\n",
       "15  Albania  2010   46.330144  100.000000  76.187988  100.000000   63.528787\n",
       "16  Albania  2011   46.494000  100.000000  79.645391  100.000000   69.899276\n",
       "17  Albania  2012   45.298592  100.000000  82.931852  100.000000   91.843514\n",
       "18  Albania  2013   41.620819  100.000000  85.549548  100.000000  100.000000\n",
       "19  Albania  2014   36.221721  100.000000  87.269920   98.082490  100.000000\n",
       "20  Albania  2015   34.895089  100.000000  88.091984   78.695273  100.000000\n",
       "21  Albania  2016   37.169587   85.143263  88.896693   66.507309  100.000000\n",
       "22  Albania  2017   41.174080   79.154052  89.444386   61.861935  100.000000\n",
       "23  Albania  2018   41.174080   79.154052  89.444386   61.861935  100.000000\n",
       "24  Albania  2019   40.123546   81.998877  89.999661   65.189814   93.314241\n",
       "25  Albania  2020   38.628908   85.636201  91.190370   70.096349   84.303685\n",
       "26  Albania  2021   37.101171   88.929358  92.635469   74.917959   75.539348\n",
       "27  Albania  2022   35.826804   91.404014  93.980275   78.474117   68.267151\n",
       "28  Albania  2023   34.958733   92.996276  95.082762   80.227457   62.876347\n",
       "29  Albania  2024   34.529749   93.850922  95.971997   80.239818   59.267465\n",
       "30  Albania  2025   34.483285   94.183600  96.735592   78.990692   57.112449\n",
       "31  Albania  2026   34.710923   94.200966  97.440358   77.141706   56.020310\n",
       "32  Albania  2027   35.087824   94.064327  98.110776   75.320904   55.629703\n",
       "33  Algeria  1995   40.836434   98.636534  96.334651   72.620891   70.996796\n",
       "34  Algeria  1996   40.836434   98.636534  96.334651   72.620891   70.996796"
      ],
      "text/html": "<div>\n<style scoped>\n    .dataframe tbody tr th:only-of-type {\n        vertical-align: middle;\n    }\n\n    .dataframe tbody tr th {\n        vertical-align: top;\n    }\n\n    .dataframe thead th {\n        text-align: right;\n    }\n</style>\n<table border=\"1\" class=\"dataframe\">\n  <thead>\n    <tr style=\"text-align: right;\">\n      <th></th>\n      <th>country</th>\n      <th>year</th>\n      <th>CDA</th>\n      <th>CHA</th>\n      <th>FGA</th>\n      <th>NDA</th>\n      <th>BCA</th>\n    </tr>\n  </thead>\n  <tbody>\n    <tr>\n      <th>0</th>\n      <td>Albania</td>\n      <td>1995</td>\n      <td>100.000000</td>\n      <td>73.072520</td>\n      <td>0.000000</td>\n      <td>78.221486</td>\n      <td>100.000000</td>\n    </tr>\n    <tr>\n      <th>1</th>\n      <td>Albania</td>\n      <td>1996</td>\n      <td>100.000000</td>\n      <td>73.072520</td>\n      <td>0.000000</td>\n      <td>78.221486</td>\n      <td>100.000000</td>\n    </tr>\n    <tr>\n      <th>2</th>\n      <td>Albania</td>\n      <td>1997</td>\n      <td>100.000000</td>\n      <td>73.072520</td>\n      <td>0.000000</td>\n      <td>78.221486</td>\n      <td>100.000000</td>\n    </tr>\n    <tr>\n      <th>3</th>\n      <td>Albania</td>\n      <td>1998</td>\n      <td>100.000000</td>\n      <td>73.072520</td>\n      <td>0.000000</td>\n      <td>78.221486</td>\n      <td>100.000000</td>\n    </tr>\n    <tr>\n      <th>4</th>\n      <td>Albania</td>\n      <td>1999</td>\n      <td>100.000000</td>\n      <td>73.072520</td>\n      <td>0.000000</td>\n      <td>78.221486</td>\n      <td>100.000000</td>\n    </tr>\n    <tr>\n      <th>5</th>\n      <td>Albania</td>\n      <td>2000</td>\n      <td>74.923269</td>\n      <td>76.760669</td>\n      <td>0.000000</td>\n      <td>63.022453</td>\n      <td>48.045073</td>\n    </tr>\n    <tr>\n      <th>6</th>\n      <td>Albania</td>\n      <td>2001</td>\n      <td>39.235149</td>\n      <td>85.603156</td>\n      <td>18.915822</td>\n      <td>68.296950</td>\n      <td>0.000000</td>\n    </tr>\n    <tr>\n      <th>7</th>\n      <td>Albania</td>\n      <td>2002</td>\n      <td>18.968655</td>\n      <td>100.000000</td>\n      <td>40.199894</td>\n      <td>71.154023</td>\n      <td>0.000000</td>\n    </tr>\n    <tr>\n      <th>8</th>\n      <td>Albania</td>\n      <td>2003</td>\n      <td>1.230429</td>\n      <td>100.000000</td>\n      <td>51.079315</td>\n      <td>71.641696</td>\n      <td>0.000000</td>\n    </tr>\n    <tr>\n      <th>9</th>\n      <td>Albania</td>\n      <td>2004</td>\n      <td>0.000000</td>\n      <td>100.000000</td>\n      <td>57.123048</td>\n      <td>60.929528</td>\n      <td>0.000000</td>\n    </tr>\n    <tr>\n      <th>10</th>\n      <td>Albania</td>\n      <td>2005</td>\n      <td>0.000000</td>\n      <td>100.000000</td>\n      <td>59.128368</td>\n      <td>49.251423</td>\n      <td>0.000000</td>\n    </tr>\n    <tr>\n      <th>11</th>\n      <td>Albania</td>\n      <td>2006</td>\n      <td>0.000000</td>\n      <td>99.959781</td>\n      <td>60.153131</td>\n      <td>49.981561</td>\n      <td>0.000000</td>\n    </tr>\n    <tr>\n      <th>12</th>\n      <td>Albania</td>\n      <td>2007</td>\n      <td>17.883514</td>\n      <td>100.000000</td>\n      <td>64.772210</td>\n      <td>60.454158</td>\n      <td>10.873171</td>\n    </tr>\n    <tr>\n      <th>13</th>\n      <td>Albania</td>\n      <td>2008</td>\n      <td>35.874283</td>\n      <td>100.000000</td>\n      <td>68.930938</td>\n      <td>71.780970</td>\n      <td>56.711345</td>\n    </tr>\n    <tr>\n      <th>14</th>\n      <td>Albania</td>\n      <td>2009</td>\n      <td>40.793817</td>\n      <td>100.000000</td>\n      <td>72.608704</td>\n      <td>90.713342</td>\n      <td>56.352143</td>\n    </tr>\n    <tr>\n      <th>15</th>\n      <td>Albania</td>\n      <td>2010</td>\n      <td>46.330144</td>\n      <td>100.000000</td>\n      <td>76.187988</td>\n      <td>100.000000</td>\n      <td>63.528787</td>\n    </tr>\n    <tr>\n      <th>16</th>\n      <td>Albania</td>\n      <td>2011</td>\n      <td>46.494000</td>\n      <td>100.000000</td>\n      <td>79.645391</td>\n      <td>100.000000</td>\n      <td>69.899276</td>\n    </tr>\n    <tr>\n      <th>17</th>\n      <td>Albania</td>\n      <td>2012</td>\n      <td>45.298592</td>\n      <td>100.000000</td>\n      <td>82.931852</td>\n      <td>100.000000</td>\n      <td>91.843514</td>\n    </tr>\n    <tr>\n      <th>18</th>\n      <td>Albania</td>\n      <td>2013</td>\n      <td>41.620819</td>\n      <td>100.000000</td>\n      <td>85.549548</td>\n      <td>100.000000</td>\n      <td>100.000000</td>\n    </tr>\n    <tr>\n      <th>19</th>\n      <td>Albania</td>\n      <td>2014</td>\n      <td>36.221721</td>\n      <td>100.000000</td>\n      <td>87.269920</td>\n      <td>98.082490</td>\n      <td>100.000000</td>\n    </tr>\n    <tr>\n      <th>20</th>\n      <td>Albania</td>\n      <td>2015</td>\n      <td>34.895089</td>\n      <td>100.000000</td>\n      <td>88.091984</td>\n      <td>78.695273</td>\n      <td>100.000000</td>\n    </tr>\n    <tr>\n      <th>21</th>\n      <td>Albania</td>\n      <td>2016</td>\n      <td>37.169587</td>\n      <td>85.143263</td>\n      <td>88.896693</td>\n      <td>66.507309</td>\n      <td>100.000000</td>\n    </tr>\n    <tr>\n      <th>22</th>\n      <td>Albania</td>\n      <td>2017</td>\n      <td>41.174080</td>\n      <td>79.154052</td>\n      <td>89.444386</td>\n      <td>61.861935</td>\n      <td>100.000000</td>\n    </tr>\n    <tr>\n      <th>23</th>\n      <td>Albania</td>\n      <td>2018</td>\n      <td>41.174080</td>\n      <td>79.154052</td>\n      <td>89.444386</td>\n      <td>61.861935</td>\n      <td>100.000000</td>\n    </tr>\n    <tr>\n      <th>24</th>\n      <td>Albania</td>\n      <td>2019</td>\n      <td>40.123546</td>\n      <td>81.998877</td>\n      <td>89.999661</td>\n      <td>65.189814</td>\n      <td>93.314241</td>\n    </tr>\n    <tr>\n      <th>25</th>\n      <td>Albania</td>\n      <td>2020</td>\n      <td>38.628908</td>\n      <td>85.636201</td>\n      <td>91.190370</td>\n      <td>70.096349</td>\n      <td>84.303685</td>\n    </tr>\n    <tr>\n      <th>26</th>\n      <td>Albania</td>\n      <td>2021</td>\n      <td>37.101171</td>\n      <td>88.929358</td>\n      <td>92.635469</td>\n      <td>74.917959</td>\n      <td>75.539348</td>\n    </tr>\n    <tr>\n      <th>27</th>\n      <td>Albania</td>\n      <td>2022</td>\n      <td>35.826804</td>\n      <td>91.404014</td>\n      <td>93.980275</td>\n      <td>78.474117</td>\n      <td>68.267151</td>\n    </tr>\n    <tr>\n      <th>28</th>\n      <td>Albania</td>\n      <td>2023</td>\n      <td>34.958733</td>\n      <td>92.996276</td>\n      <td>95.082762</td>\n      <td>80.227457</td>\n      <td>62.876347</td>\n    </tr>\n    <tr>\n      <th>29</th>\n      <td>Albania</td>\n      <td>2024</td>\n      <td>34.529749</td>\n      <td>93.850922</td>\n      <td>95.971997</td>\n      <td>80.239818</td>\n      <td>59.267465</td>\n    </tr>\n    <tr>\n      <th>30</th>\n      <td>Albania</td>\n      <td>2025</td>\n      <td>34.483285</td>\n      <td>94.183600</td>\n      <td>96.735592</td>\n      <td>78.990692</td>\n      <td>57.112449</td>\n    </tr>\n    <tr>\n      <th>31</th>\n      <td>Albania</td>\n      <td>2026</td>\n      <td>34.710923</td>\n      <td>94.200966</td>\n      <td>97.440358</td>\n      <td>77.141706</td>\n      <td>56.020310</td>\n    </tr>\n    <tr>\n      <th>32</th>\n      <td>Albania</td>\n      <td>2027</td>\n      <td>35.087824</td>\n      <td>94.064327</td>\n      <td>98.110776</td>\n      <td>75.320904</td>\n      <td>55.629703</td>\n    </tr>\n    <tr>\n      <th>33</th>\n      <td>Algeria</td>\n      <td>1995</td>\n      <td>40.836434</td>\n      <td>98.636534</td>\n      <td>96.334651</td>\n      <td>72.620891</td>\n      <td>70.996796</td>\n    </tr>\n    <tr>\n      <th>34</th>\n      <td>Algeria</td>\n      <td>1996</td>\n      <td>40.836434</td>\n      <td>98.636534</td>\n      <td>96.334651</td>\n      <td>72.620891</td>\n      <td>70.996796</td>\n    </tr>\n  </tbody>\n</table>\n</div>"
     },
     "metadata": {},
     "execution_count": 35
    }
   ],
   "source": [
    "all_pred_2018.head(35)"
   ]
  },
  {
   "source": [
    "# Export xlsx and csv"
   ],
   "cell_type": "markdown",
   "metadata": {}
  },
  {
   "cell_type": "code",
   "execution_count": 34,
   "metadata": {},
   "outputs": [],
   "source": [
    "climate_pred.to_csv('climate_pred_2018.csv')"
   ]
  },
  {
   "cell_type": "code",
   "execution_count": 35,
   "metadata": {},
   "outputs": [],
   "source": [
    "all_pred_2018.to_csv('climate_all_pred_2018.csv')"
   ]
  },
  {
   "source": [
    "# `Survival Analysis` to predict which variable represents the biggest change concern"
   ],
   "cell_type": "markdown",
   "metadata": {}
  },
  {
   "cell_type": "code",
   "execution_count": null,
   "metadata": {},
   "outputs": [],
   "source": []
  }
 ]
}