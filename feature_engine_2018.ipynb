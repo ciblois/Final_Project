{
 "metadata": {
  "language_info": {
   "codemirror_mode": {
    "name": "ipython",
    "version": 3
   },
   "file_extension": ".py",
   "mimetype": "text/x-python",
   "name": "python",
   "nbconvert_exporter": "python",
   "pygments_lexer": "ipython3",
   "version": "3.8.5-final"
  },
  "orig_nbformat": 2,
  "kernelspec": {
   "name": "python38564bit4f57281242da47b0a84bc03a5fa692d9",
   "display_name": "Python 3.8.5 64-bit"
  }
 },
 "nbformat": 4,
 "nbformat_minor": 2,
 "cells": [
  {
   "cell_type": "code",
   "execution_count": 1,
   "metadata": {},
   "outputs": [],
   "source": [
    "import pandas as pd\n",
    "import numpy as np\n",
    "import seaborn as sns\n",
    "import matplotlib.pyplot as plt\n",
    "import re"
   ]
  },
  {
   "source": [
    "# Data Description\n",
    "\n",
    "* Population\n",
    "* GDP\n",
    "* DCT - $CO_{2}$ Emissions – Total - `CDI = CO2 Intensity Current-Year Score`\n",
    "* DPT - $CO_{2}$ emissions/kWh elect. & heat - `CEH = CO2 Emissions per kWh`\n",
    "* DMT - $CH_{4}$ emissions - `CHI = $CH_{4}$ Intensity Current-Year Score`\n",
    "* DNT - $N_{2}O$ emissions - `NOI = $N_{2}O$ Intensity Current-Year Score`\n",
    "* DBT - Black Carbon emissions - `BCI = Black Carbon Current-Year Score`"
   ],
   "cell_type": "markdown",
   "metadata": {}
  },
  {
   "cell_type": "code",
   "execution_count": 2,
   "metadata": {},
   "outputs": [],
   "source": [
    "climate = pd.read_csv('data_2020.csv')"
   ]
  },
  {
   "cell_type": "code",
   "execution_count": 3,
   "metadata": {},
   "outputs": [],
   "source": [
    "climate.drop(columns=['Unnamed: 0'],inplace=True)"
   ]
  },
  {
   "cell_type": "code",
   "execution_count": 4,
   "metadata": {},
   "outputs": [
    {
     "output_type": "execute_result",
     "data": {
      "text/plain": [
       "(3094, 7)"
      ]
     },
     "metadata": {},
     "execution_count": 4
    }
   ],
   "source": [
    "climate.shape"
   ]
  },
  {
   "cell_type": "code",
   "execution_count": 5,
   "metadata": {},
   "outputs": [
    {
     "output_type": "execute_result",
     "data": {
      "text/plain": [
       "               country  year         CDA         CHA         FGA         NDA  \\\n",
       "0              Albania  1995  100.000000   73.072520    0.000000   78.221486   \n",
       "1              Algeria  1995   40.836434   98.636534   96.334651   72.620891   \n",
       "2               Angola  1995   12.888007   70.729875    0.000000  100.000000   \n",
       "3  Antigua and Barbuda  1995   44.483927   80.575637    0.000000   36.690524   \n",
       "4            Argentina  1995   40.485271  100.000000  100.000000   63.435774   \n",
       "5              Armenia  1995   72.726561   89.833401    0.000000   97.707838   \n",
       "6            Australia  1995   42.566037   99.666890  100.000000   76.458848   \n",
       "7              Austria  1995   50.903881  100.000000   92.800663   93.225015   \n",
       "8           Azerbaijan  1995   60.416530   86.983408  100.000000   74.176342   \n",
       "9              Bahrain  1995   25.727473   33.991729  100.000000   43.459231   \n",
       "\n",
       "          BCA  \n",
       "0  100.000000  \n",
       "1   70.996796  \n",
       "2   43.865361  \n",
       "3   68.683208  \n",
       "4   45.942816  \n",
       "5  100.000000  \n",
       "6   82.549405  \n",
       "7  100.000000  \n",
       "8   88.589201  \n",
       "9   42.950239  "
      ],
      "text/html": "<div>\n<style scoped>\n    .dataframe tbody tr th:only-of-type {\n        vertical-align: middle;\n    }\n\n    .dataframe tbody tr th {\n        vertical-align: top;\n    }\n\n    .dataframe thead th {\n        text-align: right;\n    }\n</style>\n<table border=\"1\" class=\"dataframe\">\n  <thead>\n    <tr style=\"text-align: right;\">\n      <th></th>\n      <th>country</th>\n      <th>year</th>\n      <th>CDA</th>\n      <th>CHA</th>\n      <th>FGA</th>\n      <th>NDA</th>\n      <th>BCA</th>\n    </tr>\n  </thead>\n  <tbody>\n    <tr>\n      <th>0</th>\n      <td>Albania</td>\n      <td>1995</td>\n      <td>100.000000</td>\n      <td>73.072520</td>\n      <td>0.000000</td>\n      <td>78.221486</td>\n      <td>100.000000</td>\n    </tr>\n    <tr>\n      <th>1</th>\n      <td>Algeria</td>\n      <td>1995</td>\n      <td>40.836434</td>\n      <td>98.636534</td>\n      <td>96.334651</td>\n      <td>72.620891</td>\n      <td>70.996796</td>\n    </tr>\n    <tr>\n      <th>2</th>\n      <td>Angola</td>\n      <td>1995</td>\n      <td>12.888007</td>\n      <td>70.729875</td>\n      <td>0.000000</td>\n      <td>100.000000</td>\n      <td>43.865361</td>\n    </tr>\n    <tr>\n      <th>3</th>\n      <td>Antigua and Barbuda</td>\n      <td>1995</td>\n      <td>44.483927</td>\n      <td>80.575637</td>\n      <td>0.000000</td>\n      <td>36.690524</td>\n      <td>68.683208</td>\n    </tr>\n    <tr>\n      <th>4</th>\n      <td>Argentina</td>\n      <td>1995</td>\n      <td>40.485271</td>\n      <td>100.000000</td>\n      <td>100.000000</td>\n      <td>63.435774</td>\n      <td>45.942816</td>\n    </tr>\n    <tr>\n      <th>5</th>\n      <td>Armenia</td>\n      <td>1995</td>\n      <td>72.726561</td>\n      <td>89.833401</td>\n      <td>0.000000</td>\n      <td>97.707838</td>\n      <td>100.000000</td>\n    </tr>\n    <tr>\n      <th>6</th>\n      <td>Australia</td>\n      <td>1995</td>\n      <td>42.566037</td>\n      <td>99.666890</td>\n      <td>100.000000</td>\n      <td>76.458848</td>\n      <td>82.549405</td>\n    </tr>\n    <tr>\n      <th>7</th>\n      <td>Austria</td>\n      <td>1995</td>\n      <td>50.903881</td>\n      <td>100.000000</td>\n      <td>92.800663</td>\n      <td>93.225015</td>\n      <td>100.000000</td>\n    </tr>\n    <tr>\n      <th>8</th>\n      <td>Azerbaijan</td>\n      <td>1995</td>\n      <td>60.416530</td>\n      <td>86.983408</td>\n      <td>100.000000</td>\n      <td>74.176342</td>\n      <td>88.589201</td>\n    </tr>\n    <tr>\n      <th>9</th>\n      <td>Bahrain</td>\n      <td>1995</td>\n      <td>25.727473</td>\n      <td>33.991729</td>\n      <td>100.000000</td>\n      <td>43.459231</td>\n      <td>42.950239</td>\n    </tr>\n  </tbody>\n</table>\n</div>"
     },
     "metadata": {},
     "execution_count": 5
    }
   ],
   "source": [
    "climate.head(10)"
   ]
  },
  {
   "cell_type": "code",
   "execution_count": 6,
   "metadata": {},
   "outputs": [],
   "source": [
    "climate = climate[climate['year']!=2020]\n",
    "climate = climate[climate['year']!=2019]"
   ]
  },
  {
   "cell_type": "code",
   "execution_count": 7,
   "metadata": {},
   "outputs": [
    {
     "output_type": "execute_result",
     "data": {
      "text/plain": [
       "array([1995, 1996, 1997, 1998, 1999, 2000, 2001, 2002, 2003, 2004, 2005,\n",
       "       2006, 2007, 2008, 2009, 2010, 2011, 2012, 2013, 2014, 2015, 2016,\n",
       "       2017, 2018], dtype=int64)"
      ]
     },
     "metadata": {},
     "execution_count": 7
    }
   ],
   "source": [
    "climate['year'].unique()"
   ]
  },
  {
   "source": [
    "# `Time Series` for 2021-2027 per country"
   ],
   "cell_type": "markdown",
   "metadata": {}
  },
  {
   "cell_type": "code",
   "execution_count": 8,
   "metadata": {},
   "outputs": [],
   "source": [
    "from statsmodels.tsa.ar_model import AR\n",
    "import datetime"
   ]
  },
  {
   "cell_type": "code",
   "execution_count": 9,
   "metadata": {},
   "outputs": [
    {
     "output_type": "execute_result",
     "data": {
      "text/plain": [
       "119"
      ]
     },
     "metadata": {},
     "execution_count": 9
    }
   ],
   "source": [
    "countries = list(climate['country'].unique())\n",
    "len(countries)"
   ]
  },
  {
   "cell_type": "code",
   "execution_count": 10,
   "metadata": {},
   "outputs": [
    {
     "output_type": "execute_result",
     "data": {
      "text/plain": [
       "country    0\n",
       "year       0\n",
       "CDA        0\n",
       "CHA        0\n",
       "FGA        0\n",
       "NDA        0\n",
       "BCA        0\n",
       "dtype: int64"
      ]
     },
     "metadata": {},
     "execution_count": 10
    }
   ],
   "source": [
    "climate.isna().sum() # checking missing values"
   ]
  },
  {
   "cell_type": "code",
   "execution_count": 18,
   "metadata": {},
   "outputs": [],
   "source": [
    "cda = []\n",
    "cha = []\n",
    "fga = []\n",
    "nda = []\n",
    "bca = []"
   ]
  },
  {
   "cell_type": "code",
   "execution_count": 19,
   "metadata": {},
   "outputs": [],
   "source": [
    "# CDA time series\n",
    "\n",
    "for country in countries:\n",
    "    df = climate[climate['country']==str(country)].reset_index()\n",
    "    #df.index = pd.to_datetime(df['year'],format='%Y')#.dt.year\n",
    "    features1 = df['CDA']\n",
    "    model1 = AR(features1)\n",
    "    model1_fit = model1.fit(maxlag=3)\n",
    "    d_f1 = model1_fit.predict(start=len(features1), end=len(features1)+8, dynamic=False)\n",
    "    cda += d_f1.to_list()\n",
    "\n",
    "    #print('Country {0} completed'.format(country))"
   ]
  },
  {
   "cell_type": "code",
   "execution_count": 20,
   "metadata": {},
   "outputs": [],
   "source": [
    "# CHA time series\n",
    "\n",
    "for country in countries:\n",
    "    df = climate[climate['country']==str(country)].reset_index()\n",
    "    #df.index = pd.to_datetime(df['year'],format='%Y')#.dt.year\n",
    "    features = df['CHA']\n",
    "    if len((climate[climate['country']==str(country)]['CHA']).unique()) <=3:\n",
    "        cha_ = features[:9].tolist()\n",
    "        cha+=cha_\n",
    "    else:\n",
    "        model = AR(features)\n",
    "        model_fit = model.fit(maxlag=3)\n",
    "        d_f = model_fit.predict(start=len(features), end=len(features)+8, dynamic=False)\n",
    "        cha+=d_f.to_list()\n",
    "    #print('Country {0} completed'.format(country)) # problems with values repetition"
   ]
  },
  {
   "cell_type": "code",
   "execution_count": 21,
   "metadata": {},
   "outputs": [],
   "source": [
    "# FGA time series\n",
    "\n",
    "for country in countries:\n",
    "    df = climate[climate['country']==str(country)].reset_index()\n",
    "    #df.index = pd.to_datetime(df['year'],format='%Y')#.dt.year\n",
    "    features = df['FGA']\n",
    "    if len((climate[climate['country']==str(country)]['FGA']).unique()) <=3:\n",
    "        fga_ = features[:9].tolist()\n",
    "        fga+=fga_\n",
    "    else:\n",
    "        model = AR(features)\n",
    "        model_fit = model.fit(maxlag=3)\n",
    "        d_f = model_fit.predict(start=len(features), end=len(features)+8, dynamic=False)\n",
    "        fga+=d_f.to_list()\n",
    "    #print('Country {0} completed'.format(country))"
   ]
  },
  {
   "cell_type": "code",
   "execution_count": 22,
   "metadata": {},
   "outputs": [],
   "source": [
    "# NDA time series\n",
    "\n",
    "for country in countries:\n",
    "    df = climate[climate['country']==str(country)].reset_index()\n",
    "    #df.index = pd.to_datetime(df['year'],format='%Y')#.dt.year\n",
    "    features = df['NDA']\n",
    "    if len((climate[climate['country']==str(country)]['NDA']).unique()) <=3:\n",
    "        nda_ = features[:9].tolist()\n",
    "        nda+=nda_\n",
    "    else:\n",
    "        model = AR(features)\n",
    "        model_fit = model.fit(maxlag=3)\n",
    "        d_f = model_fit.predict(start=len(features), end=len(features)+8, dynamic=False)\n",
    "        nda+=d_f.to_list()\n",
    "    #print('Country {0} completed'.format(country))"
   ]
  },
  {
   "cell_type": "code",
   "execution_count": 23,
   "metadata": {},
   "outputs": [],
   "source": [
    "# BCA time series\n",
    "\n",
    "for country in countries:\n",
    "    df = climate[climate['country']==str(country)].reset_index()\n",
    "    #df.index = pd.to_datetime(df['year'],format='%Y')#.dt.year\n",
    "    features = df['BCA']\n",
    "    if len((climate[climate['country']==str(country)]['BCA']).unique()) <=3:\n",
    "        bca_ = features[:9].tolist()\n",
    "        bca+=bca_\n",
    "    else:\n",
    "        model = AR(features)\n",
    "        model_fit = model.fit(maxlag=3)\n",
    "        d_f = model_fit.predict(start=len(features), end=len(features)+8, dynamic=False)\n",
    "        bca+=d_f.to_list()\n",
    "    #print('Country {0} completed'.format(country))"
   ]
  },
  {
   "source": [
    "## We have to generate total 1071 predictions"
   ],
   "cell_type": "markdown",
   "metadata": {}
  },
  {
   "cell_type": "code",
   "execution_count": 24,
   "metadata": {},
   "outputs": [
    {
     "output_type": "stream",
     "name": "stdout",
     "text": [
      "The CDA columns has 1071 predictions\nThe CHA columns has 1071 predictions\nThe FGA columns has 1071 predictions\nThe NDA columns has 1071 predictions\nThe BCA columns has 1071 predictions\n"
     ]
    }
   ],
   "source": [
    "print('The CDA columns has {0} predictions'.format(len(cda)))\n",
    "print('The CHA columns has {0} predictions'.format(len(cha)))\n",
    "print('The FGA columns has {0} predictions'.format(len(fga)))\n",
    "print('The NDA columns has {0} predictions'.format(len(nda)))\n",
    "print('The BCA columns has {0} predictions'.format(len(bca)))"
   ]
  },
  {
   "cell_type": "code",
   "execution_count": 25,
   "metadata": {},
   "outputs": [],
   "source": [
    "df_cda = pd.DataFrame({'CDA':cda})\n",
    "df_cha = pd.DataFrame({'CHA':cha})\n",
    "df_fga = pd.DataFrame({'FGA':fga})\n",
    "df_nda = pd.DataFrame({'NDA':fga})\n",
    "df_bca = pd.DataFrame({'BCA':bca})"
   ]
  },
  {
   "cell_type": "code",
   "execution_count": 26,
   "metadata": {},
   "outputs": [
    {
     "output_type": "stream",
     "name": "stdout",
     "text": [
      "The CDA columns has 1071 predictions\nThe CHA columns has 1071 predictions\nThe FGA columns has 1071 predictions\nThe NDA columns has 1071 predictions\nThe BCA columns has 1071 predictions\n"
     ]
    }
   ],
   "source": [
    "print('The CDA columns has {0} predictions'.format(df_cda.shape[0]))\n",
    "print('The CHA columns has {0} predictions'.format(df_cha.shape[0]))\n",
    "print('The FGA columns has {0} predictions'.format(df_fga.shape[0]))\n",
    "print('The NDA columns has {0} predictions'.format(df_nda.shape[0]))\n",
    "print('The BCA columns has {0} predictions'.format(df_bca.shape[0]))"
   ]
  },
  {
   "cell_type": "code",
   "execution_count": 27,
   "metadata": {},
   "outputs": [
    {
     "output_type": "execute_result",
     "data": {
      "text/plain": [
       "(1071, 1)"
      ]
     },
     "metadata": {},
     "execution_count": 27
    }
   ],
   "source": [
    "years = [num for num in range(2019,2028)]\n",
    "year = pd.DataFrame({'year':years*119})\n",
    "year.shape"
   ]
  },
  {
   "cell_type": "code",
   "execution_count": 28,
   "metadata": {},
   "outputs": [],
   "source": [
    "countries_total = []\n",
    "for i in countries:\n",
    "    for j in range(0,9):\n",
    "        countries_total.append(i)"
   ]
  },
  {
   "cell_type": "code",
   "execution_count": 29,
   "metadata": {},
   "outputs": [
    {
     "output_type": "execute_result",
     "data": {
      "text/plain": [
       "1071"
      ]
     },
     "metadata": {},
     "execution_count": 29
    }
   ],
   "source": [
    "len(countries_total)"
   ]
  },
  {
   "cell_type": "code",
   "execution_count": 30,
   "metadata": {},
   "outputs": [],
   "source": [
    "data = pd.DataFrame(countries_total,columns=['country'])\n",
    "climate_pred = data.join(year)"
   ]
  },
  {
   "cell_type": "code",
   "execution_count": 31,
   "metadata": {},
   "outputs": [],
   "source": [
    "climate_pred = climate_pred.join(df_cda)\n",
    "climate_pred = climate_pred.join(df_cha)\n",
    "climate_pred = climate_pred.join(df_fga)\n",
    "climate_pred = climate_pred.join(df_nda)\n",
    "climate_pred = climate_pred.join(df_bca)"
   ]
  },
  {
   "cell_type": "code",
   "execution_count": 32,
   "metadata": {},
   "outputs": [
    {
     "output_type": "execute_result",
     "data": {
      "text/plain": [
       "(1071, 7)"
      ]
     },
     "metadata": {},
     "execution_count": 32
    }
   ],
   "source": [
    "climate_pred.shape"
   ]
  },
  {
   "source": [
    "# Export xlsx and csv"
   ],
   "cell_type": "markdown",
   "metadata": {}
  },
  {
   "cell_type": "code",
   "execution_count": 33,
   "metadata": {},
   "outputs": [],
   "source": [
    "climate_pred.to_csv('climate_pred_2018.csv')\n",
    "climate_pred.to_excel('climate_pred_2018.xlsx')"
   ]
  },
  {
   "source": [
    "# `Survival Analysis` to predict which variable represents the biggest change concern"
   ],
   "cell_type": "markdown",
   "metadata": {}
  },
  {
   "cell_type": "code",
   "execution_count": null,
   "metadata": {},
   "outputs": [],
   "source": []
  }
 ]
}