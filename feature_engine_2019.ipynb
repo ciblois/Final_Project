{
 "metadata": {
  "language_info": {
   "codemirror_mode": {
    "name": "ipython",
    "version": 3
   },
   "file_extension": ".py",
   "mimetype": "text/x-python",
   "name": "python",
   "nbconvert_exporter": "python",
   "pygments_lexer": "ipython3",
   "version": "3.8.5-final"
  },
  "orig_nbformat": 2,
  "kernelspec": {
   "name": "python38564bit4f57281242da47b0a84bc03a5fa692d9",
   "display_name": "Python 3.8.5 64-bit"
  }
 },
 "nbformat": 4,
 "nbformat_minor": 2,
 "cells": [
  {
   "cell_type": "code",
   "execution_count": 91,
   "metadata": {},
   "outputs": [],
   "source": [
    "import pandas as pd\n",
    "import numpy as np\n",
    "import seaborn as sns\n",
    "import matplotlib.pyplot as plt\n",
    "import re"
   ]
  },
  {
   "source": [
    "# Data Description\n",
    "\n",
    "* Population\n",
    "* GDP\n",
    "* DCT - $CO_{2}$ Emissions – Total - `CDI = CO2 Intensity Current-Year Score`\n",
    "* DPT - $CO_{2}$ emissions/kWh elect. & heat - `CEH = CO2 Emissions per kWh`\n",
    "* DMT - $CH_{4}$ emissions - `CHI = $CH_{4}$ Intensity Current-Year Score`\n",
    "* DNT - $N_{2}O$ emissions - `NOI = $N_{2}O$ Intensity Current-Year Score`\n",
    "* DBT - Black Carbon emissions - `BCI = Black Carbon Current-Year Score`"
   ],
   "cell_type": "markdown",
   "metadata": {}
  },
  {
   "cell_type": "code",
   "execution_count": 92,
   "metadata": {},
   "outputs": [],
   "source": [
    "climate = pd.read_csv('data_2020.csv')"
   ]
  },
  {
   "cell_type": "code",
   "execution_count": 93,
   "metadata": {},
   "outputs": [],
   "source": [
    "climate.drop(columns=['Unnamed: 0'],inplace=True)"
   ]
  },
  {
   "cell_type": "code",
   "execution_count": 94,
   "metadata": {},
   "outputs": [
    {
     "output_type": "execute_result",
     "data": {
      "text/plain": [
       "(3094, 7)"
      ]
     },
     "metadata": {},
     "execution_count": 94
    }
   ],
   "source": [
    "climate.shape"
   ]
  },
  {
   "cell_type": "code",
   "execution_count": 95,
   "metadata": {},
   "outputs": [
    {
     "output_type": "execute_result",
     "data": {
      "text/plain": [
       "               country  year         CDA         CHA         FGA         NDA  \\\n",
       "0              Albania  1995  100.000000   73.072520    0.000000   78.221486   \n",
       "1              Algeria  1995   40.836434   98.636534   96.334651   72.620891   \n",
       "2               Angola  1995   12.888007   70.729875    0.000000  100.000000   \n",
       "3  Antigua and Barbuda  1995   44.483927   80.575637    0.000000   36.690524   \n",
       "4            Argentina  1995   40.485271  100.000000  100.000000   63.435774   \n",
       "5              Armenia  1995   72.726561   89.833401    0.000000   97.707838   \n",
       "6            Australia  1995   42.566037   99.666890  100.000000   76.458848   \n",
       "7              Austria  1995   50.903881  100.000000   92.800663   93.225015   \n",
       "8           Azerbaijan  1995   60.416530   86.983408  100.000000   74.176342   \n",
       "9              Bahrain  1995   25.727473   33.991729  100.000000   43.459231   \n",
       "\n",
       "          BCA  \n",
       "0  100.000000  \n",
       "1   70.996796  \n",
       "2   43.865361  \n",
       "3   68.683208  \n",
       "4   45.942816  \n",
       "5  100.000000  \n",
       "6   82.549405  \n",
       "7  100.000000  \n",
       "8   88.589201  \n",
       "9   42.950239  "
      ],
      "text/html": "<div>\n<style scoped>\n    .dataframe tbody tr th:only-of-type {\n        vertical-align: middle;\n    }\n\n    .dataframe tbody tr th {\n        vertical-align: top;\n    }\n\n    .dataframe thead th {\n        text-align: right;\n    }\n</style>\n<table border=\"1\" class=\"dataframe\">\n  <thead>\n    <tr style=\"text-align: right;\">\n      <th></th>\n      <th>country</th>\n      <th>year</th>\n      <th>CDA</th>\n      <th>CHA</th>\n      <th>FGA</th>\n      <th>NDA</th>\n      <th>BCA</th>\n    </tr>\n  </thead>\n  <tbody>\n    <tr>\n      <th>0</th>\n      <td>Albania</td>\n      <td>1995</td>\n      <td>100.000000</td>\n      <td>73.072520</td>\n      <td>0.000000</td>\n      <td>78.221486</td>\n      <td>100.000000</td>\n    </tr>\n    <tr>\n      <th>1</th>\n      <td>Algeria</td>\n      <td>1995</td>\n      <td>40.836434</td>\n      <td>98.636534</td>\n      <td>96.334651</td>\n      <td>72.620891</td>\n      <td>70.996796</td>\n    </tr>\n    <tr>\n      <th>2</th>\n      <td>Angola</td>\n      <td>1995</td>\n      <td>12.888007</td>\n      <td>70.729875</td>\n      <td>0.000000</td>\n      <td>100.000000</td>\n      <td>43.865361</td>\n    </tr>\n    <tr>\n      <th>3</th>\n      <td>Antigua and Barbuda</td>\n      <td>1995</td>\n      <td>44.483927</td>\n      <td>80.575637</td>\n      <td>0.000000</td>\n      <td>36.690524</td>\n      <td>68.683208</td>\n    </tr>\n    <tr>\n      <th>4</th>\n      <td>Argentina</td>\n      <td>1995</td>\n      <td>40.485271</td>\n      <td>100.000000</td>\n      <td>100.000000</td>\n      <td>63.435774</td>\n      <td>45.942816</td>\n    </tr>\n    <tr>\n      <th>5</th>\n      <td>Armenia</td>\n      <td>1995</td>\n      <td>72.726561</td>\n      <td>89.833401</td>\n      <td>0.000000</td>\n      <td>97.707838</td>\n      <td>100.000000</td>\n    </tr>\n    <tr>\n      <th>6</th>\n      <td>Australia</td>\n      <td>1995</td>\n      <td>42.566037</td>\n      <td>99.666890</td>\n      <td>100.000000</td>\n      <td>76.458848</td>\n      <td>82.549405</td>\n    </tr>\n    <tr>\n      <th>7</th>\n      <td>Austria</td>\n      <td>1995</td>\n      <td>50.903881</td>\n      <td>100.000000</td>\n      <td>92.800663</td>\n      <td>93.225015</td>\n      <td>100.000000</td>\n    </tr>\n    <tr>\n      <th>8</th>\n      <td>Azerbaijan</td>\n      <td>1995</td>\n      <td>60.416530</td>\n      <td>86.983408</td>\n      <td>100.000000</td>\n      <td>74.176342</td>\n      <td>88.589201</td>\n    </tr>\n    <tr>\n      <th>9</th>\n      <td>Bahrain</td>\n      <td>1995</td>\n      <td>25.727473</td>\n      <td>33.991729</td>\n      <td>100.000000</td>\n      <td>43.459231</td>\n      <td>42.950239</td>\n    </tr>\n  </tbody>\n</table>\n</div>"
     },
     "metadata": {},
     "execution_count": 95
    }
   ],
   "source": [
    "climate.head(10)"
   ]
  },
  {
   "cell_type": "code",
   "execution_count": 96,
   "metadata": {},
   "outputs": [],
   "source": [
    "climate = climate[climate['year']!=2020]"
   ]
  },
  {
   "cell_type": "code",
   "execution_count": 97,
   "metadata": {},
   "outputs": [
    {
     "output_type": "execute_result",
     "data": {
      "text/plain": [
       "array([1995, 1996, 1997, 1998, 1999, 2000, 2001, 2002, 2003, 2004, 2005,\n",
       "       2006, 2007, 2008, 2009, 2010, 2011, 2012, 2013, 2014, 2015, 2016,\n",
       "       2017, 2018, 2019], dtype=int64)"
      ]
     },
     "metadata": {},
     "execution_count": 97
    }
   ],
   "source": [
    "climate['year'].unique()"
   ]
  },
  {
   "source": [
    "# `Time Series` for 2021-2027 per country"
   ],
   "cell_type": "markdown",
   "metadata": {}
  },
  {
   "cell_type": "code",
   "execution_count": 98,
   "metadata": {},
   "outputs": [],
   "source": [
    "from statsmodels.tsa.arima_model import ARIMA\n",
    "from statsmodels.tsa.ar_model import AR\n",
    "import datetime"
   ]
  },
  {
   "cell_type": "code",
   "execution_count": 99,
   "metadata": {},
   "outputs": [
    {
     "output_type": "execute_result",
     "data": {
      "text/plain": [
       "119"
      ]
     },
     "metadata": {},
     "execution_count": 99
    }
   ],
   "source": [
    "countries = list(climate['country'].unique())\n",
    "len(countries)"
   ]
  },
  {
   "cell_type": "code",
   "execution_count": 100,
   "metadata": {},
   "outputs": [
    {
     "output_type": "execute_result",
     "data": {
      "text/plain": [
       "country    0\n",
       "year       0\n",
       "CDA        0\n",
       "CHA        0\n",
       "FGA        0\n",
       "NDA        0\n",
       "BCA        0\n",
       "dtype: int64"
      ]
     },
     "metadata": {},
     "execution_count": 100
    }
   ],
   "source": [
    "climate.isna().sum() # checking missing values"
   ]
  },
  {
   "cell_type": "code",
   "execution_count": 141,
   "metadata": {},
   "outputs": [],
   "source": [
    "cda = []\n",
    "cha = []\n",
    "fga = []\n",
    "nda = []\n",
    "bca = []"
   ]
  },
  {
   "cell_type": "code",
   "execution_count": 142,
   "metadata": {},
   "outputs": [],
   "source": [
    "# CDA time series\n",
    "\n",
    "for country in countries:\n",
    "    df = climate[climate['country']==str(country)].reset_index()\n",
    "    #df.index = pd.to_datetime(df['year'],format='%Y')#.dt.year\n",
    "    features = df['CDA']\n",
    "    model = ARIMA(features1, order=(3,1,0))\n",
    "    model_fit = model.fit(disp=0)\n",
    "    model = AR(features)\n",
    "    model_fit = model.fit(maxlag=3)\n",
    "    d_f1 = model_fit.predict(start=len(features1), end=len(features1)+7, dynamic=False)\n",
    "    cda += d_f1.to_list()\n",
    "\n",
    "    #print('Country {0} completed'.format(country))"
   ]
  },
  {
   "cell_type": "code",
   "execution_count": 143,
   "metadata": {},
   "outputs": [],
   "source": [
    "# CHA time series\n",
    "\n",
    "for country in countries:\n",
    "    df = climate[climate['country']==str(country)].reset_index()\n",
    "    #df.index = pd.to_datetime(df['year'],format='%Y')#.dt.year\n",
    "    features = df['CHA']\n",
    "    if len((climate[climate['country']==str(country)]['CHA']).unique()) <=3:\n",
    "        cha_ = features[:8].tolist()\n",
    "        cha+=cha_\n",
    "    else:\n",
    "        model = AR(features)\n",
    "        model_fit = model.fit(maxlag=3)\n",
    "        d_f = model_fit.predict(start=len(features), end=len(features)+7, dynamic=False)\n",
    "        cha+=d_f.to_list()\n",
    "    #print('Country {0} completed'.format(country)) # problems with values repetition"
   ]
  },
  {
   "cell_type": "code",
   "execution_count": 144,
   "metadata": {},
   "outputs": [],
   "source": [
    "# FGA time series\n",
    "\n",
    "for country in countries:\n",
    "    df = climate[climate['country']==str(country)].reset_index()\n",
    "    #df.index = pd.to_datetime(df['year'],format='%Y')#.dt.year\n",
    "    features = df['FGA']\n",
    "    if len((climate[climate['country']==str(country)]['FGA']).unique()) <=3:\n",
    "        fga_ = features[:8].tolist()\n",
    "        fga+=fga_\n",
    "    else:\n",
    "        model = AR(features)\n",
    "        model_fit = model.fit(maxlag=3)\n",
    "        d_f = model_fit.predict(start=len(features), end=len(features)+7, dynamic=False)\n",
    "        fga+=d_f.to_list()\n",
    "    #print('Country {0} completed'.format(country))"
   ]
  },
  {
   "cell_type": "code",
   "execution_count": 145,
   "metadata": {},
   "outputs": [],
   "source": [
    "# NDA time series\n",
    "\n",
    "for country in countries:\n",
    "    df = climate[climate['country']==str(country)].reset_index()\n",
    "    #df.index = pd.to_datetime(df['year'],format='%Y')#.dt.year\n",
    "    features = df['NDA']\n",
    "    #if len((climate[climate['country']==str(country)]['NDA']).unique()) <=3:\n",
    "        #nda_ = features[:8].tolist()\n",
    "        #nda+=fga_\n",
    "    #else:\n",
    "    model = AR(features)\n",
    "    model_fit = model.fit(maxlag=3)\n",
    "    d_f = model_fit.predict(start=len(features), end=len(features)+7, dynamic=False)\n",
    "    nda+=d_f.to_list()\n",
    "    #print('Country {0} completed'.format(country))"
   ]
  },
  {
   "cell_type": "code",
   "execution_count": 146,
   "metadata": {},
   "outputs": [],
   "source": [
    "# BCA time series\n",
    "\n",
    "for country in countries:\n",
    "    df = climate[climate['country']==str(country)].reset_index()\n",
    "    #df.index = pd.to_datetime(df['year'],format='%Y')#.dt.year\n",
    "    features = df['BCA']\n",
    "    if len((climate[climate['country']==str(country)]['BCA']).unique()) <=3:\n",
    "        bca_ = features[:8].tolist()\n",
    "        bca+=bca_\n",
    "    else:\n",
    "        model = AR(features)\n",
    "        model_fit = model.fit(maxlag=3)\n",
    "        d_f = model_fit.predict(start=len(features), end=len(features)+7, dynamic=False)\n",
    "        bca+=d_f.to_list()\n",
    "    #print('Country {0} completed'.format(country))"
   ]
  },
  {
   "source": [
    "## We have to generate total 952 predictions"
   ],
   "cell_type": "markdown",
   "metadata": {}
  },
  {
   "cell_type": "code",
   "execution_count": 147,
   "metadata": {},
   "outputs": [
    {
     "output_type": "stream",
     "name": "stdout",
     "text": [
      "The CDA columns has 952 predictions\nThe CHA columns has 952 predictions\nThe FGA columns has 952 predictions\nThe NDA columns has 952 predictions\nThe BCA columns has 952 predictions\n"
     ]
    }
   ],
   "source": [
    "print('The CDA columns has {0} predictions'.format(len(cda)))\n",
    "print('The CHA columns has {0} predictions'.format(len(cha)))\n",
    "print('The FGA columns has {0} predictions'.format(len(fga)))\n",
    "print('The NDA columns has {0} predictions'.format(len(nda)))\n",
    "print('The BCA columns has {0} predictions'.format(len(bca)))"
   ]
  },
  {
   "cell_type": "code",
   "execution_count": 148,
   "metadata": {},
   "outputs": [],
   "source": [
    "df_cda = pd.DataFrame({'CDA':cda})\n",
    "df_cha = pd.DataFrame({'CHA':cha})\n",
    "df_fga = pd.DataFrame({'FGA':fga})\n",
    "df_nda = pd.DataFrame({'NDA':nda})\n",
    "df_bca = pd.DataFrame({'BCA':bca})"
   ]
  },
  {
   "cell_type": "code",
   "execution_count": 149,
   "metadata": {},
   "outputs": [
    {
     "output_type": "stream",
     "name": "stdout",
     "text": [
      "The CDA columns has 952 predictions\nThe CHA columns has 952 predictions\nThe FGA columns has 952 predictions\nThe NDA columns has 952 predictions\nThe BCA columns has 952 predictions\n"
     ]
    }
   ],
   "source": [
    "print('The CDA columns has {0} predictions'.format(df_cda.shape[0]))\n",
    "print('The CHA columns has {0} predictions'.format(df_cha.shape[0]))\n",
    "print('The FGA columns has {0} predictions'.format(df_fga.shape[0]))\n",
    "print('The NDA columns has {0} predictions'.format(df_nda.shape[0]))\n",
    "print('The BCA columns has {0} predictions'.format(df_bca.shape[0]))"
   ]
  },
  {
   "cell_type": "code",
   "execution_count": 150,
   "metadata": {},
   "outputs": [
    {
     "output_type": "execute_result",
     "data": {
      "text/plain": [
       "(952, 1)"
      ]
     },
     "metadata": {},
     "execution_count": 150
    }
   ],
   "source": [
    "years = [num for num in range(2020,2028)]\n",
    "year = pd.DataFrame({'year':years*119})\n",
    "year.shape"
   ]
  },
  {
   "cell_type": "code",
   "execution_count": 151,
   "metadata": {},
   "outputs": [],
   "source": [
    "countries_total = []\n",
    "for i in countries:\n",
    "    for j in range(0,8):\n",
    "        countries_total.append(i)"
   ]
  },
  {
   "cell_type": "code",
   "execution_count": 152,
   "metadata": {},
   "outputs": [
    {
     "output_type": "execute_result",
     "data": {
      "text/plain": [
       "952"
      ]
     },
     "metadata": {},
     "execution_count": 152
    }
   ],
   "source": [
    "len(countries_total)"
   ]
  },
  {
   "cell_type": "code",
   "execution_count": 153,
   "metadata": {},
   "outputs": [],
   "source": [
    "data = pd.DataFrame(countries_total,columns=['country'])\n",
    "climate_pred = data.join(year)"
   ]
  },
  {
   "cell_type": "code",
   "execution_count": 154,
   "metadata": {},
   "outputs": [],
   "source": [
    "climate_pred = climate_pred.join(df_cda)\n",
    "climate_pred = climate_pred.join(df_cha)\n",
    "climate_pred = climate_pred.join(df_fga)\n",
    "climate_pred = climate_pred.join(df_nda)\n",
    "climate_pred = climate_pred.join(df_bca)"
   ]
  },
  {
   "cell_type": "code",
   "execution_count": 155,
   "metadata": {},
   "outputs": [
    {
     "output_type": "execute_result",
     "data": {
      "text/plain": [
       "(952, 7)"
      ]
     },
     "metadata": {},
     "execution_count": 155
    }
   ],
   "source": [
    "climate_pred.shape"
   ]
  },
  {
   "cell_type": "code",
   "execution_count": 156,
   "metadata": {},
   "outputs": [
    {
     "output_type": "execute_result",
     "data": {
      "text/plain": [
       "              year         CDA         CHA         FGA           NDA  \\\n",
       "count   952.000000  952.000000  952.000000  952.000000  9.520000e+02   \n",
       "mean   2023.500000   46.395024   70.006197   89.913426 -8.689371e+05   \n",
       "std       2.292492   20.136789   24.309251    7.384151  1.749665e+07   \n",
       "min    2020.000000  -71.101826    0.408033   52.691352 -4.678339e+08   \n",
       "25%    2021.750000   34.701094   54.000772   87.715299  4.350532e+01   \n",
       "50%    2023.500000   47.377325   74.051693   90.851267  6.153819e+01   \n",
       "75%    2025.250000   60.106498   91.670508   94.110473  7.659303e+01   \n",
       "max    2027.000000   99.865077  108.513217  102.515922  9.998047e+01   \n",
       "\n",
       "              BCA  \n",
       "count  952.000000  \n",
       "mean    57.320049  \n",
       "std     28.120888  \n",
       "min     -1.940207  \n",
       "25%     37.260919  \n",
       "50%     56.165949  \n",
       "75%     80.385092  \n",
       "max    107.459585  "
      ],
      "text/html": "<div>\n<style scoped>\n    .dataframe tbody tr th:only-of-type {\n        vertical-align: middle;\n    }\n\n    .dataframe tbody tr th {\n        vertical-align: top;\n    }\n\n    .dataframe thead th {\n        text-align: right;\n    }\n</style>\n<table border=\"1\" class=\"dataframe\">\n  <thead>\n    <tr style=\"text-align: right;\">\n      <th></th>\n      <th>year</th>\n      <th>CDA</th>\n      <th>CHA</th>\n      <th>FGA</th>\n      <th>NDA</th>\n      <th>BCA</th>\n    </tr>\n  </thead>\n  <tbody>\n    <tr>\n      <th>count</th>\n      <td>952.000000</td>\n      <td>952.000000</td>\n      <td>952.000000</td>\n      <td>952.000000</td>\n      <td>9.520000e+02</td>\n      <td>952.000000</td>\n    </tr>\n    <tr>\n      <th>mean</th>\n      <td>2023.500000</td>\n      <td>46.395024</td>\n      <td>70.006197</td>\n      <td>89.913426</td>\n      <td>-8.689371e+05</td>\n      <td>57.320049</td>\n    </tr>\n    <tr>\n      <th>std</th>\n      <td>2.292492</td>\n      <td>20.136789</td>\n      <td>24.309251</td>\n      <td>7.384151</td>\n      <td>1.749665e+07</td>\n      <td>28.120888</td>\n    </tr>\n    <tr>\n      <th>min</th>\n      <td>2020.000000</td>\n      <td>-71.101826</td>\n      <td>0.408033</td>\n      <td>52.691352</td>\n      <td>-4.678339e+08</td>\n      <td>-1.940207</td>\n    </tr>\n    <tr>\n      <th>25%</th>\n      <td>2021.750000</td>\n      <td>34.701094</td>\n      <td>54.000772</td>\n      <td>87.715299</td>\n      <td>4.350532e+01</td>\n      <td>37.260919</td>\n    </tr>\n    <tr>\n      <th>50%</th>\n      <td>2023.500000</td>\n      <td>47.377325</td>\n      <td>74.051693</td>\n      <td>90.851267</td>\n      <td>6.153819e+01</td>\n      <td>56.165949</td>\n    </tr>\n    <tr>\n      <th>75%</th>\n      <td>2025.250000</td>\n      <td>60.106498</td>\n      <td>91.670508</td>\n      <td>94.110473</td>\n      <td>7.659303e+01</td>\n      <td>80.385092</td>\n    </tr>\n    <tr>\n      <th>max</th>\n      <td>2027.000000</td>\n      <td>99.865077</td>\n      <td>108.513217</td>\n      <td>102.515922</td>\n      <td>9.998047e+01</td>\n      <td>107.459585</td>\n    </tr>\n  </tbody>\n</table>\n</div>"
     },
     "metadata": {},
     "execution_count": 156
    }
   ],
   "source": [
    "climate_pred.describe()"
   ]
  },
  {
   "cell_type": "code",
   "execution_count": 157,
   "metadata": {},
   "outputs": [],
   "source": [
    "climate_pred['CDA'] = climate_pred['CDA'].apply(lambda x: 0 if x<=0 else x)\n",
    "climate_pred['CHA'] = climate_pred['CHA'].apply(lambda x: 0 if x<=0 else x)\n",
    "climate_pred['FGA'] = climate_pred['FGA'].apply(lambda x: 0 if x<=0 else x)\n",
    "climate_pred['NDA'] = climate_pred['NDA'].apply(lambda x: 0 if x<=0 else x)\n",
    "climate_pred['BCA'] = climate_pred['BCA'].apply(lambda x: 0 if x<=0 else x)\n",
    "\n",
    "climate_pred['CDA'] = climate_pred['CDA'].apply(lambda x: 100 if x>=100 else x)\n",
    "climate_pred['CHA'] = climate_pred['CHA'].apply(lambda x: 100 if x>=100 else x)\n",
    "climate_pred['FGA'] = climate_pred['FGA'].apply(lambda x: 100 if x>=100 else x)\n",
    "climate_pred['NDA'] = climate_pred['NDA'].apply(lambda x: 100 if x>=100 else x)\n",
    "climate_pred['BCA'] = climate_pred['BCA'].apply(lambda x: 100 if x>=100 else x)"
   ]
  },
  {
   "cell_type": "code",
   "execution_count": 158,
   "metadata": {},
   "outputs": [
    {
     "output_type": "execute_result",
     "data": {
      "text/plain": [
       "              year         CDA         CHA         FGA         NDA         BCA\n",
       "count   952.000000  952.000000  952.000000  952.000000  952.000000  952.000000\n",
       "mean   2023.500000   46.784059   69.949255   89.900370   58.340987   57.276219\n",
       "std       2.292492   18.819844   24.233365    7.364784   23.911146   27.973173\n",
       "min    2020.000000    0.000000    0.408033   52.691352    0.000000    0.000000\n",
       "25%    2021.750000   34.701094   54.000772   87.715299   43.505318   37.260919\n",
       "50%    2023.500000   47.377325   74.051693   90.851267   61.538187   56.165949\n",
       "75%    2025.250000   60.106498   91.670508   94.110473   76.593028   80.385092\n",
       "max    2027.000000   99.865077  100.000000  100.000000   99.980469  100.000000"
      ],
      "text/html": "<div>\n<style scoped>\n    .dataframe tbody tr th:only-of-type {\n        vertical-align: middle;\n    }\n\n    .dataframe tbody tr th {\n        vertical-align: top;\n    }\n\n    .dataframe thead th {\n        text-align: right;\n    }\n</style>\n<table border=\"1\" class=\"dataframe\">\n  <thead>\n    <tr style=\"text-align: right;\">\n      <th></th>\n      <th>year</th>\n      <th>CDA</th>\n      <th>CHA</th>\n      <th>FGA</th>\n      <th>NDA</th>\n      <th>BCA</th>\n    </tr>\n  </thead>\n  <tbody>\n    <tr>\n      <th>count</th>\n      <td>952.000000</td>\n      <td>952.000000</td>\n      <td>952.000000</td>\n      <td>952.000000</td>\n      <td>952.000000</td>\n      <td>952.000000</td>\n    </tr>\n    <tr>\n      <th>mean</th>\n      <td>2023.500000</td>\n      <td>46.784059</td>\n      <td>69.949255</td>\n      <td>89.900370</td>\n      <td>58.340987</td>\n      <td>57.276219</td>\n    </tr>\n    <tr>\n      <th>std</th>\n      <td>2.292492</td>\n      <td>18.819844</td>\n      <td>24.233365</td>\n      <td>7.364784</td>\n      <td>23.911146</td>\n      <td>27.973173</td>\n    </tr>\n    <tr>\n      <th>min</th>\n      <td>2020.000000</td>\n      <td>0.000000</td>\n      <td>0.408033</td>\n      <td>52.691352</td>\n      <td>0.000000</td>\n      <td>0.000000</td>\n    </tr>\n    <tr>\n      <th>25%</th>\n      <td>2021.750000</td>\n      <td>34.701094</td>\n      <td>54.000772</td>\n      <td>87.715299</td>\n      <td>43.505318</td>\n      <td>37.260919</td>\n    </tr>\n    <tr>\n      <th>50%</th>\n      <td>2023.500000</td>\n      <td>47.377325</td>\n      <td>74.051693</td>\n      <td>90.851267</td>\n      <td>61.538187</td>\n      <td>56.165949</td>\n    </tr>\n    <tr>\n      <th>75%</th>\n      <td>2025.250000</td>\n      <td>60.106498</td>\n      <td>91.670508</td>\n      <td>94.110473</td>\n      <td>76.593028</td>\n      <td>80.385092</td>\n    </tr>\n    <tr>\n      <th>max</th>\n      <td>2027.000000</td>\n      <td>99.865077</td>\n      <td>100.000000</td>\n      <td>100.000000</td>\n      <td>99.980469</td>\n      <td>100.000000</td>\n    </tr>\n  </tbody>\n</table>\n</div>"
     },
     "metadata": {},
     "execution_count": 158
    }
   ],
   "source": [
    "climate_pred.describe()"
   ]
  },
  {
   "cell_type": "code",
   "execution_count": 159,
   "metadata": {},
   "outputs": [],
   "source": [
    "final_df = []\n",
    "for country in countries:\n",
    "    df1 = climate[climate['country']==str(country)].reset_index()\n",
    "    df2 = climate_pred[climate_pred['country']==str(country)].reset_index()\n",
    "    final = df1.append(df2)\n",
    "    final = final.reset_index()\n",
    "    final.drop(columns=['level_0','index'],inplace=True)\n",
    "    final_df.append(final)"
   ]
  },
  {
   "cell_type": "code",
   "execution_count": 160,
   "metadata": {},
   "outputs": [],
   "source": [
    "def list_to_df(lst):\n",
    "    df = lst[0]\n",
    "    for item in range(1,len(lst)):\n",
    "        df = df.append(lst[item])\n",
    "    return df"
   ]
  },
  {
   "cell_type": "code",
   "execution_count": 161,
   "metadata": {},
   "outputs": [
    {
     "output_type": "execute_result",
     "data": {
      "text/plain": [
       "(3927, 7)"
      ]
     },
     "metadata": {},
     "execution_count": 161
    }
   ],
   "source": [
    "all_pred_2019 = list_to_df(final_df)\n",
    "all_pred_2019 = all_pred_2019.reset_index()\n",
    "all_pred_2019.drop(columns=['index'],inplace=True)\n",
    "all_pred_2019.shape"
   ]
  },
  {
   "cell_type": "code",
   "execution_count": 127,
   "metadata": {},
   "outputs": [
    {
     "output_type": "execute_result",
     "data": {
      "text/plain": [
       "3927"
      ]
     },
     "metadata": {},
     "execution_count": 127
    }
   ],
   "source": [
    "len(countries)*len(all_pred_2019['year'].unique())"
   ]
  },
  {
   "cell_type": "code",
   "execution_count": 162,
   "metadata": {},
   "outputs": [
    {
     "output_type": "execute_result",
     "data": {
      "text/plain": [
       "              year          CDA          CHA          FGA          NDA  \\\n",
       "count  3927.000000  3927.000000  3927.000000  3927.000000  3927.000000   \n",
       "mean   2011.000000    45.955022    69.909114    79.728208    59.985748   \n",
       "std       9.523117    20.125432    27.476624    24.050253    27.730268   \n",
       "min    1995.000000     0.000000     0.000000     0.000000     0.000000   \n",
       "25%    2003.000000    33.260775    52.188190    76.485167    40.925789   \n",
       "50%    2011.000000    46.116374    75.198841    88.707759    62.475991   \n",
       "75%    2019.000000    58.927134    96.015574    93.209392    80.133832   \n",
       "max    2027.000000   100.000000   100.000000   100.000000   100.000000   \n",
       "\n",
       "               BCA  \n",
       "count  3927.000000  \n",
       "mean     59.230412  \n",
       "std      30.771665  \n",
       "min       0.000000  \n",
       "25%      36.378800  \n",
       "50%      58.802690  \n",
       "75%      88.616310  \n",
       "max     100.000000  "
      ],
      "text/html": "<div>\n<style scoped>\n    .dataframe tbody tr th:only-of-type {\n        vertical-align: middle;\n    }\n\n    .dataframe tbody tr th {\n        vertical-align: top;\n    }\n\n    .dataframe thead th {\n        text-align: right;\n    }\n</style>\n<table border=\"1\" class=\"dataframe\">\n  <thead>\n    <tr style=\"text-align: right;\">\n      <th></th>\n      <th>year</th>\n      <th>CDA</th>\n      <th>CHA</th>\n      <th>FGA</th>\n      <th>NDA</th>\n      <th>BCA</th>\n    </tr>\n  </thead>\n  <tbody>\n    <tr>\n      <th>count</th>\n      <td>3927.000000</td>\n      <td>3927.000000</td>\n      <td>3927.000000</td>\n      <td>3927.000000</td>\n      <td>3927.000000</td>\n      <td>3927.000000</td>\n    </tr>\n    <tr>\n      <th>mean</th>\n      <td>2011.000000</td>\n      <td>45.955022</td>\n      <td>69.909114</td>\n      <td>79.728208</td>\n      <td>59.985748</td>\n      <td>59.230412</td>\n    </tr>\n    <tr>\n      <th>std</th>\n      <td>9.523117</td>\n      <td>20.125432</td>\n      <td>27.476624</td>\n      <td>24.050253</td>\n      <td>27.730268</td>\n      <td>30.771665</td>\n    </tr>\n    <tr>\n      <th>min</th>\n      <td>1995.000000</td>\n      <td>0.000000</td>\n      <td>0.000000</td>\n      <td>0.000000</td>\n      <td>0.000000</td>\n      <td>0.000000</td>\n    </tr>\n    <tr>\n      <th>25%</th>\n      <td>2003.000000</td>\n      <td>33.260775</td>\n      <td>52.188190</td>\n      <td>76.485167</td>\n      <td>40.925789</td>\n      <td>36.378800</td>\n    </tr>\n    <tr>\n      <th>50%</th>\n      <td>2011.000000</td>\n      <td>46.116374</td>\n      <td>75.198841</td>\n      <td>88.707759</td>\n      <td>62.475991</td>\n      <td>58.802690</td>\n    </tr>\n    <tr>\n      <th>75%</th>\n      <td>2019.000000</td>\n      <td>58.927134</td>\n      <td>96.015574</td>\n      <td>93.209392</td>\n      <td>80.133832</td>\n      <td>88.616310</td>\n    </tr>\n    <tr>\n      <th>max</th>\n      <td>2027.000000</td>\n      <td>100.000000</td>\n      <td>100.000000</td>\n      <td>100.000000</td>\n      <td>100.000000</td>\n      <td>100.000000</td>\n    </tr>\n  </tbody>\n</table>\n</div>"
     },
     "metadata": {},
     "execution_count": 162
    }
   ],
   "source": [
    "all_pred_2019.describe()"
   ]
  },
  {
   "source": [
    "# Export xlsx and csv"
   ],
   "cell_type": "markdown",
   "metadata": {}
  },
  {
   "cell_type": "code",
   "execution_count": 163,
   "metadata": {},
   "outputs": [],
   "source": [
    "climate_pred.to_csv('climate_pred_2019.csv')"
   ]
  },
  {
   "cell_type": "code",
   "execution_count": 164,
   "metadata": {},
   "outputs": [],
   "source": [
    "all_pred_2019.to_csv('climate_all_pred_2019.csv')"
   ]
  },
  {
   "source": [
    "# `Survival Analysis` to predict which variable represents the biggest change concern"
   ],
   "cell_type": "markdown",
   "metadata": {}
  },
  {
   "cell_type": "code",
   "execution_count": null,
   "metadata": {},
   "outputs": [],
   "source": []
  }
 ]
}